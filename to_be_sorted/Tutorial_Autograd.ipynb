{
 "cells": [
  {
   "cell_type": "code",
   "execution_count": 96,
   "id": "cd445a01",
   "metadata": {},
   "outputs": [],
   "source": [
    "import torch\n",
    "import torch.optim as optim"
   ]
  },
  {
   "cell_type": "code",
   "execution_count": 97,
   "id": "b4fa86a2",
   "metadata": {},
   "outputs": [],
   "source": [
    "dist = torch.distributions"
   ]
  },
  {
   "cell_type": "code",
   "execution_count": 98,
   "id": "5e91a554",
   "metadata": {},
   "outputs": [],
   "source": [
    "uv = dist.Normal(loc=0.0, scale=1.0)"
   ]
  },
  {
   "cell_type": "code",
   "execution_count": 99,
   "id": "98d3e328",
   "metadata": {},
   "outputs": [],
   "source": [
    "loc = torch.tensor(-10.0, requires_grad = True)\n",
    "lr = 0.005\n",
    "for i in range(3100):\n",
    "    if loc.grad is not None:\n",
    "        loc.grad.zero_()\n",
    "    to_learn = dist.Normal(loc=loc, scale=1.0)\n",
    "    loss = -torch.sum(to_learn.log_prob(uv.sample(torch.tensor([100]))))\n",
    "    loss.backward()\n",
    "    \n",
    "    with torch.no_grad():\n",
    "        loc -= lr * loc.grad"
   ]
  },
  {
   "cell_type": "code",
   "execution_count": 100,
   "id": "f7b8465f",
   "metadata": {},
   "outputs": [],
   "source": [
    "learning_rate = 0.005"
   ]
  },
  {
   "cell_type": "code",
   "execution_count": 107,
   "id": "3b7f566d",
   "metadata": {},
   "outputs": [
    {
     "name": "stdout",
     "output_type": "stream",
     "text": [
      "tensor(-5.0841, requires_grad=True)\n"
     ]
    }
   ],
   "source": [
    "loc = torch.tensor(-10.0, requires_grad = True)\n",
    "optimizer = optim.SGD([loc], lr=learning_rate)\n",
    "\n",
    "to_learn = dist.Normal(loc=loc, scale=1.0)\n",
    "loss = -torch.sum(to_learn.log_prob(uv.sample(torch.tensor([100]))))\n",
    "optimizer.zero_grad()\n",
    "loss.backward()\n",
    "optimizer.step()\n",
    "\n",
    "print(loc)"
   ]
  },
  {
   "cell_type": "code",
   "execution_count": 117,
   "id": "06148513",
   "metadata": {},
   "outputs": [],
   "source": [
    "def training_loop(n_epochs, model, optimizer, params):\n",
    "    for epoch in range(n_epochs):\n",
    "        to_learn = model(*params)\n",
    "        loss = -torch.sum(to_learn.log_prob(uv.sample(torch.tensor([100]))))\n",
    "        \n",
    "        \n",
    "        loss.backward()\n",
    "        optimizer.step()\n",
    "        optimizer.zero_grad()\n",
    "        \n",
    "        if epoch % 50 == 0:\n",
    "            print(\"loc = \", params.data)"
   ]
  },
  {
   "cell_type": "code",
   "execution_count": 120,
   "id": "5e9edbf1",
   "metadata": {},
   "outputs": [],
   "source": [
    "params = torch.tensor([10.0, 5.0], requires_grad = True)\n",
    "optimizer = optim.SGD([params], lr = learning_rate)"
   ]
  }
 ],
 "metadata": {
  "kernelspec": {
   "display_name": "Python 3 (ipykernel)",
   "language": "python",
   "name": "python3"
  },
  "language_info": {
   "codemirror_mode": {
    "name": "ipython",
    "version": 3
   },
   "file_extension": ".py",
   "mimetype": "text/x-python",
   "name": "python",
   "nbconvert_exporter": "python",
   "pygments_lexer": "ipython3",
   "version": "3.9.7"
  }
 },
 "nbformat": 4,
 "nbformat_minor": 5
}
