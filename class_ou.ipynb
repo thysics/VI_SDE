{
 "cells": [
  {
   "cell_type": "code",
   "execution_count": null,
   "id": "00e82dfa",
   "metadata": {},
   "outputs": [],
   "source": [
    "import torch\n",
    "from torch.distributions import Normal\n",
    "import torch.optim\n",
    "from torch.autograd import Variable\n",
    "import numpy as np"
   ]
  },
  {
   "cell_type": "code",
   "execution_count": null,
   "id": "12bd41b6",
   "metadata": {},
   "outputs": [],
   "source": [
    "\"\"\" OU (Ornstein-Uhlenbeck) process\n",
    "\n",
    "    dX = -A(X-alpha)dt + v dB\n",
    "    \"\"\"\n",
    "class OU:\n",
    "    def __init__(self, t0, t1, z0, alpha, beta, sigma, timegrid=False, dN=500):\n",
    "        self.t0 = t0\n",
    "        self.t1 = t1\n",
    "        self.z0 = z0\n",
    "        self.alpha = alpha\n",
    "        \"\"\"\n",
    "            check whether every element in sigma is positive\n",
    "        \"\"\"\n",
    "        assert all(beta > 0), \"beta should be positive\"    \n",
    "        self.beta = beta\n",
    "        assert all(sigma > 0), \"variance should be positive\"\n",
    "        self.sigma = sigma\n",
    "        assert alpha.shape[0] == beta.shape[0], \"parameter dimension must be equal\"\n",
    "        self.D = alpha.shape[0]\n",
    "        if timegrid == True:\n",
    "            self.pts = torch.linspace(t0, t1, dN).repeat(D, 1)\n",
    "        else:\n",
    "            self.pts = torch.sort(torch.cat([(t1 - t0) * torch.rand(D, dN-2) + t0, torch.tensor([self.t0, self.t1]).repeat(D,1)], axis=1), axis=1)[0]\n",
    "        self.trj, self.dt = self.path()\n",
    "          \n",
    "    def path(self):\n",
    "        \"\"\" Simulates a sample path\"\"\"\n",
    "        alpha = self.alpha\n",
    "        beta = self.beta\n",
    "        sigma = self.sigma\n",
    "        x0 = self.z0\n",
    "        t = self.pts\n",
    "        \n",
    "        def variance(t, beta, sigma):\n",
    "            assert all(beta >= 0)\n",
    "            assert all(sigma >= 0)\n",
    "            return sigma * sigma * (1.0 - torch.exp( -2.0 * beta * t)) / (2 * beta)\n",
    "\n",
    "        def std(t, beta, sigma):\n",
    "            return torch.sqrt(variance(t, beta, sigma))\n",
    "\n",
    "        def mean(x0, t, beta, alpha):\n",
    "            assert all(beta >= 0)\n",
    "            return x0 * torch.exp(-1 * beta * t) + (1.0 - torch.exp( -1 * beta * t)) * alpha\n",
    "\n",
    "        assert t.shape[1] > 1\n",
    "        normal = Normal(loc=0., scale=1.)\n",
    "        x = normal.sample(t.size())\n",
    "        x[:, 0] = x0\n",
    "        dt = torch.diff(t)\n",
    "        scale = std(dt, beta, sigma)\n",
    "        x[:, 1:] = x[:, 1:] * scale\n",
    "        for i in range(1, x.shape[1]):\n",
    "            x[:, i] += mean(x[:, i - 1].reshape(-1, 1), dt[:, i - 1].reshape(-1, 1), beta, alpha).flatten()\n",
    "        return x, dt"
   ]
  },
  {
   "cell_type": "code",
   "execution_count": null,
   "id": "db9ff91d",
   "metadata": {},
   "outputs": [],
   "source": [
    "def ou_gradient(t, x, params):\n",
    "    \n",
    "    \"\"\"Calculates log likelihood of a path\"\"\"\n",
    "    \n",
    "    def variance(t, beta, sigma):\n",
    "        assert all(beta >= 0)\n",
    "        assert all(sigma >= 0)\n",
    "        return sigma * sigma * (1.0 - torch.exp( -2.0 * beta * t)) / (2 * beta)\n",
    "\n",
    "    def std(t, beta, sigma):\n",
    "        return torch.sqrt(variance(t, beta, sigma))\n",
    "\n",
    "    def mean(x0, t, beta, alpha):\n",
    "        assert all(beta >= 0)\n",
    "        return x0 * torch.exp(-1 * beta * t) + (1.0 - torch.exp( -1 * beta * t)) * alpha\n",
    "\n",
    "    alpha, beta, sigma = params\n",
    "    \n",
    "\n",
    "    dt = torch.diff(t)\n",
    "    mu = mean(x[:, :-1], dt, beta, alpha)\n",
    "    var = std(dt, beta, sigma)\n",
    "    return torch.sum(Normal(loc=mu, scale=var).log_prob(x[:, 1:]), axis=1)\n",
    "\n",
    "    params_ = Variable(params, requires_grad=True)\n",
    "\n",
    "    LL = loglik(t, x, *params_)\n",
    "    LL.backward(torch.tensor([1.]).repeat(x.shape[0]))\n",
    "\n",
    "\n",
    "    return {'alpha':params_.grad[0].clone().detach(), 'beta':params_.grad[1].clone().detach()}"
   ]
  },
  {
   "cell_type": "code",
   "execution_count": null,
   "id": "2e05152d",
   "metadata": {},
   "outputs": [],
   "source": [
    "D = 3"
   ]
  },
  {
   "cell_type": "code",
   "execution_count": null,
   "id": "752f9378",
   "metadata": {},
   "outputs": [],
   "source": [
    "a = torch.randn((D,1)) + 4.\n",
    "b = torch.randn((D,1)) + 3.\n",
    "c = torch.ones((D,1)) + 1."
   ]
  },
  {
   "cell_type": "code",
   "execution_count": null,
   "id": "cf3cfb43",
   "metadata": {},
   "outputs": [],
   "source": [
    "params = Variable(torch.stack([a,b,c]), requires_grad=True)"
   ]
  },
  {
   "cell_type": "code",
   "execution_count": null,
   "id": "62a3d4af",
   "metadata": {},
   "outputs": [],
   "source": [
    "sde = OU(0., 10., 10., *params.data)"
   ]
  },
  {
   "cell_type": "code",
   "execution_count": null,
   "id": "18800aae",
   "metadata": {},
   "outputs": [],
   "source": [
    "import matplotlib.pylab as plt"
   ]
  },
  {
   "cell_type": "code",
   "execution_count": null,
   "id": "de6ef1c9",
   "metadata": {},
   "outputs": [],
   "source": [
    "plt.plot(sde.pts.T, sde.trj.T)"
   ]
  },
  {
   "cell_type": "code",
   "execution_count": null,
   "id": "3029f309",
   "metadata": {},
   "outputs": [],
   "source": [
    "ou_gradient(sde.pts, sde.trj, params)"
   ]
  }
 ],
 "metadata": {
  "kernelspec": {
   "display_name": "Python 3 (ipykernel)",
   "language": "python",
   "name": "python3"
  },
  "language_info": {
   "codemirror_mode": {
    "name": "ipython",
    "version": 3
   },
   "file_extension": ".py",
   "mimetype": "text/x-python",
   "name": "python",
   "nbconvert_exporter": "python",
   "pygments_lexer": "ipython3",
   "version": "3.9.7"
  }
 },
 "nbformat": 4,
 "nbformat_minor": 5
}
