{
 "cells": [
  {
   "cell_type": "code",
   "execution_count": 1,
   "id": "591c0a5a",
   "metadata": {},
   "outputs": [],
   "source": [
    "import torch\n",
    "from torch.autograd import Variable\n",
    "from torch.distributions import Normal\n",
    "from functorch import vmap\n",
    "import matplotlib.pylab as plt\n",
    "import numpy as np\n",
    "import scipy.stats as ss\n",
    "import pickle\n",
    "import random"
   ]
  },
  {
   "cell_type": "code",
   "execution_count": 2,
   "id": "043b84c0",
   "metadata": {},
   "outputs": [],
   "source": [
    "import sys\n",
    "sys.path.insert(0,'vp_class/')"
   ]
  },
  {
   "cell_type": "code",
   "execution_count": 3,
   "id": "0de3b222",
   "metadata": {},
   "outputs": [],
   "source": [
    "from class_ou import OU, ou_gradient\n",
    "from class_tou_v4 import tOU, tou_gradient"
   ]
  },
  {
   "cell_type": "markdown",
   "id": "838b69b9",
   "metadata": {},
   "source": [
    "This code applies variational inference based on time-dependent OU processes to the observations drawn from the double well system SDE, as defined below. Note that we have chosen observational noise, i.e. variance of Gaussian noise and SDE variance to be 0.64 and 0.01 repectively."
   ]
  },
  {
   "cell_type": "markdown",
   "id": "2c22728a",
   "metadata": {},
   "source": [
    "m(t) = $\\alpha$t + $m_{0}$"
   ]
  },
  {
   "cell_type": "markdown",
   "id": "afe6d11b",
   "metadata": {},
   "source": [
    "1. Simulate prior process, i.e. double-well system whose SDE is given by\n",
    "\n",
    "$dX_{t} = 4X_{t}(1-X^{2}_{t})dt + \\sigma dW_{t}$"
   ]
  },
  {
   "cell_type": "code",
   "execution_count": 4,
   "id": "2c1791ac",
   "metadata": {},
   "outputs": [],
   "source": [
    "with open('EX03_DW_Model', 'rb') as f:\n",
    "    prior = pickle.load(f)\n",
    "    likelihood = pickle.load(f)"
   ]
  },
  {
   "cell_type": "code",
   "execution_count": 5,
   "id": "7e8faa35",
   "metadata": {},
   "outputs": [],
   "source": [
    "def prior_drift (s, x_s):\n",
    "    return 4 * x_s * (1 - (x_s ** 2))"
   ]
  },
  {
   "cell_type": "code",
   "execution_count": 6,
   "id": "13bd214c",
   "metadata": {},
   "outputs": [],
   "source": [
    "true_sde_pts, true_sde_trj = prior[0], prior[1]\n",
    "obs, obs_time = likelihood[0], likelihood[1]\n",
    "sde_sigma = 0.8 # Variance is higher than the original example\n",
    "obs_sigma = 0.1"
   ]
  },
  {
   "cell_type": "code",
   "execution_count": 7,
   "id": "82ca55c1",
   "metadata": {},
   "outputs": [
    {
     "data": {
      "image/png": "[encoded data removed]",
      "text/plain": [
       "<Figure size 432x288 with 1 Axes>"
      ]
     },
     "metadata": {
      "needs_background": "light"
     },
     "output_type": "display_data"
    }
   ],
   "source": [
    "# Plot paths\n",
    "plt.plot(true_sde_pts,true_sde_trj)\n",
    "plt.plot(obs_time, obs, \"rx\")\n",
    "plt.xlabel(\"t\", fontsize=14)\n",
    "plt.ylabel(\"X\", fontsize=14)\n",
    "plt.title(\"Sample paths\", fontsize=14)\n",
    "plt.show()\n"
   ]
  },
  {
   "cell_type": "markdown",
   "id": "005f40f9",
   "metadata": {},
   "source": [
    "Variational inference: KL"
   ]
  },
  {
   "cell_type": "markdown",
   "id": "5eff800a",
   "metadata": {},
   "source": [
    "2. Implement Variational inference based on $\\textbf{time-inhomogeneous}$ OU process with SDE:\n",
    "\n",
    "$$dZ_t = [-r(Z_t - m(t)) + m'(t)]dt + \\sigma dW_t$$"
   ]
  },
  {
   "cell_type": "markdown",
   "id": "1fc6d84b",
   "metadata": {},
   "source": [
    "$$\\mathbb{E}_{P^{Z}}[\\log\\exp{\\frac{dP^{X}}{dP^{Z}}(Z)] = \\frac{1}{2}\\mathbb{E}_{P^{Z}}[\\int_{t_{0}}}^{t_{1}}|\\frac{4Z_{t}(1-Z^{2}_{t}) + r(Z_{t}-m(t))-m'(t)}{\\sigma}|^{2}dt]$$\n",
    "\n",
    "where the relevant functions\n",
    "\n",
    "$$m(t) = \\alpha (B(t, \\beta) - 1) + m_{0}$$\n",
    "\n",
    "$$m'(t) = \\alpha \\beta B(t, \\beta - 1)$$\n",
    "\n",
    "$$B(s, \\beta) = (s + 1)^{\\beta}$$\n",
    "\n",
    "The mean and variance of the process have a tracatble expression: $E(Z_t) = m(t), Var(Z_t) = \\frac{\\sigma^{2}}{2r}(1-e^{-2rt})$\n",
    "\n",
    "Here we consider a variational process with a $\\textbf{linear mean function}$, i.e. $\\beta = 1$, which results in $m(t) = \\alpha t + m_{0}$. Our variational parameters, thus, include $r, \\alpha$. "
   ]
  },
  {
   "cell_type": "code",
   "execution_count": 8,
   "id": "063c5550",
   "metadata": {},
   "outputs": [],
   "source": [
    "class ELBO:\n",
    "    \"\"\"\n",
    "        ELBO with\n",
    "            variational process (q): time-inhomogeneous OU process\n",
    "            prior process (p): double-well system\n",
    "            \n",
    "        This class computes: - KL(q|p) + NLL(y|z)  where z \\sim q\n",
    "    \"\"\"\n",
    "    def __init__(self, ou):\n",
    "        self.ou = ou\n",
    "        self.alpha = ou.alpha\n",
    "        self.beta = ou.beta\n",
    "        self.r = ou.r\n",
    "        self.sigma = ou.sigma\n",
    "        \n",
    "\n",
    "    def KL(self, prior_drift):\n",
    "        \"\"\"\n",
    "            This function requires the function corresponding to prior drift function\n",
    "        \"\"\"\n",
    "        # Save parameter specification from ou class\n",
    "        alpha, beta, r, sigma = self.alpha, self.beta, self.r, self.sigma\n",
    "        m0 = self.ou.init_state\n",
    "        \n",
    "        def B(s, beta):\n",
    "            return (s+1) ** beta\n",
    "        \n",
    "        def m(s):\n",
    "            return alpha * (B(s, beta) - 1) + m0\n",
    "            \n",
    "        def m_(s):\n",
    "            return alpha * beta * B(s, beta-1)\n",
    "        \n",
    "        t = self.ou.pts - self.ou.pts[:, 0].reshape(-1, 1)\n",
    "        \n",
    "        # Evaluate the drift function of the approximating processes\n",
    "        g_of_x = -r * (self.ou.trj - m(t)) + m_(t)\n",
    "        \n",
    "        # Evaluate the drift function of the model (prior process)\n",
    "        f_of_x = prior_drift(t, self.ou.trj)\n",
    "        \n",
    "        # Compute the term inside the KL divergence\n",
    "        \n",
    "        F_of_X = abs(((f_of_x - g_of_x) / sigma) ** 2)\n",
    "        \n",
    "        return 0.5 * torch.trapezoid(F_of_X, x=t).reshape(-1, 1)\n",
    "         \n",
    "         \n",
    "    def log_prob(self, obs, obs_sigma):\n",
    "        \"\"\"\n",
    "            Compute the log-likelihood\n",
    "            likelihood function is normal density N(obs, var)\n",
    "            obs.shape = D * 1 (D: # of sample)\n",
    "        \"\"\"\n",
    "        def log_pdf(obs, z, obs_sigma):\n",
    "            return ss.norm.logpdf(obs, loc=z, scale=obs_sigma)\n",
    "            \n",
    "        return torch.from_numpy(log_pdf(obs, self.ou.trj[:, -1].reshape(-1, 1), obs_sigma))\n"
   ]
  },
  {
   "cell_type": "markdown",
   "id": "f0859993",
   "metadata": {},
   "source": [
    "**Variational inference: a piece-wise approximation**"
   ]
  },
  {
   "cell_type": "code",
   "execution_count": 9,
   "id": "70d17552",
   "metadata": {},
   "outputs": [],
   "source": [
    "import tqdm as tq"
   ]
  },
  {
   "cell_type": "code",
   "execution_count": 10,
   "id": "f7deb3f1",
   "metadata": {},
   "outputs": [],
   "source": [
    "def score_estimate(s0, sK, pars, sigma, obs, obs_sigma, init_dist, M):\n",
    "    \"\"\"\n",
    "        Returns stochastic estimates of the gradient of the ELBO with respect to parameters including\n",
    "            alpha, r, beta\n",
    "        \n",
    "        M: # of Monte Carlo samples\n",
    "        \n",
    "    \"\"\"\n",
    "    \n",
    "    assert obs.shape[0] == 1, \"observation must be 1-d torch.array\"\n",
    "    \n",
    "    # Number of time points drawn between s0 and sK\n",
    "    K = 200\n",
    "    \n",
    "    alpha = pars['alpha']\n",
    "    r = pars['r']\n",
    "    \n",
    "    if 'beta' in pars.keys():\n",
    "        beta = pars['beta']\n",
    "    else:\n",
    "        beta = torch.tensor([1.])\n",
    "    \n",
    "    # Reshape every parameter into (M,1) torch.array\n",
    "    ALPHA = alpha.repeat(M, 1)\n",
    "    BETA = beta.repeat(M, 1)\n",
    "    R = r.repeat(M, 1)\n",
    "    SIGMA = sigma.repeat(M, 1)\n",
    "    OBS = obs.repeat(M, 1)\n",
    "\n",
    "    \n",
    "\n",
    "    # Simulate sample path\n",
    "    # Note that z0 = m0\n",
    "   \n",
    "    vi = tOU(t0=s0, t1=sK, alpha=ALPHA, beta=BETA, r=R, sde_sigma=SIGMA, init_dist = init_dist, timegrid = 'False', dN=K)\n",
    "\n",
    "    # Compute the ELBO \n",
    "    elbo = ELBO(vi)\n",
    "    score_func = tou_gradient(vi.pts, vi.trj, torch.stack([ALPHA, BETA, R]).view(-1, M, 1), SIGMA, init_dist)\n",
    "    f_of_X = -elbo.log_prob(OBS, obs_sigma) + elbo.KL(prior_drift)\n",
    "\n",
    "    # Get stochastic estimate of the gradient with respect to each parameter\n",
    "    alpha_grad = torch.nanmean(f_of_X * score_func['alpha'])\n",
    "    r_grad = torch.nanmean(f_of_X * score_func['r'])\n",
    "    \n",
    "    if 'beta' not in pars.keys():\n",
    "        stochastic_gradient = {'alpha':alpha_grad, 'r':r_grad}\n",
    "    else:\n",
    "        beta_grad = torch.nanmean(f_of_X * score_func['beta'] )\n",
    "        stochastic_gradient = {'alpha':alpha_grad, 'beta':beta_grad, 'r':r_grad}\n",
    "    \n",
    "    \n",
    "    return stochastic_gradient"
   ]
  },
  {
   "cell_type": "code",
   "execution_count": 11,
   "id": "a7364214",
   "metadata": {},
   "outputs": [],
   "source": [
    "def AdaGrad( current_pars, current_grad, past_grad, learning_rate = 0.01, smooth_term = 1e-8):\n",
    "    \"\"\"\n",
    "        Perform one-step gradient descent based on AdaGrad with Gradient Clipping\n",
    "    \"\"\"\n",
    "    assert type(current_pars) == type(current_grad) == type(past_grad) == dict, \"Current_grad must be a dict\"\n",
    "    \n",
    "    \n",
    "    new_pars = {}\n",
    "    for key in current_pars.keys():\n",
    "        if key == 'r':\n",
    "            new_pars[key] = current_pars[key] - learning_rate / np.sqrt(past_grad[key] + smooth_term) * current_grad[key]\n",
    "            value = new_pars[key]\n",
    "            while value <= 0:\n",
    "                value = current_pars[key] - learning_rate / np.sqrt(past_grad[key] + smooth_term) * current_grad[key]\n",
    "                learning_rate *= 0.5\n",
    "            \n",
    "            new_pars[key] = value\n",
    "  \n",
    "        else:\n",
    "            new_pars[key] = current_pars[key] - learning_rate / np.sqrt(past_grad[key] + smooth_term) * current_grad[key]\n",
    "\n",
    "    return new_pars\n",
    "    \n",
    "    "
   ]
  },
  {
   "cell_type": "code",
   "execution_count": 48,
   "id": "6d6e367d",
   "metadata": {},
   "outputs": [],
   "source": [
    "def AdamStep(g_t, m_t, v_t, beta_1, beta_2, t):\n",
    "    \"\"\"\n",
    "        compute bias corrected moments\n",
    "    \"\"\"\n",
    "#     print(g_t, m_t, v_t, beta_1, beta_2, t)\n",
    "    m_t_next = beta_1 * m_t + (1 - beta_1) * g_t\n",
    "    v_t_next = beta_2 * v_t + (1 - beta_2) * g_t ** 2\n",
    "    \n",
    "    m_t_corrected = m_t_next / (1 - (beta_1 ** t))\n",
    "    v_t_corrected = v_t_next / (1 - (beta_2 ** t))\n",
    "    \n",
    "#     print(m_t_corrected, v_t_corrected)\n",
    "    return m_t_corrected, v_t_corrected\n",
    "\n",
    "def AdamGrad(current_pars, current_grad, prev_moments,  beta_1, beta_2, learning_rate = 0.01, smooth_term = 1e-8):\n",
    "    assert type(current_pars) == type(current_grad) == type(prev_moments) == dict, \"Current_grad must be a dict\"\n",
    "    \"\"\"\n",
    "        Perform one-step Adam gradient descent\n",
    "    \"\"\"\n",
    "    new_pars = {}\n",
    "    for key in current_pars.keys():\n",
    "        if key == 'r':\n",
    "            m_t, v_t = AdamStep(current_grad[key], prev_moments[key][0], prev_moments[key][1], beta_1, beta_2, prev_moments['t'])\n",
    "            new_pars[key] = current_pars[key] - learning_rate / np.sqrt(v_t + smooth_term) * m_t\n",
    "            value = new_pars[key]\n",
    "            while value <= 0:\n",
    "                value = current_pars[key] - learning_rate / np.sqrt(v_t + smooth_term) * m_t\n",
    "                learning_rate *= 0.5\n",
    "            new_pars[key] = value\n",
    "            \n",
    "        else:\n",
    "            m_t, v_t = AdamStep(current_grad[key], prev_moments[key][0], prev_moments[key][1], beta_1, beta_2, prev_moments['t'])\n",
    "            new_pars[key] = current_pars[key] - learning_rate / np.sqrt(v_t + smooth_term) * m_t\n",
    "        \n",
    "        # Save moments for next iteration    \n",
    "        prev_moments[key][0] = m_t\n",
    "        prev_moments[key][1] = v_t\n",
    "    \n",
    "    prev_moments['t'] += 1\n",
    "    \n",
    "    return new_pars\n",
    "    \n",
    "    \n",
    "    "
   ]
  },
  {
   "cell_type": "code",
   "execution_count": 49,
   "id": "fb65c492",
   "metadata": {},
   "outputs": [],
   "source": [
    "def Grad_Descent( current_pars, current_grad, learning_rate = 0.01):\n",
    "    \"\"\"\n",
    "        Perform vanila gradient descent step\n",
    "        returns dictionary such that dict[\"name_of_parameter\"] = value after one gradient step\n",
    "    \"\"\"\n",
    "    assert type(current_pars) == type(current_grad) == dict, \"Current_grad must be a dict\"\n",
    "    \n",
    "    \n",
    "    new_pars = {}\n",
    "    for key in current_pars.keys():\n",
    "        if key == 'r':\n",
    "            new_pars[key] = current_pars[key] - learning_rate * current_grad[key]\n",
    "            value = new_pars[key]\n",
    "            while value <= 0:\n",
    "                value = current_pars[key] - learning_rate * current_grad[key]\n",
    "                learning_rate *= 0.5\n",
    "            new_pars[key] = value\n",
    "  \n",
    "        else:\n",
    "            new_pars[key] = current_pars[key] - learning_rate * current_grad[key]\n",
    "\n",
    "    return new_pars\n",
    "    "
   ]
  },
  {
   "cell_type": "code",
   "execution_count": 50,
   "id": "615146f6",
   "metadata": {},
   "outputs": [],
   "source": [
    "def get_PostMoment(t0, tT, alpha, beta, m0, r, sigma, vN):\n",
    "    \"\"\"\n",
    "        Returns mean and variance of the approximate posterior process\n",
    "        Here, we \n",
    "        Note: mean and variance have tractable expressions\n",
    "    \"\"\"\n",
    "    # Get time-grid between s0 and sK\n",
    "    \n",
    "    t = torch.linspace(0, (tT-t0).item(), vN+2)[1:]\n",
    "    \n",
    "    def B(s, beta):\n",
    "        return (s+1) ** beta\n",
    "        \n",
    "    def m(s):\n",
    "        return alpha * (B(s, beta) - 1) + m0\n",
    "    \n",
    "    \n",
    "    mean = m(t)\n",
    "    \n",
    "\n",
    "    def var(s):\n",
    "        return sigma ** 2 / (2 * r) * (1 - torch.exp(-2 * r * s))\n",
    "\n",
    "    var = var(t)\n",
    "        \n",
    "    return t, mean, var"
   ]
  },
  {
   "cell_type": "markdown",
   "id": "faeed2c1",
   "metadata": {},
   "source": [
    "**To be added: 1. parameter update history, 2. elbo, KL, and loglikelihood estimate, 3. randomizing initial state**"
   ]
  },
  {
   "cell_type": "code",
   "execution_count": 65,
   "id": "5b5dc1e3",
   "metadata": {},
   "outputs": [],
   "source": [
    "def Optimize(sde_sigma, obs, obs_time, obs_sigma, M, IT, vN, learning_rate, init_state = \"Random\", Linear = True, Optimizer=\"Adam\", beta_1 = 0.9, beta_2 = 0.999, smooth_term = 1e-8):\n",
    "    \"\"\"\n",
    "        vN: # of time points between in each obs interval on which mean of the approximate posterior process will be evaluated\n",
    "    \"\"\"\n",
    "    assert type(sde_sigma) == torch.Tensor, \"SDE sigma must be a torch.Tensor\"\n",
    "    assert type(obs) == torch.Tensor, \"obs must be a torch.Tensor\"\n",
    "\n",
    "    \n",
    "    if Linear == True:\n",
    "        # Two parameters: alpha, r\n",
    "        init_pars = torch.randn(2)\n",
    "        init_pars[1] = abs(init_pars[1])\n",
    "        \n",
    "    else:\n",
    "        # Three parameters, alpha, beta, r\n",
    "        init_pars = torch.randn(3)\n",
    "        init_pars[2] = abs(init_pars[2])\n",
    "#         init_pars = torch.tensor([-0.01, 1., 2.])\n",
    "        \n",
    "    N_of_Pars = init_pars.shape[0]\n",
    "    T = obs.shape[0]\n",
    "    \n",
    "    v_N = T * (vN+1) - vN\n",
    "    \n",
    "    track_pars = np.zeros((N_of_Pars, T-1, IT))\n",
    "    \n",
    "    VP_PTS = np.zeros(v_N)\n",
    "    VP_MEAN = np.zeros(v_N)\n",
    "    VP_STD = np.zeros(v_N)\n",
    "    \n",
    "    # Intialize the state at the first observation\n",
    "    m0 = obs[0]\n",
    "    VP_MEAN[0] = m0\n",
    "    \n",
    "    past_grad = {'alpha':[], \"r\":[], 'beta':[]}\n",
    "    \n",
    "    for t in tq.tqdm(range(1, T)):\n",
    "        s0 = obs_time[t-1]\n",
    "        sK = obs_time[t]\n",
    "        \n",
    "        if init_state == 'Random':\n",
    "            if t == 1:\n",
    "                init_dist = m0\n",
    "            else:\n",
    "                var = 0.5 * (sde_sigma ** 2) / r\n",
    "                init_dist = Normal(loc=m0, scale= torch.sqrt(var).item())\n",
    "        else:\n",
    "            init_dist = m0\n",
    "            \n",
    "        # Initialize a set of parameters\n",
    "        if Linear == True:\n",
    "            alpha, r = init_pars\n",
    "            current_pars = {'alpha':alpha, 'r':r}\n",
    "            beta = torch.tensor([1.])\n",
    "        else:\n",
    "            alpha, beta, r = init_pars\n",
    "            current_pars = {'alpha':alpha, 'beta':beta, 'r':r}\n",
    "\n",
    "        if Optimizer == \"Adam\":\n",
    "            prev_moments = {key:[0, 0] for key in current_pars.keys()}\n",
    "            prev_moments['t'] = 1\n",
    "            \n",
    "        if Optimizer == \"Ada\":\n",
    "            prev_grad = {key:0 for key in current_pars.keys()}\n",
    "        \n",
    "    \n",
    "#         past_grad = {key:torch.tensor([0.01]) for key in current_pars.keys()}\n",
    "        \n",
    "        for i in range(IT):\n",
    "            if i == 0:\n",
    "                print(prev_moments)\n",
    "            if i % (IT/2) == 0:\n",
    "                print(i, current_pars)\n",
    "            # Take gradient descent algorithm based on AdaGrad\n",
    "            \n",
    "            # Obtain stochastic estimate of the gradients based on score function estimator\n",
    "            current_grad = score_estimate(s0, sK, current_pars, sde_sigma, obs[t], obs_sigma, init_dist, M)\n",
    "\n",
    "            # Take one gradient step based on the AdaGrad\n",
    "            if Optimizer == 'Ada':\n",
    "                current_pars = AdaGrad(current_pars, current_grad, prev_grad, learning_rate, smooth_term = 1e-8)\n",
    "                \n",
    "                # Save the current gradient estimate\n",
    "                for key in current_grad.keys():\n",
    "                    prev_grad[key] += current_grad[key] ** 2\n",
    "                    \n",
    "            elif Optimizer == \"Adam\":\n",
    "                current_pars = AdamGrad(current_pars, current_grad, prev_moments, beta_1, beta_2, learning_rate, smooth_term)\n",
    "                \n",
    "            else:\n",
    "                current_pars = Grad_Descent(current_pars, current_grad, learning_rate)\n",
    "                \n",
    "            for key in current_grad.keys():\n",
    "                past_grad[key].append(current_grad[key]) \n",
    "                    \n",
    "            track_pars[0, t-1, i] = current_pars['alpha'].item()\n",
    "            track_pars[1, t-1, i] = current_pars['r'].item()\n",
    "            \n",
    "            if Linear == False:\n",
    "                track_pars[2, t-1, i] = current_pars['beta'].item()\n",
    "            \n",
    "        alpha = current_pars['alpha']\n",
    "        r = current_pars['r']\n",
    "        if Linear == False:\n",
    "            beta = current_pars['beta']\n",
    "        \n",
    "        # Obtain moments of approximating processes (note that their forms are tractable)\n",
    "        vp_pts, vp_mean, vp_var = get_PostMoment(s0, sK, alpha, beta, m0, r, sde_sigma, vN)\n",
    "        \n",
    "        VP_PTS[(vN+1)*(t-1)+1:(vN+1)*t+1] = obs_time[t-1].item() + vp_pts\n",
    "        VP_MEAN[(vN+1)*(t-1)+1:(vN+1)*t+1] = vp_mean\n",
    "        VP_STD[(vN+1)*(t-1)+1:(vN+1)*t+1] = vp_var\n",
    "        \n",
    "        m0 = vp_mean[-1]\n",
    "        \n",
    "        print(\"observation: \" + str(obs[t].item()) + \" variational mean: \" + str(m0.item()))\n",
    "    return VP_PTS, VP_MEAN, VP_STD, track_pars, past_grad"
   ]
  },
  {
   "cell_type": "code",
   "execution_count": null,
   "id": "d303e70e",
   "metadata": {},
   "outputs": [
    {
     "name": "stderr",
     "output_type": "stream",
     "text": [
      "\r",
      "  0%|                                                     | 0/8 [00:00<?, ?it/s]"
     ]
    },
    {
     "name": "stdout",
     "output_type": "stream",
     "text": [
      "{'alpha': [0, 0], 'beta': [0, 0], 'r': [0, 0], 't': 1}\n",
      "0 {'alpha': tensor(-0.2577), 'beta': tensor(0.2641), 'r': tensor(0.5515)}\n",
      "{'alpha': tensor(23.2140, dtype=torch.float64), 'beta': tensor(-24.2428, dtype=torch.float64), 'r': tensor(-52.5906, dtype=torch.float64)}\n",
      "100 {'alpha': tensor(-0.5840, dtype=torch.float64), 'beta': tensor(0.4418, dtype=torch.float64), 'r': tensor(10.9534, dtype=torch.float64)}\n"
     ]
    },
    {
     "name": "stderr",
     "output_type": "stream",
     "text": [
      "\r",
      " 12%|█████▋                                       | 1/8 [00:12<01:24, 12.07s/it]"
     ]
    },
    {
     "name": "stdout",
     "output_type": "stream",
     "text": [
      "observation: 0.7418740051633642 variational mean: 0.34542423381636067\n",
      "{'alpha': [0, 0], 'beta': [0, 0], 'r': [0, 0], 't': 1}\n",
      "0 {'alpha': tensor(-0.2577), 'beta': tensor(0.2641), 'r': tensor(0.5515)}\n",
      "{'alpha': tensor(21.7831, dtype=torch.float64), 'beta': tensor(-23.2615, dtype=torch.float64), 'r': tensor(-9.4848, dtype=torch.float64)}\n",
      "100 {'alpha': tensor(-1.4382, dtype=torch.float64), 'beta': tensor(0.9761, dtype=torch.float64), 'r': tensor(11.0083, dtype=torch.float64)}\n"
     ]
    },
    {
     "name": "stderr",
     "output_type": "stream",
     "text": [
      "\r",
      " 25%|███████████▎                                 | 2/8 [00:24<01:12, 12.05s/it]"
     ]
    },
    {
     "name": "stdout",
     "output_type": "stream",
     "text": [
      "observation: -0.8564873337841266 variational mean: -0.9114534258842468\n",
      "{'alpha': [0, 0], 'beta': [0, 0], 'r': [0, 0], 't': 1}\n",
      "0 {'alpha': tensor(-0.2577), 'beta': tensor(0.2641), 'r': tensor(0.5515)}\n",
      "{'alpha': tensor(-16.6850, dtype=torch.float64), 'beta': tensor(17.5255, dtype=torch.float64), 'r': tensor(-41.2838, dtype=torch.float64)}\n",
      "100 {'alpha': tensor(0.4957, dtype=torch.float64), 'beta': tensor(-0.4690, dtype=torch.float64), 'r': tensor(10.9396, dtype=torch.float64)}\n"
     ]
    },
    {
     "name": "stderr",
     "output_type": "stream",
     "text": [
      "\r",
      " 38%|████████████████▉                            | 3/8 [00:36<01:00, 12.17s/it]"
     ]
    },
    {
     "name": "stdout",
     "output_type": "stream",
     "text": [
      "observation: -1.0673319792395932 variational mean: -1.1098979711532593\n",
      "{'alpha': [0, 0], 'beta': [0, 0], 'r': [0, 0], 't': 1}\n",
      "0 {'alpha': tensor(-0.2577), 'beta': tensor(0.2641), 'r': tensor(0.5515)}\n",
      "{'alpha': tensor(-79.5060, dtype=torch.float64), 'beta': tensor(84.1758, dtype=torch.float64), 'r': tensor(-94.5776, dtype=torch.float64)}\n"
     ]
    }
   ],
   "source": [
    "vp_pts, vp_mean, vp_std, vp_pars, vp_grads = Optimize(torch.tensor([sde_sigma]),\\\n",
    "                                                      obs, obs_time, obs_sigma, \\\n",
    "                                                      init_state=\"Random\", M=1000, Linear=False, \\\n",
    "                                                      IT=200, vN=200, learning_rate=0.1, \\\n",
    "                                                      Optimizer=\"Adam\", beta_1 = 0.3, beta_2 = 0.01)"
   ]
  },
  {
   "cell_type": "markdown",
   "id": "cd8d74cd",
   "metadata": {},
   "source": [
    "The plot illustrates the history of graident value for each parameter"
   ]
  },
  {
   "cell_type": "markdown",
   "id": "be88f2a7",
   "metadata": {},
   "source": [
    "for key in vp_grads.keys():\n",
    "    "
   ]
  },
  {
   "cell_type": "code",
   "execution_count": null,
   "id": "5b90a900",
   "metadata": {},
   "outputs": [],
   "source": [
    "alpha_mean = np.mean(vp_grads['alpha'])\n",
    "r_mean = np.mean(vp_grads['r'])\n",
    "\n",
    "plt.figure(figsize=(10, 5))\n",
    "plt.plot(vp_grads['alpha'], color='red', label='alpha')\n",
    "plt.axhline(alpha_mean, color='tab:red', linestyle='dashed', label=str(alpha_mean.round(3)))\n",
    "plt.plot(vp_grads['r'], color='blue', label='r')\n",
    "plt.axhline(r_mean, color='tab:blue', linestyle='dashed', label=str(r_mean.round(3)))\n",
    "\n",
    "plt.xlabel(\"Iterations\")\n",
    "plt.ylabel(\"Gradient\")\n",
    "plt.title(\"Gradient value history: vanila gradient descent algorithm\")\n",
    "plt.legend()\n",
    "plt.show()"
   ]
  },
  {
   "cell_type": "markdown",
   "id": "6ec0064e",
   "metadata": {},
   "source": [
    "We set the gradient value to be max(grad, 1000) based on this figure"
   ]
  },
  {
   "cell_type": "markdown",
   "id": "848d42e7",
   "metadata": {},
   "source": [
    "Approximate Posterior process; its mean and standard deviation"
   ]
  },
  {
   "cell_type": "code",
   "execution_count": null,
   "id": "42b464d9",
   "metadata": {},
   "outputs": [],
   "source": [
    "plt.figure(figsize=(8,6))\n",
    "plt.plot(vp_pts, vp_mean, color='black')\n",
    "plt.fill_between(vp_pts, vp_mean + vp_std, vp_mean - vp_std, alpha=0.3, color='grey')\n",
    "plt.plot(true_sde_pts, true_sde_trj, alpha=0.2)\n",
    "plt.plot(obs_time, obs, 'rx')\n",
    "plt.title(\"Approximating process / higher-order polynomial mean function\")\n",
    "plt.ylabel(\"X(t)\")\n",
    "plt.xlabel(\"Time\")\n",
    "plt.show()"
   ]
  },
  {
   "cell_type": "code",
   "execution_count": null,
   "id": "b3e4ccad",
   "metadata": {
    "scrolled": false
   },
   "outputs": [],
   "source": [
    "P, T, IT = vp_pars.shape\n",
    "\n",
    "for t in range(T):\n",
    "    fig, ax = plt.subplots(nrows=1, ncols=P, figsize=(20, 5))\n",
    "    names = [r'$\\alpha$', 'r', r\"$\\beta\"]\n",
    "    for j, ax in enumerate(ax.ravel()):\n",
    "        ax.plot(np.arange(IT), vp_pars[j, t, :])\n",
    "        ax.set_title(names[j] + \" at time interval: %d\" % t)\n",
    "        ax.set_xlabel(\"Iterations\")\n",
    "    plt.show()"
   ]
  },
  {
   "cell_type": "code",
   "execution_count": null,
   "id": "b9715b7c",
   "metadata": {},
   "outputs": [],
   "source": []
  }
 ],
 "metadata": {
  "kernelspec": {
   "display_name": "Python 3 (ipykernel)",
   "language": "python",
   "name": "python3"
  },
  "language_info": {
   "codemirror_mode": {
    "name": "ipython",
    "version": 3
   },
   "file_extension": ".py",
   "mimetype": "text/x-python",
   "name": "python",
   "nbconvert_exporter": "python",
   "pygments_lexer": "ipython3",
   "version": "3.9.7"
  }
 },
 "nbformat": 4,
 "nbformat_minor": 5
}
