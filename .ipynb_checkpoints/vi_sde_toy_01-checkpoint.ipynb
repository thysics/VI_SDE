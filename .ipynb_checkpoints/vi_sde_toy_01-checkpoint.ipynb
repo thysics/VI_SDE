{
 "cells": [
  {
   "cell_type": "code",
   "execution_count": 1,
   "id": "591c0a5a",
   "metadata": {},
   "outputs": [],
   "source": [
    "import torch\n",
    "from torch.autograd import Variable\n",
    "from functorch import vmap\n",
    "import matplotlib.pylab as plt\n",
    "import numpy as np\n",
    "import scipy.stats as ss"
   ]
  },
  {
   "cell_type": "markdown",
   "id": "1b1d7a52",
   "metadata": {},
   "source": [
    "**Class: OU processes**"
   ]
  },
  {
   "cell_type": "code",
   "execution_count": 186,
   "id": "bcad3457",
   "metadata": {},
   "outputs": [],
   "source": [
    "class OU:\n",
    "    def __init__(self, t0, t1, z0, alpha, beta, sigma, dN):\n",
    "        self.t0 = t0\n",
    "        self.t1 = t1\n",
    "        self.z0 = z0\n",
    "        self.alpha = alpha\n",
    "        self.beta = beta\n",
    "        self.sigma = sigma\n",
    "        self.pts = torch.sort(torch.cat([torch.DoubleTensor(dN-2).uniform_(t0,t1), torch.tensor([self.t0, self.t1])]))[0]\n",
    "        self.trj, self.dt = self.simulate()\n",
    "        \n",
    "    def simulate(self):\n",
    "        \"\"\"\n",
    "            Simulate an OU process on a set of discrete points\n",
    "        \"\"\"\n",
    "        output = np.empty(len(self.pts))\n",
    "        output[0] = self.z0\n",
    "        interval = self.pts[1:] - self.pts[:-1]\n",
    "        for t in range(1, len(self.pts)):\n",
    "            \n",
    "            # if the distance is too small, variance becomes 0\n",
    "            dt = interval[t-1]\n",
    "            \n",
    "            mean = self.alpha + (output[t-1] - self.alpha) * np.exp(-1 * self.beta * dt)\n",
    "            var = np.sqrt((self.sigma ** 2) * (1 - np.exp(-2 * self.beta * dt)) / (2 * self.beta))\n",
    "            assert var > 0, \"variance is negative, var:%.3f interval: %.3f\" % (var, dt)\n",
    "            output[t] = ss.norm.rvs(loc = mean, scale = var)\n",
    "        return torch.from_numpy(output), interval"
   ]
  },
  {
   "cell_type": "markdown",
   "id": "005f40f9",
   "metadata": {},
   "source": [
    "Variational inference: KL"
   ]
  },
  {
   "cell_type": "code",
   "execution_count": 486,
   "id": "a9675027",
   "metadata": {},
   "outputs": [
    {
     "data": {
      "text/plain": [
       "tensor(0.3322, dtype=torch.float64)"
      ]
     },
     "execution_count": 486,
     "metadata": {},
     "output_type": "execute_result"
    }
   ],
   "source": [
    "X = torch.sort(torch.DoubleTensor(300).uniform_(0,1))[0]\n",
    "\n",
    "func_kl = vmap(lambda z: z ** 2)\n",
    "\n",
    "torch.trapezoid(func_kl(X), x = X)"
   ]
  },
  {
   "cell_type": "code",
   "execution_count": 503,
   "id": "063c5550",
   "metadata": {},
   "outputs": [],
   "source": [
    "class ELBO:\n",
    "\n",
    "    \"\"\"\n",
    "        Given a simulated variational process, compute the gradient of the ELBO. \n",
    "    \"\"\"\n",
    "    def __init__(self, ou):\n",
    "        self.ou = ou\n",
    "        self.alpha, self.beta, self.sigma = torch.tensor([ou.alpha, ou.beta, ou.sigma])\n",
    "        \n",
    "    def KL_ito(self):\n",
    "        \"\"\"\n",
    "            1. Compute the Riemann approximation to integral in KL divergence\n",
    "            \n",
    "        \"\"\"\n",
    "        # Save parameter specification from ou class\n",
    "        alpha, beta, sigma = self.alpha, self.beta, self.sigma\n",
    "\n",
    "        # Obtain integral term (via Riemann approximation, e.g. trapezoid)\n",
    "        func_kl = vmap(lambda z: z ** 2)\n",
    "        return ((beta ** 2) - 1 )  * torch.trapezoid(abs(func_kl(self.ou.trj)), x=self.ou.pts) / 2\n",
    "    \n",
    "    def KL_rest(self):\n",
    "        \"\"\"\n",
    "            2. Compute the rest\n",
    "        \"\"\"\n",
    "\n",
    "        alpha, beta, sigma = self.alpha, self.beta, self.sigma\n",
    "        z0 = self.ou.z0\n",
    "        z1 = self.ou.trj[-1]\n",
    "        t0 = self.ou.t0\n",
    "        t1 = self.ou.t1\n",
    "        \n",
    "        # Obtain the rest \n",
    "\n",
    "        term1 = - ((beta - 1)/2) * (t1-t0)\n",
    "    \n",
    "        def A(u):\n",
    "            return ((beta - 1) / 2) * (u ** 2)\n",
    "        \n",
    "        term2 = A(z1) - A(z0)\n",
    "\n",
    "        return term1 + term2\n",
    "    \n",
    "    def log_prob(self, obs):\n",
    "        \"\"\"\n",
    "            Compute the log-likelihood\n",
    "            likelihood function is normal density N(obs, var)\n",
    "        \"\"\"\n",
    "        def log_pdf(obs, z):\n",
    "            return ss.norm.logpdf(obs, loc=z, scale=.001)\n",
    "            \n",
    "        \n",
    "        return log_pdf(obs, self.ou.trj[-1])\n"
   ]
  },
  {
   "cell_type": "code",
   "execution_count": 488,
   "id": "bd8138ba",
   "metadata": {},
   "outputs": [],
   "source": [
    "class Score:\n",
    "    def __init__(self, ou):\n",
    "        self.ou = ou\n",
    "        \n",
    "    def compute_score(self):\n",
    "        \"\"\"\n",
    "            Compute the value of the score function at given parameters\n",
    "            return a dictionary matching each parameter to its gradient\n",
    "        \"\"\"\n",
    "        alpha, beta = Variable(torch.tensor([self.ou.alpha, self.ou.beta]), requires_grad=True)\n",
    "        sigma = torch.tensor(self.ou.sigma)\n",
    "        dt = self.ou.dt\n",
    "        X = self.ou.trj\n",
    "        \n",
    "        def compute_transition(X, dt, alpha, beta, sigma):\n",
    "            \"\"\"\n",
    "            Compute the transition density of the (simulated) path\n",
    "            \"\"\"\n",
    "            term1 = -1/2 * (2 * torch.log(sigma) - torch.log(beta) + torch.log(1 - torch.exp(-2 * beta * dt)))\n",
    "            term2 = -1 * beta * (X[1:] - alpha - (X[:-1] - alpha) * torch.exp(-1 * beta * dt)) ** 2 \n",
    "            term3 = (sigma ** 2) * (1 - torch.exp(-2 * beta * dt))\n",
    "\n",
    "            return torch.sum(term1 + term2/term3)\n",
    "        \n",
    "        NLL = compute_transition(X, dt, alpha, beta, sigma)\n",
    "        \n",
    "        beta.retain_grad()\n",
    "        \n",
    "        NLL.backward()\n",
    "        \n",
    "        \n",
    "#         return {'beta':beta.grad}\n",
    "        return {'beta':beta.grad}\n",
    "#         return self.beta.grad"
   ]
  },
  {
   "cell_type": "markdown",
   "id": "29393e33",
   "metadata": {},
   "source": [
    "**Generate observations from Gaussian likelihood**"
   ]
  },
  {
   "cell_type": "markdown",
   "id": "5311cddf",
   "metadata": {},
   "source": [
    "Noisy Observations from the SDE:\n",
    "\n",
    "$dX_{t} = -X_{t}dt + \\sigma dW_{t}$"
   ]
  },
  {
   "cell_type": "code",
   "execution_count": 495,
   "id": "3ba92c13",
   "metadata": {},
   "outputs": [],
   "source": [
    "true_sde = OU(t0 = 0, t1 = 10., z0 = 1., alpha = 0, beta = 1., sigma = 1., dN=1000)"
   ]
  },
  {
   "cell_type": "code",
   "execution_count": 496,
   "id": "ada4abc7",
   "metadata": {
    "scrolled": true
   },
   "outputs": [
    {
     "data": {
      "image/png": "[encoded data removed]",
      "text/plain": [
       "<Figure size 432x288 with 1 Axes>"
      ]
     },
     "metadata": {
      "needs_background": "light"
     },
     "output_type": "display_data"
    }
   ],
   "source": [
    "plt.plot(true_sde.pts, true_sde.trj, 'rx')\n",
    "plt.title(\"OU: alpha = %.2f\" % vi.alpha + \", beta = %.2f\" % true_sde.beta + \", sigma = %.2f\" % true_sde.sigma)\n",
    "plt.show()"
   ]
  },
  {
   "cell_type": "code",
   "execution_count": 499,
   "id": "6fa17eb8",
   "metadata": {},
   "outputs": [],
   "source": [
    "obs = np.random.normal(loc = true_sde.trj[::100], scale = .001)"
   ]
  },
  {
   "cell_type": "code",
   "execution_count": 501,
   "id": "7ac1f081",
   "metadata": {},
   "outputs": [
    {
     "data": {
      "image/png": "[encoded data removed]",
      "text/plain": [
       "<Figure size 432x288 with 1 Axes>"
      ]
     },
     "metadata": {
      "needs_background": "light"
     },
     "output_type": "display_data"
    }
   ],
   "source": [
    "plt.title(\"Observations (x) from underlying SDE (--)\")\n",
    "plt.plot(true_sde.pts, true_sde.trj, '--')\n",
    "plt.plot(true_sde.pts[::100], obs, 'rx')\n",
    "plt.xlabel(\"time\")\n",
    "plt.ylabel(\"x\")\n",
    "plt.show()"
   ]
  },
  {
   "cell_type": "markdown",
   "id": "f0859993",
   "metadata": {},
   "source": [
    "**Variational inference: a piece-wise approximation**"
   ]
  },
  {
   "cell_type": "markdown",
   "id": "6882bd36",
   "metadata": {},
   "source": [
    "1. one-time variational inference from t=0 to t=1"
   ]
  },
  {
   "cell_type": "code",
   "execution_count": 493,
   "id": "f6f7d2df",
   "metadata": {},
   "outputs": [],
   "source": [
    "import tqdm as tq"
   ]
  },
  {
   "cell_type": "code",
   "execution_count": 511,
   "id": "a2eddce7",
   "metadata": {
    "scrolled": true
   },
   "outputs": [
    {
     "name": "stderr",
     "output_type": "stream",
     "text": [
      "  0%|▏                                                 | 1/300 [00:02<12:20,  2.48s/it]"
     ]
    },
    {
     "name": "stdout",
     "output_type": "stream",
     "text": [
      "beta =  tensor(1.3999, dtype=torch.float64) ELBO =  tensor(598255.0580, dtype=torch.float64)\n"
     ]
    },
    {
     "name": "stderr",
     "output_type": "stream",
     "text": [
      "\r",
      "  1%|▎                                                 | 2/300 [00:05<13:05,  2.64s/it]"
     ]
    },
    {
     "name": "stdout",
     "output_type": "stream",
     "text": [
      "beta =  tensor(1.3350, dtype=torch.float64) ELBO =  tensor(48314.1523, dtype=torch.float64)\n"
     ]
    },
    {
     "name": "stderr",
     "output_type": "stream",
     "text": [
      "\r",
      "  1%|▌                                                 | 3/300 [00:07<13:16,  2.68s/it]"
     ]
    },
    {
     "name": "stdout",
     "output_type": "stream",
     "text": [
      "beta =  tensor(1.3841, dtype=torch.float64) ELBO =  tensor(437405.5005, dtype=torch.float64)\n"
     ]
    },
    {
     "name": "stderr",
     "output_type": "stream",
     "text": [
      "\r",
      "  1%|▋                                                 | 4/300 [00:10<13:18,  2.70s/it]"
     ]
    },
    {
     "name": "stdout",
     "output_type": "stream",
     "text": [
      "beta =  tensor(1.3219, dtype=torch.float64) ELBO =  tensor(4023.7834, dtype=torch.float64)\n"
     ]
    },
    {
     "name": "stderr",
     "output_type": "stream",
     "text": [
      "\r",
      "  2%|▊                                                 | 5/300 [00:13<13:17,  2.70s/it]"
     ]
    },
    {
     "name": "stdout",
     "output_type": "stream",
     "text": [
      "beta =  tensor(1.3491, dtype=torch.float64) ELBO =  tensor(650846.0622, dtype=torch.float64)\n"
     ]
    },
    {
     "name": "stderr",
     "output_type": "stream",
     "text": [
      "\r",
      "  2%|█                                                 | 6/300 [00:16<13:17,  2.71s/it]"
     ]
    },
    {
     "name": "stdout",
     "output_type": "stream",
     "text": [
      "beta =  tensor(1.4418, dtype=torch.float64) ELBO =  tensor(137803.2656, dtype=torch.float64)\n"
     ]
    },
    {
     "name": "stderr",
     "output_type": "stream",
     "text": [
      "\r",
      "  2%|█▏                                                | 7/300 [00:18<13:16,  2.72s/it]"
     ]
    },
    {
     "name": "stdout",
     "output_type": "stream",
     "text": [
      "beta =  tensor(1.3299, dtype=torch.float64) ELBO =  tensor(130915.0049, dtype=torch.float64)\n"
     ]
    },
    {
     "name": "stderr",
     "output_type": "stream",
     "text": [
      "\r",
      "  3%|█▎                                                | 8/300 [00:21<13:15,  2.72s/it]"
     ]
    },
    {
     "name": "stdout",
     "output_type": "stream",
     "text": [
      "beta =  tensor(1.3759, dtype=torch.float64) ELBO =  tensor(36667.3657, dtype=torch.float64)\n"
     ]
    },
    {
     "name": "stderr",
     "output_type": "stream",
     "text": [
      "\r",
      "  3%|█▌                                                | 9/300 [00:24<13:15,  2.73s/it]"
     ]
    },
    {
     "name": "stdout",
     "output_type": "stream",
     "text": [
      "beta =  tensor(1.4393, dtype=torch.float64) ELBO =  tensor(772593.7667, dtype=torch.float64)\n"
     ]
    },
    {
     "name": "stderr",
     "output_type": "stream",
     "text": [
      "\r",
      "  3%|█▋                                               | 10/300 [00:27<13:10,  2.73s/it]"
     ]
    },
    {
     "name": "stdout",
     "output_type": "stream",
     "text": [
      "beta =  tensor(1.3788, dtype=torch.float64) ELBO =  tensor(35258.2595, dtype=torch.float64)\n"
     ]
    },
    {
     "name": "stderr",
     "output_type": "stream",
     "text": [
      "\r",
      "  4%|█▊                                               | 11/300 [00:29<13:07,  2.72s/it]"
     ]
    },
    {
     "name": "stdout",
     "output_type": "stream",
     "text": [
      "beta =  tensor(1.3177, dtype=torch.float64) ELBO =  tensor(482837.9426, dtype=torch.float64)\n"
     ]
    },
    {
     "name": "stderr",
     "output_type": "stream",
     "text": [
      "\r",
      "  4%|█▉                                               | 12/300 [00:32<13:04,  2.72s/it]"
     ]
    },
    {
     "name": "stdout",
     "output_type": "stream",
     "text": [
      "beta =  tensor(1.2569, dtype=torch.float64) ELBO =  tensor(26235.3279, dtype=torch.float64)\n"
     ]
    },
    {
     "name": "stderr",
     "output_type": "stream",
     "text": [
      "\r",
      "  4%|██                                               | 13/300 [00:35<13:00,  2.72s/it]"
     ]
    },
    {
     "name": "stdout",
     "output_type": "stream",
     "text": [
      "beta =  tensor(1.2514, dtype=torch.float64) ELBO =  tensor(95310.5103, dtype=torch.float64)\n"
     ]
    },
    {
     "name": "stderr",
     "output_type": "stream",
     "text": [
      "\r",
      "  5%|██▎                                              | 14/300 [00:37<12:58,  2.72s/it]"
     ]
    },
    {
     "name": "stdout",
     "output_type": "stream",
     "text": [
      "beta =  tensor(1.1705, dtype=torch.float64) ELBO =  tensor(241702.5537, dtype=torch.float64)\n"
     ]
    },
    {
     "name": "stderr",
     "output_type": "stream",
     "text": [
      "\r",
      "  5%|██▍                                              | 15/300 [00:40<12:57,  2.73s/it]"
     ]
    },
    {
     "name": "stdout",
     "output_type": "stream",
     "text": [
      "beta =  tensor(1.4239, dtype=torch.float64) ELBO =  tensor(2301.3433, dtype=torch.float64)\n"
     ]
    },
    {
     "name": "stderr",
     "output_type": "stream",
     "text": [
      "\r",
      "  5%|██▌                                              | 16/300 [00:43<12:56,  2.73s/it]"
     ]
    },
    {
     "name": "stdout",
     "output_type": "stream",
     "text": [
      "beta =  tensor(1.3442, dtype=torch.float64) ELBO =  tensor(164982.7547, dtype=torch.float64)\n"
     ]
    },
    {
     "name": "stderr",
     "output_type": "stream",
     "text": [
      "\r",
      "  6%|██▊                                              | 17/300 [00:46<12:53,  2.73s/it]"
     ]
    },
    {
     "name": "stdout",
     "output_type": "stream",
     "text": [
      "beta =  tensor(1.4141, dtype=torch.float64) ELBO =  tensor(98999.3390, dtype=torch.float64)\n"
     ]
    },
    {
     "name": "stderr",
     "output_type": "stream",
     "text": [
      "\r",
      "  6%|██▉                                              | 18/300 [00:48<12:52,  2.74s/it]"
     ]
    },
    {
     "name": "stdout",
     "output_type": "stream",
     "text": [
      "beta =  tensor(1.3698, dtype=torch.float64) ELBO =  tensor(730386.0524, dtype=torch.float64)\n"
     ]
    },
    {
     "name": "stderr",
     "output_type": "stream",
     "text": [
      "\r",
      "  6%|███                                              | 19/300 [00:51<12:48,  2.73s/it]"
     ]
    },
    {
     "name": "stdout",
     "output_type": "stream",
     "text": [
      "beta =  tensor(1.3365, dtype=torch.float64) ELBO =  tensor(297686.4578, dtype=torch.float64)\n"
     ]
    },
    {
     "name": "stderr",
     "output_type": "stream",
     "text": [
      "\r",
      "  7%|███▎                                             | 20/300 [00:54<12:44,  2.73s/it]"
     ]
    },
    {
     "name": "stdout",
     "output_type": "stream",
     "text": [
      "beta =  tensor(1.2751, dtype=torch.float64) ELBO =  tensor(6029.1102, dtype=torch.float64)\n"
     ]
    },
    {
     "name": "stderr",
     "output_type": "stream",
     "text": [
      "\r",
      "  7%|███▍                                             | 21/300 [00:57<12:42,  2.73s/it]"
     ]
    },
    {
     "name": "stdout",
     "output_type": "stream",
     "text": [
      "beta =  tensor(1.2072, dtype=torch.float64) ELBO =  tensor(1167623.5021, dtype=torch.float64)\n"
     ]
    },
    {
     "name": "stderr",
     "output_type": "stream",
     "text": [
      "\r",
      "  7%|███▌                                             | 22/300 [00:59<12:40,  2.74s/it]"
     ]
    },
    {
     "name": "stdout",
     "output_type": "stream",
     "text": [
      "beta =  tensor(1.2410, dtype=torch.float64) ELBO =  tensor(56716.6105, dtype=torch.float64)\n"
     ]
    },
    {
     "name": "stderr",
     "output_type": "stream",
     "text": [
      "\r",
      "  8%|███▊                                             | 23/300 [01:02<12:38,  2.74s/it]"
     ]
    },
    {
     "name": "stdout",
     "output_type": "stream",
     "text": [
      "beta =  tensor(1.2225, dtype=torch.float64) ELBO =  tensor(170841.8783, dtype=torch.float64)\n"
     ]
    },
    {
     "name": "stderr",
     "output_type": "stream",
     "text": [
      "\r",
      "  8%|███▉                                             | 24/300 [01:05<12:36,  2.74s/it]"
     ]
    },
    {
     "name": "stdout",
     "output_type": "stream",
     "text": [
      "beta =  tensor(1.2096, dtype=torch.float64) ELBO =  tensor(730216.4471, dtype=torch.float64)\n"
     ]
    },
    {
     "name": "stderr",
     "output_type": "stream",
     "text": [
      "\r",
      "  8%|████                                             | 25/300 [01:08<12:35,  2.75s/it]"
     ]
    },
    {
     "name": "stdout",
     "output_type": "stream",
     "text": [
      "beta =  tensor(1.1573, dtype=torch.float64) ELBO =  tensor(255246.7866, dtype=torch.float64)\n"
     ]
    },
    {
     "name": "stderr",
     "output_type": "stream",
     "text": [
      "  8%|████                                             | 25/300 [01:09<12:49,  2.80s/it]\n"
     ]
    },
    {
     "ename": "KeyboardInterrupt",
     "evalue": "",
     "output_type": "error",
     "traceback": [
      "\u001b[0;31m---------------------------------------------------------------------------\u001b[0m",
      "\u001b[0;31mKeyboardInterrupt\u001b[0m                         Traceback (most recent call last)",
      "\u001b[0;32m/var/folders/2c/_gzbr1y51ws47zfknhxm868h0000gr/T/ipykernel_70836/766285189.py\u001b[0m in \u001b[0;36m<module>\u001b[0;34m\u001b[0m\n\u001b[1;32m     10\u001b[0m \u001b[0;34m\u001b[0m\u001b[0m\n\u001b[1;32m     11\u001b[0m     \u001b[0;32mfor\u001b[0m \u001b[0mi\u001b[0m \u001b[0;32min\u001b[0m \u001b[0mrange\u001b[0m\u001b[0;34m(\u001b[0m\u001b[0mN\u001b[0m\u001b[0;34m)\u001b[0m\u001b[0;34m:\u001b[0m\u001b[0;34m\u001b[0m\u001b[0;34m\u001b[0m\u001b[0m\n\u001b[0;32m---> 12\u001b[0;31m         \u001b[0mvi\u001b[0m \u001b[0;34m=\u001b[0m \u001b[0mOU\u001b[0m\u001b[0;34m(\u001b[0m\u001b[0mt0\u001b[0m \u001b[0;34m=\u001b[0m \u001b[0;36m0.\u001b[0m\u001b[0;34m,\u001b[0m \u001b[0mt1\u001b[0m \u001b[0;34m=\u001b[0m \u001b[0;36m1.\u001b[0m\u001b[0;34m,\u001b[0m \u001b[0mz0\u001b[0m \u001b[0;34m=\u001b[0m \u001b[0mobs\u001b[0m\u001b[0;34m[\u001b[0m\u001b[0;36m0\u001b[0m\u001b[0;34m]\u001b[0m\u001b[0;34m,\u001b[0m \u001b[0malpha\u001b[0m \u001b[0;34m=\u001b[0m \u001b[0;36m0\u001b[0m \u001b[0;34m,\u001b[0m \u001b[0mbeta\u001b[0m \u001b[0;34m=\u001b[0m \u001b[0mbeta_\u001b[0m \u001b[0;34m,\u001b[0m \u001b[0msigma\u001b[0m \u001b[0;34m=\u001b[0m \u001b[0;36m1.\u001b[0m\u001b[0;34m,\u001b[0m \u001b[0mdN\u001b[0m\u001b[0;34m=\u001b[0m\u001b[0;36m300\u001b[0m\u001b[0;34m)\u001b[0m\u001b[0;34m\u001b[0m\u001b[0;34m\u001b[0m\u001b[0m\n\u001b[0m\u001b[1;32m     13\u001b[0m         \u001b[0melbo\u001b[0m \u001b[0;34m=\u001b[0m \u001b[0mELBO\u001b[0m\u001b[0;34m(\u001b[0m\u001b[0mvi\u001b[0m\u001b[0;34m)\u001b[0m\u001b[0;34m\u001b[0m\u001b[0;34m\u001b[0m\u001b[0m\n\u001b[1;32m     14\u001b[0m         \u001b[0mscore\u001b[0m \u001b[0;34m=\u001b[0m \u001b[0mScore\u001b[0m\u001b[0;34m(\u001b[0m\u001b[0mvi\u001b[0m\u001b[0;34m)\u001b[0m\u001b[0;34m\u001b[0m\u001b[0;34m\u001b[0m\u001b[0m\n",
      "\u001b[0;32m/var/folders/2c/_gzbr1y51ws47zfknhxm868h0000gr/T/ipykernel_70836/3811211203.py\u001b[0m in \u001b[0;36m__init__\u001b[0;34m(self, t0, t1, z0, alpha, beta, sigma, dN)\u001b[0m\n\u001b[1;32m      8\u001b[0m         \u001b[0mself\u001b[0m\u001b[0;34m.\u001b[0m\u001b[0msigma\u001b[0m \u001b[0;34m=\u001b[0m \u001b[0msigma\u001b[0m\u001b[0;34m\u001b[0m\u001b[0;34m\u001b[0m\u001b[0m\n\u001b[1;32m      9\u001b[0m         \u001b[0mself\u001b[0m\u001b[0;34m.\u001b[0m\u001b[0mpts\u001b[0m \u001b[0;34m=\u001b[0m \u001b[0mtorch\u001b[0m\u001b[0;34m.\u001b[0m\u001b[0msort\u001b[0m\u001b[0;34m(\u001b[0m\u001b[0mtorch\u001b[0m\u001b[0;34m.\u001b[0m\u001b[0mcat\u001b[0m\u001b[0;34m(\u001b[0m\u001b[0;34m[\u001b[0m\u001b[0mtorch\u001b[0m\u001b[0;34m.\u001b[0m\u001b[0mDoubleTensor\u001b[0m\u001b[0;34m(\u001b[0m\u001b[0mdN\u001b[0m\u001b[0;34m-\u001b[0m\u001b[0;36m2\u001b[0m\u001b[0;34m)\u001b[0m\u001b[0;34m.\u001b[0m\u001b[0muniform_\u001b[0m\u001b[0;34m(\u001b[0m\u001b[0mt0\u001b[0m\u001b[0;34m,\u001b[0m\u001b[0mt1\u001b[0m\u001b[0;34m)\u001b[0m\u001b[0;34m,\u001b[0m \u001b[0mtorch\u001b[0m\u001b[0;34m.\u001b[0m\u001b[0mtensor\u001b[0m\u001b[0;34m(\u001b[0m\u001b[0;34m[\u001b[0m\u001b[0mself\u001b[0m\u001b[0;34m.\u001b[0m\u001b[0mt0\u001b[0m\u001b[0;34m,\u001b[0m \u001b[0mself\u001b[0m\u001b[0;34m.\u001b[0m\u001b[0mt1\u001b[0m\u001b[0;34m]\u001b[0m\u001b[0;34m)\u001b[0m\u001b[0;34m]\u001b[0m\u001b[0;34m)\u001b[0m\u001b[0;34m)\u001b[0m\u001b[0;34m[\u001b[0m\u001b[0;36m0\u001b[0m\u001b[0;34m]\u001b[0m\u001b[0;34m\u001b[0m\u001b[0;34m\u001b[0m\u001b[0m\n\u001b[0;32m---> 10\u001b[0;31m         \u001b[0mself\u001b[0m\u001b[0;34m.\u001b[0m\u001b[0mtrj\u001b[0m\u001b[0;34m,\u001b[0m \u001b[0mself\u001b[0m\u001b[0;34m.\u001b[0m\u001b[0mdt\u001b[0m \u001b[0;34m=\u001b[0m \u001b[0mself\u001b[0m\u001b[0;34m.\u001b[0m\u001b[0msimulate\u001b[0m\u001b[0;34m(\u001b[0m\u001b[0;34m)\u001b[0m\u001b[0;34m\u001b[0m\u001b[0;34m\u001b[0m\u001b[0m\n\u001b[0m\u001b[1;32m     11\u001b[0m \u001b[0;34m\u001b[0m\u001b[0m\n\u001b[1;32m     12\u001b[0m     \u001b[0;32mdef\u001b[0m \u001b[0msimulate\u001b[0m\u001b[0;34m(\u001b[0m\u001b[0mself\u001b[0m\u001b[0;34m)\u001b[0m\u001b[0;34m:\u001b[0m\u001b[0;34m\u001b[0m\u001b[0;34m\u001b[0m\u001b[0m\n",
      "\u001b[0;32m/var/folders/2c/_gzbr1y51ws47zfknhxm868h0000gr/T/ipykernel_70836/3811211203.py\u001b[0m in \u001b[0;36msimulate\u001b[0;34m(self)\u001b[0m\n\u001b[1;32m     23\u001b[0m \u001b[0;34m\u001b[0m\u001b[0m\n\u001b[1;32m     24\u001b[0m             \u001b[0mmean\u001b[0m \u001b[0;34m=\u001b[0m \u001b[0mself\u001b[0m\u001b[0;34m.\u001b[0m\u001b[0malpha\u001b[0m \u001b[0;34m+\u001b[0m \u001b[0;34m(\u001b[0m\u001b[0moutput\u001b[0m\u001b[0;34m[\u001b[0m\u001b[0mt\u001b[0m\u001b[0;34m-\u001b[0m\u001b[0;36m1\u001b[0m\u001b[0;34m]\u001b[0m \u001b[0;34m-\u001b[0m \u001b[0mself\u001b[0m\u001b[0;34m.\u001b[0m\u001b[0malpha\u001b[0m\u001b[0;34m)\u001b[0m \u001b[0;34m*\u001b[0m \u001b[0mnp\u001b[0m\u001b[0;34m.\u001b[0m\u001b[0mexp\u001b[0m\u001b[0;34m(\u001b[0m\u001b[0;34m-\u001b[0m\u001b[0;36m1\u001b[0m \u001b[0;34m*\u001b[0m \u001b[0mself\u001b[0m\u001b[0;34m.\u001b[0m\u001b[0mbeta\u001b[0m \u001b[0;34m*\u001b[0m \u001b[0mdt\u001b[0m\u001b[0;34m)\u001b[0m\u001b[0;34m\u001b[0m\u001b[0;34m\u001b[0m\u001b[0m\n\u001b[0;32m---> 25\u001b[0;31m             \u001b[0mvar\u001b[0m \u001b[0;34m=\u001b[0m \u001b[0mnp\u001b[0m\u001b[0;34m.\u001b[0m\u001b[0msqrt\u001b[0m\u001b[0;34m(\u001b[0m\u001b[0;34m(\u001b[0m\u001b[0mself\u001b[0m\u001b[0;34m.\u001b[0m\u001b[0msigma\u001b[0m \u001b[0;34m**\u001b[0m \u001b[0;36m2\u001b[0m\u001b[0;34m)\u001b[0m \u001b[0;34m*\u001b[0m \u001b[0;34m(\u001b[0m\u001b[0;36m1\u001b[0m \u001b[0;34m-\u001b[0m \u001b[0mnp\u001b[0m\u001b[0;34m.\u001b[0m\u001b[0mexp\u001b[0m\u001b[0;34m(\u001b[0m\u001b[0;34m-\u001b[0m\u001b[0;36m2\u001b[0m \u001b[0;34m*\u001b[0m \u001b[0mself\u001b[0m\u001b[0;34m.\u001b[0m\u001b[0mbeta\u001b[0m \u001b[0;34m*\u001b[0m \u001b[0mdt\u001b[0m\u001b[0;34m)\u001b[0m\u001b[0;34m)\u001b[0m \u001b[0;34m/\u001b[0m \u001b[0;34m(\u001b[0m\u001b[0;36m2\u001b[0m \u001b[0;34m*\u001b[0m \u001b[0mself\u001b[0m\u001b[0;34m.\u001b[0m\u001b[0mbeta\u001b[0m\u001b[0;34m)\u001b[0m\u001b[0;34m)\u001b[0m\u001b[0;34m\u001b[0m\u001b[0;34m\u001b[0m\u001b[0m\n\u001b[0m\u001b[1;32m     26\u001b[0m             \u001b[0;32massert\u001b[0m \u001b[0mvar\u001b[0m \u001b[0;34m>\u001b[0m \u001b[0;36m0\u001b[0m\u001b[0;34m,\u001b[0m \u001b[0;34m\"variance is negative, var:%.3f interval: %.3f\"\u001b[0m \u001b[0;34m%\u001b[0m \u001b[0;34m(\u001b[0m\u001b[0mvar\u001b[0m\u001b[0;34m,\u001b[0m \u001b[0mdt\u001b[0m\u001b[0;34m)\u001b[0m\u001b[0;34m\u001b[0m\u001b[0;34m\u001b[0m\u001b[0m\n\u001b[1;32m     27\u001b[0m             \u001b[0moutput\u001b[0m\u001b[0;34m[\u001b[0m\u001b[0mt\u001b[0m\u001b[0;34m]\u001b[0m \u001b[0;34m=\u001b[0m \u001b[0mss\u001b[0m\u001b[0;34m.\u001b[0m\u001b[0mnorm\u001b[0m\u001b[0;34m.\u001b[0m\u001b[0mrvs\u001b[0m\u001b[0;34m(\u001b[0m\u001b[0mloc\u001b[0m \u001b[0;34m=\u001b[0m \u001b[0mmean\u001b[0m\u001b[0;34m,\u001b[0m \u001b[0mscale\u001b[0m \u001b[0;34m=\u001b[0m \u001b[0mvar\u001b[0m\u001b[0;34m)\u001b[0m\u001b[0;34m\u001b[0m\u001b[0;34m\u001b[0m\u001b[0m\n",
      "\u001b[0;32m/usr/local/anaconda3/lib/python3.9/site-packages/torch/_tensor.py\u001b[0m in \u001b[0;36m__array__\u001b[0;34m(self, dtype)\u001b[0m\n\u001b[1;32m    730\u001b[0m             \u001b[0;32mreturn\u001b[0m \u001b[0mhandle_torch_function\u001b[0m\u001b[0;34m(\u001b[0m\u001b[0mTensor\u001b[0m\u001b[0;34m.\u001b[0m\u001b[0m__array__\u001b[0m\u001b[0;34m,\u001b[0m \u001b[0;34m(\u001b[0m\u001b[0mself\u001b[0m\u001b[0;34m,\u001b[0m\u001b[0;34m)\u001b[0m\u001b[0;34m,\u001b[0m \u001b[0mself\u001b[0m\u001b[0;34m,\u001b[0m \u001b[0mdtype\u001b[0m\u001b[0;34m=\u001b[0m\u001b[0mdtype\u001b[0m\u001b[0;34m)\u001b[0m\u001b[0;34m\u001b[0m\u001b[0;34m\u001b[0m\u001b[0m\n\u001b[1;32m    731\u001b[0m         \u001b[0;32mif\u001b[0m \u001b[0mdtype\u001b[0m \u001b[0;32mis\u001b[0m \u001b[0;32mNone\u001b[0m\u001b[0;34m:\u001b[0m\u001b[0;34m\u001b[0m\u001b[0;34m\u001b[0m\u001b[0m\n\u001b[0;32m--> 732\u001b[0;31m             \u001b[0;32mreturn\u001b[0m \u001b[0mself\u001b[0m\u001b[0;34m.\u001b[0m\u001b[0mnumpy\u001b[0m\u001b[0;34m(\u001b[0m\u001b[0;34m)\u001b[0m\u001b[0;34m\u001b[0m\u001b[0;34m\u001b[0m\u001b[0m\n\u001b[0m\u001b[1;32m    733\u001b[0m         \u001b[0;32melse\u001b[0m\u001b[0;34m:\u001b[0m\u001b[0;34m\u001b[0m\u001b[0;34m\u001b[0m\u001b[0m\n\u001b[1;32m    734\u001b[0m             \u001b[0;32mreturn\u001b[0m \u001b[0mself\u001b[0m\u001b[0;34m.\u001b[0m\u001b[0mnumpy\u001b[0m\u001b[0;34m(\u001b[0m\u001b[0;34m)\u001b[0m\u001b[0;34m.\u001b[0m\u001b[0mastype\u001b[0m\u001b[0;34m(\u001b[0m\u001b[0mdtype\u001b[0m\u001b[0;34m,\u001b[0m \u001b[0mcopy\u001b[0m\u001b[0;34m=\u001b[0m\u001b[0;32mFalse\u001b[0m\u001b[0;34m)\u001b[0m\u001b[0;34m\u001b[0m\u001b[0;34m\u001b[0m\u001b[0m\n",
      "\u001b[0;31mKeyboardInterrupt\u001b[0m: "
     ]
    }
   ],
   "source": [
    "beta_ = 1.5\n",
    "\n",
    "N = 100\n",
    "learning_rate = 0.000002\n",
    "\n",
    "trace = []\n",
    "for i in tq.tqdm(range(300)):\n",
    "# for i in range(300):\n",
    "    beta_grad = 0.\n",
    "\n",
    "    for i in range(N):\n",
    "        vi = OU(t0 = 0., t1 = 1., z0 = obs[0], alpha = 0 , beta = beta_ , sigma = 1., dN=300)\n",
    "        elbo = ELBO(vi)\n",
    "        score = Score(vi)\n",
    "        \n",
    "        scores = score.compute_score()\n",
    "        f_of_X = -1 * (elbo.log_prob(obs[1]) + elbo.KL_ito() + elbo.KL_rest())\n",
    "        beta_grad += f_of_X * scores['beta']\n",
    "    \n",
    "    beta_ -= learning_rate * beta_grad/N\n",
    "\n",
    "#     vi_ = OU(t0 = 0., t1 = 1., z0 = obs[0], alpha = 0 , beta = beta_ , sigma = 1., dN=300)\n",
    "#     elbo_ = ELBO(vi_)\n",
    "#     f_of_X_ = -1 * (elbo_.log_prob(obs[1]) + elbo_.KL_ito() + elbo_.KL_rest())\n",
    "\n",
    "    trace.append(beta_.data.cpu().numpy().copy())\n",
    "# score.compute_score()"
   ]
  },
  {
   "cell_type": "code",
   "execution_count": 332,
   "id": "fbf7db81",
   "metadata": {},
   "outputs": [
    {
     "data": {
      "text/plain": [
       "[<matplotlib.lines.Line2D at 0x7f7ef09d33a0>]"
      ]
     },
     "execution_count": 332,
     "metadata": {},
     "output_type": "execute_result"
    },
    {
     "data": {
      "image/png": "[encoded data removed]",
      "text/plain": [
       "<Figure size 432x288 with 1 Axes>"
      ]
     },
     "metadata": {
      "needs_background": "light"
     },
     "output_type": "display_data"
    }
   ],
   "source": [
    "for i in range(10):\n",
    "    posterior = OU(t0 = 0., t1 = 1., z0 = obs[0], alpha = 0 , beta = beta_ , sigma = 1., dN=100)\n",
    "    plt.plot(posterior.pts, posterior.trj, 'b')\n",
    "    plt.plot(obs, 'rx')\n",
    "plt.plot(true_sde.pts,true_sde.trj, 'grey', linestyle='dashed')"
   ]
  },
  {
   "cell_type": "code",
   "execution_count": 333,
   "id": "83c5fc30",
   "metadata": {},
   "outputs": [
    {
     "data": {
      "text/plain": [
       "[<matplotlib.lines.Line2D at 0x7f7ec1c4eaf0>]"
      ]
     },
     "execution_count": 333,
     "metadata": {},
     "output_type": "execute_result"
    },
    {
     "data": {
      "image/png": "[encoded data removed]",
      "text/plain": [
       "<Figure size 432x288 with 1 Axes>"
      ]
     },
     "metadata": {
      "needs_background": "light"
     },
     "output_type": "display_data"
    }
   ],
   "source": [
    "for i in range(50):\n",
    "    posterior = OU(t0 = 0., t1 = 1., z0 = obs[0], alpha = 0, beta = beta_, sigma = 1., dN=100)\n",
    "    plt.plot(posterior.pts, posterior.trj, 'b')\n",
    "    plt.plot(obs[:2], 'rx')\n",
    "plt.plot(true_sde.pts,true_sde.trj, 'grey', linestyle='dashed')"
   ]
  },
  {
   "cell_type": "markdown",
   "id": "2f0b1dc7",
   "metadata": {},
   "source": [
    "**Trace plot: gradient**"
   ]
  },
  {
   "cell_type": "code",
   "execution_count": 334,
   "id": "01edd31c",
   "metadata": {},
   "outputs": [
    {
     "data": {
      "image/png": "[encoded data removed]",
      "text/plain": [
       "<Figure size 432x288 with 1 Axes>"
      ]
     },
     "metadata": {
      "needs_background": "light"
     },
     "output_type": "display_data"
    }
   ],
   "source": [
    "plt.title(\"Trace plot: beta\")\n",
    "plt.plot(np.arange(len(trace)), trace)\n",
    "plt.axhline(1.0, xmin=0.01, xmax=300, color='red', label='true')\n",
    "plt.legend()\n",
    "plt.xlabel(\"iteration\")\n",
    "plt.ylabel(r\"$\\beta$\")\n",
    "plt.show()"
   ]
  },
  {
   "cell_type": "markdown",
   "id": "56cbbee2",
   "metadata": {},
   "source": [
    "**Posterior moment based on the average of last 30 iterations of beta**"
   ]
  },
  {
   "cell_type": "code",
   "execution_count": 335,
   "id": "0fdbe78c",
   "metadata": {},
   "outputs": [],
   "source": [
    "def posterior_moment(init, alpha, beta):\n",
    "    sigma = 1.\n",
    "    pts = np.linspace(0,1,11)\n",
    "    dt = pts[1:] - pts[:-1]\n",
    "    \n",
    "    mean = [init]\n",
    "        \n",
    "    for i in range(dt.shape[0]):\n",
    "        mean.append(alpha + (mean[i] - alpha)*np.exp(-1 * beta * dt[i]))\n",
    "    \n",
    "    func = lambda t: np.sqrt((sigma ** 2 / (2*beta)) * (1 - np.exp(-2 * beta * t)))\n",
    "    sd = list(map(func, dt))\n",
    "    \n",
    "    return np.array(mean), np.array(sd)"
   ]
  },
  {
   "cell_type": "code",
   "execution_count": 336,
   "id": "a45dc900",
   "metadata": {},
   "outputs": [],
   "source": [
    "pmean, psd = posterior_moment(obs[0], 0, beta_.data.numpy())"
   ]
  },
  {
   "cell_type": "code",
   "execution_count": 337,
   "id": "5387c88f",
   "metadata": {},
   "outputs": [
    {
     "data": {
      "image/png": "[encoded data removed]",
      "text/plain": [
       "<Figure size 432x288 with 1 Axes>"
      ]
     },
     "metadata": {
      "needs_background": "light"
     },
     "output_type": "display_data"
    }
   ],
   "source": [
    "plt.plot(true_sde.pts[:11], true_sde.trj[:11], linestyle='dashed', label='underlying sde')\n",
    "plt.plot(true_sde.pts[:11], pmean, 'black', label='posterior mean')\n",
    "plt.fill_between(true_sde.pts[1:11], pmean[1:] - psd, pmean[1:] + psd, alpha=0.3, color='grey')\n",
    "plt.plot(obs[:2], 'rx', label='observations')\n",
    "plt.legend()\n",
    "plt.show()"
   ]
  },
  {
   "cell_type": "markdown",
   "id": "629d126b",
   "metadata": {},
   "source": [
    "2. Complete piece-wise optimization from t=0 to t=10\n",
    "\n",
    "We use the posterior mean of the previous step as our initial value for next vi"
   ]
  },
  {
   "cell_type": "code",
   "execution_count": 268,
   "id": "b820057c",
   "metadata": {},
   "outputs": [],
   "source": [
    "vi_beta = np.empty(9)"
   ]
  },
  {
   "cell_type": "code",
   "execution_count": 269,
   "id": "d9600e6f",
   "metadata": {},
   "outputs": [
    {
     "name": "stderr",
     "output_type": "stream",
     "text": [
      "100%|███████████████████████████████████████████████████| 9/9 [28:02<00:00, 186.96s/it]\n"
     ]
    }
   ],
   "source": [
    "N = 100\n",
    "learning_rate = 0.0002\n",
    "z0 = obs[0]\n",
    "\n",
    "for t in tq.tqdm(range(obs.shape[0]-1)):\n",
    "    beta_ = np.random.uniform(0, 5)\n",
    "    \n",
    "    trace = []\n",
    "    for i in range(200):\n",
    "        beta_grad = 0.\n",
    "            \n",
    "        for i in range(N):\n",
    "            vi = OU(t0 = obs_time[t], t1 = obs_time[t+1], z0 = z0, alpha = 0 , beta = beta_ , sigma = 1., dN=100)\n",
    "            elbo = ELBO(vi)\n",
    "            score = Score(vi)\n",
    "\n",
    "            scores = score.compute_score()\n",
    "            f_of_X = -1 * (elbo.log_prob(obs[t+1]) - (elbo.KL_ito() + elbo.KL_rest()))\n",
    "            \n",
    "            beta_grad += f_of_X * scores['beta']\n",
    "\n",
    "        beta_ -= learning_rate * beta_grad/N\n",
    "    #     print(\"beta = \", beta_)\n",
    "        trace.append(beta_.data.cpu().numpy().copy())\n",
    "    \n",
    "    vi_beta[t] = np.mean(trace[-30:])\n",
    "    z0 *= np.exp(-1 * vi_beta[t] * (obs_time[t+1] - obs_time[t]))\n",
    "# score.compute_score()"
   ]
  },
  {
   "cell_type": "code",
   "execution_count": 272,
   "id": "005ae383",
   "metadata": {},
   "outputs": [
    {
     "data": {
      "text/plain": [
       "[<matplotlib.lines.Line2D at 0x7f7ee4c66d30>]"
      ]
     },
     "execution_count": 272,
     "metadata": {},
     "output_type": "execute_result"
    },
    {
     "data": {
      "image/png": "[encoded data removed]",
      "text/plain": [
       "<Figure size 432x288 with 1 Axes>"
      ]
     },
     "metadata": {
      "needs_background": "light"
     },
     "output_type": "display_data"
    }
   ],
   "source": [
    "plt.plot(obs_time, obs, 'rx')\n",
    "plt.plot(true_sde.pts, true_sde.trj, linestyle='dashed', label='underlying sde')\n",
    "plt.plot(obs_time[1:], obs[:-1] * np.exp(-1 * vi_beta * (obs_time[1:] - obs_time[:-1])), 'bx')"
   ]
  },
  {
   "cell_type": "code",
   "execution_count": 321,
   "id": "8b9e850c",
   "metadata": {},
   "outputs": [
    {
     "name": "stderr",
     "output_type": "stream",
     "text": [
      "100%|████████████████████████████████████████████████| 300/300 [04:39<00:00,  1.07it/s]\n"
     ]
    }
   ],
   "source": [
    "beta_ = 3.\n",
    "\n",
    "N = 100\n",
    "learning_rate = 0.0002\n",
    "\n",
    "trace = []\n",
    "for i in tq.tqdm(range(300)):\n",
    "# for i in range(300):\n",
    "    beta_grad = 0.\n",
    "\n",
    "    for i in range(N):\n",
    "        vi = OU(t0 = obs_time[1], t1 = obs_time[2], z0 = obs[1], alpha = 0 , beta = beta_ , sigma = 1., dN=100)\n",
    "        elbo = ELBO(vi)\n",
    "        score = Score(vi)\n",
    "        \n",
    "        scores = score.compute_score()\n",
    "        f_of_X = -1 * (elbo.log_prob(obs[2]) - (elbo.KL_ito() + elbo.KL_rest()))\n",
    "#         print(\"likelihood = \", elbo.log_prob(obs[2]), \"KL = \", elbo.KL_ito() + elbo.KL_rest())\n",
    "        assert f_of_X != np.nan, \"shit\"\n",
    "\n",
    "        beta_grad += f_of_X * scores['beta']\n",
    "        \n",
    "    beta_ -= learning_rate * beta_grad/N\n",
    "\n",
    "#     print(\"beta = \", beta_)\n",
    "    trace.append(beta_.data.cpu().numpy().copy())\n",
    "# score.compute_score()"
   ]
  },
  {
   "cell_type": "code",
   "execution_count": 322,
   "id": "85e1be4e",
   "metadata": {},
   "outputs": [
    {
     "data": {
      "text/plain": [
       "[<matplotlib.lines.Line2D at 0x7f7ee515a5b0>]"
      ]
     },
     "execution_count": 322,
     "metadata": {},
     "output_type": "execute_result"
    },
    {
     "data": {
      "image/png": "[encoded data removed]",
      "text/plain": [
       "<Figure size 432x288 with 1 Axes>"
      ]
     },
     "metadata": {
      "needs_background": "light"
     },
     "output_type": "display_data"
    }
   ],
   "source": [
    "for i in range(50):\n",
    "    posterior = OU(t0 = obs_time[1], t1 = obs_time[2], z0 = obs[1], alpha = 0, beta = beta_, sigma = 1., dN=100)\n",
    "    plt.plot(posterior.pts, posterior.trj, 'b')\n",
    "    plt.plot(obs[:3], 'rx')\n",
    "plt.plot(true_sde.pts,true_sde.trj, 'grey', linestyle='dashed')"
   ]
  },
  {
   "cell_type": "code",
   "execution_count": 323,
   "id": "4f13f45b",
   "metadata": {},
   "outputs": [
    {
     "data": {
      "text/plain": [
       "[array(8.01770092),\n",
       " array(10.46906136),\n",
       " array(10.9438255),\n",
       " array(11.37042953),\n",
       " array(10.33722459),\n",
       " array(12.31182097),\n",
       " array(12.61916602),\n",
       " array(13.35423656),\n",
       " array(14.30570927),\n",
       " array(14.84281154),\n",
       " array(14.27956257),\n",
       " array(16.03934648),\n",
       " array(16.15242071),\n",
       " array(16.33569461),\n",
       " array(14.82553635),\n",
       " array(14.60202364),\n",
       " array(14.49215917),\n",
       " array(13.14296041),\n",
       " array(15.16384897),\n",
       " array(15.33043385),\n",
       " array(14.92779673),\n",
       " array(14.81132612),\n",
       " array(15.2639636),\n",
       " array(16.80333746),\n",
       " array(16.79317663),\n",
       " array(17.76549051),\n",
       " array(16.86819524),\n",
       " array(15.11319983),\n",
       " array(17.75398297),\n",
       " array(18.623457),\n",
       " array(20.22707658),\n",
       " array(18.58643183),\n",
       " array(20.20916088),\n",
       " array(19.47583725),\n",
       " array(18.94844994),\n",
       " array(19.34145232),\n",
       " array(20.02563438),\n",
       " array(20.44311673),\n",
       " array(19.61564889),\n",
       " array(19.27633186),\n",
       " array(18.89515986),\n",
       " array(17.80341513),\n",
       " array(16.47991541),\n",
       " array(16.08926854),\n",
       " array(15.26545529),\n",
       " array(15.65321261),\n",
       " array(14.38663434),\n",
       " array(16.26308783),\n",
       " array(16.74250024),\n",
       " array(17.99858861),\n",
       " array(18.90530614),\n",
       " array(20.54102539),\n",
       " array(21.76116272),\n",
       " array(23.01414653),\n",
       " array(21.58707612),\n",
       " array(21.50925021),\n",
       " array(22.25573934),\n",
       " array(22.63845938),\n",
       " array(22.05973482),\n",
       " array(21.06168636),\n",
       " array(21.15215875),\n",
       " array(20.88234517),\n",
       " array(22.62813098),\n",
       " array(21.0248018),\n",
       " array(21.23880523),\n",
       " array(21.58229403),\n",
       " array(22.1553335),\n",
       " array(23.70476488),\n",
       " array(23.02496942),\n",
       " array(22.88392065),\n",
       " array(22.65107584),\n",
       " array(22.30632576),\n",
       " array(21.70231318),\n",
       " array(21.85439555),\n",
       " array(23.68003577),\n",
       " array(23.33563757),\n",
       " array(23.55065247),\n",
       " array(23.20194003),\n",
       " array(23.60367029),\n",
       " array(23.90824782),\n",
       " array(24.1619139),\n",
       " array(24.98235652),\n",
       " array(24.38666662),\n",
       " array(25.70945877),\n",
       " array(26.18448069),\n",
       " array(26.51543662),\n",
       " array(26.09758114),\n",
       " array(26.6431591),\n",
       " array(27.49631384),\n",
       " array(26.97633251),\n",
       " array(28.11443288),\n",
       " array(28.1684126),\n",
       " array(28.37089911),\n",
       " array(26.90650013),\n",
       " array(26.42873579),\n",
       " array(26.3541214),\n",
       " array(26.3454135),\n",
       " array(26.68875391),\n",
       " array(25.69452773),\n",
       " array(25.82143117),\n",
       " array(26.3991507),\n",
       " array(27.34912955),\n",
       " array(28.90366522),\n",
       " array(28.74684608),\n",
       " array(28.25167296),\n",
       " array(27.25619043),\n",
       " array(27.69146157),\n",
       " array(26.15388399),\n",
       " array(27.30758398),\n",
       " array(27.93225919),\n",
       " array(27.89448676),\n",
       " array(28.245068),\n",
       " array(26.62228127),\n",
       " array(26.9349419),\n",
       " array(26.77403195),\n",
       " array(26.50783922),\n",
       " array(25.17969044),\n",
       " array(24.21718186),\n",
       " array(23.70234568),\n",
       " array(22.37575224),\n",
       " array(21.31394709),\n",
       " array(20.34395164),\n",
       " array(21.96352503),\n",
       " array(22.536205),\n",
       " array(23.12856878),\n",
       " array(22.44741217),\n",
       " array(23.645386),\n",
       " array(25.6766606),\n",
       " array(27.16532544),\n",
       " array(26.15210416),\n",
       " array(25.97176806),\n",
       " array(26.8084445),\n",
       " array(26.96495084),\n",
       " array(27.7835717),\n",
       " array(28.53293451),\n",
       " array(28.09801487),\n",
       " array(29.22031547),\n",
       " array(29.17857723),\n",
       " array(28.95734066),\n",
       " array(28.84024677),\n",
       " array(29.44450788),\n",
       " array(30.39964749),\n",
       " array(30.70164751),\n",
       " array(30.81904489),\n",
       " array(31.76803731),\n",
       " array(31.80756557),\n",
       " array(30.99729303),\n",
       " array(31.94224804),\n",
       " array(30.68708152),\n",
       " array(29.72579408),\n",
       " array(30.58098489),\n",
       " array(30.79866116),\n",
       " array(30.83647957),\n",
       " array(31.09992991),\n",
       " array(31.52884582),\n",
       " array(32.73812),\n",
       " array(32.96126394),\n",
       " array(32.90740928),\n",
       " array(32.69764554),\n",
       " array(32.93811459),\n",
       " array(32.54220549),\n",
       " array(32.5249479),\n",
       " array(33.46037914),\n",
       " array(33.90357971),\n",
       " array(34.32334282),\n",
       " array(34.95133463),\n",
       " array(34.8773866),\n",
       " array(33.78830681),\n",
       " array(35.24838453),\n",
       " array(34.80928422),\n",
       " array(35.02830909),\n",
       " array(35.60884174),\n",
       " array(34.96026603),\n",
       " array(36.21244579),\n",
       " array(35.56032112),\n",
       " array(35.50686159),\n",
       " array(35.57745854),\n",
       " array(35.70537947),\n",
       " array(35.06707083),\n",
       " array(35.2624351),\n",
       " array(34.22257551),\n",
       " array(34.57076361),\n",
       " array(34.58659748),\n",
       " array(34.59228336),\n",
       " array(33.31997544),\n",
       " array(33.53254137),\n",
       " array(34.55425897),\n",
       " array(35.87960826),\n",
       " array(36.15441978),\n",
       " array(36.7494491),\n",
       " array(36.95657499),\n",
       " array(38.64082667),\n",
       " array(38.40614553),\n",
       " array(37.77154814),\n",
       " array(36.71872787),\n",
       " array(37.2798449),\n",
       " array(36.67962323),\n",
       " array(36.41648181),\n",
       " array(37.61400084),\n",
       " array(37.55631656),\n",
       " array(36.94116519),\n",
       " array(37.80635383),\n",
       " array(38.86356195),\n",
       " array(39.76652899),\n",
       " array(39.5716664),\n",
       " array(39.53002931),\n",
       " array(38.792152),\n",
       " array(38.40378087),\n",
       " array(37.85294951),\n",
       " array(38.71589879),\n",
       " array(38.79202256),\n",
       " array(39.02290197),\n",
       " array(39.26038928),\n",
       " array(39.04102213),\n",
       " array(39.66871593),\n",
       " array(39.52360481),\n",
       " array(38.99922813),\n",
       " array(39.68028065),\n",
       " array(40.3679192),\n",
       " array(40.2525693),\n",
       " array(39.72810006),\n",
       " array(39.65678947),\n",
       " array(39.90186537),\n",
       " array(39.38333566),\n",
       " array(39.36270626),\n",
       " array(39.75906978),\n",
       " array(39.65471997),\n",
       " array(39.87837907),\n",
       " array(39.88069034),\n",
       " array(39.93058042),\n",
       " array(39.34726042),\n",
       " array(39.75908249),\n",
       " array(39.84858471),\n",
       " array(40.24484589),\n",
       " array(40.6745327),\n",
       " array(41.67166453),\n",
       " array(41.97852464),\n",
       " array(42.17984626),\n",
       " array(42.26323885),\n",
       " array(42.21567178),\n",
       " array(42.2738244),\n",
       " array(42.63672145),\n",
       " array(42.44784556),\n",
       " array(42.44229672),\n",
       " array(42.25797157),\n",
       " array(42.120117),\n",
       " array(42.57531625),\n",
       " array(41.81402789),\n",
       " array(41.94372604),\n",
       " array(42.76555999),\n",
       " array(43.4466025),\n",
       " array(43.87821072),\n",
       " array(44.47369871),\n",
       " array(44.41969288),\n",
       " array(44.74025861),\n",
       " array(44.12304985),\n",
       " array(43.91627511),\n",
       " array(43.89032782),\n",
       " array(43.27368396),\n",
       " array(43.2902084),\n",
       " array(42.44242779),\n",
       " array(42.76425721),\n",
       " array(42.68139092),\n",
       " array(42.47480353),\n",
       " array(41.57955471),\n",
       " array(41.74023141),\n",
       " array(41.46340472),\n",
       " array(41.25231237),\n",
       " array(41.27377711),\n",
       " array(41.23707819),\n",
       " array(41.00991605),\n",
       " array(40.40381865),\n",
       " array(40.7343498),\n",
       " array(40.72832898),\n",
       " array(40.3565834),\n",
       " array(40.26177732),\n",
       " array(40.61111588),\n",
       " array(40.58901236),\n",
       " array(41.49191628),\n",
       " array(41.77514051),\n",
       " array(40.81606323),\n",
       " array(40.33072414),\n",
       " array(39.83528634),\n",
       " array(39.23918883),\n",
       " array(37.96364133),\n",
       " array(38.03983952),\n",
       " array(38.7572341),\n",
       " array(38.43704148),\n",
       " array(38.3930051),\n",
       " array(39.07705868),\n",
       " array(38.72895585),\n",
       " array(37.73918619),\n",
       " array(37.70508945),\n",
       " array(37.79066003),\n",
       " array(37.2066311),\n",
       " array(38.5395291),\n",
       " array(37.89392592),\n",
       " array(37.3888995),\n",
       " array(37.55549411),\n",
       " array(37.55433967)]"
      ]
     },
     "execution_count": 323,
     "metadata": {},
     "output_type": "execute_result"
    }
   ],
   "source": [
    "trace"
   ]
  },
  {
   "cell_type": "code",
   "execution_count": null,
   "id": "82ed56ae",
   "metadata": {},
   "outputs": [],
   "source": []
  }
 ],
 "metadata": {
  "kernelspec": {
   "display_name": "Python 3 (ipykernel)",
   "language": "python",
   "name": "python3"
  },
  "language_info": {
   "codemirror_mode": {
    "name": "ipython",
    "version": 3
   },
   "file_extension": ".py",
   "mimetype": "text/x-python",
   "name": "python",
   "nbconvert_exporter": "python",
   "pygments_lexer": "ipython3",
   "version": "3.9.7"
  }
 },
 "nbformat": 4,
 "nbformat_minor": 5
}
