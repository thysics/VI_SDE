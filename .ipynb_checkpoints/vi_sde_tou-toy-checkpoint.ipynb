{
 "cells": [
  {
   "cell_type": "code",
   "execution_count": null,
   "id": "591c0a5a",
   "metadata": {},
   "outputs": [],
   "source": [
    "import torch\n",
    "from torch.autograd import Variable\n",
    "from functorch import vmap\n",
    "import matplotlib.pylab as plt\n",
    "import numpy as np\n",
    "import scipy.stats as ss"
   ]
  },
  {
   "cell_type": "markdown",
   "id": "838b69b9",
   "metadata": {},
   "source": [
    "This code is to show how the black-box variational inference with $\\textbf{time-inhomogeneous}$ OU processes work under the observations from OU processes."
   ]
  },
  {
   "cell_type": "markdown",
   "id": "1b1d7a52",
   "metadata": {},
   "source": [
    "**Class: OU processes**"
   ]
  },
  {
   "cell_type": "code",
   "execution_count": null,
   "id": "bcad3457",
   "metadata": {},
   "outputs": [],
   "source": [
    "class OU:\n",
    "    def __init__(self, t0, t1, z0, m0, alpha, beta, sigma, r, dN):\n",
    "        self.t0 = t0\n",
    "        self.t1 = t1\n",
    "        self.z0 = z0\n",
    "        self.m0 = m0\n",
    "        self.alpha = alpha\n",
    "        self.beta = beta\n",
    "        self.sigma = sigma\n",
    "        self.r = r\n",
    "        self.pts = torch.sort(torch.cat([torch.DoubleTensor(dN-2).uniform_(t0,t1), torch.tensor([self.t0, self.t1])]))[0]\n",
    "        self.trj, self.dt = self.simulate()\n",
    "        \n",
    "    def simulate(self):\n",
    "        \"\"\"\n",
    "            Simulate an OU process on a set of discrete points\n",
    "        \"\"\"\n",
    "        output = np.empty(len(self.pts))\n",
    "        output[0] = self.z0\n",
    "        interval = self.pts[1:] - self.pts[:-1]\n",
    "        \n",
    "        beta_t = self.alpha * ((( self.pts[:-1] + 1) ** self.beta) - 1 ) + self.m0 \\\n",
    "                - np.exp(self.r * interval) * (self.alpha * (((self.pts[1:] + 1)**self.beta) - 1) + self.m0)\n",
    "\n",
    "        for t in range(1, len(self.pts)):\n",
    "            # if the distance is too small, variance becomes 0\n",
    "            mean = (output[t-1] - beta_t[t-1]) * np.exp(-1 * self.r * interval[t-1] )\n",
    "            sd = np.sqrt(self.sigma * interval[t-1])\n",
    "#             print(mean, sd)\n",
    "            assert sd > 0, \"standard deviation is negative, sd:%.3f interval: %.3f\" % (sd, interval[t-1] )\n",
    "            output[t] = ss.norm.rvs(loc = mean, scale = sd)\n",
    "            \n",
    "        return torch.from_numpy(output), interval"
   ]
  },
  {
   "cell_type": "markdown",
   "id": "005f40f9",
   "metadata": {},
   "source": [
    "Variational inference: KL"
   ]
  },
  {
   "cell_type": "code",
   "execution_count": null,
   "id": "063c5550",
   "metadata": {},
   "outputs": [],
   "source": [
    "class ELBO:\n",
    "\n",
    "    \"\"\"\n",
    "        Given a simulated variational process, compute the gradient of the ELBO. \n",
    "    \"\"\"\n",
    "    def __init__(self, ou):\n",
    "        self.ou = ou\n",
    "        self.alpha, self.beta, self.sigma, self.r, self.m0 = torch.tensor([ou.alpha, ou.beta, ou.sigma, ou.r, ou.m0])\n",
    "        \n",
    "    def KL_ito(self):\n",
    "        \"\"\"\n",
    "            1. Compute the Riemann approximation to integral in KL divergence\n",
    "            \n",
    "        \"\"\"\n",
    "        # Save parameter specification from ou class\n",
    "        alpha, beta, sigma, r, m0 = self.alpha, self.beta, self.sigma, self.r, self.m0\n",
    "        \n",
    "        def B(s, beta):\n",
    "            return (s+1) ** beta\n",
    "        \n",
    "        # Obtain integral term (via Riemann approximation, e.g. trapezoid)\n",
    "        func = lambda s, z: -0.5 * (1-(r**2)) * z ** 2 + alpha * beta * (B(s, beta-1) + 1) * z \\\n",
    "                    -0.5 * ((r**2) - 1) * (alpha**2) * (beta**2) * B(s, 2*(beta-1)) \\\n",
    "                    -0.5 * (alpha * (B(s, beta) - 1) + m0 + r * alpha * beta * B(s, beta-1)) \\\n",
    "                    * (2 * z - alpha * (B(s, beta) - 1) - m0 - r * alpha * beta *B(s, beta - 1))\n",
    "        \n",
    "        func_kl = vmap(func)\n",
    "        return torch.trapezoid(abs(func_kl(self.ou.pts, self.ou.trj)), x=self.ou.pts)\n",
    "    \n",
    "    def KL_rest(self):\n",
    "        \"\"\"\n",
    "            2. Compute the rest\n",
    "        \"\"\"\n",
    "\n",
    "        alpha, beta, sigma, r, m0 = self.alpha, self.beta, self.sigma, self.r, self.m0\n",
    "        z0 = self.ou.z0\n",
    "        z1 = self.ou.trj[-1]\n",
    "        t0 = self.ou.t0\n",
    "        t1 = self.ou.t1\n",
    "        \n",
    "        # Obtain the rest \n",
    "        def A(s, u):\n",
    "            return (r - 1) * 0.5 * (u ** 2) - u * r * alpha * (((s+1) ** beta) - 1) - r * m0 * u - alpha * beta * (s+1) * u\n",
    "        \n",
    "        return A(t1, z1) - A(t0, z0) - 0.5 * (r - 1) * (t1 - t0)\n",
    "    \n",
    "    def log_prob(self, obs):\n",
    "        \"\"\"\n",
    "            Compute the log-likelihood\n",
    "            likelihood function is normal density N(obs, var)\n",
    "        \"\"\"\n",
    "        def log_pdf(obs, z):\n",
    "            return ss.norm.logpdf(obs, loc=z, scale=.001)\n",
    "            \n",
    "        \n",
    "        return log_pdf(obs, self.ou.trj[-1])\n"
   ]
  },
  {
   "cell_type": "code",
   "execution_count": null,
   "id": "bd8138ba",
   "metadata": {},
   "outputs": [],
   "source": [
    "class Score:\n",
    "    def __init__(self, ou):\n",
    "        self.ou = ou\n",
    "        \n",
    "    def compute_score(self, alpha, beta, m0, r):\n",
    "        \"\"\"\n",
    "            Compute the value of the score function at given parameters\n",
    "            return a dictionary matching each parameter to its gradient\n",
    "        \"\"\"\n",
    "        \n",
    "        sigma = torch.tensor(self.ou.sigma)\n",
    "        alpha = Variable(alpha, requires_grad = True)\n",
    "        beta = Variable(beta, requires_grad = True)\n",
    "        m0 = Variable(m0, requires_grad = False)\n",
    "        r = Variable(r, requires_grad = True)\n",
    "        \n",
    "        pts = self.ou.pts\n",
    "        dt = self.ou.dt\n",
    "        X = self.ou.trj\n",
    " \n",
    "        def compute_transition(X, dt, alpha, beta, sigma, m0, pts):\n",
    "            \"\"\"\n",
    "            Compute the transition density of the (simulated) path\n",
    "            \"\"\"\n",
    "            beta_t = alpha * (((pts[:-1] + 1) ** beta) - 1) + m0 - torch.exp(r * dt) * (alpha * (((pts[1:] + 1) ** beta) - 1) + m0) \n",
    "            term2 = X[1:] - (X[:-1] - beta_t) * torch.exp( -1 * r * dt)\n",
    "            term3 = 2 * (sigma ** 2) * dt\n",
    "            return -1 * torch.sum(term2 ** 2 / term3)\n",
    "        \n",
    "        NLL = compute_transition(X, dt, alpha, beta, sigma, m0, pts)\n",
    "\n",
    "        NLL.backward()\n",
    "        \n",
    "        return {'beta':beta.grad.detach().clone(), 'alpha':alpha.grad.detach().clone(), \"r\":r.grad.detach().clone(), 'LNN':NLL.data.numpy()}\n"
   ]
  },
  {
   "cell_type": "markdown",
   "id": "366eb03f",
   "metadata": {},
   "source": [
    "**Generate observations from Gaussian likelihood**"
   ]
  },
  {
   "cell_type": "markdown",
   "id": "3f0a8bdc",
   "metadata": {},
   "source": [
    "Noisy Observations from the SDE:\n",
    "\n",
    "$dX_{t} = -X_{t}dt + \\sigma dW_{t}$"
   ]
  },
  {
   "cell_type": "code",
   "execution_count": null,
   "id": "3ba92c13",
   "metadata": {},
   "outputs": [],
   "source": [
    "true_sde = OU(t0 = 0, t1 = 1, z0 = 0, m0 = 0, alpha = 0.124, beta = 2.43, sigma = 1, r = -0.124, dN = 1000)"
   ]
  },
  {
   "cell_type": "code",
   "execution_count": null,
   "id": "ada4abc7",
   "metadata": {
    "scrolled": true
   },
   "outputs": [],
   "source": [
    "plt.plot(true_sde.pts, true_sde.trj, 'rx')\n",
    "plt.title(r\"time-dependent OU: $\\alpha$ = %.2f\" % true_sde.alpha + r\", $\\beta$ = %.2f\" % true_sde.beta + r\", $\\sigma$ = %.2f\" % true_sde.sigma \\\n",
    "          + r\", $m_0$ = %.2f\" % true_sde.m0 + r\", $r$ = %0.2f\" % true_sde.r)\n",
    "plt.show()"
   ]
  },
  {
   "cell_type": "code",
   "execution_count": null,
   "id": "df5828d0",
   "metadata": {},
   "outputs": [],
   "source": [
    "obs = np.random.normal(loc = true_sde.trj[::100], scale = .001)\n",
    "obs_time = true_sde.pts[::100]"
   ]
  },
  {
   "cell_type": "code",
   "execution_count": null,
   "id": "17b7ed88",
   "metadata": {},
   "outputs": [],
   "source": [
    "plt.title(\"Observations (x) from underlying SDE (--)\")\n",
    "plt.plot(true_sde.pts, true_sde.trj, '--')\n",
    "plt.plot(true_sde.pts[::100], obs, 'rx')\n",
    "plt.xlabel(\"time\")\n",
    "plt.ylabel(\"x\")\n",
    "plt.show()"
   ]
  },
  {
   "cell_type": "markdown",
   "id": "f0859993",
   "metadata": {},
   "source": [
    "**Variational inference: a piece-wise approximation**"
   ]
  },
  {
   "cell_type": "markdown",
   "id": "2129bd72",
   "metadata": {},
   "source": [
    "1. one-time variational inference from t=0 to t=1"
   ]
  },
  {
   "cell_type": "code",
   "execution_count": null,
   "id": "f6f7d2df",
   "metadata": {},
   "outputs": [],
   "source": [
    "import tqdm as tq"
   ]
  },
  {
   "cell_type": "code",
   "execution_count": 55,
   "id": "a2eddce7",
   "metadata": {
    "scrolled": true
   },
   "outputs": [
    {
     "name": "stderr",
     "output_type": "stream",
     "text": [
      "  0%|▏                                          | 1/300 [00:00<01:32,  3.24it/s]"
     ]
    },
    {
     "name": "stdout",
     "output_type": "stream",
     "text": [
      "beta =  0.9923871023766471 alpha =  0.9931810240785249 r =  0.5231677829454\n"
     ]
    },
    {
     "name": "stderr",
     "output_type": "stream",
     "text": [
      " 10%|████▎                                     | 31/300 [00:08<01:17,  3.48it/s]"
     ]
    },
    {
     "name": "stdout",
     "output_type": "stream",
     "text": [
      "beta =  1.1837553643652499 alpha =  1.175356448362286 r =  1.7421206588443574\n"
     ]
    },
    {
     "name": "stderr",
     "output_type": "stream",
     "text": [
      " 20%|████████▌                                 | 61/300 [00:17<01:09,  3.44it/s]"
     ]
    },
    {
     "name": "stdout",
     "output_type": "stream",
     "text": [
      "beta =  1.1052033997661463 alpha =  1.107368354750918 r =  2.9551037285538233\n"
     ]
    },
    {
     "name": "stderr",
     "output_type": "stream",
     "text": [
      " 30%|████████████▋                             | 91/300 [00:26<01:00,  3.43it/s]"
     ]
    },
    {
     "name": "stdout",
     "output_type": "stream",
     "text": [
      "beta =  1.2973929044976233 alpha =  1.2803878070133876 r =  3.902358866983576\n"
     ]
    },
    {
     "name": "stderr",
     "output_type": "stream",
     "text": [
      " 40%|████████████████▌                        | 121/300 [00:35<00:52,  3.42it/s]"
     ]
    },
    {
     "name": "stdout",
     "output_type": "stream",
     "text": [
      "beta =  1.149023555031104 alpha =  1.1478148849373342 r =  4.861487363874478\n"
     ]
    },
    {
     "name": "stderr",
     "output_type": "stream",
     "text": [
      " 50%|████████████████████▋                    | 151/300 [00:44<00:43,  3.42it/s]"
     ]
    },
    {
     "name": "stdout",
     "output_type": "stream",
     "text": [
      "beta =  1.2672266784053523 alpha =  1.2537275115974504 r =  5.652077014457957\n"
     ]
    },
    {
     "name": "stderr",
     "output_type": "stream",
     "text": [
      " 60%|████████████████████████▋                | 181/300 [00:52<00:34,  3.47it/s]"
     ]
    },
    {
     "name": "stdout",
     "output_type": "stream",
     "text": [
      "beta =  1.1621215745466018 alpha =  1.1552125721433621 r =  6.3913589555458925\n"
     ]
    },
    {
     "name": "stderr",
     "output_type": "stream",
     "text": [
      " 70%|████████████████████████████▊            | 211/300 [01:01<00:26,  3.40it/s]"
     ]
    },
    {
     "name": "stdout",
     "output_type": "stream",
     "text": [
      "beta =  1.13465378695877 alpha =  1.1392118135680296 r =  7.101953146117799\n"
     ]
    },
    {
     "name": "stderr",
     "output_type": "stream",
     "text": [
      " 80%|████████████████████████████████▉        | 241/300 [01:10<00:17,  3.43it/s]"
     ]
    },
    {
     "name": "stdout",
     "output_type": "stream",
     "text": [
      "beta =  1.0992538953157267 alpha =  1.1086195583406266 r =  7.669827290238953\n"
     ]
    },
    {
     "name": "stderr",
     "output_type": "stream",
     "text": [
      " 90%|█████████████████████████████████████    | 271/300 [01:18<00:08,  3.44it/s]"
     ]
    },
    {
     "name": "stdout",
     "output_type": "stream",
     "text": [
      "beta =  1.1247411826325269 alpha =  1.1288735759182746 r =  8.169208264489114\n"
     ]
    },
    {
     "name": "stderr",
     "output_type": "stream",
     "text": [
      "100%|█████████████████████████████████████████| 300/300 [01:27<00:00,  3.43it/s]\n"
     ]
    }
   ],
   "source": [
    "beta_ = 1.\n",
    "alpha_ = 1.\n",
    "r_ = 0.5\n",
    "m0 = true_sde.m0\n",
    "\n",
    "N = 50\n",
    "N_e = 50\n",
    "learning_rate = 0.00001\n",
    "\n",
    "trace_pars = []\n",
    "trace_elbo = []\n",
    "for k in tq.tqdm(range(300)):\n",
    "    beta_grad = 0.\n",
    "    alpha_grad = 0.\n",
    "    r_grad = 0.\n",
    "\n",
    "    for i in range(N):\n",
    "        vi = OU(t0 = obs_time[0], t1 = obs_time[1], z0 = obs[0], m0 = 0, alpha = alpha_, beta = beta_, sigma = 1, r = r_, dN = 30)\n",
    "        elbo = ELBO(vi)\n",
    "        score = Score(vi)\n",
    "        \n",
    "        scores = score.compute_score(torch.tensor(alpha_, dtype=torch.float64), torch.tensor(beta_, dtype=torch.float64)\\\n",
    "                                    , torch.tensor(m0, dtype=torch.float64), torch.tensor(r_, dtype=torch.float64))\n",
    "        f_of_X = -1 * (elbo.log_prob(obs[1]) + elbo.KL_ito() + elbo.KL_rest())\n",
    "        beta_grad += f_of_X * scores['beta']\n",
    "        alpha_grad += f_of_X * scores['alpha']\n",
    "        r_grad += f_of_X * scores['r']\n",
    "        \n",
    "    beta_ -= learning_rate * (beta_grad/N).numpy()\n",
    "    alpha_ -= learning_rate * (alpha_grad/N).numpy()\n",
    "    r_ -= learning_rate * (r_grad/N).numpy()\n",
    "\n",
    "    \n",
    "    elbo_estimate = 0\n",
    "    for j in range(N_e):\n",
    "        vi_ = OU(t0 = obs_time[0], t1=obs_time[1], z0 = obs[0], m0 = 0, alpha = alpha_, beta = beta_, sigma = 1, r = r_, dN = 30)\n",
    "        elbo_ = ELBO(vi_)\n",
    "        elbo_estimate += -1 * (elbo_.log_prob(obs[1]) + elbo_.KL_ito() + elbo_.KL_rest())\n",
    "    \n",
    "    elbo_estimate *= 1/N_e\n",
    "    \n",
    "    if k % 30 == 0:\n",
    "        print(\"beta = \", beta_, \"alpha = \", alpha_, \"r = \", r_)\n",
    "    \n",
    "    trace_pars.append((beta_, alpha_, r_))\n",
    "    trace_elbo.append(elbo_estimate)\n",
    "# score.compute_score()"
   ]
  },
  {
   "cell_type": "markdown",
   "id": "7d1fed7b",
   "metadata": {},
   "source": [
    "**Posterior mean**"
   ]
  },
  {
   "cell_type": "code",
   "execution_count": 57,
   "id": "26cd010f",
   "metadata": {},
   "outputs": [],
   "source": [
    "post_mean = lambda x: alpha_ * (((x + 1) ** beta_) - 1) + m0"
   ]
  },
  {
   "cell_type": "code",
   "execution_count": 58,
   "id": "36975992",
   "metadata": {},
   "outputs": [],
   "source": [
    "true_mean = lambda x: true_sde.alpha * (((x + 1) ** true_sde.beta) - 1) + true_sde.m0"
   ]
  },
  {
   "cell_type": "code",
   "execution_count": 59,
   "id": "22350fe6",
   "metadata": {},
   "outputs": [
    {
     "data": {
      "image/png": "[encoded data removed]",
      "text/plain": [
       "<Figure size 432x288 with 1 Axes>"
      ]
     },
     "metadata": {
      "needs_background": "light"
     },
     "output_type": "display_data"
    }
   ],
   "source": [
    "plt.plot(true_sde.pts, true_mean(true_sde.pts), color='r', alpha=0.3, linestyle='dashed', label=\"true mean\")\n",
    "plt.plot(true_sde.pts, post_mean(true_sde.pts), color='black', label=\"posterior mean\")\n",
    "plt.plot(true_sde.pts, true_sde.trj, 'rx', label='observations')\n",
    "plt.legend()\n",
    "plt.xlabel(\"time\")\n",
    "plt.ylabel(\"x\")\n",
    "plt.show()"
   ]
  },
  {
   "cell_type": "code",
   "execution_count": 61,
   "id": "fbf7db81",
   "metadata": {},
   "outputs": [
    {
     "data": {
      "text/plain": [
       "[<matplotlib.lines.Line2D at 0x7fc47a787fa0>]"
      ]
     },
     "execution_count": 61,
     "metadata": {},
     "output_type": "execute_result"
    },
    {
     "data": {
      "image/png": "[encoded data removed]",
      "text/plain": [
       "<Figure size 432x288 with 1 Axes>"
      ]
     },
     "metadata": {
      "needs_background": "light"
     },
     "output_type": "display_data"
    }
   ],
   "source": [
    "for i in range(50):\n",
    "    posterior = OU(t0 = obs_time[0], t1 = obs_time[1], z0 = obs[0], m0 = true_sde.m0, alpha = alpha_, beta = beta_, sigma = 1, r = r_, dN = 30)\n",
    "    plt.plot(posterior.pts, posterior.trj, 'b')\n",
    "    plt.plot(obs_time, obs, 'rx')\n",
    "plt.plot(true_sde.pts,true_sde.trj, 'grey', linestyle='dashed')"
   ]
  },
  {
   "cell_type": "markdown",
   "id": "dcc30c78",
   "metadata": {},
   "source": [
    "**Trace plot: gradient**"
   ]
  },
  {
   "cell_type": "code",
   "execution_count": null,
   "id": "b48a925c",
   "metadata": {},
   "outputs": [],
   "source": [
    "plt.title(\"Trace plot: beta\")\n",
    "plt.plot(np.arange(len(trace_pars)), trace_beta)\n",
    "plt.axhline(1.0, xmin=0.01, xmax=300, color='red', label='prior')\n",
    "plt.legend()\n",
    "plt.xlabel(\"iteration\")\n",
    "plt.ylabel(r\"$\\beta$\")\n",
    "plt.show()"
   ]
  },
  {
   "cell_type": "markdown",
   "id": "e60472c6",
   "metadata": {},
   "source": [
    "**Trace plot: ELBO**"
   ]
  },
  {
   "cell_type": "code",
   "execution_count": 56,
   "id": "fd948d8a",
   "metadata": {},
   "outputs": [
    {
     "data": {
      "image/png": "[encoded data removed]",
      "text/plain": [
       "<Figure size 432x288 with 1 Axes>"
      ]
     },
     "metadata": {
      "needs_background": "light"
     },
     "output_type": "display_data"
    }
   ],
   "source": [
    "plt.title(\"Trace plot: (Negative) ELBO\")\n",
    "plt.plot(np.arange(len(trace_elbo)), trace_elbo)\n",
    "plt.xlabel(\"iteration\")\n",
    "plt.ylabel(\"Negative ELBO\")\n",
    "plt.show()"
   ]
  },
  {
   "cell_type": "markdown",
   "id": "16c2b26f",
   "metadata": {},
   "source": [
    "**Posterior moment based on the average of last 30 iterations of beta**"
   ]
  },
  {
   "cell_type": "code",
   "execution_count": 72,
   "id": "f90b8adf",
   "metadata": {},
   "outputs": [
    {
     "data": {
      "image/png": "[encoded data removed]",
      "text/plain": [
       "<Figure size 432x288 with 1 Axes>"
      ]
     },
     "metadata": {
      "needs_background": "light"
     },
     "output_type": "display_data"
    }
   ],
   "source": [
    "plt.plot(obs_time, obs, 'rx', alpha=0.3, label=\"observations\")\n",
    "plt.plot(true_sde.pts[:100], post_mean(true_sde.pts[:100]), color='black', label=\"posterior mean\")\n",
    "plt.legend()\n",
    "plt.xlabel(\"time\")\n",
    "plt.ylabel(\"x\")\n",
    "plt.show()"
   ]
  },
  {
   "cell_type": "code",
   "execution_count": null,
   "id": "a0112855",
   "metadata": {},
   "outputs": [],
   "source": []
  },
  {
   "cell_type": "code",
   "execution_count": null,
   "id": "0fdbe78c",
   "metadata": {},
   "outputs": [],
   "source": [
    "def posterior_moment(init, alpha, beta):\n",
    "    sigma = 1.\n",
    "    pts = np.linspace(0,1,100)\n",
    "    dt = pts[1:] - pts[:-1]\n",
    "    \n",
    "    mean = [init]\n",
    "        \n",
    "    for i in range(dt.shape[0]):\n",
    "        mean.append(alpha + (mean[i] - alpha)*np.exp(-1 * beta * dt[i]))\n",
    "    \n",
    "    func = lambda t: np.sqrt((sigma ** 2 / (2*beta)) * (1 - np.exp(-2 * beta * t)))\n",
    "    sd = list(map(func, dt))\n",
    "    \n",
    "    return np.array(mean), np.array(sd)"
   ]
  },
  {
   "cell_type": "code",
   "execution_count": null,
   "id": "a45dc900",
   "metadata": {},
   "outputs": [],
   "source": [
    "pmean, psd = posterior_moment(obs[0], 0, beta_)"
   ]
  },
  {
   "cell_type": "code",
   "execution_count": null,
   "id": "5387c88f",
   "metadata": {},
   "outputs": [],
   "source": [
    "plt.plot(true_sde.pts, true_sde.trj, linestyle='dashed', label='underlying sde')\n",
    "plt.plot(true_sde.pts[:100], pmean, 'black', label='posterior mean')\n",
    "plt.fill_between(true_sde.pts[1:100], pmean[1:] - psd, pmean[1:] + psd, alpha=0.3, color='grey')\n",
    "plt.plot(obs_time, obs, 'rx', label='observations')\n",
    "plt.legend()\n",
    "plt.show()"
   ]
  },
  {
   "cell_type": "markdown",
   "id": "c12ba662",
   "metadata": {},
   "source": [
    "2. Complete piece-wise optimization from t=0 to t=10\n",
    "\n",
    "We use the posterior mean of the previous step as our initial value for next vi"
   ]
  },
  {
   "cell_type": "code",
   "execution_count": null,
   "id": "61386a01",
   "metadata": {
    "scrolled": true
   },
   "outputs": [],
   "source": [
    "N = 50\n",
    "N_e = 50\n",
    "learning_rate = 0.00000005\n",
    "z0 = obs[0]\n",
    "vi_beta = np.empty(9)\n",
    "IT = 300\n",
    "\n",
    "elbo_traces = np.empty((9, IT))\n",
    "beta_traces = np.empty((9, IT))\n",
    "\n",
    "for t in tq.tqdm(range(obs.shape[0]-1)):\n",
    "    beta_ = np.random.uniform(3, 6)\n",
    "    \n",
    "    trace = []\n",
    "    for i in range(IT):\n",
    "        beta_grad = 0.\n",
    "            \n",
    "        for k in range(N):\n",
    "            vi = OU(t0 = obs_time[t], t1 = obs_time[t+1], z0 = z0, alpha = 0 , beta = beta_ , sigma = 1., dN=30)\n",
    "            elbo = ELBO(vi)\n",
    "            score = Score(vi)\n",
    "\n",
    "            scores = score.compute_score(torch.tensor(beta_, dtype=torch.float64))\n",
    "            f_of_X = -1 * (elbo.log_prob(obs[t+1]) + elbo.KL_ito() + elbo.KL_rest())\n",
    "            \n",
    "            beta_grad += f_of_X * scores['beta']\n",
    "\n",
    "        beta_ -= learning_rate * (beta_grad/N).numpy()\n",
    "        beta_traces[t, i] = beta_\n",
    "        \n",
    "        elbo_estimate = 0\n",
    "        for j in range(N_e):\n",
    "            vi_ = OU(t0 = obs_time[t], t1=obs_time[t+1], z0 = z0, alpha = 0 , beta = beta_ , sigma = 1., dN=30)\n",
    "            elbo_ = ELBO(vi_)\n",
    "            elbo_estimate += -1 * (elbo_.log_prob(obs[t+1]) + elbo_.KL_ito() + elbo_.KL_rest())\n",
    "    \n",
    "        elbo_estimate *= 1/N_e\n",
    "        if i % 100 == 0:\n",
    "            print(\"beta = \", beta_, \"elbo = \", elbo_estimate)\n",
    "        elbo_traces[t, i] = elbo_estimate\n",
    "\n",
    "    vi_beta[t] = np.mean(beta_traces[t, -30:])\n",
    "    \n",
    "    z0 *= np.exp(-1 * vi_beta[t] * (obs_time[t+1] - obs_time[t]))\n",
    "    \n",
    "# score.compute_score()"
   ]
  },
  {
   "cell_type": "markdown",
   "id": "3c98123c",
   "metadata": {},
   "source": [
    "Trace plot: ELBO"
   ]
  },
  {
   "cell_type": "code",
   "execution_count": null,
   "id": "f496421f",
   "metadata": {},
   "outputs": [],
   "source": [
    "fig, ax = plt.subplots(nrows=3, ncols=3, figsize=(20, 10))\n",
    "t = 0\n",
    "for ax in ax.ravel():\n",
    "    ax.plot(np.arange(len(elbo_traces[t, :IT])), elbo_traces[t, :IT])\n",
    "    ax.set_xlabel(\"iteration\")\n",
    "    ax.set_ylabel(\"Negative ELBO, dt = %d\" % t)\n",
    "    t += 1\n",
    "    \n",
    "plt.suptitle(\"Trace plot: (Negative) ELBO\", size=15, y=0.95)\n",
    "plt.show()"
   ]
  },
  {
   "cell_type": "code",
   "execution_count": null,
   "id": "83668172",
   "metadata": {},
   "outputs": [],
   "source": [
    "fig, ax = plt.subplots(nrows=3, ncols=3, figsize=(20, 10))\n",
    "t = 0\n",
    "for ax in ax.ravel():\n",
    "    ax.plot(np.arange(len(beta_traces[t, :IT])), beta_traces[t, :IT])\n",
    "    ax.set_xlabel(\"iteration\")\n",
    "    ax.set_ylabel(\"beta, dt = %d\" % t)\n",
    "    t += 1\n",
    "    \n",
    "plt.suptitle(\"Trace plot: beta\")\n",
    "plt.show()"
   ]
  },
  {
   "cell_type": "code",
   "execution_count": null,
   "id": "d79e6d8c",
   "metadata": {},
   "outputs": [],
   "source": [
    "def g_posterior_moment(init, alpha, vi_beta, t0, t1):\n",
    "    \"\"\"\n",
    "        Obtain credible interval\n",
    "            posterior mean and variance are computed based on the theory (using fitted variational parameter at each interval)\n",
    "    \"\"\"\n",
    "    sigma = 1.\n",
    "    pts = np.linspace(t0,t1,900)\n",
    "    dt = pts[1:] - pts[:-1]\n",
    "    \n",
    "    mean = [init]\n",
    "    var = list(map(lambda t: np.sqrt((sigma ** 2 / (2*vi_beta[0])) * (1 - np.exp(-2 * vi_beta[0] * t))), dt[:100]))\n",
    "    \n",
    "    k = 0\n",
    "    for j in range(dt.shape[0]):\n",
    "        if j % 100 == 0:\n",
    "            beta = vi_beta[k]\n",
    "            k += 1\n",
    "        mean.append(alpha + (mean[j] - alpha)*np.exp(-1 * beta * dt[j]))\n",
    "        if (j % 100 == 0) and (j > 0):\n",
    "            func = lambda t: np.sqrt((sigma ** 2 / (2*beta)) * (1 - np.exp(-2 * beta * t)))\n",
    "            var += list(map(func, dt[j-100:j]))\n",
    "    return np.array(mean), np.array(var)"
   ]
  },
  {
   "cell_type": "code",
   "execution_count": null,
   "id": "7f8593d6",
   "metadata": {},
   "outputs": [],
   "source": [
    "pmean, pvar = g_posterior_moment(obs[0], 0, vi_beta, 0, 6)"
   ]
  },
  {
   "cell_type": "code",
   "execution_count": null,
   "id": "b7a81477",
   "metadata": {},
   "outputs": [],
   "source": [
    "plt.figure(figsize=(15,8))\n",
    "plt.title(\"Posterior process\")\n",
    "plt.plot(true_sde.pts, true_sde.trj, alpha=0.3, label='underlying SDE')\n",
    "plt.plot(true_sde.pts[:900], pmean, 'black', label='posterior mean')\n",
    "plt.fill_between(true_sde.pts[:900], pmean - pvar, pmean + pvar, alpha=0.5, color='grey')\n",
    "plt.plot(obs_time, obs, 'rx', label='observations')\n",
    "plt.legend()\n",
    "plt.xlabel(\"time\")\n",
    "plt.ylabel(\"x\")\n",
    "plt.show()"
   ]
  }
 ],
 "metadata": {
  "kernelspec": {
   "display_name": "Python 3 (ipykernel)",
   "language": "python",
   "name": "python3"
  },
  "language_info": {
   "codemirror_mode": {
    "name": "ipython",
    "version": 3
   },
   "file_extension": ".py",
   "mimetype": "text/x-python",
   "name": "python",
   "nbconvert_exporter": "python",
   "pygments_lexer": "ipython3",
   "version": "3.9.7"
  }
 },
 "nbformat": 4,
 "nbformat_minor": 5
}
