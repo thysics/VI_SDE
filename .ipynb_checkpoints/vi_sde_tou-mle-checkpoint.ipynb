{
 "cells": [
  {
   "cell_type": "code",
   "execution_count": 1,
   "id": "08bf8ea5",
   "metadata": {},
   "outputs": [],
   "source": [
    "import torch\n",
    "from torch.autograd import Variable\n",
    "from functorch import vmap\n",
    "import matplotlib.pylab as plt\n",
    "import numpy as np\n",
    "import scipy.stats as ss"
   ]
  },
  {
   "cell_type": "markdown",
   "id": "c057f26f",
   "metadata": {},
   "source": [
    "**MLE for time-inhomogenous OU processes**\n",
    "\n",
    "We consider the time-inhomogeneous OU processes with the following SDE:\n",
    "\n",
    "$dX_t = (-r(X_t - m(t)) + m'(t))dt + dW_t$\n",
    "\n",
    "where $m(t) = \\alpha ((t+1)^{\\beta} - 1) + m_0$\n",
    "\n",
    "This process possess mean-reverting property with its mean:\n",
    "\n",
    "$E(X_t) = m(t)$"
   ]
  },
  {
   "cell_type": "markdown",
   "id": "7ab41ae6",
   "metadata": {},
   "source": [
    "The code implements MLE for observations from from the time-inhomogenous OU processes. Their maximum likelihood is obtained by their tracatble transition densities"
   ]
  },
  {
   "cell_type": "code",
   "execution_count": 2,
   "id": "11a2afc1",
   "metadata": {},
   "outputs": [],
   "source": [
    "class OU:\n",
    "    def __init__(self, t0, t1, z0, m0, alpha, beta, sigma, r, dN):\n",
    "        self.t0 = t0\n",
    "        self.t1 = t1\n",
    "        self.z0 = z0\n",
    "        self.m0 = m0\n",
    "        self.alpha = alpha\n",
    "        self.beta = beta\n",
    "        self.sigma = sigma\n",
    "        self.r = r\n",
    "        self.pts = torch.sort(torch.cat([torch.DoubleTensor(dN-2).uniform_(t0,t1), torch.tensor([self.t0, self.t1])]))[0]\n",
    "        self.trj, self.dt = self.simulate()\n",
    "        \n",
    "    def simulate(self):\n",
    "        \"\"\"\n",
    "            Simulate an OU process on a set of discrete points\n",
    "        \"\"\"\n",
    "        output = np.empty(len(self.pts))\n",
    "        output[0] = self.z0\n",
    "        interval = self.pts[1:] - self.pts[:-1]\n",
    "        \n",
    "        beta_t = self.alpha * ((( self.pts[:-1] + 1) ** self.beta) - 1 ) + self.m0 \\\n",
    "                - np.exp(self.r * interval) * (self.alpha * (((self.pts[1:] + 1)**self.beta) - 1) + self.m0)\n",
    "\n",
    "        for t in range(1, len(self.pts)):\n",
    "            # if the distance is too small, variance becomes 0\n",
    "            mean = (output[t-1] - beta_t[t-1]) * np.exp(-1 * self.r * interval[t-1] )\n",
    "            sd = np.sqrt((self.sigma / 2*self.r) * (1 - np.exp(-2 * self.r * interval[t-1])))\n",
    "#             print(mean, sd)\n",
    "            assert sd > 0, \"standard deviation is negative, sd:%.3f interval: %.3f\" % (sd, interval[t-1] )\n",
    "            output[t] = ss.norm.rvs(loc = mean, scale = sd)\n",
    "            \n",
    "        return torch.from_numpy(output), interval"
   ]
  },
  {
   "cell_type": "code",
   "execution_count": 3,
   "id": "c906806d",
   "metadata": {},
   "outputs": [],
   "source": [
    "m0 = 1.7922\n",
    "alpha = 0.633\n",
    "beta = 3.5964\n",
    "sigma = 1\n",
    "r = 1.124"
   ]
  },
  {
   "cell_type": "code",
   "execution_count": 4,
   "id": "c6545298",
   "metadata": {},
   "outputs": [],
   "source": [
    "true_sde = OU(0, 2, m0, m0, alpha, beta, sigma, r, dN = 30)\n",
    "true_sde_trj, true_sde_dt = true_sde.simulate()"
   ]
  },
  {
   "cell_type": "code",
   "execution_count": 5,
   "id": "c50fe37d",
   "metadata": {},
   "outputs": [],
   "source": [
    "func = lambda x: alpha * (((x + 1) ** beta) - 1) + m0"
   ]
  },
  {
   "cell_type": "code",
   "execution_count": 6,
   "id": "585c27ea",
   "metadata": {
    "scrolled": true
   },
   "outputs": [
    {
     "data": {
      "image/png": "[encoded data removed]",
      "text/plain": [
       "<Figure size 432x288 with 1 Axes>"
      ]
     },
     "metadata": {
      "needs_background": "light"
     },
     "output_type": "display_data"
    }
   ],
   "source": [
    "plt.plot(true_sde.pts, true_sde_trj, 'rx', label = 'time-dependent OU')\n",
    "plt.plot(true_sde.pts, func(true_sde.pts), linestyle='dashed', color='red', alpha=0.3, label='aymptotic mean')\n",
    "plt.legend()\n",
    "plt.xlabel(\"time\")\n",
    "plt.ylabel(\"x\")\n",
    "plt.show()"
   ]
  },
  {
   "cell_type": "code",
   "execution_count": 7,
   "id": "07b5acf7",
   "metadata": {},
   "outputs": [],
   "source": [
    "class MLE:\n",
    "    def __init__(self, ou):\n",
    "        self.ou = ou\n",
    "        \n",
    "    def compute_score(self, alpha, beta, m0, r):\n",
    "        \"\"\"\n",
    "            Compute the value of the score function at given parameters\n",
    "            return a dictionary matching each parameter to its gradient\n",
    "        \"\"\"\n",
    "        \n",
    "        sigma = torch.tensor(self.ou.sigma)\n",
    "        alpha = Variable(alpha, requires_grad = True)\n",
    "        beta = Variable(beta, requires_grad = True)\n",
    "        m0 = Variable(m0, requires_grad = False)\n",
    "        r = Variable(r, requires_grad = True)\n",
    "        \n",
    "        pts = self.ou.pts\n",
    "        dt = self.ou.dt\n",
    "        X = self.ou.trj\n",
    " \n",
    "        def compute_transition(X, dt, alpha, beta, sigma, m0, pts):\n",
    "            \"\"\"\n",
    "            Compute the transition density of the (simulated) path\n",
    "            Note that if r < 0, term1 becomes nan ( there is a constraint that r > 0)\n",
    "            \"\"\"\n",
    "            beta_t = alpha * (((pts[:-1] + 1) ** beta) - 1) + m0 - torch.exp(r * dt) * (alpha * (((pts[1:] + 1) ** beta) - 1) + m0) \n",
    "            term1 = -0.5 * (2 * torch.log(sigma) + torch.log( 1 - torch.exp(-2 * r * dt)) - torch.log( r ))\n",
    "            term2 = X[1:] - (X[:-1] - beta_t) * torch.exp( -1 * r * dt)\n",
    "            term3 = (sigma ** 2) * (1 - torch.exp(-2 * r * dt)) / r\n",
    "            return torch.sum( term1 - ((term2 ** 2) / term3))\n",
    "        \n",
    "        NLL = compute_transition(X, dt, alpha, beta, sigma, m0, pts)\n",
    "        \n",
    "        NLL.backward()\n",
    "        \n",
    "        return {'beta':beta.grad.detach().clone(), 'alpha':alpha.grad.detach().clone(), \"r\":r.grad.detach().clone(), 'LNN':NLL.data.numpy()}"
   ]
  },
  {
   "cell_type": "markdown",
   "id": "fb515822",
   "metadata": {},
   "source": [
    "**Gradient descent algorithm is sensitive to initaliziation, in partciular, the sign of $\\alpha$. Hence, it is better to initialize $\\alpha$ around 0 so that the algorithm finds the right \"direction\"**"
   ]
  },
  {
   "cell_type": "code",
   "execution_count": null,
   "id": "56b0a02e",
   "metadata": {
    "scrolled": true
   },
   "outputs": [
    {
     "name": "stdout",
     "output_type": "stream",
     "text": [
      "beta =  [0.5] alpha =  [0.00023412] r =  [0.99536122]\n",
      "MLE =  -1089.196852855228\n",
      "beta =  [1.59576288] alpha =  [1.08806242] r =  [0.00154035]\n",
      "MLE =  -270.49476878505646\n",
      "beta =  [2.94122305] alpha =  [1.42511283] r =  [0.01489281]\n",
      "MLE =  17.763116575671074\n"
     ]
    }
   ],
   "source": [
    "beta_ = torch.tensor([0.5], dtype=torch.float64)\n",
    "alpha_ = torch.tensor([0.], dtype=torch.float64)\n",
    "r_ =torch.tensor([1], dtype=torch.float64)\n",
    "\n",
    "learning_rate = 0.000005\n",
    "lr = learning_rate\n",
    "for i in range(50000):\n",
    "    mle = MLE(true_sde)\n",
    "    update = mle.compute_score(beta = beta_, alpha=alpha_, m0=torch.tensor(m0), r=r_)\n",
    "    beta_ +=  learning_rate * update['beta']\n",
    "    alpha_ += learning_rate * update['alpha']\n",
    "    r__ = r_ + learning_rate * update['r']\n",
    "    \n",
    "    # It is to ensure r should be strictly positive (i.e. projected gradient method)\n",
    "    while r__ < 0:\n",
    "        r__ = r_ + lr * update['r']\n",
    "        lr *= 0.5\n",
    "    r_ = r__\n",
    "        \n",
    "    if i % 10000 == 0:\n",
    "        print(\"beta = \", beta_.data.numpy(), 'alpha = ', alpha_.data.numpy(), 'r = ', r_.data.numpy())\n",
    "        print(\"MLE = \", update['LNN'])"
   ]
  },
  {
   "cell_type": "code",
   "execution_count": null,
   "id": "665b6714",
   "metadata": {},
   "outputs": [],
   "source": [
    "print(\"true alpha = \", alpha, \"true beta = \", beta, \"true r = \", r)\n",
    "print(\"fitted alpha= \", alpha_.data.numpy()[0], \"fitted beta = \", beta_.data.numpy()[0], \"fitted r = \", r_.data.numpy()[0])"
   ]
  },
  {
   "cell_type": "code",
   "execution_count": null,
   "id": "26cd010f",
   "metadata": {},
   "outputs": [],
   "source": [
    "post_mean = lambda x: alpha_ * (((x + 1) ** beta_) - 1) + m0"
   ]
  },
  {
   "cell_type": "code",
   "execution_count": null,
   "id": "22350fe6",
   "metadata": {},
   "outputs": [],
   "source": [
    "plt.plot(true_sde.pts, func(true_sde.pts), color='r', alpha=0.3, linestyle='dashed', label=\"true mean\")\n",
    "plt.plot(true_sde.pts, post_mean(true_sde.pts), color='black', label=\"mle mean\")\n",
    "plt.plot(true_sde.pts, true_sde.trj, 'rx', label='observations')\n",
    "plt.legend()\n",
    "plt.xlabel(\"time\")\n",
    "plt.ylabel(\"x\")\n",
    "plt.show()"
   ]
  },
  {
   "cell_type": "code",
   "execution_count": null,
   "id": "351b0f0f",
   "metadata": {},
   "outputs": [],
   "source": [
    "plt.plot(true_sde.pts, func(true_sde.pts), color='r', alpha=0.8, linestyle='dashed', label=\"true mean\")\n",
    "plt.plot(true_sde.pts, post_mean(true_sde.pts), color='black', label=\"mean (mle)\")\n",
    "plt.plot(true_sde.pts, true_sde.trj, 'rx', label='observations')\n",
    "for i in range(50):\n",
    "    vi = OU(0, 2, m0, m0, alpha_, beta_, sigma, r_, dN = 30)\n",
    "    plt.plot(vi.pts, vi.trj, 'bx', alpha=0.2)\n",
    "    if i == 49:\n",
    "        plt.plot(vi.pts, vi.trj, 'bx', alpha=0.3, label='samples from mle')\n",
    "plt.legend()\n",
    "plt.xlabel(\"time\")\n",
    "plt.ylabel(\"x\")\n",
    "plt.show()"
   ]
  },
  {
   "cell_type": "code",
   "execution_count": null,
   "id": "bcd6fa4e",
   "metadata": {},
   "outputs": [],
   "source": [
    "for i in range(50):\n",
    "    vi = OU(0, 2, m0, m0, alpha_, beta_, sigma, r_, dN = 30)\n",
    "    pr = OU(0, 2, m0, m0, alpha, beta, sigma, r, dN=30)\n",
    "    plt.plot(vi.pts, vi.trj, 'bx', alpha=0.3)\n",
    "    plt.plot(pr.pts, pr.trj, 'rx', alpha=0.6)\n",
    "    \n",
    "plt.plot(vi.pts, vi.trj, 'bx', alpha=0.3, label='mle-sde')\n",
    "plt.plot(pr.pts, pr.trj, 'rx', alpha=0.8, label='true sde')\n",
    "plt.legend()\n",
    "plt.xlabel(\"time\")\n",
    "plt.ylabel(\"x\")\n",
    "plt.show()"
   ]
  }
 ],
 "metadata": {
  "kernelspec": {
   "display_name": "Python 3 (ipykernel)",
   "language": "python",
   "name": "python3"
  },
  "language_info": {
   "codemirror_mode": {
    "name": "ipython",
    "version": 3
   },
   "file_extension": ".py",
   "mimetype": "text/x-python",
   "name": "python",
   "nbconvert_exporter": "python",
   "pygments_lexer": "ipython3",
   "version": "3.9.7"
  }
 },
 "nbformat": 4,
 "nbformat_minor": 5
}
