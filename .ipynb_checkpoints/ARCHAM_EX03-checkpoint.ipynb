{
 "cells": [
  {
   "cell_type": "code",
   "execution_count": 1,
   "id": "35172667",
   "metadata": {},
   "outputs": [],
   "source": [
    "import numpy as np\n",
    "import matplotlib.pylab as plt\n",
    "import pickle\n",
    "import tqdm as tq"
   ]
  },
  {
   "cell_type": "code",
   "execution_count": 2,
   "id": "33c9c0e5",
   "metadata": {},
   "outputs": [],
   "source": [
    "def forward(m, S, b, A, Sigma, dt):\n",
    "    \n",
    "    for i in range(len(b) - 1):\n",
    "        \n",
    "        # Euler step for m and S ODEs\n",
    "        m[i + 1] = m[i] - (np.dot(A[i], m[i]) - b[i]) * dt\n",
    "        S[i + 1] = S[i] - (np.dot(A[i], S[i]) + np.dot(S[i], A[i].T) - Sigma) * dt\n",
    "        \n",
    "    return m, S"
   ]
  },
  {
   "cell_type": "code",
   "execution_count": 3,
   "id": "82398768",
   "metadata": {},
   "outputs": [],
   "source": [
    "def backward(t_grid, A, b, m, S, Sigma, r, psi, lamda, t_dict, x, dt):\n",
    "    \n",
    "    # Arrays for storing the updates for A and b\n",
    "    A_ = np.zeros_like(A)\n",
    "    b_ = np.zeros_like(b)\n",
    "\n",
    "    for i in range(len(b) - 1, 0, -1):\n",
    "        \n",
    "        # Compute dEdS and dEdm\n",
    "        dEdS = 8 / Sigma * (15 * m[i] ** 4 + 90 * m[i] ** 2 * S[i] + 45 * S[i] ** 2) \\\n",
    "                - 4 * (4 + A[i]) / Sigma * (16 * m[i] ** 2 + 6 * S[i]) \\\n",
    "                + 12 * b[i] * m[i] / Sigma + 0.5 * (4 + A[i]) ** 2 / Sigma \n",
    "        \n",
    "        dEdm = 8 / Sigma * (6 * m[i] ** 5 + 60 * S[i] * m[i] ** 3 + 90 * S[i] ** 2 * m[i]) \\\n",
    "                - 4 * (4 + A[i]) / Sigma * (4 * m[i] ** 3 + 12 * S[i] * m[i]) \\\n",
    "                + 4 * b[i] * (3 * m[i] ** 2 + 3 * S[i]) / Sigma + (4 + A[i]) ** 2 * m[i] /Sigma \\\n",
    "                - b[i] * (4 + A[i]) / Sigma\n",
    "        \n",
    "        # Euler step for lambda and psi ODEs\n",
    "        lamda[i - 1] = lamda[i] - (np.dot(A[i].T, lamda[i]) - dEdm) * dt\n",
    "        psi[i - 1] = psi[i] - (2 * np.dot(psi[i], A[i]) - dEdS) * dt\n",
    "        \n",
    "        # Handle jump conditions at locations of the data\n",
    "        if t_grid[i - 1] in t_dict:\n",
    "            psi[i - 1] = psi[i - 1] + 0.5 * r ** -2\n",
    "            lamda[i - 1] = lamda[i - 1] - r ** -2 * (x[t_dict[t_grid[i - 1]]] - m[i - 1])\n",
    "            \n",
    "    for i in range(len(b) - 1, -1, -1):\n",
    "        A_[i] = -4 * (1 - 3 * m[i] ** 2 - 3 * S[i]) + 2 * np.dot(Sigma, psi[i])\n",
    "        b_[i] = -4 * (m[i] ** 3 + 3 * m[i] * S[i]) + 4 * m[i] + np.dot(A_[i], m[i]) - np.dot(Sigma, lamda[i])\n",
    "        \n",
    "    return psi, lamda, b_, A_"
   ]
  },
  {
   "cell_type": "code",
   "execution_count": 4,
   "id": "75c52c63",
   "metadata": {},
   "outputs": [],
   "source": [
    "def smoothing(t_obs, t_grid, y_obs, num_passes, omega, Sigma,  r, dt, m0, S0):\n",
    "    \n",
    "    grid_size = t_grid.shape[0]\n",
    "    \n",
    "    # Dictionary mapping from times to indices for array x\n",
    "    t_dict = dict(zip(t_obs, np.arange(0, len(t_obs))))\n",
    "    \n",
    "    b = np.zeros((grid_size, 1))\n",
    "    A = np.zeros((grid_size, 1, 1))\n",
    "    \n",
    "    for i in tq.tqdm(range(num_passes)):\n",
    "\n",
    "        lamda = np.zeros((grid_size, 1))\n",
    "        psi = np.zeros((grid_size, 1, 1))\n",
    "\n",
    "        m = m0 * np.ones((grid_size, 1))\n",
    "        S = S0 * np.ones((grid_size, 1, 1))\n",
    "        \n",
    "        # Forward pass to compute m, S\n",
    "        m, S = forward(m=m, S=S, b=b, A=A, Sigma=Sigma, dt=dt)\n",
    "        \n",
    "        # Backward pass to compute psi, lamda, b_, A_\n",
    "        psi, lamda, b_, A_ = backward(t_grid=t_grid,\n",
    "                                      A=A,\n",
    "                                      b=b,\n",
    "                                      m=m,\n",
    "                                      S=S,\n",
    "                                      Sigma=Sigma,\n",
    "                                      r=r,\n",
    "                                      psi=psi,\n",
    "                                      lamda=lamda,\n",
    "                                      t_dict=t_dict,\n",
    "                                      x=y_obs,\n",
    "                                      dt=dt)\n",
    "        b = b + omega * (b_ - b)\n",
    "        A = A + omega * (A_ - A)\n",
    "\n",
    "    return b, A, m, S, psi, lamda"
   ]
  },
  {
   "cell_type": "code",
   "execution_count": 5,
   "id": "2c1791ac",
   "metadata": {},
   "outputs": [],
   "source": [
    "with open('EX03_DW_Model', 'rb') as f:\n",
    "    prior = pickle.load(f)\n",
    "    likelihood = pickle.load(f)"
   ]
  },
  {
   "cell_type": "code",
   "execution_count": 6,
   "id": "7e8faa35",
   "metadata": {},
   "outputs": [],
   "source": [
    "def prior_drift (s, x_s):\n",
    "    return 4 * x_s * (1 - (x_s ** 2))"
   ]
  },
  {
   "cell_type": "code",
   "execution_count": 7,
   "id": "13bd214c",
   "metadata": {},
   "outputs": [],
   "source": [
    "true_sde_pts, true_sde_trj = prior[0], prior[1]\n",
    "obs, obs_time = likelihood[0], likelihood[1]\n",
    "sde_sigma = 0.8 # Variance is higher than the original example\n",
    "obs_sigma = 0.1"
   ]
  },
  {
   "cell_type": "code",
   "execution_count": 8,
   "id": "82ca55c1",
   "metadata": {},
   "outputs": [
    {
     "data": {
      "image/png": "[encoded data removed]",
      "text/plain": [
       "<Figure size 432x288 with 1 Axes>"
      ]
     },
     "metadata": {
      "needs_background": "light"
     },
     "output_type": "display_data"
    }
   ],
   "source": [
    "# Plot paths\n",
    "plt.plot(true_sde_pts,true_sde_trj)\n",
    "plt.plot(obs_time, obs, \"rx\")\n",
    "plt.xlabel(\"t\", fontsize=14)\n",
    "plt.ylabel(\"X\", fontsize=14)\n",
    "plt.title(\"Sample paths\", fontsize=14)\n",
    "plt.show()\n"
   ]
  },
  {
   "cell_type": "code",
   "execution_count": 13,
   "id": "3d08a3b8",
   "metadata": {},
   "outputs": [],
   "source": [
    "t_obs = obs_time.numpy()\n",
    "y_obs = obs.numpy().flatten()"
   ]
  },
  {
   "cell_type": "code",
   "execution_count": null,
   "id": "9730308c",
   "metadata": {},
   "outputs": [
    {
     "name": "stderr",
     "output_type": "stream",
     "text": [
      "  0%|                                       | 4/10000 [00:04<2:55:58,  1.06s/it]"
     ]
    }
   ],
   "source": [
    "# Algorithm parameters\n",
    "num_passes = 10000\n",
    "Sigma = np.sqrt(sde_sigma) ** 2 * np.eye(1)\n",
    "omega = 0.01\n",
    "m0 = y_obs[0]\n",
    "S0 = 0.04\n",
    "grid_size = 10000\n",
    "t_grid = np.linspace(t_obs[0], t_obs[-1], grid_size)\n",
    "r = obs_sigma\n",
    "dt = (t_obs[-1] - t_obs[0]) / grid_size\n",
    "\n",
    "# Run the smoothing algorithm\n",
    "b, A, m, S, psi, lamda = smoothing(t_obs=t_obs,\n",
    "                                   t_grid=t_grid,\n",
    "                                   y_obs=y_obs,\n",
    "                                   num_passes=num_passes,\n",
    "                                   omega=omega,\n",
    "                                   Sigma=Sigma,\n",
    "                                   r=r,\n",
    "                                   dt=dt,\n",
    "                                   m0=m0,\n",
    "                                   S0=S0)"
   ]
  },
  {
   "cell_type": "code",
   "execution_count": null,
   "id": "b946db90",
   "metadata": {},
   "outputs": [],
   "source": [
    "\n",
    "# Plot data, approximate and exact posterior\n",
    "plt.figure(figsize=(10, 6))\n",
    "\n",
    "# Observed data\n",
    "plt.scatter(t_obs, y_obs, marker='x', color='red', zorder=3)\n",
    "\n",
    "# Approximate posterior\n",
    "plt.plot(t_grid, m[:, 0], color='black', zorder=2)\n",
    "plt.fill_between(t_grid,\n",
    "                 m[:, 0] - S[:, 0, 0] ** 0.5,\n",
    "                 m[:, 0] + S[:, 0, 0] ** 0.5,\n",
    "                 color='gray',\n",
    "                 alpha=0.5,\n",
    "                 zorder=1,\n",
    "                 label='Approximate posterior')\n",
    "\n",
    "# Format plot\n",
    "plt.title('Exact and approximate posterior', fontsize=18)\n",
    "plt.xlabel('$t$', fontsize=16)\n",
    "plt.ylabel('$x$', fontsize=16)\n",
    "plt.xticks(np.linspace(0, 5, 6))\n",
    "plt.yticks(np.linspace(-1, 1, 5))\n",
    "plt.xlim([0, 5])\n",
    "plt.legend()\n",
    "plt.show()"
   ]
  },
  {
   "cell_type": "code",
   "execution_count": null,
   "id": "f548488c",
   "metadata": {},
   "outputs": [],
   "source": [
    "fig, ax = plt.subplots(nrows=1, ncols=2, figsize=(18, 5))\n",
    "ax[0].plot(A.flatten())\n",
    "ax[0].set_title(\"A(t)\")\n",
    "ax[1].plot(b.flatten())\n",
    "ax[1].set_title(\"b(t)\")\n",
    "plt.show()"
   ]
  },
  {
   "cell_type": "code",
   "execution_count": null,
   "id": "1e1e957c",
   "metadata": {
    "scrolled": true
   },
   "outputs": [],
   "source": [
    "fig, ax = plt.subplots(nrows=1, ncols=2, figsize=(18, 5))\n",
    "ax[0].plot(psi.flatten())\n",
    "ax[0].set_title(r\"$\\psi(t)$\")\n",
    "ax[1].plot(lamda.flatten())\n",
    "ax[1].set_title(r\"$\\lambda(t)$\")\n",
    "plt.show()"
   ]
  }
 ],
 "metadata": {
  "kernelspec": {
   "display_name": "Python 3 (ipykernel)",
   "language": "python",
   "name": "python3"
  },
  "language_info": {
   "codemirror_mode": {
    "name": "ipython",
    "version": 3
   },
   "file_extension": ".py",
   "mimetype": "text/x-python",
   "name": "python",
   "nbconvert_exporter": "python",
   "pygments_lexer": "ipython3",
   "version": "3.9.7"
  }
 },
 "nbformat": 4,
 "nbformat_minor": 5
}
