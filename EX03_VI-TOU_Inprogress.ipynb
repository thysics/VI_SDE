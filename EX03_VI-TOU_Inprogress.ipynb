{
 "cells": [
  {
   "cell_type": "code",
   "execution_count": 1,
   "id": "591c0a5a",
   "metadata": {},
   "outputs": [],
   "source": [
    "import torch\n",
    "from torch.autograd import Variable\n",
    "from functorch import vmap\n",
    "import matplotlib.pylab as plt\n",
    "import numpy as np\n",
    "import scipy.stats as ss\n",
    "\n",
    "import random"
   ]
  },
  {
   "cell_type": "code",
   "execution_count": 2,
   "id": "043b84c0",
   "metadata": {},
   "outputs": [],
   "source": [
    "import sys\n",
    "sys.path.insert(0,'vp_class/')"
   ]
  },
  {
   "cell_type": "code",
   "execution_count": 3,
   "id": "0de3b222",
   "metadata": {},
   "outputs": [],
   "source": [
    "from class_ou import OU, ou_gradient\n",
    "from class_tou import tOU, tou_gradient"
   ]
  },
  {
   "cell_type": "markdown",
   "id": "838b69b9",
   "metadata": {},
   "source": [
    "This code applies variational inference based on time-dependent OU processes to the observations drawn from the double well system SDE, as defined below. Note that we have chosen observational noise, i.e. variance of Gaussian noise and SDE variance to be 0.64 and 0.01 repectively."
   ]
  },
  {
   "cell_type": "markdown",
   "id": "2c22728a",
   "metadata": {},
   "source": [
    "m(t) = $\\alpha$t + $m_{0}$"
   ]
  },
  {
   "cell_type": "markdown",
   "id": "afe6d11b",
   "metadata": {},
   "source": [
    "1. Simulate prior process, i.e. double-well system whose SDE is given by\n",
    "\n",
    "$dX_{t} = 4X_{t}(1-X^{2}_{t})dt + \\sigma dW_{t}$"
   ]
  },
  {
   "cell_type": "markdown",
   "id": "366eb03f",
   "metadata": {},
   "source": [
    "**Generate observations from Gaussian likelihood**"
   ]
  },
  {
   "cell_type": "code",
   "execution_count": 9,
   "id": "7caf6504",
   "metadata": {},
   "outputs": [],
   "source": [
    "# Time step the SDE: dot X = -mu X + sigma xi, by Euler's method.\n",
    "\n",
    "# Problem setup. \n",
    "# Set model and numerical parameters, and the initial condition.\n",
    "# These are the lines the user might want to vary.\n",
    "tf = 8\n",
    "Nsteps = 800\n",
    "Npaths = 1\n",
    "X0 = 1\n",
    "sde_sigma = 0.8 # Variance is higher than the original example\n",
    "obs_sigma = 0.1\n",
    "\n",
    "# Generate the time grid and solution array\n",
    "t, dt = np.linspace(0,tf,Nsteps+1,retstep=True)\n",
    "X = np.zeros((Nsteps+1,Npaths))\n",
    "root_dt = np.sqrt(dt)\n",
    "  \n",
    "# Time step starting from initial condition\n",
    "X[0,:] = X0;\n",
    "for n in range(Nsteps):\n",
    "    F_of_X = 4 * X[n,:] * (1 - (X[n,:] ** 2))\n",
    "    X[n+1,:] =  X[n,:] + dt * F_of_X + sde_sigma * root_dt * np.random.randn(Npaths)\n",
    "\n",
    "# Observations with Gaussian noise\n",
    "obs = np.random.normal(loc = X[::100], scale = obs_sigma)\n",
    "obs_time = t[::100]"
   ]
  },
  {
   "cell_type": "code",
   "execution_count": 10,
   "id": "7e8faa35",
   "metadata": {},
   "outputs": [],
   "source": [
    "def prior_drift (s, x_s):\n",
    "    return 4 * x_s * (1 - (x_s ** 2))"
   ]
  },
  {
   "cell_type": "code",
   "execution_count": 11,
   "id": "18582d9d",
   "metadata": {},
   "outputs": [],
   "source": [
    "true_sde_pts = torch.from_numpy(t)\n",
    "true_sde_trj = torch.from_numpy(X.flatten())"
   ]
  },
  {
   "cell_type": "code",
   "execution_count": 12,
   "id": "6e6d1dd9",
   "metadata": {},
   "outputs": [],
   "source": [
    "obs = torch.from_numpy(obs)\n",
    "obs_time = torch.from_numpy(obs_time)"
   ]
  },
  {
   "cell_type": "code",
   "execution_count": 13,
   "id": "82ca55c1",
   "metadata": {},
   "outputs": [
    {
     "data": {
      "image/png": "[encoded data removed]",
      "text/plain": [
       "<Figure size 432x288 with 1 Axes>"
      ]
     },
     "metadata": {
      "needs_background": "light"
     },
     "output_type": "display_data"
    }
   ],
   "source": [
    "# Plot paths\n",
    "plt.plot(t,X)\n",
    "plt.plot(t[::100], obs, \"rx\")\n",
    "plt.xlabel(\"t\", fontsize=14)\n",
    "plt.ylabel(\"X\", fontsize=14)\n",
    "plt.title(\"Sample paths\", fontsize=14)\n",
    "plt.show()\n"
   ]
  },
  {
   "cell_type": "markdown",
   "id": "005f40f9",
   "metadata": {},
   "source": [
    "Variational inference: KL"
   ]
  },
  {
   "cell_type": "markdown",
   "id": "5eff800a",
   "metadata": {},
   "source": [
    "2. Implement Variational inference based on $\\textbf{time-inhomogeneous}$ OU process with SDE:\n",
    "\n",
    "$$dZ_t = [-r(Z_t - m(t)) + m'(t)]dt + \\sigma dW_t$$"
   ]
  },
  {
   "cell_type": "markdown",
   "id": "1fc6d84b",
   "metadata": {},
   "source": [
    "$$\\mathbb{E}_{P^{Z}}[\\log\\exp{\\frac{dP^{X}}{dP^{Z}}(Z)] = \\frac{1}{2}\\mathbb{E}_{P^{Z}}[\\int_{t_{0}}}^{t_{1}}|\\frac{4Z_{t}(1-Z^{2}_{t}) + r(Z_{t}-m(t))-m'(t)}{\\sigma}|^{2}dt]$$\n",
    "\n",
    "where the relevant functions\n",
    "\n",
    "$$m(t) = \\alpha (B(t, \\beta) - 1) + m_{0}$$\n",
    "\n",
    "$$m'(t) = \\alpha \\beta B(t, \\beta - 1)$$\n",
    "\n",
    "$$B(s, \\beta) = (s + 1)^{\\beta}$$\n",
    "\n",
    "The mean and variance of the process have a tracatble expression: $E(Z_t) = m(t), Var(Z_t) = \\frac{\\sigma^{2}}{2r}(1-e^{-2rt})$\n",
    "\n",
    "Here we consider a variational process with a $\\textbf{linear mean function}$, i.e. $\\beta = 1$, which results in $m(t) = \\alpha t + m_{0}$. Our variational parameters, thus, include $r, \\alpha$. "
   ]
  },
  {
   "cell_type": "code",
   "execution_count": 14,
   "id": "063c5550",
   "metadata": {},
   "outputs": [],
   "source": [
    "class ELBO:\n",
    "    \"\"\"\n",
    "        ELBO with\n",
    "            variational process (q): time-inhomogeneous OU process\n",
    "            prior process (p): double-well system\n",
    "            \n",
    "        This class computes: - KL(q|p) + NLL(y|z)  where z \\sim q\n",
    "    \"\"\"\n",
    "    def __init__(self, ou):\n",
    "        self.ou = ou\n",
    "        self.alpha = ou.alpha\n",
    "        self.beta = ou.beta\n",
    "        self.sigma = ou.sigma\n",
    "        self.r = ou.r\n",
    "        self.m0 = ou.m0\n",
    "    \n",
    "    def KL(self, prior_drift):\n",
    "        \"\"\"\n",
    "            This function requires the function corresponding to prior drift function\n",
    "        \"\"\"\n",
    "        # Save parameter specification from ou class\n",
    "        alpha, beta, sigma, r, m0 = self.alpha, self.beta, self.sigma, self.r, self.m0\n",
    "        \n",
    "        def B(s, beta):\n",
    "            return (s+1) ** beta\n",
    "        \n",
    "        def m(s):\n",
    "            return alpha * (B(s, beta) - 1) + m0\n",
    "            \n",
    "        def m_(s):\n",
    "            return alpha * beta * B(s, beta-1)\n",
    "        \n",
    "        t = self.ou.pts - self.ou.pts[:, 0].reshape(-1, 1)\n",
    "        \n",
    "        # Evaluate the drift function of the approximating processes\n",
    "        g_of_x = -r * (self.ou.trj - m(t)) + m_(t)\n",
    "        \n",
    "        # Evaluate the drift function of the model (prior process)\n",
    "        f_of_x = prior_drift(t, self.ou.trj)\n",
    "        \n",
    "        # Compute the term inside the KL divergence\n",
    "        \n",
    "        F_of_X = abs(((f_of_x - g_of_x) / sigma) ** 2)\n",
    "        \n",
    "        return 0.5 * torch.trapezoid(F_of_X, x=t).reshape(-1, 1)\n",
    "         \n",
    "    def log_prob(self, obs, obs_sigma):\n",
    "        \"\"\"\n",
    "            Compute the log-likelihood\n",
    "            likelihood function is normal density N(obs, var)\n",
    "            obs.shape = D * 1 (D: # of sample)\n",
    "        \"\"\"\n",
    "        def log_pdf(obs, z, obs_sigma):\n",
    "            return ss.norm.logpdf(obs, loc=z, scale=obs_sigma)\n",
    "            \n",
    "        return torch.from_numpy(log_pdf(obs, self.ou.trj[:, -1].reshape(-1, 1), obs_sigma))\n"
   ]
  },
  {
   "cell_type": "markdown",
   "id": "f0859993",
   "metadata": {},
   "source": [
    "**Variational inference: a piece-wise approximation**"
   ]
  },
  {
   "cell_type": "code",
   "execution_count": 15,
   "id": "70d17552",
   "metadata": {},
   "outputs": [],
   "source": [
    "import tqdm as tq"
   ]
  },
  {
   "cell_type": "code",
   "execution_count": 53,
   "id": "2b5a6f23",
   "metadata": {},
   "outputs": [],
   "source": [
    "def score_estimate(s0, sK, z0, pars, sigma, obs, obs_sigma, M):\n",
    "    \"\"\"\n",
    "        Returns stochastic estimates of the gradient of the ELBO with respect to parameters including\n",
    "            alpha, r, beta\n",
    "        \n",
    "        M: # of Monte Carlo samples\n",
    "        \n",
    "    \"\"\"\n",
    "    \n",
    "    assert obs.shape[0] == 1, \"observation must be 1-d torch.array\"\n",
    "    \n",
    "    # Number of time points drawn between s0 and sK\n",
    "    K = 200\n",
    "    \n",
    "    alpha = pars['alpha']\n",
    "    r = pars['r']\n",
    "    \n",
    "    if 'beta' in pars.keys():\n",
    "        beta = pars['beta']\n",
    "    else:\n",
    "        beta = torch.tensor([1.])\n",
    "    \n",
    "    # Reshape every parameter into (M,1) torch.array\n",
    "    ALPHA = alpha.repeat(M, 1)\n",
    "    BETA = beta.repeat(M, 1)\n",
    "    R = r.repeat(M, 1)\n",
    "    SIGMA = sigma.repeat(M, 1)\n",
    "    OBS = obs.repeat(M, 1)\n",
    "    Z0 = z0.repeat(M, 1)\n",
    "    \n",
    "\n",
    "    # Simulate sample path\n",
    "    # Note that z0 = m0\n",
    "    vi = tOU(t0=s0, t1=sK, z0=z0, m0=Z0, alpha=ALPHA, beta=BETA, sigma=SIGMA, r=R, dN=K, timegrid = 'False')\n",
    "    \n",
    "    # Compute the ELBO \n",
    "    elbo = ELBO(vi)\n",
    "    score_func = tou_gradient(vi.pts, vi.trj, torch.stack([ALPHA, BETA, R, Z0, SIGMA]).view(-1, M, 1))\n",
    "    f_of_X = -elbo.log_prob(OBS, obs_sigma) + elbo.KL(prior_drift)\n",
    "\n",
    "    # Get stochastic estimate of the gradient with respect to each parameter\n",
    "    alpha_grad = torch.nanmean(f_of_X * score_func['alpha'])\n",
    "    r_grad = torch.nanmean(f_of_X * score_func['r'])\n",
    "    \n",
    "    if 'beta' not in pars.keys():\n",
    "        stochastic_gradient = {'alpha':alpha_grad, 'r':r_grad}\n",
    "    else:\n",
    "        beta_grad = torch.nanmean(f_of_X * score_func['beta'] )\n",
    "        stochastic_gradient = {'alpha':alpha_grad, 'beta':beta_grad, 'r':r_grad}\n",
    "    \n",
    "    \n",
    "    return stochastic_gradient"
   ]
  },
  {
   "cell_type": "code",
   "execution_count": 109,
   "id": "fbe27c63",
   "metadata": {},
   "outputs": [],
   "source": [
    "def AdaGrad( current_pars, current_grad, past_grad, learning_rate = 0.01, smooth_term = 1e-8):\n",
    "    \"\"\"\n",
    "        Perform one-step gradient descent based on AdaGrad\n",
    "    \"\"\"\n",
    "    assert type(current_pars) == type(current_grad) == type(past_grad) == dict, \"Current_grad must be a dict\"\n",
    "    \n",
    "    \n",
    "    new_pars = {}\n",
    "    for key in current_pars.keys():\n",
    "        if key == 'r':\n",
    "            new_pars[key] = current_pars[key] - learning_rate / np.sqrt(past_grad[key] + smooth_term) * current_grad[key]\n",
    "            value = new_pars[key]\n",
    "            while value <= 0:\n",
    "                value = current_pars[key] - learning_rate / np.sqrt(past_grad[key] + smooth_term) * current_grad[key]\n",
    "                learning_rate *= 0.5\n",
    "            \n",
    "            new_pars[key] = value\n",
    "  \n",
    "        else:\n",
    "            new_pars[key] = current_pars[key] - learning_rate / np.sqrt(past_grad[key] + smooth_term) * current_grad[key]\n",
    "\n",
    "    return new_pars\n",
    "    \n",
    "    "
   ]
  },
  {
   "cell_type": "code",
   "execution_count": 120,
   "id": "488b282c",
   "metadata": {},
   "outputs": [],
   "source": [
    "def Grad_Descent( current_pars, current_grad, past_grad, learning_rate = 0.01):\n",
    "    assert type(current_pars) == type(current_grad) == type(past_grad) == dict, \"Current_grad must be a dict\"\n",
    "    \n",
    "    \n",
    "    new_pars = {}\n",
    "    for key in current_pars.keys():\n",
    "        if key == 'r':\n",
    "            new_pars[key] = current_pars[key] - learning_rate * current_grad[key]\n",
    "            value = new_pars[key]\n",
    "            while value <= 0:\n",
    "                value = current_pars[key] - learning_rate * current_grad[key]\n",
    "                learning_rate *= 0.5\n",
    "            new_pars[key] = value\n",
    "  \n",
    "        else:\n",
    "            new_pars[key] = current_pars[key] - learning_rate * current_grad[key]\n",
    "\n",
    "    return new_pars\n",
    "    "
   ]
  },
  {
   "cell_type": "code",
   "execution_count": 181,
   "id": "615146f6",
   "metadata": {},
   "outputs": [],
   "source": [
    "def get_PostMoment(t0, tT, alpha, beta, m0, r, sigma, vN):\n",
    "    \"\"\"\n",
    "        Returns mean and variance of the approximate posterior process\n",
    "        Note: mean and variance have tractable expressions\n",
    "    \"\"\"\n",
    "    # Get time-grid between s0 and sK\n",
    "    \n",
    "    t = torch.linspace(0, (tT-t0).item(), vN+2)[1:]\n",
    "    \n",
    "    def B(s, beta):\n",
    "        return (s+1) ** beta\n",
    "        \n",
    "    def m(s):\n",
    "        return alpha * (B(s, beta) - 1) + m0\n",
    "    \n",
    "    def var(s):\n",
    "        return sigma ** 2 / (2 * r) * (1 - torch.exp(-2 * r * s))\n",
    "    \n",
    "    mean = m(t)\n",
    "    var = var(t)\n",
    "    \n",
    "    return t, mean, var"
   ]
  },
  {
   "cell_type": "code",
   "execution_count": 182,
   "id": "2abd85be",
   "metadata": {},
   "outputs": [],
   "source": [
    "def Optimize(sde_sigma, obs, obs_time, obs_sigma, M, IT, vN, learning_rate, Linear = True, AdaGrad=False):\n",
    "    \"\"\"\n",
    "        vN: # of time points between in each obs interval on which mean of the approximate posterior process will be evaluated\n",
    "    \"\"\"\n",
    "    assert type(sde_sigma) == torch.Tensor, \"SDE sigma must be a torch.Tensor\"\n",
    "    assert type(obs) == torch.Tensor, \"obs must be a torch.Tensor\"\n",
    "\n",
    "    \n",
    "    if Linear == True:\n",
    "        # Two parameters: alpha, r\n",
    "        init_pars = torch.tensor([-0.01, 1.])\n",
    "        \n",
    "    else:\n",
    "        # Three parameters, alpha, beta, r\n",
    "        init_pars = torch.tensor([-0.01, 1., 1.])\n",
    "        \n",
    "    N_of_Pars = init_pars.shape[0]\n",
    "    T = obs.shape[0]\n",
    "    \n",
    "    v_N = T * (vN+1) - vN\n",
    "    \n",
    "    \n",
    "    VP_PTS = np.zeros(v_N)\n",
    "    VP_MEAN = np.zeros(v_N)\n",
    "    VP_STD = np.zeros(v_N)\n",
    "    \n",
    "    # Intialize the state at the first observation\n",
    "    z0 = obs[0]\n",
    "    VP_MEAN[0] = z0\n",
    "    \n",
    "    \n",
    "    \n",
    "\n",
    "    for t in tq.tqdm(range(1, T)):\n",
    "        s0 = obs_time[t-1]\n",
    "        sK = obs_time[t]\n",
    "\n",
    "        # Initialize a set of parameters\n",
    "        if Linear == True:\n",
    "            alpha, r = init_pars\n",
    "            current_pars = {'alpha':alpha, 'r':r}\n",
    "            beta = torch.tensor([1.])\n",
    "        else:\n",
    "            alpha, beta, r = init_pars\n",
    "            current_pars = {'alpha':alpha, 'beta':beta, 'r':r}\n",
    "        \n",
    "        past_grad = {key:torch.tensor([0.01]) for key in current_pars.keys()}\n",
    "        for i in range(IT):\n",
    "            # Take gradient descent algorithm based on AdaGrad\n",
    "\n",
    "            # Obtain stochastic estimate of the gradients based on score function estimator\n",
    "            current_grad = score_estimate(s0, sK, z0, current_pars, sde_sigma, obs[t], obs_sigma, M)\n",
    "\n",
    "            # Take one gradient step based on the AdaGrad\n",
    "            if AdaGrad == True:\n",
    "                current_pars = AdaGrad( current_pars, current_grad, past_grad, learning_rate, smooth_term = 1e-8)\n",
    "            else:\n",
    "                current_pars = Grad_Descent(current_pars, current_grad, past_grad, learning_rate)\n",
    "\n",
    "\n",
    "            # Save the current gradient estimate\n",
    "            for key in current_grad.keys():\n",
    "                past_grad[key] += current_grad[key] ** 2\n",
    "\n",
    "        alpha = current_pars['alpha']\n",
    "        r = current_pars['r']\n",
    "        if Linear == False:\n",
    "            beta = current_pars['beta']\n",
    "        \n",
    "        vp_pts, vp_mean, vp_var = get_PostMoment(s0, sK, alpha, beta, z0, r, sde_sigma, vN)\n",
    "        \n",
    "        VP_PTS[(vN+1)*(t-1)+1:(vN+1)*t+1] = obs_time[t-1].item() + vp_pts\n",
    "        VP_MEAN[(vN+1)*(t-1)+1:(vN+1)*t+1] = vp_mean\n",
    "        VP_STD[(vN+1)*(t-1)+1:(vN+1)*t+1] = vp_var\n",
    "        \n",
    "        z0 = vp_mean[-1]\n",
    "    \n",
    "    return VP_PTS, VP_MEAN, VP_STD"
   ]
  },
  {
   "cell_type": "code",
   "execution_count": 189,
   "id": "394f72c9",
   "metadata": {},
   "outputs": [
    {
     "name": "stderr",
     "output_type": "stream",
     "text": [
      "100%|█████████████████████████████████████████████| 8/8 [01:39<00:00, 12.42s/it]\n"
     ]
    }
   ],
   "source": [
    "vp_pts, vp_mean, vp_std = Optimize(torch.tensor([sde_sigma]), obs, obs_time, obs_sigma, M=1000, IT=200, vN=200, learning_rate=0.0001, Linear = False, AdaGrad=False)"
   ]
  },
  {
   "cell_type": "code",
   "execution_count": 204,
   "id": "cfd77ba5",
   "metadata": {},
   "outputs": [
    {
     "data": {
      "text/plain": [
       "[<matplotlib.lines.Line2D at 0x7ff613297c40>]"
      ]
     },
     "execution_count": 204,
     "metadata": {},
     "output_type": "execute_result"
    },
    {
     "data": {
      "image/png": "[encoded data removed]",
      "text/plain": [
       "<Figure size 576x432 with 1 Axes>"
      ]
     },
     "metadata": {
      "needs_background": "light"
     },
     "output_type": "display_data"
    }
   ],
   "source": [
    "plt.figure(figsize=(8,6))\n",
    "plt.plot(vp_pts, vp_mean, color='black')\n",
    "plt.fill_between(vp_pts, vp_mean + vp_std, vp_mean - vp_std, alpha=0.3, color='grey')\n",
    "plt.plot(t, X, alpha=0.2)\n",
    "plt.plot(obs_time, obs, 'rx')"
   ]
  },
  {
   "cell_type": "code",
   "execution_count": null,
   "id": "48fde07a",
   "metadata": {
    "scrolled": true
   },
   "outputs": [],
   "source": [
    "D = 50\n",
    "S = 100\n",
    "learning_rate = 0.00005\n",
    "lr = learning_rate\n",
    "IT = 500\n",
    "dN = 200\n",
    "z0 = obs[0]\n",
    "\n",
    "# Linear mean function\n",
    "beta_ = torch.tensor([1.])\n",
    "beta_D = beta_.repeat(D, 1)\n",
    "beta_S = beta_.repeat(S, 1)\n",
    "\n",
    "vp_mean = []\n",
    "vp_std = []\n",
    "vp_pts = []\n",
    "\n",
    "elbo_traces = np.empty((len(obs_time) - 1, IT-1))\n",
    "KL_traces = np.empty((len(obs_time) -1 , IT-1))\n",
    "LL_traces = np.empty((len(obs_time) -1 , IT-1))\n",
    "pars_traces = np.empty((3, len(obs_time) - 1, IT))\n",
    "\n",
    "sde_sigma_D = torch.tensor([sde_sigma]).repeat(D, 1)\n",
    "sde_sigma_S = torch.tensor([sde_sigma]).repeat(S, 1)\n",
    "for t in tq.tqdm(range(obs.shape[0]-1)):\n",
    "    # initilize a set of parameters\n",
    "    alpha_ = torch.tensor([0.])\n",
    "    r_ = torch.rand(1) + 4.\n",
    "    if t > 1:\n",
    "        r_ = torch.tensor([1.])\n",
    "    m0_ = torch.randn(1) + obs[t].clone().detach()\n",
    "    \n",
    "    i = 0\n",
    "    for i in range(IT): \n",
    "        alpha_D = alpha_.repeat(D, 1)\n",
    "        r_D = r_.repeat(D, 1)\n",
    "        z0_D = z0.repeat(D, 1)\n",
    "        m0_D = z0.repeat(D, 1)\n",
    "        # Compute (negative) ELBO\n",
    "        if i > 0:\n",
    "            vi_ = tOU(t0=obs_time[t], t1=obs_time[t+1], z0=z0_D, m0=m0_D, alpha=alpha_D, beta=beta_D, sigma=sde_sigma_D, r=r_D, dN=dN, timegrid = 'False')\n",
    "            elbo_ = ELBO(vi_)\n",
    "            kl_ = elbo_.KL(prior_drift)\n",
    "            LL_ = elbo_.log_prob(obs[t+1].repeat(D, 1), obs_sigma)\n",
    "            elbo_estimate = LL_ - kl_\n",
    "            elbo_traces[t, i-1] = torch.mean(elbo_estimate).clone()\n",
    "            KL_traces[t, i-1] = torch.mean(kl_).clone()\n",
    "            LL_traces[t, i-1] = torch.mean(LL_).clone()\n",
    "            if i % 50 == 1:\n",
    "                print(\"ELBO = \", torch.nanmean(elbo_estimate).data.numpy())\n",
    "        # Obtain score function estimator of the gradient\n",
    "        vi = tOU(t0=obs_time[t], t1=obs_time[t+1], z0=z0_D, m0=m0_D, alpha=alpha_D, beta=beta_D, sigma=sde_sigma_D, r=r_D, dN=dN, timegrid = 'False')\n",
    "        elbo = ELBO(vi)\n",
    "\n",
    "        gradient = tou_gradient(vi.pts, vi.trj, torch.stack([alpha_D, beta_D, m0_D, r_D, sde_sigma_D]).view(-1, D, 1))\n",
    "#         print(\"scores = \", scores)\n",
    "        f_of_X = -elbo.log_prob(obs[t+1].repeat(D, 1), obs_sigma) + elbo.KL(prior_drift)\n",
    "#         print(\"Ito = \", elbo.KL_ito(), \"Rest = \", elbo.KL_rest(), \"LL = \", elbo.log_prob(obs[t+1].repeat(D, 1), obs_sigma))\n",
    "#         print(\"f_of_X = \", torch.nanmean(f_of_X))\n",
    "#         print(\"NLL = \", \"KL_Ito = \", \"KL_rest = \")\n",
    "        \n",
    "#         print(\"scores_beta = \", torch.nanmean(scores['beta']), \"scores_alpha = \", torch.nanmean(scores['alpha']))\n",
    "        alpha_grad = torch.nanmean(f_of_X * gradient['alpha'])\n",
    "        r_grad = torch.nanmean(f_of_X * gradient['r'])\n",
    "#         print(\"beta_grad = \", beta_grad, \"alpha_grad = \", alpha_grad, \"r_grad = \", r_grad)\n",
    "\n",
    "        # Update the parameter\n",
    "        \n",
    "        alpha_ -= learning_rate * alpha_grad\n",
    "        r__ = r_ - learning_rate * r_grad\n",
    "\n",
    "#             It is to ensure r should be strictly positive (i.e. projected gradient method)\n",
    "        while r__ < 0:\n",
    "            r__ = r_ - lr * r_grad\n",
    "            lr *= 0.5\n",
    "        r_ = r__\n",
    "\n",
    "        pars_traces[0, t, i] = alpha_.clone()\n",
    "        pars_traces[2, t, i] = r_.clone()\n",
    "\n",
    "        if i % 50 == 0:\n",
    "            print(\"alpha = \", alpha_.data.numpy(), \"r = \", r_.data.numpy())\n",
    "        i += 1\n",
    "#     Compute posteiror mean (based on posterior sample)\n",
    "    posterior = tOU(t0 = obs_time[t], t1 = obs_time[t+1], z0 = z0.repeat(S, 1), m0 = m0_[0].repeat(S, 1), alpha = alpha_.repeat(S,1), beta = beta_S, sigma = sde_sigma_S, r = r_.repeat(S,1), dN = dN, timegrid='True')\n",
    "\n",
    "    \n",
    "    if t > 0:\n",
    "        post_mean_ = posterior.trj.mean(axis=0)[1:]\n",
    "        post_std_ = posterior.trj.std(axis=0)[1:]\n",
    "        post_pts_ = posterior.pts.mean(axis=0)[1:]\n",
    "    else:\n",
    "        post_mean_ = posterior.trj.mean(axis=0)\n",
    "        post_std_ = posterior.trj.std(axis=0)\n",
    "        post_pts_ = posterior.pts.mean(axis=0)\n",
    "    \n",
    "    vp_mean.append(post_mean_.clone().data.numpy())\n",
    "    vp_std.append(post_std_.clone().data.numpy())\n",
    "    vp_pts.append(post_pts_.clone().data.numpy())\n",
    "#     z0 = torch.tensor(obs[t+1])\n",
    "    z0 = post_mean_.clone()[-1]\n",
    "#     print(\"posterior_mean = \", z0)\n",
    "# score.compute_score()"
   ]
  },
  {
   "cell_type": "code",
   "execution_count": null,
   "id": "73d137e3",
   "metadata": {},
   "outputs": [],
   "source": [
    "x = np.linspace(7,8,1000)[1:]\n",
    "m,st = get_PostMoment(7, 8, alpha_, 1, -0.9, r_, sde_sigma) \n",
    "plt.plot(x, m)\n",
    "plt.fill_between(x, m-st, m+st, alpha=0.3)"
   ]
  },
  {
   "cell_type": "markdown",
   "id": "3c98123c",
   "metadata": {},
   "source": [
    "Trace plot: ELBO"
   ]
  },
  {
   "cell_type": "code",
   "execution_count": null,
   "id": "f496421f",
   "metadata": {},
   "outputs": [],
   "source": [
    "fig, ax = plt.subplots(nrows=3, ncols=3, figsize=(20, 13))\n",
    "t = 0\n",
    "for ax in ax.ravel()[:-1]:\n",
    "    ax.plot(np.arange(len(elbo_traces[t, :])), elbo_traces[t, :])\n",
    "    ax.set_xlabel(\"iteration\")\n",
    "    ax.set_ylabel(\"Negative ELBO, dt = %d\" % t)\n",
    "    t += 1\n",
    "    \n",
    "plt.suptitle(\"Trace plot: ELBO\", size=15, y=0.95)\n",
    "plt.show()"
   ]
  },
  {
   "cell_type": "markdown",
   "id": "28be7be2",
   "metadata": {},
   "source": [
    "Trace plot: KL divergence"
   ]
  },
  {
   "cell_type": "code",
   "execution_count": null,
   "id": "ce3126db",
   "metadata": {},
   "outputs": [],
   "source": [
    "fig, ax = plt.subplots(nrows=3, ncols=3, figsize=(20, 13))\n",
    "t = 0\n",
    "for ax in ax.ravel()[:-1]:\n",
    "    ax.plot(np.arange(len(KL_traces[t, :])), KL_traces[t, :])\n",
    "    ax.set_xlabel(\"iteration\")\n",
    "    ax.set_ylabel(\"KL, dt = %d\" % t)\n",
    "    ax.axhline(0, color='red', linestyle='dashed')\n",
    "    t += 1\n",
    "    \n",
    "plt.suptitle(\"Trace plot: KL divergence\", size=15, y=0.95)\n",
    "plt.show()"
   ]
  },
  {
   "cell_type": "markdown",
   "id": "fe9d3c74",
   "metadata": {},
   "source": [
    "Trace plot: NLL"
   ]
  },
  {
   "cell_type": "code",
   "execution_count": null,
   "id": "d16035f5",
   "metadata": {},
   "outputs": [],
   "source": [
    "fig, ax = plt.subplots(nrows=3, ncols=3, figsize=(20, 13))\n",
    "t = 0\n",
    "for ax in ax.ravel()[:-1]:\n",
    "    ax.plot(np.arange(len(LL_traces[t, :])), -1 * LL_traces[t, :])\n",
    "    ax.set_xlabel(\"iteration\")\n",
    "    ax.set_ylabel(\"(Negative) Log Likelihood, dt = %d\" % t)\n",
    "    t += 1\n",
    "    \n",
    "plt.suptitle(\"Trace plot: (Negative) Log Likeilhood\", size=15, y=0.95)\n",
    "plt.show()"
   ]
  },
  {
   "cell_type": "markdown",
   "id": "ad73d0e2",
   "metadata": {},
   "source": [
    "Trace plot: parameters"
   ]
  },
  {
   "cell_type": "code",
   "execution_count": null,
   "id": "7c5803cd",
   "metadata": {},
   "outputs": [],
   "source": [
    "fig, ax = plt.subplots(nrows=pars_traces.shape[1], ncols=3, figsize=(20, 30), sharex='all')\n",
    "names = [r'$\\alpha$', r'$m0$', r'$r$']\n",
    "for j, ax in enumerate(ax.ravel()):\n",
    "    i = j % 3\n",
    "    t = j // 3\n",
    "    ax.plot(np.arange(pars_traces[i, t, :].shape[0]), pars_traces[i, t, :])\n",
    "    ax.set_title(names[i] + \" at time interval: %d\" % t)\n",
    "    if t == 5:\n",
    "        ax.set_xlabel(\"Iterations\")\n",
    "plt.show()"
   ]
  },
  {
   "cell_type": "markdown",
   "id": "c8025155",
   "metadata": {},
   "source": [
    "**Posterior approximation**"
   ]
  },
  {
   "cell_type": "code",
   "execution_count": null,
   "id": "3b463f0d",
   "metadata": {},
   "outputs": [],
   "source": [
    "vi_mean = np.concatenate(vp_mean)\n",
    "vi_var = np.concatenate(vp_std)\n",
    "vi_pts = np.concatenate(vp_pts)\n",
    "\n",
    "plt.figure(figsize=(10, 7))\n",
    "plt.plot(true_sde_pts, true_sde_trj, label=\"underlying SDE\", alpha=0.4)\n",
    "plt.plot(obs_time, obs, 'rx', label='observations')\n",
    "plt.plot(vi_pts, vi_mean, color='black', label='variational mean')\n",
    "plt.fill_between(vi_pts, vi_mean + vi_var, vi_mean - vi_var, alpha=0.3, color='grey', label='variational std')\n",
    "plt.legend()\n",
    "plt.xlabel(\"Time\")\n",
    "plt.ylabel(\"x\")\n",
    "plt.title(\"Variational Approximation: time-inhomogeneous process with linear mean function\")\n",
    "plt.show()"
   ]
  },
  {
   "cell_type": "code",
   "execution_count": null,
   "id": "e163a73b",
   "metadata": {},
   "outputs": [],
   "source": [
    "import pickle"
   ]
  },
  {
   "cell_type": "code",
   "execution_count": null,
   "id": "db00663c",
   "metadata": {},
   "outputs": [],
   "source": [
    "with open('EX03_DW-SDE', 'wb') as f:\n",
    "    pickle.dump(true_sde_pts, f)\n",
    "    pickle.dump(true_sde_trj, f)\n",
    "    pickle.dump(obs, f)\n",
    "    pickle.dump(obs_time, f)\n",
    "    pickle.dump(obs_sigma, f)\n",
    "    pickle.dump(sde_sigma, f)"
   ]
  }
 ],
 "metadata": {
  "kernelspec": {
   "display_name": "Python 3 (ipykernel)",
   "language": "python",
   "name": "python3"
  },
  "language_info": {
   "codemirror_mode": {
    "name": "ipython",
    "version": 3
   },
   "file_extension": ".py",
   "mimetype": "text/x-python",
   "name": "python",
   "nbconvert_exporter": "python",
   "pygments_lexer": "ipython3",
   "version": "3.9.7"
  }
 },
 "nbformat": 4,
 "nbformat_minor": 5
}
