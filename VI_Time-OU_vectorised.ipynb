{
 "cells": [
  {
   "cell_type": "code",
   "execution_count": 1,
   "id": "591c0a5a",
   "metadata": {},
   "outputs": [],
   "source": [
    "import torch\n",
    "from torch.autograd import Variable\n",
    "from functorch import vmap\n",
    "import matplotlib.pylab as plt\n",
    "import numpy as np\n",
    "import scipy.stats as ss\n",
    "\n",
    "import random"
   ]
  },
  {
   "cell_type": "markdown",
   "id": "838b69b9",
   "metadata": {},
   "source": [
    "This code is to show how to optimize the parameter of the time-dependent OU processes based on MLE. This code has been vectorized so that it becomes possible to optimize a set of different sample paths at the same time"
   ]
  },
  {
   "cell_type": "code",
   "execution_count": 2,
   "id": "94f203e0",
   "metadata": {},
   "outputs": [],
   "source": [
    "class OU:\n",
    "    def __init__(self, t0, t1, z0, alpha, beta, sigma, dN):\n",
    "        self.t0 = t0\n",
    "        self.t1 = t1\n",
    "        self.z0 = z0\n",
    "        self.alpha = alpha\n",
    "        self.beta = beta\n",
    "        self.sigma = sigma\n",
    "        self.pts = torch.sort(torch.cat([torch.DoubleTensor(dN-2).uniform_(t0,t1), torch.tensor([self.t0, self.t1])]))[0]\n",
    "        self.trj, self.dt = self.simulate()\n",
    "        \n",
    "    def simulate(self):\n",
    "        \"\"\"\n",
    "            Simulate an OU process on a set of discrete points\n",
    "        \"\"\"\n",
    "        output = np.empty(len(self.pts))\n",
    "        output[0] = self.z0\n",
    "        interval = self.pts[1:] - self.pts[:-1]\n",
    "        for t in range(1, len(self.pts)):\n",
    "            \n",
    "            # if the distance is too small, variance becomes 0\n",
    "            dt = interval[t-1]\n",
    "            \n",
    "            mean = self.alpha + (output[t-1] - self.alpha) * np.exp(-1 * self.beta * dt)\n",
    "            var = np.sqrt((self.sigma ** 2) * (1 - np.exp(-2 * self.beta * dt)) / (2 * self.beta))\n",
    "            assert var > 0, \"variance is negative, var:%.3f interval: %.3f\" % (var, dt)\n",
    "            output[t] = ss.norm.rvs(loc = mean, scale = var)\n",
    "        return torch.from_numpy(output), interval"
   ]
  },
  {
   "cell_type": "markdown",
   "id": "1b1d7a52",
   "metadata": {},
   "source": [
    "**Class: OU processes**"
   ]
  },
  {
   "cell_type": "code",
   "execution_count": 3,
   "id": "dd35267e",
   "metadata": {},
   "outputs": [],
   "source": [
    "class tOU_vector:\n",
    "    \"\"\"\n",
    "        simulate multiple trajectories at one-go via vectorisation;\n",
    "        \n",
    "    \"\"\"\n",
    "    \n",
    "    def __init__(self, t0, t1, z0, m0, alpha, beta, sigma, r, dN, D, timegrid = 'True'):\n",
    "        \"\"\"\n",
    "        \n",
    "        \"\"\"\n",
    "        self.t0 = t0\n",
    "        self.t1 = t1\n",
    "        self.z0 = z0\n",
    "        self.m0 = m0\n",
    "        \n",
    "        self.alpha = alpha\n",
    "        self.beta = beta\n",
    "        self.sigma = sigma\n",
    "        self.r = r\n",
    "        \"\"\"\n",
    "            # of trajectories you wish to sample\n",
    "        \"\"\"\n",
    "        self.D = D\n",
    "        if timegrid == 'True':\n",
    "            self.pts = torch.linspace(t0, t1, dN).repeat(D, 1)\n",
    "        else:\n",
    "            self.pts = torch.sort(torch.cat([(t1 - t0) * torch.rand(D, dN-2) + t0, torch.tensor([self.t0, self.t1]).repeat(D,1)], axis=1), axis=1)[0]\n",
    "#             self.pts = torch.sort(torch.cat([torch.DoubleTensor(dN-2).uniform_(t0,t1), torch.tensor([self.t0, self.t1])]))[0].repeat(D,1)\n",
    "        self.trj, self.dt = self.simulate()\n",
    "\n",
    "    def simulate(self):\n",
    "        \"\"\"\n",
    "            Simulate an OU process on a set of discrete points\n",
    "            outcome\n",
    "                D by N matrices whose row corresponds to one independent time-dependent OU process\n",
    "        \"\"\"\n",
    "        output = torch.empty(self.pts.shape)\n",
    "        output[:,0] = self.z0.flatten()\n",
    "        interval = self.pts[:, 1:] - self.pts[:, :-1]\n",
    "        beta_t = self.alpha * ((( self.pts[:, :-1] + 1) ** self.beta) - 1 ) + self.m0 \\\n",
    "                - np.exp(self.r * interval) * (self.alpha * (((self.pts[:, 1:] + 1)**self.beta) - 1) + self.m0)\n",
    "        for t in range(1, self.pts.shape[1]):\n",
    "            # if the distance is too small, variance becomes 0\n",
    "            mean = (output[:, t-1] - beta_t[:, t-1]) * torch.exp(-1 * self.r.flatten() * interval[:, t-1] )\n",
    "            var = ((self.sigma ** 2 ) / (2*self.r.flatten())) * (1 - torch.exp(-2 * self.r.flatten() * interval[:, t-1]))\n",
    "            if self.D > 1:\n",
    "                output[:, t] = torch.from_numpy(ss.multivariate_normal.rvs(mean = mean, cov = torch.diag(var)))\n",
    "            else:\n",
    "                assert var > 0, \"variance is negative, sd:%.3f interval: %.3f\" % (var, interval[t-1] )\n",
    "                output[:, t] = ss.norm.rvs(loc = mean, scale = np.sqrt(var))\n",
    "            \n",
    "        return [output, interval]"
   ]
  },
  {
   "cell_type": "code",
   "execution_count": 4,
   "id": "07b5acf7",
   "metadata": {},
   "outputs": [],
   "source": [
    "class MLE:\n",
    "    def __init__(self, ou):\n",
    "        self.ou = ou\n",
    "        \n",
    "    def compute_score(self, alpha, beta, m0, r):\n",
    "        \"\"\"\n",
    "            Compute the value of the score function at given parameters\n",
    "            return a dictionary matching each parameter to its gradient\n",
    "        \"\"\"\n",
    "        D = self.ou.D\n",
    "        \n",
    "        sigma = torch.tensor(self.ou.sigma).repeat(D, 1)\n",
    "        alpha = Variable(alpha, requires_grad = True)\n",
    "        beta = Variable(beta, requires_grad = True)\n",
    "        m0 = Variable(m0, requires_grad = False)\n",
    "        r = Variable(r, requires_grad = True)\n",
    "        \n",
    "        pts = self.ou.pts\n",
    "        dt = self.ou.dt\n",
    "        X = self.ou.trj\n",
    "         \n",
    "        def compute_transition(X, dt, alpha, beta, sigma, m0, pts):\n",
    "            \"\"\"\n",
    "            Compute the transition density of the (simulated) path\n",
    "            Note that if r < 0, term1 becomes nan ( there is a constraint that r > 0)\n",
    "            \"\"\"\n",
    "            beta_t = alpha * (((pts[:, :-1] + 1) ** beta) - 1) + m0 - torch.exp(r * dt) * (alpha * (((pts[:, 1:] + 1) ** beta) - 1) + m0) \n",
    "            term1 = -0.5 * (2 * torch.log(sigma) + torch.log( 1 - torch.exp(-2 * r * dt)) - torch.log( r ))\n",
    "            term2 = X[:,1:] - (X[:,:-1] - beta_t) * torch.exp( -1 * r * dt)\n",
    "            term3 = (sigma ** 2) * (1 - torch.exp(-2 * r * dt)) / r\n",
    "#             print(\"beta_t = \", beta_t, \"term1 = \", term1)\n",
    "            return torch.sum( term1 - ((term2 ** 2) / term3), axis=1)\n",
    "        \n",
    "        NLL = compute_transition(X, dt, alpha, beta, sigma, m0, pts)\n",
    "#         NLL.backward()\n",
    "        NLL.backward(torch.tensor([1.]).repeat(D))\n",
    "        \n",
    "        return {'beta':beta.grad.detach().clone(), 'alpha':alpha.grad.detach().clone(), \"r\":r.grad.detach().clone(), 'LNN':NLL.data.numpy()}"
   ]
  },
  {
   "cell_type": "markdown",
   "id": "34f47990",
   "metadata": {},
   "source": [
    "We simulate two different sample paths from time-dependent OU processes, each of which has the same set of parameters except for $\\alpha$ which has a different sign"
   ]
  },
  {
   "cell_type": "code",
   "execution_count": 5,
   "id": "d95604db",
   "metadata": {},
   "outputs": [],
   "source": [
    "alpha = torch.tensor([0.633, -0.633]).reshape(2, -1)\n",
    "beta = torch.tensor([3.59, 3.59]).reshape(2, -1)\n",
    "r = torch.tensor([1.124, 1.124]).reshape(2, -1)\n",
    "m0 = torch.tensor([1.79, 1.79]).reshape(2, -1)"
   ]
  },
  {
   "cell_type": "code",
   "execution_count": 6,
   "id": "4aeac096",
   "metadata": {},
   "outputs": [],
   "source": [
    "true_sde = tOU_vector(t0=0, t1=2, z0=m0, m0=m0, alpha=alpha, beta=beta, sigma=1, r=r, dN=40, D=2, timegrid = 'False')"
   ]
  },
  {
   "cell_type": "code",
   "execution_count": 7,
   "id": "9d16a260",
   "metadata": {
    "scrolled": false
   },
   "outputs": [
    {
     "data": {
      "image/png": "[encoded data removed]",
      "text/plain": [
       "<Figure size 504x432 with 1 Axes>"
      ]
     },
     "metadata": {
      "needs_background": "light"
     },
     "output_type": "display_data"
    }
   ],
   "source": [
    "post_mean = lambda x: alpha * (((x + 1) ** beta) - 1) + 0\n",
    "plt.figure(figsize=(7, 6))\n",
    "plt.plot(true_sde.pts.T, true_sde.trj.T, 'x', label='observations')\n",
    "plt.plot(true_sde.pts.T, post_mean(true_sde.pts).T, color='grey', linestyle='dashed', label='asymptotic mean')\n",
    "plt.legend()\n",
    "plt.xlabel(\"Time\")\n",
    "plt.ylabel(\"x\")\n",
    "plt.title(\"Time-dependent OU processes\")\n",
    "plt.show()"
   ]
  },
  {
   "cell_type": "markdown",
   "id": "875561bd",
   "metadata": {},
   "source": [
    "We make inferences for the parameters of the above sample paths based on gradient descent algorithm. The algorithm is vectorized. \n",
    "\n",
    "Note: Gradient descent algorithm is sensitive to initaliziation, in partciular, the sign of $\\alpha$. Hence, it is better to initialize $\\alpha$ around 0 so that the algorithm finds the right \"direction\"*"
   ]
  },
  {
   "cell_type": "code",
   "execution_count": 8,
   "id": "56b0a02e",
   "metadata": {
    "scrolled": true
   },
   "outputs": [
    {
     "name": "stdout",
     "output_type": "stream",
     "text": [
      "beta =  [[0.5]\n",
      " [0.5]] alpha =  [[ 0.00022881]\n",
      " [-0.00021781]] r =  [[0.99560515]\n",
      " [0.99599554]]\n",
      "MLE =  [-1038.8098534   -923.78079438]\n",
      "beta =  [[1.50369063]\n",
      " [1.2846785 ]] alpha =  [[ 1.03152825]\n",
      " [-0.88793504]] r =  [[0.00132441]\n",
      " [0.00119268]]\n",
      "MLE =  [-270.30228736 -248.34460252]\n",
      "beta =  [[2.97729198]\n",
      " [2.90110925]] alpha =  [[ 1.35243845]\n",
      " [-1.40532608]] r =  [[3.12436393e-08]\n",
      " [5.91262364e-06]]\n",
      "MLE =  [25.11622871 37.00762465]\n",
      "beta =  [[3.19278999]\n",
      " [3.46640624]] alpha =  [[ 1.03490655]\n",
      " [-0.6905666 ]] r =  [[3.12436393e-08]\n",
      " [3.15351111e+00]]\n",
      "MLE =  [28.07888377 43.46193353]\n",
      "beta =  [[3.3815747 ]\n",
      " [3.54098793]] alpha =  [[ 0.81994027]\n",
      " [-0.63691732]] r =  [[3.12436393e-08]\n",
      " [3.16987126e+00]]\n",
      "MLE =  [29.73525525 43.72658297]\n"
     ]
    }
   ],
   "source": [
    "beta_ = torch.tensor([0.5, 0.5], dtype=torch.float64).reshape(2,-1)\n",
    "alpha_ = torch.tensor([0., 0.], dtype=torch.float64).reshape(2,-1)\n",
    "r_ = torch.tensor([1., 1.], dtype=torch.float64).reshape(2,-1)\n",
    "\n",
    "learning_rate = 0.000005\n",
    "lr = learning_rate\n",
    "for i in range(50000):\n",
    "    mle = MLE(true_sde)\n",
    "    update = mle.compute_score(beta = beta_, alpha=alpha_, m0=m0, r=r_)\n",
    "    beta_ +=  learning_rate * update['beta']\n",
    "    alpha_ += learning_rate * update['alpha']\n",
    "    r__ = r_ + learning_rate * update['r']\n",
    "    # It is to ensure r should be strictly positive (i.e. projected gradient method)\n",
    "    while any(r__ < 0):\n",
    "        for d in range(r__.shape[0]):\n",
    "            if r__[d] < 0:\n",
    "                while r__[d] < 0:\n",
    "                    r__[d] = r_[d] + lr * update['r'][d]\n",
    "                    lr *= 0.5\n",
    "    r_ = r__\n",
    "        \n",
    "    if i % 10000 == 0:\n",
    "        print(\"beta = \", beta_.data.numpy(), 'alpha = ', alpha_.data.numpy(), 'r = ', r_.data.numpy())\n",
    "        print(\"MLE = \", update['LNN'])"
   ]
  },
  {
   "cell_type": "markdown",
   "id": "7eeb8717",
   "metadata": {},
   "source": [
    "Based on MLE estimator, we sample 50 different sample paths from the time-dependent OU. It is clear that these paths encaptulates our observations."
   ]
  },
  {
   "cell_type": "code",
   "execution_count": 9,
   "id": "fa320950",
   "metadata": {
    "scrolled": false
   },
   "outputs": [
    {
     "data": {
      "image/png": "[encoded data removed]",
      "text/plain": [
       "<Figure size 504x432 with 1 Axes>"
      ]
     },
     "metadata": {
      "needs_background": "light"
     },
     "output_type": "display_data"
    }
   ],
   "source": [
    "plt.figure(figsize=(7,6))\n",
    "plt.title(\"Fitted Process: MLE\")\n",
    "plt.plot(true_sde.pts.T, true_sde.trj.T, 'x', label='observations')\n",
    "for i in range(50):\n",
    "    vi = tOU_vector(0, 2, m0, m0, alpha_, beta_, 1., r_, D=2, dN = 30)\n",
    "    plt.plot(vi.pts.T, vi.trj.T, alpha=0.15, color='grey')\n",
    "    if i == 49:\n",
    "        plt.plot(vi.pts.T, vi.trj.T, alpha=0.15, color='grey', label='MLE')\n",
    "plt.xlabel(\"time\")\n",
    "plt.ylabel(\"x\")\n",
    "plt.legend()\n",
    "plt.show()"
   ]
  },
  {
   "cell_type": "markdown",
   "id": "005f40f9",
   "metadata": {},
   "source": [
    "Variational inference: KL"
   ]
  },
  {
   "cell_type": "code",
   "execution_count": 88,
   "id": "063c5550",
   "metadata": {},
   "outputs": [],
   "source": [
    "class ELBO:\n",
    "\n",
    "    \"\"\"\n",
    "        Given a simulated variational process, compute the gradient of the ELBO. \n",
    "    \"\"\"\n",
    "    def __init__(self, ou):\n",
    "        self.ou = ou\n",
    "        self.alpha = ou.alpha\n",
    "        self.beta = ou.beta\n",
    "        self.sigma = torch.tensor(ou.sigma)\n",
    "        self.r = ou.r\n",
    "        self.m0 = ou.m0\n",
    "        \n",
    "    def KL_ito(self):\n",
    "        \"\"\"\n",
    "            1. Compute the Riemann approximation to integral in KL divergence\n",
    "            \n",
    "        \"\"\"\n",
    "        # Save parameter specification from ou class\n",
    "        alpha, beta, sigma, r, m0 = self.alpha, self.beta, self.sigma, self.r, self.m0\n",
    "        \n",
    "        def B(s, beta):\n",
    "            return (s+1) ** beta\n",
    "        \n",
    "        # Obtain integral term (via Riemann approximation, e.g. trapezoid)\n",
    "        func = lambda s, z: -0.5 * (1-(r**2)) * z ** 2 + alpha * beta * (B(s, beta-1) + 1) * z \\\n",
    "                    -0.5 * ((r**2) - 1) * (alpha**2) * (beta**2) * B(s, 2*(beta-1)) \\\n",
    "                    -0.5 * (alpha * (B(s, beta) - 1) + m0 + r * alpha * beta * B(s, beta-1)) \\\n",
    "                    * (2 * z - alpha * (B(s, beta) - 1) - m0 - r * alpha * beta *B(s, beta - 1))\n",
    "        \n",
    "        num = func(self.ou.pts, self.ou.trj)\n",
    "\n",
    "        return torch.trapezoid(abs(num), x=self.ou.pts).reshape(-1, 1)\n",
    "    \n",
    "    def KL_rest(self):\n",
    "        \"\"\"\n",
    "            2. Compute the rest\n",
    "        \"\"\"\n",
    "\n",
    "        alpha, beta, sigma, r, m0 = self.alpha, self.beta, self.sigma, self.r, self.m0\n",
    "        D = self.ou.D\n",
    "        \n",
    "        z0 = self.ou.z0\n",
    "\n",
    "        z1 = self.ou.trj[:, -1].reshape(D, 1)\n",
    "        t0 = torch.tensor(self.ou.t0).repeat(D, 1)\n",
    "        t1 = torch.tensor(self.ou.t1).repeat(D, 1)\n",
    "        \n",
    "        # Obtain the rest \n",
    "        def A(s, u):\n",
    "            return (r - 1) * 0.5 * (u ** 2) - u * r * alpha * (((s+1) ** beta) - 1) - r * m0 * u - alpha * beta * (s+1) * u\n",
    "            \n",
    "        return A(t1, z1) - A(t0, z0) - 0.5 * (r - 1) * (t1 - t0)\n",
    "    \n",
    "    def log_prob(self, obs):\n",
    "        \"\"\"\n",
    "            Compute the log-likelihood\n",
    "            likelihood function is normal density N(obs, var)\n",
    "            obs.shape = D * 1 (D: # of sample)\n",
    "        \"\"\"\n",
    "        def log_pdf(obs, z):\n",
    "            return ss.norm.logpdf(obs, loc=z, scale=.001)\n",
    "            \n",
    "        return log_pdf(obs, self.ou.trj[:, -1].reshape(-1, 1))\n"
   ]
  },
  {
   "cell_type": "code",
   "execution_count": 118,
   "id": "48b1263f",
   "metadata": {},
   "outputs": [],
   "source": [
    "class Score:\n",
    "    def __init__(self, ou):\n",
    "        self.ou = ou\n",
    "        \n",
    "    def compute_score(self, alpha, beta, m0, r):\n",
    "        \"\"\"\n",
    "            Compute the value of the score function at given parameters\n",
    "            return a dictionary matching each parameter to its gradient\n",
    "        \"\"\"\n",
    "        D = self.ou.D\n",
    "        \n",
    "        sigma = torch.tensor(self.ou.sigma).repeat(D, 1)\n",
    "        alpha = Variable(alpha, requires_grad = True)\n",
    "        beta = Variable(beta, requires_grad = True)\n",
    "        m0 = Variable(m0, requires_grad = False)\n",
    "        r = Variable(r, requires_grad = True)\n",
    "        \n",
    "        pts = self.ou.pts\n",
    "        dt = self.ou.dt\n",
    "        X = self.ou.trj\n",
    "         \n",
    "        def compute_transition(X, dt, alpha, beta, sigma, m0, pts):\n",
    "            \"\"\"\n",
    "            Compute the transition density of the (simulated) path\n",
    "            Note that if r < 0, term1 becomes nan ( there is a constraint that r > 0)\n",
    "            \"\"\"\n",
    "            beta_t = alpha * (((pts[:, :-1] + 1) ** beta) - 1) + m0 - torch.exp(r * dt) * (alpha * (((pts[:, 1:] + 1) ** beta) - 1) + m0) \n",
    "            term1 = -0.5 * (2 * torch.log(sigma) + torch.log( 1 - torch.exp(-2 * r * dt)) - torch.log( r ))\n",
    "            term2 = X[:,1:] - (X[:,:-1] - beta_t) * torch.exp( -1 * r * dt)\n",
    "            term3 = (sigma ** 2) * (1 - torch.exp(-2 * r * dt)) / r\n",
    "#             print(\"beta_t = \", beta_t, \"term1 = \", term1)\n",
    "            return torch.sum( term1 - ((term2 ** 2) / term3), axis=1)\n",
    "        \n",
    "        NLL = compute_transition(X, dt, alpha, beta, sigma, m0, pts)\n",
    "#         NLL.backward()\n",
    "        NLL.backward(torch.tensor([1.]).repeat(D))\n",
    "        \n",
    "        return {'beta':beta.grad.detach().clone(), 'alpha':alpha.grad.detach().clone(), \"r\":r.grad.detach().clone(), 'LNN':NLL.data.numpy()}"
   ]
  },
  {
   "cell_type": "markdown",
   "id": "366eb03f",
   "metadata": {},
   "source": [
    "**Generate observations from Gaussian likelihood**"
   ]
  },
  {
   "cell_type": "markdown",
   "id": "3f0a8bdc",
   "metadata": {},
   "source": [
    "Noisy Observations from the SDE:\n",
    "\n",
    "$dX_{t} = -X_{t}dt + \\sigma dW_{t}$"
   ]
  },
  {
   "cell_type": "code",
   "execution_count": 119,
   "id": "3ba92c13",
   "metadata": {},
   "outputs": [],
   "source": [
    "true_sde = OU(t0 = 0, t1 = 6., z0 = 10, alpha = 0, beta = 1., sigma = 1., dN=1000)"
   ]
  },
  {
   "cell_type": "code",
   "execution_count": 120,
   "id": "ada4abc7",
   "metadata": {
    "scrolled": true
   },
   "outputs": [
    {
     "data": {
      "image/png": "[encoded data removed]",
      "text/plain": [
       "<Figure size 432x288 with 1 Axes>"
      ]
     },
     "metadata": {
      "needs_background": "light"
     },
     "output_type": "display_data"
    }
   ],
   "source": [
    "plt.plot(true_sde.pts, true_sde.trj, 'rx')\n",
    "plt.title(r\"time-dependent OU: $\\alpha$ = %.2f\" % true_sde.alpha + r\", $\\beta$ = %.2f\" % true_sde.beta + r\", $\\sigma$ = %.2f\" % true_sde.sigma)\n",
    "plt.show()"
   ]
  },
  {
   "cell_type": "code",
   "execution_count": 121,
   "id": "df5828d0",
   "metadata": {},
   "outputs": [],
   "source": [
    "obs = np.random.normal(loc = true_sde.trj[::100], scale = .001)\n",
    "obs_time = true_sde.pts[::100]"
   ]
  },
  {
   "cell_type": "code",
   "execution_count": 122,
   "id": "17b7ed88",
   "metadata": {},
   "outputs": [
    {
     "data": {
      "image/png": "[encoded data removed]",
      "text/plain": [
       "<Figure size 432x288 with 1 Axes>"
      ]
     },
     "metadata": {
      "needs_background": "light"
     },
     "output_type": "display_data"
    }
   ],
   "source": [
    "plt.title(\"Observations (x) from underlying SDE (--)\")\n",
    "plt.plot(true_sde.pts, true_sde.trj, '--')\n",
    "plt.plot(true_sde.pts[::100], obs, 'rx')\n",
    "plt.xlabel(\"time\")\n",
    "plt.ylabel(\"x\")\n",
    "plt.show()"
   ]
  },
  {
   "cell_type": "markdown",
   "id": "f0859993",
   "metadata": {},
   "source": [
    "**Variational inference: a piece-wise approximation**"
   ]
  },
  {
   "cell_type": "markdown",
   "id": "2129bd72",
   "metadata": {},
   "source": [
    "1. one-time variational inference from t=0 to t=1"
   ]
  },
  {
   "cell_type": "code",
   "execution_count": 123,
   "id": "f6f7d2df",
   "metadata": {},
   "outputs": [],
   "source": [
    "import tqdm as tq"
   ]
  },
  {
   "cell_type": "code",
   "execution_count": 125,
   "id": "143cd4c6",
   "metadata": {},
   "outputs": [
    {
     "data": {
      "text/plain": [
       "tensor([[10.0000],\n",
       "        [10.0000],\n",
       "        [10.0000],\n",
       "        [10.0000],\n",
       "        [10.0000]], dtype=torch.float64)"
      ]
     },
     "execution_count": 125,
     "metadata": {},
     "output_type": "execute_result"
    }
   ],
   "source": [
    "torch.tensor(obs[0]).repeat(5,1)"
   ]
  },
  {
   "cell_type": "code",
   "execution_count": null,
   "id": "a2eddce7",
   "metadata": {
    "scrolled": true
   },
   "outputs": [],
   "source": [
    "D = 50\n",
    "\n",
    "beta_ = torch.tensor([0.5], dtype=torch.float64).repeat(D,1)\n",
    "alpha_ = torch.tensor([0.], dtype=torch.float64).repeat(D,1)\n",
    "r_ = torch.tensor([1.], dtype=torch.float64).repeat(D,1)\n",
    "m0 = torch.tensor(obs[0]).repeat(D, 1)\n",
    "\n",
    "N = 50\n",
    "N_e = 50\n",
    "learning_rate = 0.0000001\n",
    "lr = learning_rate\n",
    "\n",
    "trace_pars = []\n",
    "trace_elbo = []\n",
    "for k in tq.tqdm(range(300)):\n",
    "    beta_grad = 0.\n",
    "    alpha_grad = 0.\n",
    "    r_grad = 0.\n",
    "\n",
    "    \n",
    "    vi = tOU(t0 = obs_time[0], t1 = obs_time[1], z0 = obs[0], m0 = m0, alpha = alpha_, beta = beta_, sigma = 1, r = r_, dN = 30)\n",
    "    elbo = ELBO(vi)\n",
    "    score = Score(vi)\n",
    "\n",
    "    scores = score.compute_score(torch.tensor(alpha_, dtype=torch.float64), torch.tensor(beta_, dtype=torch.float64)\\\n",
    "                                , torch.tensor(m0, dtype=torch.float64), torch.tensor(r_, dtype=torch.float64))\n",
    "    f_of_X = -1 * (elbo.log_prob(obs[1]) + elbo.KL_ito() + elbo.KL_rest())\n",
    "    beta_grad += f_of_X * scores['beta']\n",
    "    alpha_grad += f_of_X * scores['alpha']\n",
    "    r_grad += f_of_X * scores['r']\n",
    "        \n",
    "    beta_ -= learning_rate * (beta_grad/N).numpy()\n",
    "    alpha_ -= learning_rate * (alpha_grad/N).numpy()\n",
    "    r__ = r_ + learning_rate * (r_grad/N).numpy()\n",
    "    \n",
    "    # It is to ensure r should be strictly positive (i.e. projected gradient method)\n",
    "    while r__ < 0:\n",
    "        r__ = r_ + lr * (r_grad/N).numpy()\n",
    "        lr *= 0.5\n",
    "    r_ = r__\n",
    "\n",
    "    \n",
    "    elbo_estimate = 0\n",
    "    for j in range(N_e):\n",
    "        vi_ = tOU(t0 = obs_time[0], t1=obs_time[1], z0 = obs[0], m0 = m0, alpha = alpha_, beta = beta_, sigma = 1, r = r_, dN = 30)\n",
    "        elbo_ = ELBO(vi_)\n",
    "        elbo_estimate += -1 * (elbo_.log_prob(obs[1]) + elbo_.KL_ito() + elbo_.KL_rest())\n",
    "    \n",
    "    elbo_estimate *= 1/N_e\n",
    "    \n",
    "    if k % 100 == 0:\n",
    "        print(\"beta = \", beta_, \"alpha = \", alpha_, \"r = \", r_, 'ELBO = ', elbo_estimate)\n",
    "    \n",
    "    trace_pars.append((beta_, alpha_, r_))\n",
    "    trace_elbo.append(elbo_estimate)\n",
    "# score.compute_score()"
   ]
  },
  {
   "cell_type": "markdown",
   "id": "37895cc2",
   "metadata": {},
   "source": [
    "**Posterior mean**"
   ]
  },
  {
   "cell_type": "code",
   "execution_count": null,
   "id": "26cd010f",
   "metadata": {},
   "outputs": [],
   "source": [
    "post_mean = lambda x: alpha_ * (((x + 1) ** beta_) - 1) + m0"
   ]
  },
  {
   "cell_type": "code",
   "execution_count": null,
   "id": "22350fe6",
   "metadata": {},
   "outputs": [],
   "source": [
    "# plt.plot(true_sde.pts[:100], true_mean(true_sde.pts)[:100], color='r', alpha=0.3, linestyle='dashed', label=\"true mean\")\n",
    "plt.plot(true_sde.pts[:100], post_mean(true_sde.pts)[:100], color='black', label=\"posterior mean\")\n",
    "plt.plot(true_sde.pts[::100][:2], obs[:2], 'rx', label='observations')\n",
    "plt.legend()\n",
    "plt.xlabel(\"time\")\n",
    "plt.ylabel(\"x\")\n",
    "plt.show()"
   ]
  },
  {
   "cell_type": "code",
   "execution_count": null,
   "id": "fbf7db81",
   "metadata": {},
   "outputs": [],
   "source": [
    "for i in range(50):\n",
    "    posterior = tOU(t0 = obs_time[0], t1 = obs_time[1], z0 = obs[0], m0 = obs[0], alpha = alpha_, beta = beta_, sigma = 1, r = r_, dN = 30)\n",
    "    plt.plot(posterior.pts, posterior.trj, 'b')\n",
    "    plt.plot(obs_time, obs, 'rx')\n",
    "plt.plot(true_sde.pts,true_sde.trj, 'grey', linestyle='dashed')"
   ]
  },
  {
   "cell_type": "markdown",
   "id": "dcc30c78",
   "metadata": {},
   "source": [
    "**Trace plot: gradient**"
   ]
  },
  {
   "cell_type": "code",
   "execution_count": null,
   "id": "b48a925c",
   "metadata": {},
   "outputs": [],
   "source": [
    "fig, ax = plt.subplots(nrows=1, ncols=3, figsize=(20, 5))\n",
    "names = [r'$\\beta$', r'$\\alpha$', 'r']\n",
    "for i, ax in enumerate(ax.ravel()):\n",
    "    par = [item[i] for item in trace_pars]\n",
    "    ax.plot(np.arange(len(par)), par)\n",
    "    ax.set_title(names[i])\n",
    "    ax.set_xlabel('iterations')\n",
    "    ax.set_ylabel(names[i])\n",
    "# plt.title(\"Trace plot: beta\")\n",
    "# plt.plot(np.arange(len(betas)), betas)\n",
    "# plt.xlabel(\"iteration\")\n",
    "# plt.ylabel(r\"$\\beta$\")\n",
    "# plt.show()"
   ]
  },
  {
   "cell_type": "markdown",
   "id": "e60472c6",
   "metadata": {},
   "source": [
    "**Trace plot: ELBO**"
   ]
  },
  {
   "cell_type": "code",
   "execution_count": null,
   "id": "fd948d8a",
   "metadata": {},
   "outputs": [],
   "source": [
    "fig, ax = plt.subplots(nrows=1, ncols=2, figsize=(15, 5))\n",
    "\n",
    "for i, ax in enumerate(ax.ravel()):\n",
    "    ax.set_title(\"Trace plot: (Negative) ELBO\")\n",
    "    if i == 0:\n",
    "        ax.plot(np.arange(len(trace_elbo)), trace_elbo)\n",
    "    else:\n",
    "        ax.plot(np.arange(len(trace_elbo[50:])), trace_elbo[50:])\n",
    "        ax.set_title(\"(After 100 iterations) Trace plot: (Negative) ELBO\")\n",
    "    ax.set_xlabel(\"iteration\")\n",
    "    ax.set_ylabel(\"Negative ELBO\")\n",
    "plt.show()"
   ]
  },
  {
   "cell_type": "markdown",
   "id": "16c2b26f",
   "metadata": {},
   "source": [
    "**Posterior moment based on the average of last 30 iterations of beta**"
   ]
  },
  {
   "cell_type": "code",
   "execution_count": null,
   "id": "e3605e4e",
   "metadata": {},
   "outputs": [],
   "source": [
    "postmean = post_mean(true_sde.pts[:100])\n",
    "\n",
    "plt.plot(obs_time, obs, 'rx', label=\"observations\")\n",
    "plt.plot(true_sde.pts[:100], postmean, color='black', label=\"posterior mean\")\n",
    "plt.plot(true_sde.pts,true_sde.trj, 'red', linestyle='dashed', alpha= 0.3)\n",
    "plt.fill_between(true_sde.pts[:100], postmean - 0.5/r_, postmean + 0.5/r_, color='grey', alpha=0.3)\n",
    "plt.legend()\n",
    "plt.xlabel(\"time\")\n",
    "plt.ylabel(\"x\")\n",
    "plt.show()"
   ]
  },
  {
   "cell_type": "code",
   "execution_count": null,
   "id": "367cfe52",
   "metadata": {},
   "outputs": [],
   "source": []
  },
  {
   "cell_type": "code",
   "execution_count": null,
   "id": "b0ebdde2",
   "metadata": {},
   "outputs": [],
   "source": [
    "beta_ = 1.\n",
    "alpha_ = 0.\n",
    "r_ = 1.\n",
    "m0 = obs[3]\n",
    "\n",
    "N = 50\n",
    "N_e = 50\n",
    "learning_rate = 0.0000001\n",
    "lr = learning_rate\n",
    "\n",
    "trace_pars = []\n",
    "trace_elbo = []\n",
    "for k in tq.tqdm(range(300)):\n",
    "    beta_grad = 0.\n",
    "    alpha_grad = 0.\n",
    "    r_grad = 0.\n",
    "\n",
    "    for i in range(N):\n",
    "        vi = tOU(t0 = obs_time[3], t1 = obs_time[4], z0 = obs[3], m0 = m0, alpha = alpha_, beta = beta_, sigma = 1, r = r_, dN = 30)\n",
    "        elbo = ELBO(vi)\n",
    "        score = Score(vi)\n",
    "        \n",
    "        scores = score.compute_score(torch.tensor(alpha_, dtype=torch.float64), torch.tensor(beta_, dtype=torch.float64)\\\n",
    "                                    , torch.tensor(m0, dtype=torch.float64), torch.tensor(r_, dtype=torch.float64))\n",
    "        f_of_X = -1 * (elbo.log_prob(obs[4]) + elbo.KL_ito() + elbo.KL_rest())\n",
    "        beta_grad += f_of_X * scores['beta']\n",
    "        alpha_grad += f_of_X * scores['alpha']\n",
    "        r_grad += f_of_X * scores['r']\n",
    "        \n",
    "    beta_ -= learning_rate * (beta_grad/N).numpy()\n",
    "    alpha_ -= learning_rate * (alpha_grad/N).numpy()\n",
    "    r__ = r_ + learning_rate * (r_grad/N).numpy()\n",
    "    \n",
    "    # It is to ensure r should be strictly positive (i.e. projected gradient method)\n",
    "    while r__ < 0:\n",
    "        r__ = r_ + lr * (r_grad/N).numpy()\n",
    "        lr *= 0.5\n",
    "    r_ = r__\n",
    "\n",
    "    \n",
    "    elbo_estimate = 0\n",
    "    for j in range(N_e):\n",
    "        vi_ = tOU(t0 = obs_time[3], t1=obs_time[4], z0 = obs[3], m0 = m0, alpha = alpha_, beta = beta_, sigma = 1, r = r_, dN = 30)\n",
    "        elbo_ = ELBO(vi_)\n",
    "        elbo_estimate += -1 * (elbo_.log_prob(obs[4]) + elbo_.KL_ito() + elbo_.KL_rest())\n",
    "    \n",
    "    elbo_estimate *= 1/N_e\n",
    "    \n",
    "    if k % 100 == 0:\n",
    "        print(\"beta = \", beta_, \"alpha = \", alpha_, \"r = \", r_, 'ELBO = ', elbo_estimate)\n",
    "    \n",
    "    trace_pars.append((beta_, alpha_, r_))\n",
    "    trace_elbo.append(elbo_estimate)\n",
    "# score.compute_score()"
   ]
  },
  {
   "cell_type": "code",
   "execution_count": null,
   "id": "d65b0d22",
   "metadata": {},
   "outputs": [],
   "source": [
    "for i in range(50):\n",
    "    posterior = tOU(t0 = obs_time[3], t1 = obs_time[4], z0 = obs[3], m0 = obs[3], alpha = alpha_, beta = beta_, sigma = 1, r = r_, dN = 30)\n",
    "    plt.plot(posterior.pts, posterior.trj, 'b')\n",
    "    plt.plot(posterior.pts, func(posterior.pts), 'd')\n",
    "    plt.plot(obs_time, obs, 'rx')\n",
    "plt.plot(true_sde.pts,true_sde.trj, 'grey', linestyle='dashed')"
   ]
  },
  {
   "cell_type": "code",
   "execution_count": null,
   "id": "08b8062b",
   "metadata": {},
   "outputs": [],
   "source": []
  },
  {
   "cell_type": "code",
   "execution_count": null,
   "id": "89c32e60",
   "metadata": {},
   "outputs": [],
   "source": [
    "post_mean = lambda x: alpha_ * (((x + 1) ** beta_) - 1) + m0"
   ]
  },
  {
   "cell_type": "code",
   "execution_count": null,
   "id": "8c879b60",
   "metadata": {},
   "outputs": [],
   "source": [
    "alpha_ * ((true_sde.pts[300:400] + 1) ** beta_ - 1) + m0"
   ]
  },
  {
   "cell_type": "code",
   "execution_count": null,
   "id": "c6545298",
   "metadata": {},
   "outputs": [],
   "source": [
    "toy_sde = tOU(3, 100, m0, m0, alpha_, beta_, 1., r_, dN = 30)\n",
    "toy_sde_trj, toy_sde_dt = toy_sde.simulate()"
   ]
  },
  {
   "cell_type": "code",
   "execution_count": null,
   "id": "ced1e086",
   "metadata": {},
   "outputs": [],
   "source": [
    "m0"
   ]
  },
  {
   "cell_type": "code",
   "execution_count": null,
   "id": "c50fe37d",
   "metadata": {},
   "outputs": [],
   "source": [
    "func = lambda x: alpha_ * (((x + 1) ** beta_) - 1) + m0"
   ]
  },
  {
   "cell_type": "code",
   "execution_count": null,
   "id": "585c27ea",
   "metadata": {
    "scrolled": true
   },
   "outputs": [],
   "source": [
    "plt.plot(toy_sde.pts, toy_sde_trj, 'rx', label = 'time-dependent OU')\n",
    "plt.plot(toy_sde.pts, func(toy_sde.pts), linestyle='dashed', color='red', alpha=0.3, label='aymptotic mean')\n",
    "plt.legend()\n",
    "plt.xlabel(\"time\")\n",
    "plt.ylabel(\"x\")\n",
    "plt.show()"
   ]
  },
  {
   "cell_type": "code",
   "execution_count": null,
   "id": "8a738bf8",
   "metadata": {},
   "outputs": [],
   "source": []
  },
  {
   "cell_type": "code",
   "execution_count": null,
   "id": "e85a031b",
   "metadata": {},
   "outputs": [],
   "source": []
  },
  {
   "cell_type": "code",
   "execution_count": null,
   "id": "597c2fee",
   "metadata": {},
   "outputs": [],
   "source": []
  },
  {
   "cell_type": "code",
   "execution_count": null,
   "id": "e60151ce",
   "metadata": {},
   "outputs": [],
   "source": []
  },
  {
   "cell_type": "code",
   "execution_count": null,
   "id": "3dacb343",
   "metadata": {},
   "outputs": [],
   "source": [
    "postmean = post_mean(true_sde.pts[300:400])\n",
    "\n",
    "plt.plot(obs_time, obs, 'rx', label=\"observations\")\n",
    "plt.plot(true_sde.pts[300:400], postmean, color='black', label=\"posterior mean\")\n",
    "plt.plot(true_sde.pts,true_sde.trj, 'red', linestyle='dashed', alpha= 0.3)\n",
    "plt.fill_between(true_sde.pts[300:400], postmean - 0.5/r_, postmean + 0.5/r_, color='grey', alpha=0.3)\n",
    "plt.legend()\n",
    "plt.xlabel(\"time\")\n",
    "plt.ylabel(\"x\")\n",
    "plt.show()"
   ]
  },
  {
   "cell_type": "markdown",
   "id": "c12ba662",
   "metadata": {},
   "source": [
    "2. Complete piece-wise optimization from t=0 to t=10\n",
    "\n",
    "We use the posterior mean of the previous step as our initial value for next vi"
   ]
  },
  {
   "cell_type": "code",
   "execution_count": null,
   "id": "61386a01",
   "metadata": {
    "scrolled": true
   },
   "outputs": [],
   "source": [
    "N = 50\n",
    "N_e = 50\n",
    "learning_rate = 0.0000001\n",
    "lr = learning_rate\n",
    "z0 = obs[0]\n",
    "IT = 100\n",
    "\n",
    "elbo_traces = np.empty((9, IT))\n",
    "pars_traces = np.empty((3, 9, IT))\n",
    "\n",
    "for t in tq.tqdm(range(obs.shape[0]-1)):\n",
    "    # initilize a set of parameters\n",
    "    beta_ = np.random.uniform(1, 3)\n",
    "    alpha_ = 0.\n",
    "    r_ = np.random.uniform(1, 2)\n",
    "  \n",
    "    for i in range(IT):\n",
    "        beta_grad = 0.\n",
    "        alpha_grad = 0.\n",
    "        r_grad = 0.\n",
    "        \n",
    "        for k in range(N):\n",
    "            vi = tOU(t0 = obs_time[t], t1 = obs_time[t+1], z0 = z0, m0 = z0, alpha = alpha_ , beta = beta_ , sigma = 1., r = r_, dN=30)\n",
    "            elbo = ELBO(vi)\n",
    "            score = Score(vi)\n",
    "\n",
    "            scores = score.compute_score(torch.tensor(alpha_, dtype=torch.float64), torch.tensor(beta_, dtype=torch.float64)\\\n",
    "                            , torch.tensor(z0, dtype=torch.float64), torch.tensor(r_, dtype=torch.float64))\n",
    "\n",
    "            f_of_X = -1 * (elbo.log_prob(obs[t+1]) + elbo.KL_ito() + elbo.KL_rest())\n",
    "            \n",
    "            beta_grad += f_of_X * scores['beta']\n",
    "            alpha_grad += f_of_X * scores['alpha']\n",
    "            r_grad += f_of_X * scores['r']\n",
    "            \n",
    "        beta_ -= learning_rate * (beta_grad/N).numpy()\n",
    "        alpha_ -= learning_rate * (alpha_grad/N).numpy()\n",
    "        r__ = r_ + learning_rate * (r_grad/N).numpy()\n",
    "    \n",
    "        # It is to ensure r should be strictly positive (i.e. projected gradient method)\n",
    "        while r__ < 0:\n",
    "            r__ = r_ + lr * (r_grad/N).numpy()\n",
    "            lr *= 0.5\n",
    "        r_ = r__\n",
    "\n",
    "        \n",
    "        pars_traces[0, t, i] = alpha_\n",
    "        pars_traces[1, t, i] = beta_\n",
    "        pars_traces[2, t, i] = r_\n",
    "        \n",
    "        elbo_estimate = 0\n",
    "        for j in range(N_e):\n",
    "            vi_ = tOU(t0 = obs_time[t], t1=obs_time[t+1], z0 = z0, m0 = z0, alpha = alpha_, beta = beta_ , sigma = 1., r = r_, dN=30)\n",
    "            elbo_ = ELBO(vi_)\n",
    "            elbo_estimate += -1 * (elbo_.log_prob(obs[t+1]) + elbo_.KL_ito() + elbo_.KL_rest())\n",
    "    \n",
    "        elbo_estimate *= 1/N_e\n",
    "        if i % 10 == 0:\n",
    "            print(\"alpha = \", alpha_, \"beta = \", beta_, \"r = \", r_, \"elbo = \", elbo_estimate)\n",
    "        elbo_traces[t, i] = elbo_estimate\n",
    "\n",
    "    z0 +=  alpha_ * (((obs_time[t+1] + 1) ** np.mean(pars_traces[1, t, -30:])) - 1)\n",
    "    \n",
    "# score.compute_score()"
   ]
  },
  {
   "cell_type": "markdown",
   "id": "3c98123c",
   "metadata": {},
   "source": [
    "Trace plot: ELBO"
   ]
  },
  {
   "cell_type": "code",
   "execution_count": null,
   "id": "f496421f",
   "metadata": {},
   "outputs": [],
   "source": [
    "fig, ax = plt.subplots(nrows=3, ncols=3, figsize=(20, 10))\n",
    "t = 0\n",
    "for ax in ax.ravel():\n",
    "    ax.plot(np.arange(len(elbo_traces[t, :IT])), elbo_traces[t, :IT])\n",
    "    ax.set_xlabel(\"iteration\")\n",
    "    ax.set_ylabel(\"Negative ELBO, dt = %d\" % t)\n",
    "    t += 1\n",
    "    \n",
    "plt.suptitle(\"Trace plot: (Negative) ELBO\", size=15, y=0.95)\n",
    "plt.show()"
   ]
  },
  {
   "cell_type": "code",
   "execution_count": null,
   "id": "83668172",
   "metadata": {},
   "outputs": [],
   "source": [
    "fig, ax = plt.subplots(nrows=3, ncols=3, figsize=(20, 10))\n",
    "t = 0\n",
    "for ax in ax.ravel():\n",
    "    ax.plot(np.arange(len(pars_traces[0, t, :IT])), pars_traces[0, t, :IT])\n",
    "    ax.set_xlabel(\"iteration\")\n",
    "    ax.set_ylabel(\"beta, dt = %d\" % t)\n",
    "    t += 1\n",
    "    \n",
    "plt.suptitle(\"Trace plot: beta\")\n",
    "plt.show()"
   ]
  },
  {
   "cell_type": "code",
   "execution_count": null,
   "id": "d79e6d8c",
   "metadata": {},
   "outputs": [],
   "source": [
    "def g_posterior_moment(init, alpha, vi_beta, t0, t1):\n",
    "    \"\"\"\n",
    "        Obtain credible interval\n",
    "            posterior mean and variance are computed based on the theory (using fitted variational parameter at each interval)\n",
    "    \"\"\"\n",
    "    sigma = 1.\n",
    "    pts = np.linspace(t0,t1,900)\n",
    "    dt = pts[1:] - pts[:-1]\n",
    "    \n",
    "    mean = [init]\n",
    "    var = list(map(lambda t: np.sqrt((sigma ** 2 / (2*vi_beta[0])) * (1 - np.exp(-2 * vi_beta[0] * t))), dt[:100]))\n",
    "    \n",
    "    k = 0\n",
    "    for j in range(dt.shape[0]):\n",
    "        if j % 100 == 0:\n",
    "            beta = vi_beta[k]\n",
    "            k += 1\n",
    "        mean.append(alpha + (mean[j] - alpha)*np.exp(-1 * beta * dt[j]))\n",
    "        if (j % 100 == 0) and (j > 0):\n",
    "            func = lambda t: np.sqrt((sigma ** 2 / (2*beta)) * (1 - np.exp(-2 * beta * t)))\n",
    "            var += list(map(func, dt[j-100:j]))\n",
    "    return np.array(mean), np.array(var)"
   ]
  },
  {
   "cell_type": "code",
   "execution_count": null,
   "id": "7f8593d6",
   "metadata": {},
   "outputs": [],
   "source": [
    "pmean, pvar = g_posterior_moment(obs[0], 0, vi_beta, 0, 6)"
   ]
  },
  {
   "cell_type": "code",
   "execution_count": null,
   "id": "b7a81477",
   "metadata": {},
   "outputs": [],
   "source": [
    "plt.figure(figsize=(15,8))\n",
    "plt.title(\"Posterior process\")\n",
    "plt.plot(true_sde.pts, true_sde.trj, alpha=0.3, label='underlying SDE')\n",
    "plt.plot(true_sde.pts[:900], pmean, 'black', label='posterior mean')\n",
    "plt.fill_between(true_sde.pts[:900], pmean - pvar, pmean + pvar, alpha=0.5, color='grey')\n",
    "plt.plot(obs_time, obs, 'rx', label='observations')\n",
    "plt.legend()\n",
    "plt.xlabel(\"time\")\n",
    "plt.ylabel(\"x\")\n",
    "plt.show()"
   ]
  }
 ],
 "metadata": {
  "kernelspec": {
   "display_name": "Python 3 (ipykernel)",
   "language": "python",
   "name": "python3"
  },
  "language_info": {
   "codemirror_mode": {
    "name": "ipython",
    "version": 3
   },
   "file_extension": ".py",
   "mimetype": "text/x-python",
   "name": "python",
   "nbconvert_exporter": "python",
   "pygments_lexer": "ipython3",
   "version": "3.9.7"
  }
 },
 "nbformat": 4,
 "nbformat_minor": 5
}
