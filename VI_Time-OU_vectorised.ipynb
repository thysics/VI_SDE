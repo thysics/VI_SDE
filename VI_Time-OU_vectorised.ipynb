{
 "cells": [
  {
   "cell_type": "code",
   "execution_count": 1,
   "id": "591c0a5a",
   "metadata": {},
   "outputs": [],
   "source": [
    "import torch\n",
    "from torch.autograd import Variable\n",
    "from functorch import vmap\n",
    "import matplotlib.pylab as plt\n",
    "import numpy as np\n",
    "import scipy.stats as ss\n",
    "\n",
    "import random"
   ]
  },
  {
   "cell_type": "markdown",
   "id": "838b69b9",
   "metadata": {},
   "source": [
    "This code is to show how to optimize the parameter of the time-dependent OU processes based on MLE. This code has been vectorized so that it becomes possible to optimize a set of different sample paths at the same time"
   ]
  },
  {
   "cell_type": "code",
   "execution_count": 2,
   "id": "94f203e0",
   "metadata": {},
   "outputs": [],
   "source": [
    "class OU:\n",
    "    def __init__(self, t0, t1, z0, alpha, beta, sigma, dN):\n",
    "        self.t0 = t0\n",
    "        self.t1 = t1\n",
    "        self.z0 = z0\n",
    "        self.alpha = alpha\n",
    "        self.beta = beta\n",
    "        self.sigma = sigma\n",
    "        self.pts = torch.sort(torch.cat([torch.DoubleTensor(dN-2).uniform_(t0,t1), torch.tensor([self.t0, self.t1])]))[0]\n",
    "        self.trj, self.dt = self.simulate()\n",
    "        \n",
    "    def simulate(self):\n",
    "        \"\"\"\n",
    "            Simulate an OU process on a set of discrete points\n",
    "        \"\"\"\n",
    "        output = np.empty(len(self.pts))\n",
    "        output[0] = self.z0\n",
    "        interval = self.pts[1:] - self.pts[:-1]\n",
    "        for t in range(1, len(self.pts)):\n",
    "            \n",
    "            # if the distance is too small, variance becomes 0\n",
    "            dt = interval[t-1]\n",
    "            \n",
    "            mean = self.alpha + (output[t-1] - self.alpha) * np.exp(-1 * self.beta * dt)\n",
    "            var = np.sqrt((self.sigma ** 2) * (1 - np.exp(-2 * self.beta * dt)) / (2 * self.beta))\n",
    "            assert var > 0, \"variance is negative, var:%.3f interval: %.3f\" % (var, dt)\n",
    "            output[t] = ss.norm.rvs(loc = mean, scale = var)\n",
    "        return torch.from_numpy(output), interval"
   ]
  },
  {
   "cell_type": "markdown",
   "id": "1b1d7a52",
   "metadata": {},
   "source": [
    "**Class: OU processes**"
   ]
  },
  {
   "cell_type": "code",
   "execution_count": 3,
   "id": "dd35267e",
   "metadata": {},
   "outputs": [],
   "source": [
    "class tOU_vector:\n",
    "    \"\"\"\n",
    "        simulate multiple trajectories at one-go via vectorisation;\n",
    "        \n",
    "    \"\"\"\n",
    "    \n",
    "    def __init__(self, t0, t1, z0, m0, alpha, beta, sigma, r, dN, D, timegrid = 'True'):\n",
    "        \"\"\"\n",
    "        \n",
    "        \"\"\"\n",
    "        self.t0 = t0\n",
    "        self.t1 = t1\n",
    "        self.z0 = z0\n",
    "        self.m0 = m0\n",
    "        \n",
    "        self.alpha = alpha\n",
    "        self.beta = beta\n",
    "        self.sigma = sigma\n",
    "        self.r = r\n",
    "        \"\"\"\n",
    "            # of trajectories you wish to sample\n",
    "        \"\"\"\n",
    "        self.D = D\n",
    "        if timegrid == 'True':\n",
    "            self.pts = torch.linspace(t0, t1, dN).repeat(D, 1)\n",
    "        else:\n",
    "            self.pts = torch.sort(torch.cat([(t1 - t0) * torch.rand(D, dN-2) + t0, torch.tensor([self.t0, self.t1]).repeat(D,1)], axis=1), axis=1)[0]\n",
    "#             self.pts = torch.sort(torch.cat([torch.DoubleTensor(dN-2).uniform_(t0,t1), torch.tensor([self.t0, self.t1])]))[0].repeat(D,1)\n",
    "        self.trj, self.dt = self.simulate()\n",
    "\n",
    "    def simulate(self):\n",
    "        \"\"\"\n",
    "            Simulate an OU process on a set of discrete points\n",
    "            outcome\n",
    "                D by N matrices whose row corresponds to one independent time-dependent OU process\n",
    "        \"\"\"\n",
    "        output = torch.empty(self.pts.shape)\n",
    "        output[:,0] = self.z0.flatten()\n",
    "        interval = self.pts[:, 1:] - self.pts[:, :-1]\n",
    "        beta_t = self.alpha * ((( self.pts[:, :-1] + 1) ** self.beta) - 1 ) + self.m0 \\\n",
    "                - np.exp(self.r * interval) * (self.alpha * (((self.pts[:, 1:] + 1)**self.beta) - 1) + self.m0)\n",
    "        for t in range(1, self.pts.shape[1]):\n",
    "            # if the distance is too small, variance becomes 0\n",
    "            mean = (output[:, t-1] - beta_t[:, t-1]) * torch.exp(-1 * self.r.flatten() * interval[:, t-1] )\n",
    "            var = ((self.sigma ** 2 ) / (2*self.r.flatten())) * (1 - torch.exp(-2 * self.r.flatten() * interval[:, t-1]))\n",
    "            if self.D > 1:\n",
    "                output[:, t] = torch.from_numpy(ss.multivariate_normal.rvs(mean = mean, cov = torch.diag(var)))\n",
    "            else:\n",
    "                assert var > 0, \"variance is negative, sd:%.3f interval: %.3f\" % (var, interval[t-1] )\n",
    "                output[:, t] = ss.norm.rvs(loc = mean, scale = np.sqrt(var))\n",
    "            \n",
    "        return [output, interval]"
   ]
  },
  {
   "cell_type": "code",
   "execution_count": 4,
   "id": "07b5acf7",
   "metadata": {},
   "outputs": [],
   "source": [
    "class MLE:\n",
    "    def __init__(self, ou):\n",
    "        self.ou = ou\n",
    "        \n",
    "    def compute_score(self, alpha, beta, m0, r):\n",
    "        \"\"\"\n",
    "            Compute the value of the score function at given parameters\n",
    "            return a dictionary matching each parameter to its gradient\n",
    "        \"\"\"\n",
    "        D = self.ou.D\n",
    "        \n",
    "        sigma = torch.tensor(self.ou.sigma).repeat(D, 1)\n",
    "        alpha = Variable(alpha, requires_grad = True)\n",
    "        beta = Variable(beta, requires_grad = True)\n",
    "        m0 = Variable(m0, requires_grad = False)\n",
    "        r = Variable(r, requires_grad = True)\n",
    "        \n",
    "        pts = self.ou.pts\n",
    "        dt = self.ou.dt\n",
    "        X = self.ou.trj\n",
    "         \n",
    "        def compute_transition(X, dt, alpha, beta, sigma, m0, pts):\n",
    "            \"\"\"\n",
    "            Compute the transition density of the (simulated) path\n",
    "            Note that if r < 0, term1 becomes nan ( there is a constraint that r > 0)\n",
    "            \"\"\"\n",
    "            beta_t = alpha * (((pts[:, :-1] + 1) ** beta) - 1) + m0 - torch.exp(r * dt) * (alpha * (((pts[:, 1:] + 1) ** beta) - 1) + m0) \n",
    "            term1 = -0.5 * (2 * torch.log(sigma) + torch.log( 1 - torch.exp(-2 * r * dt)) - torch.log( r ))\n",
    "            term2 = X[:,1:] - (X[:,:-1] - beta_t) * torch.exp( -1 * r * dt)\n",
    "            term3 = (sigma ** 2) * (1 - torch.exp(-2 * r * dt)) / r\n",
    "#             print(\"beta_t = \", beta_t, \"term1 = \", term1)\n",
    "            return torch.sum( term1 - ((term2 ** 2) / term3), axis=1)\n",
    "        \n",
    "        NLL = compute_transition(X, dt, alpha, beta, sigma, m0, pts)\n",
    "#         NLL.backward()\n",
    "        NLL.backward(torch.tensor([1.]).repeat(D))\n",
    "        \n",
    "        return {'beta':beta.grad.detach().clone(), 'alpha':alpha.grad.detach().clone(), \"r\":r.grad.detach().clone(), 'LNN':NLL.data.numpy()}"
   ]
  },
  {
   "cell_type": "markdown",
   "id": "34f47990",
   "metadata": {},
   "source": [
    "We simulate two different sample paths from time-dependent OU processes, each of which has the same set of parameters except for $\\alpha$ which has a different sign"
   ]
  },
  {
   "cell_type": "code",
   "execution_count": 5,
   "id": "d95604db",
   "metadata": {},
   "outputs": [],
   "source": [
    "alpha = torch.tensor([0.633, -0.633]).reshape(2, -1)\n",
    "beta = torch.tensor([3.59, 3.59]).reshape(2, -1)\n",
    "r = torch.tensor([1.124, 1.124]).reshape(2, -1)\n",
    "m0 = torch.tensor([1.79, 1.79]).reshape(2, -1)"
   ]
  },
  {
   "cell_type": "code",
   "execution_count": 6,
   "id": "4aeac096",
   "metadata": {},
   "outputs": [],
   "source": [
    "true_sde = tOU_vector(t0=0, t1=2, z0=m0, m0=m0, alpha=alpha, beta=beta, sigma=1, r=r, dN=40, D=2, timegrid = 'False')"
   ]
  },
  {
   "cell_type": "code",
   "execution_count": 7,
   "id": "9d16a260",
   "metadata": {
    "scrolled": false
   },
   "outputs": [
    {
     "data": {
      "image/png": "[encoded data removed]",
      "text/plain": [
       "<Figure size 504x432 with 1 Axes>"
      ]
     },
     "metadata": {
      "needs_background": "light"
     },
     "output_type": "display_data"
    }
   ],
   "source": [
    "post_mean = lambda x: alpha * (((x + 1) ** beta) - 1) + 0\n",
    "plt.figure(figsize=(7, 6))\n",
    "plt.plot(true_sde.pts.T, true_sde.trj.T, 'x', label='observations')\n",
    "plt.plot(true_sde.pts.T, post_mean(true_sde.pts).T, color='grey', linestyle='dashed', label='asymptotic mean')\n",
    "plt.legend()\n",
    "plt.xlabel(\"Time\")\n",
    "plt.ylabel(\"x\")\n",
    "plt.title(\"Time-dependent OU processes\")\n",
    "plt.show()"
   ]
  },
  {
   "cell_type": "markdown",
   "id": "875561bd",
   "metadata": {},
   "source": [
    "We make inferences for the parameters of the above sample paths based on gradient descent algorithm. The algorithm is vectorized. \n",
    "\n",
    "Note: Gradient descent algorithm is sensitive to initaliziation, in partciular, the sign of $\\alpha$. Hence, it is better to initialize $\\alpha$ around 0 so that the algorithm finds the right \"direction\"*"
   ]
  },
  {
   "cell_type": "code",
   "execution_count": 8,
   "id": "56b0a02e",
   "metadata": {
    "scrolled": true
   },
   "outputs": [
    {
     "name": "stdout",
     "output_type": "stream",
     "text": [
      "beta =  [[0.5]\n",
      " [0.5]] alpha =  [[ 0.00023445]\n",
      " [-0.0002286 ]] r =  [[0.99536559]\n",
      " [0.9955884 ]]\n",
      "MLE =  [-1101.08760867 -1042.46180083]\n",
      "beta =  [[1.64338073]\n",
      " [1.51948372]] alpha =  [[ 1.11549482]\n",
      " [-1.03829646]] r =  [[9.79184389e-04]\n",
      " [1.70622502e-07]]\n",
      "MLE =  [-270.21518766 -266.91747838]\n",
      "beta =  [[2.99424144]\n",
      " [2.99917627]] alpha =  [[ 1.36055444]\n",
      " [-1.33585623]] r =  [[8.01797213e-08]\n",
      " [4.05272610e-08]]\n",
      "MLE =  [21.41563542 36.11250013]\n",
      "beta =  [[3.19276124]\n",
      " [3.22014481]] alpha =  [[ 1.06298439]\n",
      " [-1.01523196]] r =  [[8.01797213e-08]\n",
      " [4.05272610e-08]]\n",
      "MLE =  [23.99348514 39.16856505]\n",
      "beta =  [[3.35807559]\n",
      " [3.40411961]] alpha =  [[ 0.86660209]\n",
      " [-0.80910412]] r =  [[8.01797213e-08]\n",
      " [4.05272610e-08]]\n",
      "MLE =  [25.32958094 40.71873334]\n"
     ]
    }
   ],
   "source": [
    "beta_ = torch.tensor([0.5, 0.5], dtype=torch.float64).reshape(2,-1)\n",
    "alpha_ = torch.tensor([0., 0.], dtype=torch.float64).reshape(2,-1)\n",
    "r_ = torch.tensor([1., 1.], dtype=torch.float64).reshape(2,-1)\n",
    "\n",
    "learning_rate = 0.000005\n",
    "lr = learning_rate\n",
    "for i in range(50000):\n",
    "    mle = MLE(true_sde)\n",
    "    update = mle.compute_score(beta = beta_, alpha=alpha_, m0=m0, r=r_)\n",
    "    beta_ +=  learning_rate * update['beta']\n",
    "    alpha_ += learning_rate * update['alpha']\n",
    "    r__ = r_ + learning_rate * update['r']\n",
    "    # It is to ensure r should be strictly positive (i.e. projected gradient method)\n",
    "    while any(r__ < 0):\n",
    "        for d in range(r__.shape[0]):\n",
    "            if r__[d] < 0:\n",
    "                while r__[d] < 0:\n",
    "                    r__[d] = r_[d] + lr * update['r'][d]\n",
    "                    lr *= 0.5\n",
    "    r_ = r__\n",
    "        \n",
    "    if i % 10000 == 0:\n",
    "        print(\"beta = \", beta_.data.numpy(), 'alpha = ', alpha_.data.numpy(), 'r = ', r_.data.numpy())\n",
    "        print(\"MLE = \", update['LNN'])"
   ]
  },
  {
   "cell_type": "markdown",
   "id": "7eeb8717",
   "metadata": {},
   "source": [
    "Based on MLE estimator, we sample 50 different sample paths from the time-dependent OU. It is clear that these paths encaptulates our observations."
   ]
  },
  {
   "cell_type": "code",
   "execution_count": 11,
   "id": "fa320950",
   "metadata": {
    "scrolled": false
   },
   "outputs": [
    {
     "data": {
      "image/png": "[encoded data removed]",
      "text/plain": [
       "<Figure size 504x432 with 1 Axes>"
      ]
     },
     "metadata": {
      "needs_background": "light"
     },
     "output_type": "display_data"
    }
   ],
   "source": [
    "plt.figure(figsize=(7,6))\n",
    "plt.title(\"Fitted Process: MLE\")\n",
    "plt.plot(true_sde.pts.T, true_sde.trj.T, 'x', label='observations')\n",
    "\n",
    "for i in range(50):\n",
    "    vi = tOU_vector(0, 2, m0, m0, alpha_, beta_, 1., r_, D=2, dN = 30)\n",
    "    plt.plot(vi.pts.T, vi.trj.T, alpha=0.15, color='grey')\n",
    "    if i == 49:\n",
    "        plt.plot(vi.pts.T, vi.trj.T, alpha=0.15, color='grey', label='MLE')\n",
    "plt.xlabel(\"time\")\n",
    "plt.ylabel(\"x\")\n",
    "plt.legend()\n",
    "plt.show()"
   ]
  },
  {
   "cell_type": "markdown",
   "id": "005f40f9",
   "metadata": {},
   "source": [
    "Variational inference: KL"
   ]
  },
  {
   "cell_type": "code",
   "execution_count": 67,
   "id": "063c5550",
   "metadata": {},
   "outputs": [],
   "source": [
    "class ELBO:\n",
    "\n",
    "    \"\"\"\n",
    "        Given a simulated variational process, compute the gradient of the ELBO. \n",
    "    \"\"\"\n",
    "    def __init__(self, ou):\n",
    "        self.ou = ou\n",
    "        self.alpha = ou.alpha\n",
    "        self.beta = ou.beta\n",
    "        self.sigma = torch.tensor(ou.sigma)\n",
    "        self.r = ou.r\n",
    "        self.m0 = ou.m0\n",
    "        \n",
    "    def KL_ito(self):\n",
    "        \"\"\"\n",
    "            1. Compute the Riemann approximation to integral in KL divergence\n",
    "            \n",
    "        \"\"\"\n",
    "        # Save parameter specification from ou class\n",
    "        alpha, beta, sigma, r, m0 = self.alpha, self.beta, self.sigma, self.r, self.m0\n",
    "        \n",
    "        def B(s, beta):\n",
    "            return (s+1) ** beta\n",
    "        \n",
    "        # Obtain integral term (via Riemann approximation, e.g. trapezoid)\n",
    "        func = lambda s, z: -0.5 * (1-(r**2)) * z ** 2 + alpha * beta * (B(s, beta-1) + 1) * z \\\n",
    "                    -0.5 * ((r**2) - 1) * (alpha**2) * (beta**2) * B(s, 2*(beta-1)) \\\n",
    "                    -0.5 * (alpha * (B(s, beta) - 1) + m0 + r * alpha * beta * B(s, beta-1)) \\\n",
    "                    * (2 * z - alpha * (B(s, beta) - 1) - m0 - r * alpha * beta *B(s, beta - 1))\n",
    "        \n",
    "        num = func(self.ou.pts, self.ou.trj)\n",
    "\n",
    "        return torch.trapezoid(abs(num), x=self.ou.pts).reshape(-1, 1)\n",
    "    \n",
    "    def KL_rest(self):\n",
    "        \"\"\"\n",
    "            2. Compute the rest\n",
    "        \"\"\"\n",
    "\n",
    "        alpha, beta, sigma, r, m0 = self.alpha, self.beta, self.sigma, self.r, self.m0\n",
    "        D = self.ou.D\n",
    "        \n",
    "        z0 = self.ou.z0\n",
    "\n",
    "        z1 = self.ou.trj[:, -1].reshape(D, 1)\n",
    "        t0 = self.ou.t0.clone().detach().repeat(D, 1)\n",
    "        t1 = self.ou.t1.clone().detach().repeat(D, 1)\n",
    "        \n",
    "        # Obtain the rest \n",
    "        def A(s, u):\n",
    "            return (r - 1) * 0.5 * (u ** 2) - u * r * alpha * (((s+1) ** beta) - 1) - r * m0 * u - alpha * beta * (s+1) * u\n",
    "            \n",
    "        return A(t1, z1) - A(t0, z0) - 0.5 * (r - 1) * (t1 - t0)\n",
    "    \n",
    "    def log_prob(self, obs):\n",
    "        \"\"\"\n",
    "            Compute the log-likelihood\n",
    "            likelihood function is normal density N(obs, var)\n",
    "            obs.shape = D * 1 (D: # of sample)\n",
    "        \"\"\"\n",
    "        def log_pdf(obs, z):\n",
    "            return ss.norm.logpdf(obs, loc=z, scale=.001)\n",
    "            \n",
    "        return torch.from_numpy(log_pdf(obs, self.ou.trj[:, -1].reshape(-1, 1)))\n"
   ]
  },
  {
   "cell_type": "code",
   "execution_count": 68,
   "id": "b1884715",
   "metadata": {},
   "outputs": [],
   "source": [
    "class Score:\n",
    "    def __init__(self, ou):\n",
    "        self.ou = ou\n",
    "        \n",
    "    def compute_score(self, alpha, beta, m0, r):\n",
    "        \"\"\"\n",
    "            Compute the value of the score function at given parameters\n",
    "            return a dictionary matching each parameter to its gradient\n",
    "        \"\"\"\n",
    "        D = self.ou.D\n",
    "        \n",
    "        sigma = torch.tensor(self.ou.sigma).repeat(D, 1)\n",
    "        alpha = Variable(alpha, requires_grad = True)\n",
    "        beta = Variable(beta, requires_grad = True)\n",
    "        m0 = Variable(m0, requires_grad = False)\n",
    "        r = Variable(r, requires_grad = True)\n",
    "        \n",
    "        pts = self.ou.pts\n",
    "        dt = self.ou.dt\n",
    "        X = self.ou.trj\n",
    "         \n",
    "        def compute_transition(X, dt, alpha, beta, sigma, m0, pts):\n",
    "            \"\"\"\n",
    "            Compute the transition density of the (simulated) path\n",
    "            Note that if r < 0, term1 becomes nan ( there is a constraint that r > 0)\n",
    "            \"\"\"\n",
    "            beta_t = alpha * (((pts[:, :-1] + 1) ** beta) - 1) + m0 - torch.exp(r * dt) * (alpha * (((pts[:, 1:] + 1) ** beta) - 1) + m0) \n",
    "            term1 = -0.5 * (2 * torch.log(sigma) + torch.log( 1 - torch.exp(-2 * r * dt)) - torch.log( r ))\n",
    "            term2 = X[:,1:] - (X[:,:-1] - beta_t) * torch.exp( -1 * r * dt)\n",
    "            term3 = (sigma ** 2) * (1 - torch.exp(-2 * r * dt)) / r\n",
    "#             print(\"beta_t = \", beta_t, \"term1 = \", term1)\n",
    "            return torch.sum( term1 - ((term2 ** 2) / term3), axis=1)\n",
    "        \n",
    "        NLL = compute_transition(X, dt, alpha, beta, sigma, m0, pts)\n",
    "#         NLL.backward()\n",
    "        NLL.backward(torch.tensor([1.]).repeat(D))\n",
    "        \n",
    "        return {'beta':beta.grad.detach().clone(), 'alpha':alpha.grad.detach().clone(), \"r\":r.grad.detach().clone(), 'LNN':NLL.data.numpy()}"
   ]
  },
  {
   "cell_type": "markdown",
   "id": "366eb03f",
   "metadata": {},
   "source": [
    "**Generate observations from Gaussian likelihood**"
   ]
  },
  {
   "cell_type": "markdown",
   "id": "3f0a8bdc",
   "metadata": {},
   "source": [
    "Noisy Observations from the SDE:\n",
    "\n",
    "$dX_{t} = -X_{t}dt + \\sigma dW_{t}$"
   ]
  },
  {
   "cell_type": "code",
   "execution_count": 69,
   "id": "3ba92c13",
   "metadata": {},
   "outputs": [],
   "source": [
    "true_sde = OU(t0 = 0, t1 = 6., z0 = 10, alpha = 0, beta = 1., sigma = 1., dN=601)"
   ]
  },
  {
   "cell_type": "code",
   "execution_count": 70,
   "id": "ada4abc7",
   "metadata": {
    "scrolled": true
   },
   "outputs": [
    {
     "data": {
      "image/png": "[encoded data removed]",
      "text/plain": [
       "<Figure size 432x288 with 1 Axes>"
      ]
     },
     "metadata": {
      "needs_background": "light"
     },
     "output_type": "display_data"
    }
   ],
   "source": [
    "plt.plot(true_sde.pts, true_sde.trj, 'rx')\n",
    "plt.title(r\"time-dependent OU: $\\alpha$ = %.2f\" % true_sde.alpha + r\", $\\beta$ = %.2f\" % true_sde.beta + r\", $\\sigma$ = %.2f\" % true_sde.sigma)\n",
    "plt.show()"
   ]
  },
  {
   "cell_type": "code",
   "execution_count": 71,
   "id": "df5828d0",
   "metadata": {},
   "outputs": [],
   "source": [
    "obs = np.random.normal(loc = true_sde.trj[::100], scale = .001)\n",
    "obs_time = true_sde.pts[::100]"
   ]
  },
  {
   "cell_type": "code",
   "execution_count": 72,
   "id": "17b7ed88",
   "metadata": {},
   "outputs": [
    {
     "data": {
      "image/png": "[encoded data removed]",
      "text/plain": [
       "<Figure size 432x288 with 1 Axes>"
      ]
     },
     "metadata": {
      "needs_background": "light"
     },
     "output_type": "display_data"
    }
   ],
   "source": [
    "plt.title(\"Observations (x) from underlying SDE (--)\")\n",
    "plt.plot(true_sde.pts, true_sde.trj, '--')\n",
    "plt.plot(true_sde.pts[::100], obs, 'rx')\n",
    "plt.xlabel(\"time\")\n",
    "plt.ylabel(\"x\")\n",
    "plt.show()"
   ]
  },
  {
   "cell_type": "markdown",
   "id": "f0859993",
   "metadata": {},
   "source": [
    "**Variational inference: a piece-wise approximation**"
   ]
  },
  {
   "cell_type": "markdown",
   "id": "2129bd72",
   "metadata": {},
   "source": [
    "1. one-time variational inference from t=0 to t=1"
   ]
  },
  {
   "cell_type": "code",
   "execution_count": 73,
   "id": "f6f7d2df",
   "metadata": {},
   "outputs": [],
   "source": [
    "import tqdm as tq"
   ]
  },
  {
   "cell_type": "code",
   "execution_count": 89,
   "id": "a2eddce7",
   "metadata": {
    "scrolled": true
   },
   "outputs": [
    {
     "name": "stderr",
     "output_type": "stream",
     "text": [
      "  2%|▊                                          | 6/300 [00:00<00:05, 53.68it/s]"
     ]
    },
    {
     "name": "stdout",
     "output_type": "stream",
     "text": [
      "beta =  tensor([0.9213]) alpha =  tensor([-0.0530]) r =  tensor([0.7706])\n",
      "beta =  tensor([0.9213]) alpha =  tensor([-0.0530]) r =  tensor([0.7706]) (Negative) ELBO =  tensor(236778.6291, dtype=torch.float64)\n",
      "beta =  tensor([0.9286]) alpha =  tensor([-0.1550]) r =  tensor([0.7999])\n",
      "beta =  tensor([0.9637]) alpha =  tensor([-0.3105]) r =  tensor([0.8287])\n",
      "beta =  tensor([0.9568]) alpha =  tensor([-0.2954]) r =  tensor([0.8072])\n",
      "beta =  tensor([1.0194]) alpha =  tensor([-0.4470]) r =  tensor([0.7921])\n",
      "beta =  tensor([1.0533]) alpha =  tensor([-0.5089]) r =  tensor([0.7995])\n",
      "beta =  tensor([1.0837]) alpha =  tensor([-0.5555]) r =  tensor([0.8203])\n",
      "beta =  tensor([1.1162]) alpha =  tensor([-0.5939]) r =  tensor([0.8375])\n",
      "beta =  tensor([1.1900]) alpha =  tensor([-0.6920]) r =  tensor([0.8453])\n",
      "beta =  tensor([1.2571]) alpha =  tensor([-0.7730]) r =  tensor([0.8296])\n",
      "beta =  tensor([1.3582]) alpha =  tensor([-0.8916]) r =  tensor([0.8687])\n",
      "beta =  tensor([1.4219]) alpha =  tensor([-0.9415]) r =  tensor([0.8728])\n"
     ]
    },
    {
     "name": "stderr",
     "output_type": "stream",
     "text": [
      "  7%|██▊                                       | 20/300 [00:00<00:04, 59.44it/s]"
     ]
    },
    {
     "name": "stdout",
     "output_type": "stream",
     "text": [
      "beta =  tensor([1.5739]) alpha =  tensor([-1.0846]) r =  tensor([0.8689])\n",
      "beta =  tensor([1.8461]) alpha =  tensor([-1.3219]) r =  tensor([0.8796])\n",
      "beta =  tensor([1.9855]) alpha =  tensor([-1.4232]) r =  tensor([0.8706])\n",
      "beta =  tensor([2.0464]) alpha =  tensor([-1.4726]) r =  tensor([0.8715])\n",
      "beta =  tensor([2.0984]) alpha =  tensor([-1.5165]) r =  tensor([0.8718])\n",
      "beta =  tensor([2.1658]) alpha =  tensor([-1.5664]) r =  tensor([0.8698])\n",
      "beta =  tensor([2.2567]) alpha =  tensor([-1.6319]) r =  tensor([0.8728])\n",
      "beta =  tensor([2.2966]) alpha =  tensor([-1.6608]) r =  tensor([0.8733])\n",
      "beta =  tensor([2.3298]) alpha =  tensor([-1.6835]) r =  tensor([0.8738])\n",
      "beta =  tensor([2.3681]) alpha =  tensor([-1.7105]) r =  tensor([0.8762])\n",
      "beta =  tensor([2.3566]) alpha =  tensor([-1.7022]) r =  tensor([0.8769])\n",
      "beta =  tensor([2.3485]) alpha =  tensor([-1.6968]) r =  tensor([0.8797])\n",
      "beta =  tensor([2.3310]) alpha =  tensor([-1.6853]) r =  tensor([0.8822])\n"
     ]
    },
    {
     "name": "stderr",
     "output_type": "stream",
     "text": [
      " 11%|████▌                                     | 33/300 [00:00<00:04, 59.48it/s]"
     ]
    },
    {
     "name": "stdout",
     "output_type": "stream",
     "text": [
      "beta =  tensor([2.3478]) alpha =  tensor([-1.6965]) r =  tensor([0.8830])\n",
      "beta =  tensor([2.3175]) alpha =  tensor([-1.6762]) r =  tensor([0.8876])\n",
      "beta =  tensor([2.3337]) alpha =  tensor([-1.6880]) r =  tensor([0.8894])\n",
      "beta =  tensor([2.3636]) alpha =  tensor([-1.7065]) r =  tensor([0.8917])\n",
      "beta =  tensor([2.3792]) alpha =  tensor([-1.7171]) r =  tensor([0.8932])\n",
      "beta =  tensor([2.3831]) alpha =  tensor([-1.7210]) r =  tensor([0.8981])\n",
      "beta =  tensor([2.3598]) alpha =  tensor([-1.7060]) r =  tensor([0.8986])\n",
      "beta =  tensor([2.3411]) alpha =  tensor([-1.6944]) r =  tensor([0.8993])\n",
      "beta =  tensor([2.3208]) alpha =  tensor([-1.6803]) r =  tensor([0.9016])\n",
      "beta =  tensor([2.3314]) alpha =  tensor([-1.6877]) r =  tensor([0.9025])\n",
      "beta =  tensor([2.3362]) alpha =  tensor([-1.6915]) r =  tensor([0.9044])\n",
      "beta =  tensor([2.3340]) alpha =  tensor([-1.6896]) r =  tensor([0.9058])\n"
     ]
    },
    {
     "name": "stderr",
     "output_type": "stream",
     "text": [
      " 15%|██████▎                                   | 45/300 [00:00<00:04, 59.05it/s]"
     ]
    },
    {
     "name": "stdout",
     "output_type": "stream",
     "text": [
      "beta =  tensor([2.3591]) alpha =  tensor([-1.7065]) r =  tensor([0.9069])\n",
      "beta =  tensor([2.3646]) alpha =  tensor([-1.7094]) r =  tensor([0.9083])\n",
      "beta =  tensor([2.3634]) alpha =  tensor([-1.7082]) r =  tensor([0.9117])\n",
      "beta =  tensor([2.3662]) alpha =  tensor([-1.7106]) r =  tensor([0.9127])\n",
      "beta =  tensor([2.3681]) alpha =  tensor([-1.7133]) r =  tensor([0.9138])\n",
      "beta =  tensor([2.3712]) alpha =  tensor([-1.7150]) r =  tensor([0.9165])\n",
      "beta =  tensor([2.3661]) alpha =  tensor([-1.7117]) r =  tensor([0.9171])\n",
      "beta =  tensor([2.3591]) alpha =  tensor([-1.7070]) r =  tensor([0.9178])\n",
      "beta =  tensor([2.3456]) alpha =  tensor([-1.6981]) r =  tensor([0.9188])\n",
      "beta =  tensor([2.3669]) alpha =  tensor([-1.7112]) r =  tensor([0.9220])\n",
      "beta =  tensor([2.3444]) alpha =  tensor([-1.6961]) r =  tensor([0.9232])\n",
      "beta =  tensor([2.3609]) alpha =  tensor([-1.7076]) r =  tensor([0.9241])\n"
     ]
    },
    {
     "name": "stderr",
     "output_type": "stream",
     "text": [
      " 19%|███████▉                                  | 57/300 [00:00<00:04, 58.88it/s]"
     ]
    },
    {
     "name": "stdout",
     "output_type": "stream",
     "text": [
      "beta =  tensor([2.3612]) alpha =  tensor([-1.7077]) r =  tensor([0.9247])\n",
      "beta =  tensor([2.3268]) alpha =  tensor([-1.6849]) r =  tensor([0.9263])\n",
      "beta =  tensor([2.3395]) alpha =  tensor([-1.6937]) r =  tensor([0.9271])\n",
      "beta =  tensor([2.3127]) alpha =  tensor([-1.6752]) r =  tensor([0.9289])\n",
      "beta =  tensor([2.3368]) alpha =  tensor([-1.6921]) r =  tensor([0.9302])\n",
      "beta =  tensor([2.3441]) alpha =  tensor([-1.6970]) r =  tensor([0.9308])\n",
      "beta =  tensor([2.3340]) alpha =  tensor([-1.6898]) r =  tensor([0.9321])\n",
      "beta =  tensor([2.3536]) alpha =  tensor([-1.7034]) r =  tensor([0.9342])\n",
      "beta =  tensor([2.3772]) alpha =  tensor([-1.7187]) r =  tensor([0.9366])\n",
      "beta =  tensor([2.3789]) alpha =  tensor([-1.7195]) r =  tensor([0.9394])\n",
      "beta =  tensor([2.3556]) alpha =  tensor([-1.7035]) r =  tensor([0.9403])\n",
      "beta =  tensor([2.3839]) alpha =  tensor([-1.7232]) r =  tensor([0.9431])\n"
     ]
    },
    {
     "name": "stderr",
     "output_type": "stream",
     "text": [
      " 24%|█████████▉                                | 71/300 [00:01<00:03, 60.16it/s]"
     ]
    },
    {
     "name": "stdout",
     "output_type": "stream",
     "text": [
      "beta =  tensor([2.3912]) alpha =  tensor([-1.7283]) r =  tensor([0.9451])\n",
      "beta =  tensor([2.3650]) alpha =  tensor([-1.7113]) r =  tensor([0.9459])\n",
      "beta =  tensor([2.3746]) alpha =  tensor([-1.7167]) r =  tensor([0.9477])\n",
      "beta =  tensor([2.3496]) alpha =  tensor([-1.6998]) r =  tensor([0.9499])\n",
      "beta =  tensor([2.3518]) alpha =  tensor([-1.7016]) r =  tensor([0.9522])\n",
      "beta =  tensor([2.3670]) alpha =  tensor([-1.7115]) r =  tensor([0.9537])\n",
      "beta =  tensor([2.3758]) alpha =  tensor([-1.7181]) r =  tensor([0.9556])\n",
      "beta =  tensor([2.3517]) alpha =  tensor([-1.7008]) r =  tensor([0.9586])\n",
      "beta =  tensor([2.3455]) alpha =  tensor([-1.6966]) r =  tensor([0.9593])\n",
      "beta =  tensor([2.3597]) alpha =  tensor([-1.7058]) r =  tensor([0.9598])\n",
      "beta =  tensor([2.3597]) alpha =  tensor([-1.7059]) r =  tensor([0.9612])\n",
      "beta =  tensor([2.3660]) alpha =  tensor([-1.7108]) r =  tensor([0.9626])\n",
      "beta =  tensor([2.3692]) alpha =  tensor([-1.7132]) r =  tensor([0.9658])\n"
     ]
    },
    {
     "name": "stderr",
     "output_type": "stream",
     "text": [
      " 28%|███████████▉                              | 85/300 [00:01<00:03, 60.56it/s]"
     ]
    },
    {
     "name": "stdout",
     "output_type": "stream",
     "text": [
      "beta =  tensor([2.3535]) alpha =  tensor([-1.7028]) r =  tensor([0.9666])\n",
      "beta =  tensor([2.3430]) alpha =  tensor([-1.6957]) r =  tensor([0.9685])\n",
      "beta =  tensor([2.3546]) alpha =  tensor([-1.7036]) r =  tensor([0.9699])\n",
      "beta =  tensor([2.3641]) alpha =  tensor([-1.7102]) r =  tensor([0.9710])\n",
      "beta =  tensor([2.3580]) alpha =  tensor([-1.7062]) r =  tensor([0.9718])\n",
      "beta =  tensor([2.3387]) alpha =  tensor([-1.6922]) r =  tensor([0.9730])\n",
      "beta =  tensor([2.3411]) alpha =  tensor([-1.6931]) r =  tensor([0.9742])\n",
      "beta =  tensor([2.3478]) alpha =  tensor([-1.6981]) r =  tensor([0.9749])\n",
      "beta =  tensor([2.3532]) alpha =  tensor([-1.7016]) r =  tensor([0.9768])\n",
      "beta =  tensor([2.3613]) alpha =  tensor([-1.7078]) r =  tensor([0.9783])\n",
      "beta =  tensor([2.3532]) alpha =  tensor([-1.7022]) r =  tensor([0.9801])\n",
      "beta =  tensor([2.3784]) alpha =  tensor([-1.7187]) r =  tensor([0.9850])\n",
      "beta =  tensor([2.3569]) alpha =  tensor([-1.7046]) r =  tensor([0.9857])\n"
     ]
    },
    {
     "name": "stderr",
     "output_type": "stream",
     "text": [
      " 33%|█████████████▋                            | 98/300 [00:01<00:03, 59.37it/s]"
     ]
    },
    {
     "name": "stdout",
     "output_type": "stream",
     "text": [
      "beta =  tensor([2.3764]) alpha =  tensor([-1.7174]) r =  tensor([0.9867])\n",
      "beta =  tensor([2.3779]) alpha =  tensor([-1.7192]) r =  tensor([0.9893])\n",
      "beta =  tensor([2.3715]) alpha =  tensor([-1.7148]) r =  tensor([0.9902])\n",
      "beta =  tensor([2.3597]) alpha =  tensor([-1.7069]) r =  tensor([0.9906])\n",
      "beta =  tensor([2.3551]) alpha =  tensor([-1.7037]) r =  tensor([0.9923])\n",
      "beta =  tensor([2.3448]) alpha =  tensor([-1.6964]) r =  tensor([0.9952])\n",
      "beta =  tensor([2.3479]) alpha =  tensor([-1.6978]) r =  tensor([0.9964])\n",
      "beta =  tensor([2.3537]) alpha =  tensor([-1.7017]) r =  tensor([0.9969])\n",
      "beta =  tensor([2.3530]) alpha =  tensor([-1.7013]) r =  tensor([0.9971])\n",
      "beta =  tensor([2.3610]) alpha =  tensor([-1.7061]) r =  tensor([0.9988])\n",
      "beta =  tensor([2.3717]) alpha =  tensor([-1.7130]) r =  tensor([0.9995])\n",
      "beta =  tensor([2.3671]) alpha =  tensor([-1.7102]) r =  tensor([0.9997])\n"
     ]
    },
    {
     "name": "stderr",
     "output_type": "stream",
     "text": [
      " 37%|███████████████▏                         | 111/300 [00:01<00:03, 59.80it/s]"
     ]
    },
    {
     "name": "stdout",
     "output_type": "stream",
     "text": [
      "beta =  tensor([2.3560]) alpha =  tensor([-1.7031]) r =  tensor([1.0024])\n",
      "beta =  tensor([2.3435]) alpha =  tensor([-1.6945]) r =  tensor([1.0042])\n",
      "beta =  tensor([2.3435]) alpha =  tensor([-1.6945]) r =  tensor([1.0042]) (Negative) ELBO =  tensor(306017.9711, dtype=torch.float64)\n",
      "beta =  tensor([2.3472]) alpha =  tensor([-1.6972]) r =  tensor([1.0048])\n",
      "beta =  tensor([2.3579]) alpha =  tensor([-1.7042]) r =  tensor([1.0056])\n",
      "beta =  tensor([2.3367]) alpha =  tensor([-1.6901]) r =  tensor([1.0066])\n",
      "beta =  tensor([2.3434]) alpha =  tensor([-1.6947]) r =  tensor([1.0070])\n",
      "beta =  tensor([2.3359]) alpha =  tensor([-1.6900]) r =  tensor([1.0072])\n",
      "beta =  tensor([2.3626]) alpha =  tensor([-1.7070]) r =  tensor([1.0103])\n",
      "beta =  tensor([2.3564]) alpha =  tensor([-1.7024]) r =  tensor([1.0131])\n",
      "beta =  tensor([2.3515]) alpha =  tensor([-1.6979]) r =  tensor([1.0158])\n",
      "beta =  tensor([2.3415]) alpha =  tensor([-1.6906]) r =  tensor([1.0168])\n",
      "beta =  tensor([2.3752]) alpha =  tensor([-1.7119]) r =  tensor([1.0199])\n",
      "beta =  tensor([2.3695]) alpha =  tensor([-1.7070]) r =  tensor([1.0210])\n"
     ]
    },
    {
     "name": "stderr",
     "output_type": "stream",
     "text": [
      " 42%|█████████████████                        | 125/300 [00:02<00:02, 60.81it/s]"
     ]
    },
    {
     "name": "stdout",
     "output_type": "stream",
     "text": [
      "beta =  tensor([2.3669]) alpha =  tensor([-1.7064]) r =  tensor([1.0229])\n",
      "beta =  tensor([2.3781]) alpha =  tensor([-1.7144]) r =  tensor([1.0259])\n",
      "beta =  tensor([2.3546]) alpha =  tensor([-1.6980]) r =  tensor([1.0279])\n",
      "beta =  tensor([2.3820]) alpha =  tensor([-1.7171]) r =  tensor([1.0304])\n",
      "beta =  tensor([2.3810]) alpha =  tensor([-1.7170]) r =  tensor([1.0311])\n",
      "beta =  tensor([2.3658]) alpha =  tensor([-1.7065]) r =  tensor([1.0313])\n",
      "beta =  tensor([2.3399]) alpha =  tensor([-1.6883]) r =  tensor([1.0334])\n",
      "beta =  tensor([2.3635]) alpha =  tensor([-1.7057]) r =  tensor([1.0356])\n",
      "beta =  tensor([2.3582]) alpha =  tensor([-1.7018]) r =  tensor([1.0374])\n",
      "beta =  tensor([2.3644]) alpha =  tensor([-1.7066]) r =  tensor([1.0386])\n",
      "beta =  tensor([2.3743]) alpha =  tensor([-1.7131]) r =  tensor([1.0391])\n",
      "beta =  tensor([2.3700]) alpha =  tensor([-1.7090]) r =  tensor([1.0400])\n",
      "beta =  tensor([2.3573]) alpha =  tensor([-1.7001]) r =  tensor([1.0423])\n"
     ]
    },
    {
     "name": "stderr",
     "output_type": "stream",
     "text": [
      "\r",
      " 44%|██████████████████                       | 132/300 [00:02<00:02, 61.29it/s]"
     ]
    },
    {
     "name": "stdout",
     "output_type": "stream",
     "text": [
      "beta =  tensor([2.3742]) alpha =  tensor([-1.7112]) r =  tensor([1.0427])\n",
      "beta =  tensor([2.3597]) alpha =  tensor([-1.7006]) r =  tensor([1.0444])\n",
      "beta =  tensor([2.3694]) alpha =  tensor([-1.7070]) r =  tensor([1.0462])\n",
      "beta =  tensor([2.3513]) alpha =  tensor([-1.6941]) r =  tensor([1.0473])\n",
      "beta =  tensor([2.3448]) alpha =  tensor([-1.6904]) r =  tensor([1.0482])\n",
      "beta =  tensor([2.3450]) alpha =  tensor([-1.6903]) r =  tensor([1.0490])\n",
      "beta =  tensor([2.3704]) alpha =  tensor([-1.7079]) r =  tensor([1.0509])\n",
      "beta =  tensor([2.3645]) alpha =  tensor([-1.7041]) r =  tensor([1.0538])\n",
      "beta =  tensor([2.3606]) alpha =  tensor([-1.7018]) r =  tensor([1.0540])\n",
      "beta =  tensor([2.3623]) alpha =  tensor([-1.7031]) r =  tensor([1.0542])\n",
      "beta =  tensor([2.3626]) alpha =  tensor([-1.7028]) r =  tensor([1.0542])\n",
      "beta =  tensor([2.3773]) alpha =  tensor([-1.7128]) r =  tensor([1.0558])\n",
      "beta =  tensor([2.3633]) alpha =  tensor([-1.7027]) r =  tensor([1.0579])\n"
     ]
    },
    {
     "name": "stderr",
     "output_type": "stream",
     "text": [
      " 49%|███████████████████▉                     | 146/300 [00:02<00:02, 61.90it/s]"
     ]
    },
    {
     "name": "stdout",
     "output_type": "stream",
     "text": [
      "beta =  tensor([2.3448]) alpha =  tensor([-1.6893]) r =  tensor([1.0614])\n",
      "beta =  tensor([2.3409]) alpha =  tensor([-1.6863]) r =  tensor([1.0620])\n",
      "beta =  tensor([2.3434]) alpha =  tensor([-1.6884]) r =  tensor([1.0631])\n",
      "beta =  tensor([2.3423]) alpha =  tensor([-1.6879]) r =  tensor([1.0641])\n",
      "beta =  tensor([2.3388]) alpha =  tensor([-1.6852]) r =  tensor([1.0642])\n",
      "beta =  tensor([2.3376]) alpha =  tensor([-1.6839]) r =  tensor([1.0649])\n",
      "beta =  tensor([2.3715]) alpha =  tensor([-1.7083]) r =  tensor([1.0714])\n",
      "beta =  tensor([2.3897]) alpha =  tensor([-1.7216]) r =  tensor([1.0734])\n",
      "beta =  tensor([2.3854]) alpha =  tensor([-1.7180]) r =  tensor([1.0752])\n",
      "beta =  tensor([2.3840]) alpha =  tensor([-1.7177]) r =  tensor([1.0759])\n",
      "beta =  tensor([2.3525]) alpha =  tensor([-1.6956]) r =  tensor([1.0791])\n",
      "beta =  tensor([2.3575]) alpha =  tensor([-1.6982]) r =  tensor([1.0808])\n",
      "beta =  tensor([2.3599]) alpha =  tensor([-1.6997]) r =  tensor([1.0812])\n"
     ]
    },
    {
     "name": "stderr",
     "output_type": "stream",
     "text": [
      " 53%|█████████████████████▊                   | 160/300 [00:02<00:02, 62.35it/s]"
     ]
    },
    {
     "name": "stdout",
     "output_type": "stream",
     "text": [
      "beta =  tensor([2.3592]) alpha =  tensor([-1.6992]) r =  tensor([1.0825])\n",
      "beta =  tensor([2.3691]) alpha =  tensor([-1.7056]) r =  tensor([1.0831])\n",
      "beta =  tensor([2.3721]) alpha =  tensor([-1.7073]) r =  tensor([1.0843])\n",
      "beta =  tensor([2.3529]) alpha =  tensor([-1.6940]) r =  tensor([1.0852])\n",
      "beta =  tensor([2.3584]) alpha =  tensor([-1.6975]) r =  tensor([1.0857])\n",
      "beta =  tensor([2.3371]) alpha =  tensor([-1.6840]) r =  tensor([1.0873])\n",
      "beta =  tensor([2.3332]) alpha =  tensor([-1.6814]) r =  tensor([1.0885])\n",
      "beta =  tensor([2.3428]) alpha =  tensor([-1.6883]) r =  tensor([1.0887])\n",
      "beta =  tensor([2.3717]) alpha =  tensor([-1.7083]) r =  tensor([1.0904])\n",
      "beta =  tensor([2.3660]) alpha =  tensor([-1.7050]) r =  tensor([1.0907])\n",
      "beta =  tensor([2.3433]) alpha =  tensor([-1.6894]) r =  tensor([1.0932])\n",
      "beta =  tensor([2.3406]) alpha =  tensor([-1.6876]) r =  tensor([1.0936])\n",
      "beta =  tensor([2.3616]) alpha =  tensor([-1.7024]) r =  tensor([1.0952])\n"
     ]
    },
    {
     "name": "stderr",
     "output_type": "stream",
     "text": [
      " 58%|███████████████████████▊                 | 174/300 [00:02<00:02, 60.89it/s]"
     ]
    },
    {
     "name": "stdout",
     "output_type": "stream",
     "text": [
      "beta =  tensor([2.3470]) alpha =  tensor([-1.6913]) r =  tensor([1.0966])\n",
      "beta =  tensor([2.3557]) alpha =  tensor([-1.6972]) r =  tensor([1.0973])\n",
      "beta =  tensor([2.3402]) alpha =  tensor([-1.6867]) r =  tensor([1.0994])\n",
      "beta =  tensor([2.3614]) alpha =  tensor([-1.6998]) r =  tensor([1.1012])\n",
      "beta =  tensor([2.3726]) alpha =  tensor([-1.7082]) r =  tensor([1.1024])\n",
      "beta =  tensor([2.3921]) alpha =  tensor([-1.7213]) r =  tensor([1.1064])\n",
      "beta =  tensor([2.3878]) alpha =  tensor([-1.7182]) r =  tensor([1.1073])\n",
      "beta =  tensor([2.3626]) alpha =  tensor([-1.7016]) r =  tensor([1.1081])\n",
      "beta =  tensor([2.3664]) alpha =  tensor([-1.7052]) r =  tensor([1.1105])\n",
      "beta =  tensor([2.3637]) alpha =  tensor([-1.7038]) r =  tensor([1.1120])\n",
      "beta =  tensor([2.3524]) alpha =  tensor([-1.6967]) r =  tensor([1.1130])\n",
      "beta =  tensor([2.3486]) alpha =  tensor([-1.6928]) r =  tensor([1.1156])\n"
     ]
    },
    {
     "name": "stderr",
     "output_type": "stream",
     "text": [
      " 63%|█████████████████████████▋               | 188/300 [00:03<00:01, 60.67it/s]"
     ]
    },
    {
     "name": "stdout",
     "output_type": "stream",
     "text": [
      "beta =  tensor([2.3869]) alpha =  tensor([-1.7186]) r =  tensor([1.1185])\n",
      "beta =  tensor([2.3785]) alpha =  tensor([-1.7124]) r =  tensor([1.1201])\n",
      "beta =  tensor([2.3363]) alpha =  tensor([-1.6857]) r =  tensor([1.1216])\n",
      "beta =  tensor([2.3644]) alpha =  tensor([-1.7050]) r =  tensor([1.1247])\n",
      "beta =  tensor([2.3555]) alpha =  tensor([-1.6985]) r =  tensor([1.1251])\n",
      "beta =  tensor([2.3817]) alpha =  tensor([-1.7162]) r =  tensor([1.1277])\n",
      "beta =  tensor([2.3562]) alpha =  tensor([-1.6988]) r =  tensor([1.1288])\n",
      "beta =  tensor([2.3578]) alpha =  tensor([-1.6995]) r =  tensor([1.1295])\n",
      "beta =  tensor([2.3704]) alpha =  tensor([-1.7084]) r =  tensor([1.1310])\n",
      "beta =  tensor([2.3441]) alpha =  tensor([-1.6911]) r =  tensor([1.1322])\n",
      "beta =  tensor([2.3315]) alpha =  tensor([-1.6824]) r =  tensor([1.1334])\n",
      "beta =  tensor([2.3429]) alpha =  tensor([-1.6903]) r =  tensor([1.1336])\n",
      "beta =  tensor([2.3637]) alpha =  tensor([-1.7059]) r =  tensor([1.1356])\n"
     ]
    },
    {
     "name": "stderr",
     "output_type": "stream",
     "text": [
      " 67%|███████████████████████████▌             | 202/300 [00:03<00:01, 60.71it/s]"
     ]
    },
    {
     "name": "stdout",
     "output_type": "stream",
     "text": [
      "beta =  tensor([2.3746]) alpha =  tensor([-1.7136]) r =  tensor([1.1362])\n",
      "beta =  tensor([2.3671]) alpha =  tensor([-1.7072]) r =  tensor([1.1391])\n",
      "beta =  tensor([2.3541]) alpha =  tensor([-1.6979]) r =  tensor([1.1410])\n",
      "beta =  tensor([2.3626]) alpha =  tensor([-1.7031]) r =  tensor([1.1416])\n",
      "beta =  tensor([2.3599]) alpha =  tensor([-1.7011]) r =  tensor([1.1420])\n",
      "beta =  tensor([2.3502]) alpha =  tensor([-1.6944]) r =  tensor([1.1426])\n",
      "beta =  tensor([2.3564]) alpha =  tensor([-1.6994]) r =  tensor([1.1435])\n",
      "beta =  tensor([2.3658]) alpha =  tensor([-1.7057]) r =  tensor([1.1449])\n",
      "beta =  tensor([2.3530]) alpha =  tensor([-1.6969]) r =  tensor([1.1463])\n",
      "beta =  tensor([2.3678]) alpha =  tensor([-1.7069]) r =  tensor([1.1467])\n",
      "beta =  tensor([2.3483]) alpha =  tensor([-1.6928]) r =  tensor([1.1478])\n",
      "beta =  tensor([2.3513]) alpha =  tensor([-1.6957]) r =  tensor([1.1487])\n",
      "beta =  tensor([2.3513]) alpha =  tensor([-1.6957]) r =  tensor([1.1487]) (Negative) ELBO =  tensor(216879.2944, dtype=torch.float64)\n",
      "beta =  tensor([2.3390]) alpha =  tensor([-1.6879]) r =  tensor([1.1501])\n"
     ]
    },
    {
     "name": "stderr",
     "output_type": "stream",
     "text": [
      "\r",
      " 70%|████████████████████████████▌            | 209/300 [00:03<00:01, 61.18it/s]"
     ]
    },
    {
     "name": "stdout",
     "output_type": "stream",
     "text": [
      "beta =  tensor([2.3482]) alpha =  tensor([-1.6935]) r =  tensor([1.1504])\n",
      "beta =  tensor([2.3390]) alpha =  tensor([-1.6865]) r =  tensor([1.1522])\n",
      "beta =  tensor([2.3290]) alpha =  tensor([-1.6790]) r =  tensor([1.1543])\n",
      "beta =  tensor([2.3316]) alpha =  tensor([-1.6812]) r =  tensor([1.1543])\n",
      "beta =  tensor([2.3370]) alpha =  tensor([-1.6847]) r =  tensor([1.1553])\n",
      "beta =  tensor([2.3594]) alpha =  tensor([-1.7016]) r =  tensor([1.1574])\n",
      "beta =  tensor([2.3608]) alpha =  tensor([-1.7027]) r =  tensor([1.1577])\n",
      "beta =  tensor([2.3588]) alpha =  tensor([-1.7014]) r =  tensor([1.1579])\n",
      "beta =  tensor([2.3865]) alpha =  tensor([-1.7204]) r =  tensor([1.1612])\n",
      "beta =  tensor([2.3752]) alpha =  tensor([-1.7136]) r =  tensor([1.1614])\n",
      "beta =  tensor([2.3558]) alpha =  tensor([-1.7005]) r =  tensor([1.1618])\n",
      "beta =  tensor([2.3514]) alpha =  tensor([-1.6974]) r =  tensor([1.1627])\n",
      "beta =  tensor([2.3625]) alpha =  tensor([-1.7049]) r =  tensor([1.1632])\n"
     ]
    },
    {
     "name": "stderr",
     "output_type": "stream",
     "text": [
      " 74%|██████████████████████████████▍          | 223/300 [00:03<00:01, 60.56it/s]"
     ]
    },
    {
     "name": "stdout",
     "output_type": "stream",
     "text": [
      "beta =  tensor([2.3546]) alpha =  tensor([-1.7004]) r =  tensor([1.1636])\n",
      "beta =  tensor([2.3501]) alpha =  tensor([-1.6973]) r =  tensor([1.1643])\n",
      "beta =  tensor([2.3496]) alpha =  tensor([-1.6969]) r =  tensor([1.1650])\n",
      "beta =  tensor([2.3381]) alpha =  tensor([-1.6892]) r =  tensor([1.1666])\n",
      "beta =  tensor([2.3500]) alpha =  tensor([-1.6965]) r =  tensor([1.1677])\n",
      "beta =  tensor([2.3494]) alpha =  tensor([-1.6961]) r =  tensor([1.1684])\n",
      "beta =  tensor([2.3535]) alpha =  tensor([-1.6995]) r =  tensor([1.1689])\n",
      "beta =  tensor([2.3723]) alpha =  tensor([-1.7120]) r =  tensor([1.1702])\n",
      "beta =  tensor([2.3531]) alpha =  tensor([-1.6986]) r =  tensor([1.1713])\n",
      "beta =  tensor([2.3372]) alpha =  tensor([-1.6877]) r =  tensor([1.1722])\n",
      "beta =  tensor([2.3414]) alpha =  tensor([-1.6904]) r =  tensor([1.1731])\n",
      "beta =  tensor([2.3378]) alpha =  tensor([-1.6883]) r =  tensor([1.1744])\n"
     ]
    },
    {
     "name": "stderr",
     "output_type": "stream",
     "text": [
      " 79%|████████████████████████████████▎        | 236/300 [00:03<00:01, 59.11it/s]"
     ]
    },
    {
     "name": "stdout",
     "output_type": "stream",
     "text": [
      "beta =  tensor([2.3336]) alpha =  tensor([-1.6848]) r =  tensor([1.1753])\n",
      "beta =  tensor([2.3346]) alpha =  tensor([-1.6857]) r =  tensor([1.1756])\n",
      "beta =  tensor([2.3489]) alpha =  tensor([-1.6954]) r =  tensor([1.1763])\n",
      "beta =  tensor([2.3547]) alpha =  tensor([-1.6985]) r =  tensor([1.1773])\n",
      "beta =  tensor([2.3688]) alpha =  tensor([-1.7088]) r =  tensor([1.1783])\n",
      "beta =  tensor([2.3707]) alpha =  tensor([-1.7105]) r =  tensor([1.1795])\n",
      "beta =  tensor([2.3658]) alpha =  tensor([-1.7076]) r =  tensor([1.1806])\n",
      "beta =  tensor([2.3627]) alpha =  tensor([-1.7051]) r =  tensor([1.1813])\n",
      "beta =  tensor([2.3497]) alpha =  tensor([-1.6968]) r =  tensor([1.1820])\n",
      "beta =  tensor([2.3406]) alpha =  tensor([-1.6909]) r =  tensor([1.1830])\n",
      "beta =  tensor([2.3401]) alpha =  tensor([-1.6909]) r =  tensor([1.1833])\n",
      "beta =  tensor([2.3447]) alpha =  tensor([-1.6932]) r =  tensor([1.1853])\n"
     ]
    },
    {
     "name": "stderr",
     "output_type": "stream",
     "text": [
      " 83%|██████████████████████████████████       | 249/300 [00:04<00:00, 59.90it/s]"
     ]
    },
    {
     "name": "stdout",
     "output_type": "stream",
     "text": [
      "beta =  tensor([2.3440]) alpha =  tensor([-1.6932]) r =  tensor([1.1860])\n",
      "beta =  tensor([2.3498]) alpha =  tensor([-1.6968]) r =  tensor([1.1863])\n",
      "beta =  tensor([2.3768]) alpha =  tensor([-1.7163]) r =  tensor([1.1883])\n",
      "beta =  tensor([2.3744]) alpha =  tensor([-1.7138]) r =  tensor([1.1894])\n",
      "beta =  tensor([2.3876]) alpha =  tensor([-1.7226]) r =  tensor([1.1908])\n",
      "beta =  tensor([2.3780]) alpha =  tensor([-1.7167]) r =  tensor([1.1934])\n",
      "beta =  tensor([2.3745]) alpha =  tensor([-1.7133]) r =  tensor([1.1944])\n",
      "beta =  tensor([2.3842]) alpha =  tensor([-1.7200]) r =  tensor([1.1961])\n",
      "beta =  tensor([2.3849]) alpha =  tensor([-1.7207]) r =  tensor([1.1971])\n",
      "beta =  tensor([2.3781]) alpha =  tensor([-1.7162]) r =  tensor([1.1983])\n",
      "beta =  tensor([2.3791]) alpha =  tensor([-1.7171]) r =  tensor([1.1992])\n",
      "beta =  tensor([2.3813]) alpha =  tensor([-1.7185]) r =  tensor([1.1993])\n",
      "beta =  tensor([2.3725]) alpha =  tensor([-1.7128]) r =  tensor([1.1995])\n"
     ]
    },
    {
     "name": "stderr",
     "output_type": "stream",
     "text": [
      " 87%|███████████████████████████████████▋     | 261/300 [00:04<00:00, 59.33it/s]"
     ]
    },
    {
     "name": "stdout",
     "output_type": "stream",
     "text": [
      "beta =  tensor([2.3568]) alpha =  tensor([-1.7019]) r =  tensor([1.2001])\n",
      "beta =  tensor([2.3379]) alpha =  tensor([-1.6901]) r =  tensor([1.2010])\n",
      "beta =  tensor([2.3463]) alpha =  tensor([-1.6956]) r =  tensor([1.2014])\n",
      "beta =  tensor([2.3585]) alpha =  tensor([-1.7033]) r =  tensor([1.2016])\n",
      "beta =  tensor([2.3331]) alpha =  tensor([-1.6860]) r =  tensor([1.2040])\n",
      "beta =  tensor([2.3622]) alpha =  tensor([-1.7046]) r =  tensor([1.2057])\n",
      "beta =  tensor([2.3441]) alpha =  tensor([-1.6928]) r =  tensor([1.2073])\n",
      "beta =  tensor([2.3514]) alpha =  tensor([-1.6983]) r =  tensor([1.2084])\n",
      "beta =  tensor([2.3623]) alpha =  tensor([-1.7060]) r =  tensor([1.2086])\n",
      "beta =  tensor([2.3630]) alpha =  tensor([-1.7069]) r =  tensor([1.2095])\n",
      "beta =  tensor([2.3441]) alpha =  tensor([-1.6940]) r =  tensor([1.2106])\n",
      "beta =  tensor([2.3446]) alpha =  tensor([-1.6944]) r =  tensor([1.2108])\n"
     ]
    },
    {
     "name": "stderr",
     "output_type": "stream",
     "text": [
      " 91%|█████████████████████████████████████▎   | 273/300 [00:04<00:00, 58.28it/s]"
     ]
    },
    {
     "name": "stdout",
     "output_type": "stream",
     "text": [
      "beta =  tensor([2.3471]) alpha =  tensor([-1.6961]) r =  tensor([1.2113])\n",
      "beta =  tensor([2.3386]) alpha =  tensor([-1.6903]) r =  tensor([1.2120])\n",
      "beta =  tensor([2.3605]) alpha =  tensor([-1.7050]) r =  tensor([1.2127])\n",
      "beta =  tensor([2.3415]) alpha =  tensor([-1.6921]) r =  tensor([1.2143])\n",
      "beta =  tensor([2.3417]) alpha =  tensor([-1.6920]) r =  tensor([1.2147])\n",
      "beta =  tensor([2.3487]) alpha =  tensor([-1.6954]) r =  tensor([1.2173])\n",
      "beta =  tensor([2.3546]) alpha =  tensor([-1.6996]) r =  tensor([1.2183])\n",
      "beta =  tensor([2.3511]) alpha =  tensor([-1.6973]) r =  tensor([1.2189])\n",
      "beta =  tensor([2.3669]) alpha =  tensor([-1.7079]) r =  tensor([1.2195])\n",
      "beta =  tensor([2.3543]) alpha =  tensor([-1.6998]) r =  tensor([1.2206])\n",
      "beta =  tensor([2.3656]) alpha =  tensor([-1.7074]) r =  tensor([1.2209])\n",
      "beta =  tensor([2.3389]) alpha =  tensor([-1.6901]) r =  tensor([1.2216])\n"
     ]
    },
    {
     "name": "stderr",
     "output_type": "stream",
     "text": [
      " 96%|███████████████████████████████████████▏ | 287/300 [00:04<00:00, 60.01it/s]"
     ]
    },
    {
     "name": "stdout",
     "output_type": "stream",
     "text": [
      "beta =  tensor([2.3465]) alpha =  tensor([-1.6954]) r =  tensor([1.2220])\n",
      "beta =  tensor([2.3551]) alpha =  tensor([-1.7011]) r =  tensor([1.2225])\n",
      "beta =  tensor([2.3585]) alpha =  tensor([-1.7030]) r =  tensor([1.2233])\n",
      "beta =  tensor([2.3517]) alpha =  tensor([-1.6982]) r =  tensor([1.2237])\n",
      "beta =  tensor([2.3375]) alpha =  tensor([-1.6892]) r =  tensor([1.2245])\n",
      "beta =  tensor([2.3469]) alpha =  tensor([-1.6958]) r =  tensor([1.2253])\n",
      "beta =  tensor([2.3580]) alpha =  tensor([-1.7032]) r =  tensor([1.2263])\n",
      "beta =  tensor([2.3670]) alpha =  tensor([-1.7096]) r =  tensor([1.2277])\n",
      "beta =  tensor([2.3727]) alpha =  tensor([-1.7135]) r =  tensor([1.2277])\n",
      "beta =  tensor([2.3776]) alpha =  tensor([-1.7166]) r =  tensor([1.2281])\n",
      "beta =  tensor([2.3614]) alpha =  tensor([-1.7057]) r =  tensor([1.2290])\n",
      "beta =  tensor([2.3816]) alpha =  tensor([-1.7195]) r =  tensor([1.2301])\n",
      "beta =  tensor([2.3451]) alpha =  tensor([-1.6933]) r =  tensor([1.2330])\n"
     ]
    },
    {
     "name": "stderr",
     "output_type": "stream",
     "text": [
      "100%|█████████████████████████████████████████| 300/300 [00:04<00:00, 60.08it/s]"
     ]
    },
    {
     "name": "stdout",
     "output_type": "stream",
     "text": [
      "beta =  tensor([2.3700]) alpha =  tensor([-1.7104]) r =  tensor([1.2346])\n",
      "beta =  tensor([2.3461]) alpha =  tensor([-1.6940]) r =  tensor([1.2355])\n",
      "beta =  tensor([2.3566]) alpha =  tensor([-1.7012]) r =  tensor([1.2366])\n",
      "beta =  tensor([2.3559]) alpha =  tensor([-1.7006]) r =  tensor([1.2372])\n",
      "beta =  tensor([2.3640]) alpha =  tensor([-1.7059]) r =  tensor([1.2376])\n",
      "beta =  tensor([2.3530]) alpha =  tensor([-1.6989]) r =  tensor([1.2379])\n",
      "beta =  tensor([2.3638]) alpha =  tensor([-1.7064]) r =  tensor([1.2395])\n",
      "beta =  tensor([2.3586]) alpha =  tensor([-1.7029]) r =  tensor([1.2405])\n",
      "beta =  tensor([2.3528]) alpha =  tensor([-1.6993]) r =  tensor([1.2407])\n",
      "beta =  tensor([2.3549]) alpha =  tensor([-1.7002]) r =  tensor([1.2410])\n",
      "beta =  tensor([2.3660]) alpha =  tensor([-1.7077]) r =  tensor([1.2417])\n"
     ]
    },
    {
     "name": "stderr",
     "output_type": "stream",
     "text": [
      "\n"
     ]
    }
   ],
   "source": [
    "D = 30\n",
    "\n",
    "alpha_ = torch.tensor([0.])\n",
    "beta_ = torch.rand(1)\n",
    "r_ = torch.rand(1)\n",
    "\n",
    "m0 = torch.tensor(obs[0]).repeat(D, 1)\n",
    "\n",
    "\n",
    "learning_rate = 0.00000001\n",
    "lr = learning_rate\n",
    "\n",
    "trace_pars = []\n",
    "trace_elbo = []\n",
    "for k in tq.tqdm(range(300)):\n",
    "    alpha_D = alpha_.repeat(D, 1)\n",
    "    beta_D = beta_.repeat(D, 1)\n",
    "    r_D = r_.repeat(D, 1)\n",
    "    \n",
    "    # Compute (negative) ELBO\n",
    "    vi_ = tOU_vector(t0=obs_time[0], t1=obs_time[1], z0=m0, m0=m0, alpha=alpha_D, beta=beta_D, sigma=1, r=r_D, dN=40, D=D, timegrid = 'False')\n",
    "    elbo_ = ELBO(vi_)\n",
    "    elbo_estimate = -1 * (elbo.log_prob(torch.tensor(obs[1]).repeat(D, 1)) + elbo.KL_ito() + elbo.KL_rest())\n",
    "    \n",
    "\n",
    "    trace_pars.append((beta_.clone(), alpha_.clone(), r_.clone()))\n",
    "    trace_elbo.append(torch.mean(elbo_estimate))\n",
    "    \n",
    "    # Obtain score function estimator of the gradient\n",
    "    vi = tOU_vector(t0=obs_time[0], t1=obs_time[1], z0=m0, m0=m0, alpha=alpha_D, beta=beta_D, sigma=1, r=r_D, dN=40, D=D, timegrid = 'False')\n",
    "    elbo = ELBO(vi)\n",
    "    score = Score(vi)\n",
    "\n",
    "    scores = score.compute_score(alpha_D, beta_D, m0, r_D)\n",
    "    f_of_X = -1 * (elbo.log_prob(torch.tensor(obs[1]).repeat(D, 1)) + elbo.KL_ito() + elbo.KL_rest())\n",
    "#     print(\"f_of_X = \", f_of_X)\n",
    "#     print(\"Scores = \", scores)\n",
    "    beta_grad = torch.mean(f_of_X * scores['beta'])\n",
    "    alpha_grad = torch.mean(f_of_X * scores['alpha'])\n",
    "    r_grad = torch.mean(f_of_X * scores['r'])\n",
    "#     print(\"beta_grad = \", beta_grad, \"alpha_grad = \", alpha_grad, \"r_grad = \", r_grad)    \n",
    "    beta_ -= learning_rate * beta_grad\n",
    "    alpha_ -= learning_rate * alpha_grad\n",
    "    r__ = r_ - learning_rate * r_grad\n",
    "    \n",
    "    print(\"beta = \", beta_, \"alpha = \", alpha_, \"r = \", r__)\n",
    "    # It is to ensure r should be strictly positive (i.e. projected gradient method)\n",
    "    while r__ < 0:\n",
    "        r__ = r_ - lr * r_grad\n",
    "        lr *= 0.5\n",
    "    r_ = r__\n",
    "    \n",
    "    if k % 100 == 0:\n",
    "        print(\"beta = \", beta_, \"alpha = \", alpha_, \"r = \", r_, '(Negative) ELBO = ', torch.mean(elbo_estimate))\n",
    "    \n",
    "    \n",
    "# score.compute_score()"
   ]
  },
  {
   "cell_type": "markdown",
   "id": "37895cc2",
   "metadata": {},
   "source": [
    "**Posterior mean**"
   ]
  },
  {
   "cell_type": "code",
   "execution_count": 90,
   "id": "26cd010f",
   "metadata": {},
   "outputs": [],
   "source": [
    "post_mean = lambda x: alpha_ * (((x + 1) ** beta_) - 1) + m0[0]"
   ]
  },
  {
   "cell_type": "code",
   "execution_count": 91,
   "id": "22350fe6",
   "metadata": {},
   "outputs": [
    {
     "data": {
      "image/png": "[encoded data removed]",
      "text/plain": [
       "<Figure size 432x288 with 1 Axes>"
      ]
     },
     "metadata": {
      "needs_background": "light"
     },
     "output_type": "display_data"
    }
   ],
   "source": [
    "# plt.plot(true_sde.pts[:100], true_mean(true_sde.pts)[:100], color='r', alpha=0.3, linestyle='dashed', label=\"true mean\")\n",
    "plt.plot(true_sde.pts[:100], post_mean(true_sde.pts)[:100], color='black', label=\"posterior mean\")\n",
    "plt.plot(true_sde.pts[::100][:2], obs[:2], 'rx', label='observations')\n",
    "plt.legend()\n",
    "plt.xlabel(\"time\")\n",
    "plt.ylabel(\"x\")\n",
    "plt.show()"
   ]
  },
  {
   "cell_type": "code",
   "execution_count": 123,
   "id": "c2ea9f4a",
   "metadata": {},
   "outputs": [
    {
     "data": {
      "text/plain": [
       "tensor([9.9985], dtype=torch.float64)"
      ]
     },
     "execution_count": 123,
     "metadata": {},
     "output_type": "execute_result"
    }
   ],
   "source": []
  },
  {
   "cell_type": "code",
   "execution_count": 129,
   "id": "fbf7db81",
   "metadata": {},
   "outputs": [
    {
     "data": {
      "text/plain": [
       "[<matplotlib.lines.Line2D at 0x7fc12256fd60>]"
      ]
     },
     "execution_count": 129,
     "metadata": {},
     "output_type": "execute_result"
    },
    {
     "data": {
      "image/png": "[encoded data removed]",
      "text/plain": [
       "<Figure size 432x288 with 1 Axes>"
      ]
     },
     "metadata": {
      "needs_background": "light"
     },
     "output_type": "display_data"
    }
   ],
   "source": [
    "S = 100\n",
    "posterior = tOU_vector(t0 = obs_time[0], t1 = obs_time[1], z0 = m0[0].repeat(S, 1), m0 = m0[0].repeat(S, 1), alpha = alpha_, beta = beta_, sigma = 1, r = r_, D = S, dN = 30, timegrid='True')\n",
    "plt.plot(posterior.pts.T, posterior.trj.T, 'b')\n",
    "plt.plot(obs_time, obs, 'rx')\n",
    "plt.plot(true_sde.pts,true_sde.trj, 'grey', linestyle='dashed')"
   ]
  },
  {
   "cell_type": "code",
   "execution_count": 136,
   "id": "bcc18680",
   "metadata": {},
   "outputs": [
    {
     "data": {
      "text/plain": [
       "[<matplotlib.lines.Line2D at 0x7fc10225eaf0>]"
      ]
     },
     "execution_count": 136,
     "metadata": {},
     "output_type": "execute_result"
    },
    {
     "data": {
      "image/png": "[encoded data removed]",
      "text/plain": [
       "<Figure size 432x288 with 1 Axes>"
      ]
     },
     "metadata": {
      "needs_background": "light"
     },
     "output_type": "display_data"
    }
   ],
   "source": [
    "post_mean = torch.mean(posterior.trj, axis=0)\n",
    "post_std = torch.std(posterior.trj, axis=0)\n",
    "\n",
    "plt.plot(posterior.pts[0], post_mean, color='black')\n",
    "plt.fill_between(posterior.pts[0], post_mean + post_std, post_mean - post_std, color='grey', alpha=0.3)\n",
    "plt.plot(obs_time, obs, 'rx')\n",
    "plt.plot(true_sde.pts,true_sde.trj, 'grey', linestyle='dashed')"
   ]
  },
  {
   "cell_type": "markdown",
   "id": "dcc30c78",
   "metadata": {},
   "source": [
    "**Trace plot: gradient**"
   ]
  },
  {
   "cell_type": "code",
   "execution_count": 96,
   "id": "48353023",
   "metadata": {},
   "outputs": [
    {
     "data": {
      "text/plain": [
       "array([0.8015143], dtype=float32)"
      ]
     },
     "execution_count": 96,
     "metadata": {},
     "output_type": "execute_result"
    }
   ],
   "source": [
    "par[0].data.numpy()"
   ]
  },
  {
   "cell_type": "code",
   "execution_count": 97,
   "id": "b48a925c",
   "metadata": {},
   "outputs": [
    {
     "data": {
      "image/png": "[encoded data removed]",
      "text/plain": [
       "<Figure size 1440x360 with 3 Axes>"
      ]
     },
     "metadata": {
      "needs_background": "light"
     },
     "output_type": "display_data"
    }
   ],
   "source": [
    "fig, ax = plt.subplots(nrows=1, ncols=3, figsize=(20, 5))\n",
    "names = [r'$\\beta$', r'$\\alpha$', 'r']\n",
    "for i, ax in enumerate(ax.ravel()):\n",
    "    par = [item[i].data.numpy() for item in trace_pars]\n",
    "    ax.plot(np.arange(len(par)), par)\n",
    "    ax.set_title(names[i])\n",
    "    ax.set_xlabel('iterations')\n",
    "    ax.set_ylabel(names[i])\n",
    "# plt.title(\"Trace plot: beta\")\n",
    "# plt.plot(np.arange(len(betas)), betas)\n",
    "# plt.xlabel(\"iteration\")\n",
    "# plt.ylabel(r\"$\\beta$\")\n",
    "# plt.show()"
   ]
  },
  {
   "cell_type": "markdown",
   "id": "e60472c6",
   "metadata": {},
   "source": [
    "**Trace plot: ELBO**"
   ]
  },
  {
   "cell_type": "code",
   "execution_count": 100,
   "id": "fd948d8a",
   "metadata": {},
   "outputs": [
    {
     "data": {
      "image/png": "[encoded data removed]",
      "text/plain": [
       "<Figure size 1080x360 with 2 Axes>"
      ]
     },
     "metadata": {
      "needs_background": "light"
     },
     "output_type": "display_data"
    }
   ],
   "source": [
    "fig, ax = plt.subplots(nrows=1, ncols=2, figsize=(15, 5))\n",
    "\n",
    "for i, ax in enumerate(ax.ravel()):\n",
    "    ax.set_title(\"Trace plot: (Negative) ELBO\")\n",
    "    if i == 0:\n",
    "        ax.plot(np.arange(len(trace_elbo[1:])), trace_elbo[1:])\n",
    "    else:\n",
    "        ax.plot(np.arange(len(trace_elbo[50:])), trace_elbo[50:])\n",
    "        ax.set_title(\"(After 100 iterations) Trace plot: (Negative) ELBO\")\n",
    "    ax.set_xlabel(\"iteration\")\n",
    "    ax.set_ylabel(\"Negative ELBO\")\n",
    "plt.show()"
   ]
  },
  {
   "cell_type": "markdown",
   "id": "16c2b26f",
   "metadata": {},
   "source": [
    "**Posterior moment based on the average of last 30 iterations of beta**"
   ]
  },
  {
   "cell_type": "code",
   "execution_count": 101,
   "id": "e3605e4e",
   "metadata": {},
   "outputs": [
    {
     "data": {
      "image/png": "[encoded data removed]",
      "text/plain": [
       "<Figure size 432x288 with 1 Axes>"
      ]
     },
     "metadata": {
      "needs_background": "light"
     },
     "output_type": "display_data"
    }
   ],
   "source": [
    "postmean = post_mean(true_sde.pts[:100])\n",
    "\n",
    "plt.plot(obs_time, obs, 'rx', label=\"observations\")\n",
    "plt.plot(true_sde.pts[:100], postmean, color='black', label=\"posterior mean\")\n",
    "plt.plot(true_sde.pts,true_sde.trj, 'red', linestyle='dashed', alpha= 0.3)\n",
    "plt.fill_between(true_sde.pts[:100], postmean - 0.5/r_, postmean + 0.5/r_, color='grey', alpha=0.3)\n",
    "plt.legend()\n",
    "plt.xlabel(\"time\")\n",
    "plt.ylabel(\"x\")\n",
    "plt.show()"
   ]
  },
  {
   "cell_type": "code",
   "execution_count": null,
   "id": "367cfe52",
   "metadata": {},
   "outputs": [],
   "source": []
  },
  {
   "cell_type": "code",
   "execution_count": null,
   "id": "b0ebdde2",
   "metadata": {},
   "outputs": [],
   "source": [
    "beta_ = 1.\n",
    "alpha_ = 0.\n",
    "r_ = 1.\n",
    "m0 = obs[3]\n",
    "\n",
    "N = 50\n",
    "N_e = 50\n",
    "learning_rate = 0.0000001\n",
    "lr = learning_rate\n",
    "\n",
    "trace_pars = []\n",
    "trace_elbo = []\n",
    "for k in tq.tqdm(range(300)):\n",
    "    beta_grad = 0.\n",
    "    alpha_grad = 0.\n",
    "    r_grad = 0.\n",
    "\n",
    "    for i in range(N):\n",
    "        vi = tOU(t0 = obs_time[3], t1 = obs_time[4], z0 = obs[3], m0 = m0, alpha = alpha_, beta = beta_, sigma = 1, r = r_, dN = 30)\n",
    "        elbo = ELBO(vi)\n",
    "        score = Score(vi)\n",
    "        \n",
    "        scores = score.compute_score(torch.tensor(alpha_, dtype=torch.float64), torch.tensor(beta_, dtype=torch.float64)\\\n",
    "                                    , torch.tensor(m0, dtype=torch.float64), torch.tensor(r_, dtype=torch.float64))\n",
    "        f_of_X = -1 * (elbo.log_prob(obs[4]) + elbo.KL_ito() + elbo.KL_rest())\n",
    "        beta_grad += f_of_X * scores['beta']\n",
    "        alpha_grad += f_of_X * scores['alpha']\n",
    "        r_grad += f_of_X * scores['r']\n",
    "        \n",
    "    beta_ -= learning_rate * (beta_grad/N).numpy()\n",
    "    alpha_ -= learning_rate * (alpha_grad/N).numpy()\n",
    "    r__ = r_ + learning_rate * (r_grad/N).numpy()\n",
    "    \n",
    "    # It is to ensure r should be strictly positive (i.e. projected gradient method)\n",
    "    while r__ < 0:\n",
    "        r__ = r_ + lr * (r_grad/N).numpy()\n",
    "        lr *= 0.5\n",
    "    r_ = r__\n",
    "\n",
    "    \n",
    "    elbo_estimate = 0\n",
    "    for j in range(N_e):\n",
    "        vi_ = tOU(t0 = obs_time[3], t1=obs_time[4], z0 = obs[3], m0 = m0, alpha = alpha_, beta = beta_, sigma = 1, r = r_, dN = 30)\n",
    "        elbo_ = ELBO(vi_)\n",
    "        elbo_estimate += -1 * (elbo_.log_prob(obs[4]) + elbo_.KL_ito() + elbo_.KL_rest())\n",
    "    \n",
    "    elbo_estimate *= 1/N_e\n",
    "    \n",
    "    if k % 100 == 0:\n",
    "        print(\"beta = \", beta_, \"alpha = \", alpha_, \"r = \", r_, 'ELBO = ', elbo_estimate)\n",
    "    \n",
    "    trace_pars.append((beta_, alpha_, r_))\n",
    "    trace_elbo.append(elbo_estimate)\n",
    "# score.compute_score()"
   ]
  },
  {
   "cell_type": "code",
   "execution_count": null,
   "id": "d65b0d22",
   "metadata": {},
   "outputs": [],
   "source": [
    "for i in range(50):\n",
    "    posterior = tOU(t0 = obs_time[3], t1 = obs_time[4], z0 = obs[3], m0 = obs[3], alpha = alpha_, beta = beta_, sigma = 1, r = r_, dN = 30)\n",
    "    plt.plot(posterior.pts, posterior.trj, 'b')\n",
    "    plt.plot(posterior.pts, func(posterior.pts), 'd')\n",
    "    plt.plot(obs_time, obs, 'rx')\n",
    "plt.plot(true_sde.pts,true_sde.trj, 'grey', linestyle='dashed')"
   ]
  },
  {
   "cell_type": "code",
   "execution_count": null,
   "id": "08b8062b",
   "metadata": {},
   "outputs": [],
   "source": []
  },
  {
   "cell_type": "code",
   "execution_count": null,
   "id": "89c32e60",
   "metadata": {},
   "outputs": [],
   "source": [
    "post_mean = lambda x: alpha_ * (((x + 1) ** beta_) - 1) + m0"
   ]
  },
  {
   "cell_type": "code",
   "execution_count": null,
   "id": "8c879b60",
   "metadata": {},
   "outputs": [],
   "source": [
    "alpha_ * ((true_sde.pts[300:400] + 1) ** beta_ - 1) + m0"
   ]
  },
  {
   "cell_type": "code",
   "execution_count": null,
   "id": "c6545298",
   "metadata": {},
   "outputs": [],
   "source": [
    "toy_sde = tOU(3, 100, m0, m0, alpha_, beta_, 1., r_, dN = 30)\n",
    "toy_sde_trj, toy_sde_dt = toy_sde.simulate()"
   ]
  },
  {
   "cell_type": "code",
   "execution_count": null,
   "id": "ced1e086",
   "metadata": {},
   "outputs": [],
   "source": [
    "m0"
   ]
  },
  {
   "cell_type": "code",
   "execution_count": null,
   "id": "c50fe37d",
   "metadata": {},
   "outputs": [],
   "source": [
    "func = lambda x: alpha_ * (((x + 1) ** beta_) - 1) + m0"
   ]
  },
  {
   "cell_type": "code",
   "execution_count": null,
   "id": "585c27ea",
   "metadata": {
    "scrolled": true
   },
   "outputs": [],
   "source": [
    "plt.plot(toy_sde.pts, toy_sde_trj, 'rx', label = 'time-dependent OU')\n",
    "plt.plot(toy_sde.pts, func(toy_sde.pts), linestyle='dashed', color='red', alpha=0.3, label='aymptotic mean')\n",
    "plt.legend()\n",
    "plt.xlabel(\"time\")\n",
    "plt.ylabel(\"x\")\n",
    "plt.show()"
   ]
  },
  {
   "cell_type": "code",
   "execution_count": null,
   "id": "8a738bf8",
   "metadata": {},
   "outputs": [],
   "source": []
  },
  {
   "cell_type": "code",
   "execution_count": null,
   "id": "e85a031b",
   "metadata": {},
   "outputs": [],
   "source": []
  },
  {
   "cell_type": "code",
   "execution_count": null,
   "id": "597c2fee",
   "metadata": {},
   "outputs": [],
   "source": []
  },
  {
   "cell_type": "code",
   "execution_count": null,
   "id": "e60151ce",
   "metadata": {},
   "outputs": [],
   "source": []
  },
  {
   "cell_type": "code",
   "execution_count": null,
   "id": "3dacb343",
   "metadata": {},
   "outputs": [],
   "source": [
    "postmean = post_mean(true_sde.pts[300:400])\n",
    "\n",
    "plt.plot(obs_time, obs, 'rx', label=\"observations\")\n",
    "plt.plot(true_sde.pts[300:400], postmean, color='black', label=\"posterior mean\")\n",
    "plt.plot(true_sde.pts,true_sde.trj, 'red', linestyle='dashed', alpha= 0.3)\n",
    "plt.fill_between(true_sde.pts[300:400], postmean - 0.5/r_, postmean + 0.5/r_, color='grey', alpha=0.3)\n",
    "plt.legend()\n",
    "plt.xlabel(\"time\")\n",
    "plt.ylabel(\"x\")\n",
    "plt.show()"
   ]
  },
  {
   "cell_type": "markdown",
   "id": "c12ba662",
   "metadata": {},
   "source": [
    "2. Complete piece-wise optimization from t=0 to t=10\n",
    "\n",
    "We use the posterior mean of the previous step as our initial value for next vi"
   ]
  },
  {
   "cell_type": "code",
   "execution_count": null,
   "id": "61386a01",
   "metadata": {
    "scrolled": true
   },
   "outputs": [],
   "source": [
    "N = 50\n",
    "N_e = 50\n",
    "learning_rate = 0.0000001\n",
    "lr = learning_rate\n",
    "z0 = obs[0]\n",
    "IT = 100\n",
    "\n",
    "elbo_traces = np.empty((9, IT))\n",
    "pars_traces = np.empty((3, 9, IT))\n",
    "\n",
    "for t in tq.tqdm(range(obs.shape[0]-1)):\n",
    "    # initilize a set of parameters\n",
    "    beta_ = np.random.uniform(1, 3)\n",
    "    alpha_ = 0.\n",
    "    r_ = np.random.uniform(1, 2)\n",
    "  \n",
    "    for i in range(IT):\n",
    "        beta_grad = 0.\n",
    "        alpha_grad = 0.\n",
    "        r_grad = 0.\n",
    "        \n",
    "        for k in range(N):\n",
    "            vi = tOU(t0 = obs_time[t], t1 = obs_time[t+1], z0 = z0, m0 = z0, alpha = alpha_ , beta = beta_ , sigma = 1., r = r_, dN=30)\n",
    "            elbo = ELBO(vi)\n",
    "            score = Score(vi)\n",
    "\n",
    "            scores = score.compute_score(torch.tensor(alpha_, dtype=torch.float64), torch.tensor(beta_, dtype=torch.float64)\\\n",
    "                            , torch.tensor(z0, dtype=torch.float64), torch.tensor(r_, dtype=torch.float64))\n",
    "\n",
    "            f_of_X = -1 * (elbo.log_prob(obs[t+1]) + elbo.KL_ito() + elbo.KL_rest())\n",
    "            \n",
    "            beta_grad += f_of_X * scores['beta']\n",
    "            alpha_grad += f_of_X * scores['alpha']\n",
    "            r_grad += f_of_X * scores['r']\n",
    "            \n",
    "        beta_ -= learning_rate * (beta_grad/N).numpy()\n",
    "        alpha_ -= learning_rate * (alpha_grad/N).numpy()\n",
    "        r__ = r_ + learning_rate * (r_grad/N).numpy()\n",
    "    \n",
    "        # It is to ensure r should be strictly positive (i.e. projected gradient method)\n",
    "        while r__ < 0:\n",
    "            r__ = r_ + lr * (r_grad/N).numpy()\n",
    "            lr *= 0.5\n",
    "        r_ = r__\n",
    "\n",
    "        \n",
    "        pars_traces[0, t, i] = alpha_\n",
    "        pars_traces[1, t, i] = beta_\n",
    "        pars_traces[2, t, i] = r_\n",
    "        \n",
    "        elbo_estimate = 0\n",
    "        for j in range(N_e):\n",
    "            vi_ = tOU(t0 = obs_time[t], t1=obs_time[t+1], z0 = z0, m0 = z0, alpha = alpha_, beta = beta_ , sigma = 1., r = r_, dN=30)\n",
    "            elbo_ = ELBO(vi_)\n",
    "            elbo_estimate += -1 * (elbo_.log_prob(obs[t+1]) + elbo_.KL_ito() + elbo_.KL_rest())\n",
    "    \n",
    "        elbo_estimate *= 1/N_e\n",
    "        if i % 10 == 0:\n",
    "            print(\"alpha = \", alpha_, \"beta = \", beta_, \"r = \", r_, \"elbo = \", elbo_estimate)\n",
    "        elbo_traces[t, i] = elbo_estimate\n",
    "\n",
    "    z0 +=  alpha_ * (((obs_time[t+1] + 1) ** np.mean(pars_traces[1, t, -30:])) - 1)\n",
    "    \n",
    "# score.compute_score()"
   ]
  },
  {
   "cell_type": "markdown",
   "id": "3c98123c",
   "metadata": {},
   "source": [
    "Trace plot: ELBO"
   ]
  },
  {
   "cell_type": "code",
   "execution_count": null,
   "id": "f496421f",
   "metadata": {},
   "outputs": [],
   "source": [
    "fig, ax = plt.subplots(nrows=3, ncols=3, figsize=(20, 10))\n",
    "t = 0\n",
    "for ax in ax.ravel():\n",
    "    ax.plot(np.arange(len(elbo_traces[t, :IT])), elbo_traces[t, :IT])\n",
    "    ax.set_xlabel(\"iteration\")\n",
    "    ax.set_ylabel(\"Negative ELBO, dt = %d\" % t)\n",
    "    t += 1\n",
    "    \n",
    "plt.suptitle(\"Trace plot: (Negative) ELBO\", size=15, y=0.95)\n",
    "plt.show()"
   ]
  },
  {
   "cell_type": "code",
   "execution_count": null,
   "id": "83668172",
   "metadata": {},
   "outputs": [],
   "source": [
    "fig, ax = plt.subplots(nrows=3, ncols=3, figsize=(20, 10))\n",
    "t = 0\n",
    "for ax in ax.ravel():\n",
    "    ax.plot(np.arange(len(pars_traces[0, t, :IT])), pars_traces[0, t, :IT])\n",
    "    ax.set_xlabel(\"iteration\")\n",
    "    ax.set_ylabel(\"beta, dt = %d\" % t)\n",
    "    t += 1\n",
    "    \n",
    "plt.suptitle(\"Trace plot: beta\")\n",
    "plt.show()"
   ]
  },
  {
   "cell_type": "code",
   "execution_count": null,
   "id": "d79e6d8c",
   "metadata": {},
   "outputs": [],
   "source": [
    "def g_posterior_moment(init, alpha, vi_beta, t0, t1):\n",
    "    \"\"\"\n",
    "        Obtain credible interval\n",
    "            posterior mean and variance are computed based on the theory (using fitted variational parameter at each interval)\n",
    "    \"\"\"\n",
    "    sigma = 1.\n",
    "    pts = np.linspace(t0,t1,900)\n",
    "    dt = pts[1:] - pts[:-1]\n",
    "    \n",
    "    mean = [init]\n",
    "    var = list(map(lambda t: np.sqrt((sigma ** 2 / (2*vi_beta[0])) * (1 - np.exp(-2 * vi_beta[0] * t))), dt[:100]))\n",
    "    \n",
    "    k = 0\n",
    "    for j in range(dt.shape[0]):\n",
    "        if j % 100 == 0:\n",
    "            beta = vi_beta[k]\n",
    "            k += 1\n",
    "        mean.append(alpha + (mean[j] - alpha)*np.exp(-1 * beta * dt[j]))\n",
    "        if (j % 100 == 0) and (j > 0):\n",
    "            func = lambda t: np.sqrt((sigma ** 2 / (2*beta)) * (1 - np.exp(-2 * beta * t)))\n",
    "            var += list(map(func, dt[j-100:j]))\n",
    "    return np.array(mean), np.array(var)"
   ]
  },
  {
   "cell_type": "code",
   "execution_count": null,
   "id": "7f8593d6",
   "metadata": {},
   "outputs": [],
   "source": [
    "pmean, pvar = g_posterior_moment(obs[0], 0, vi_beta, 0, 6)"
   ]
  },
  {
   "cell_type": "code",
   "execution_count": null,
   "id": "b7a81477",
   "metadata": {},
   "outputs": [],
   "source": [
    "plt.figure(figsize=(15,8))\n",
    "plt.title(\"Posterior process\")\n",
    "plt.plot(true_sde.pts, true_sde.trj, alpha=0.3, label='underlying SDE')\n",
    "plt.plot(true_sde.pts[:900], pmean, 'black', label='posterior mean')\n",
    "plt.fill_between(true_sde.pts[:900], pmean - pvar, pmean + pvar, alpha=0.5, color='grey')\n",
    "plt.plot(obs_time, obs, 'rx', label='observations')\n",
    "plt.legend()\n",
    "plt.xlabel(\"time\")\n",
    "plt.ylabel(\"x\")\n",
    "plt.show()"
   ]
  }
 ],
 "metadata": {
  "kernelspec": {
   "display_name": "Python 3 (ipykernel)",
   "language": "python",
   "name": "python3"
  },
  "language_info": {
   "codemirror_mode": {
    "name": "ipython",
    "version": 3
   },
   "file_extension": ".py",
   "mimetype": "text/x-python",
   "name": "python",
   "nbconvert_exporter": "python",
   "pygments_lexer": "ipython3",
   "version": "3.9.7"
  }
 },
 "nbformat": 4,
 "nbformat_minor": 5
}
