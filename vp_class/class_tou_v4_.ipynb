{
 "cells": [
  {
   "cell_type": "code",
   "execution_count": 1,
   "id": "d251a595",
   "metadata": {},
   "outputs": [],
   "source": [
    "import torch\n",
    "import numpy as np\n",
    "from torch.autograd import Variable\n",
    "from torch.distributions import Normal\n",
    "\n",
    "\n",
    "class tOU:\n",
    "    def __init__(self, t0, t1, alpha, beta, r, sde_sigma, init_dist, timegrid=False, dN=500):\n",
    "        \"\"\"\n",
    "            t0, t1 = torch.tensor(t1)\n",
    "            alpha, beta, m0, r, sigma = torch.tensor.shape (D, 1)\n",
    "        \"\"\"\n",
    "        assert alpha.shape == beta.shape == r.shape == sde_sigma.shape, \"parameters must have the same dimension\"\n",
    "        assert alpha.shape[1] == 1, \"parameter must have a shape D*1\"\n",
    "        assert all(sigma > 0), \"variance must be positive\"\n",
    "        assert all(r > 0), \"r must be positive\"\n",
    "        \n",
    "        self.t0 = t0\n",
    "        self.t1 = t1\n",
    "        self.alpha = alpha\n",
    "        self.beta = beta\n",
    "        self.sigma = sde_sigma\n",
    "        self.r = r\n",
    "        D = alpha.shape[0]\n",
    "        \n",
    "        if timegrid == True:\n",
    "            self.pts = torch.linspace(t0, t1, dN).repeat(D, 1)\n",
    "        else:\n",
    "            self.pts = torch.sort(torch.cat([(t1 - t0) * torch.rand(D, dN-2) + t0, torch.tensor([self.t0, self.t1]).repeat(D,1)], axis=1), axis=1)[0]\n",
    "            \n",
    "        self.trj, self.dt = self.path(init_dist)\n",
    "        \n",
    "            \n",
    "    def path(self, init_dist):\n",
    "        \"\"\"\n",
    "            init_dist: distribution to draw an initial state\n",
    "            init_dist = Normal(loc=E[X_{t_{i-1}}|lambda_{i-1}], scale = std[X_{t_{i-1}}|lambda_{i-1}])\n",
    "        \"\"\"\n",
    "        \n",
    "        # Get parameters\n",
    "        alpha = self.alpha\n",
    "        beta = self.beta\n",
    "        sigma = self.sigma\n",
    "        r = self.r\n",
    "        t = self.pts\n",
    "    \n",
    "        def mean(x, dt, t0, alpha, beta, m0, r):\n",
    "            \"\"\"\n",
    "                t0: we always start our process from t = 0\n",
    "            \"\"\"\n",
    "\n",
    "            b_t = alpha * ( (t0[:,0].reshape(-1, 1) + 1) ** beta  - 1) + m0 - (alpha  * ((t0[:, 1].reshape(-1, 1) + 1) ** beta - 1) + m0 ) * torch.exp(r * dt.reshape(-1, 1))\n",
    "            return (x.reshape(-1, 1) - b_t) * torch.exp(-r * dt.reshape(-1, 1))\n",
    "\n",
    "        def std(t, r, sigma):\n",
    "            return torch.sqrt(variance(t, r, sigma))\n",
    "\n",
    "        def variance(t, r, sigma):\n",
    "            dt = torch.diff(t)\n",
    "            return sigma * sigma * (1 - torch.exp(-2 * r * dt)) / (2*r)\n",
    "        \n",
    "        normal = Normal(loc=0., scale=1.)\n",
    "        x = normal.sample(t.size())\n",
    "\n",
    "        if type(init_dist) == torch.distributions.normal.Normal:\n",
    "            # sample initial state from approximate posterior distribution\n",
    "            m0 = init_dist.sample([x.shape[0], 1])\n",
    "            x[:, 0] = m0.flatten()\n",
    "        else:\n",
    "            m0 = init_dist\n",
    "            x[:, 0] = m0.flatten()\n",
    "            \n",
    "        t0 = t - t[:, 0].reshape(-1, 1)\n",
    "\n",
    "        dt = torch.diff(t)\n",
    "\n",
    "        scale = std(t, r.reshape(-1,1), sigma.reshape(-1, 1))\n",
    "\n",
    "        x[:, 1:] = x[:, 1:] * scale\n",
    "        for i in range(1, x.shape[1]):\n",
    "            x[:, i] += mean(x[:, i-1], dt[:, i-1], t0[:, i-1:i+1], alpha, beta, m0, r).flatten()\n",
    "\n",
    "\n",
    "        return x, dt\n"
   ]
  },
  {
   "cell_type": "code",
   "execution_count": 2,
   "id": "f0945ed2",
   "metadata": {},
   "outputs": [],
   "source": [
    "dist = Normal(loc=0, scale=1.)\n",
    "t0 = torch.tensor(0.)\n",
    "t1 = torch.tensor(1.)"
   ]
  },
  {
   "cell_type": "code",
   "execution_count": 3,
   "id": "4c06adba",
   "metadata": {},
   "outputs": [],
   "source": [
    "alpha = torch.tensor([1., 1.]).reshape(-1, 1)\n",
    "beta = torch.tensor([1., 1.]).reshape(-1, 1)\n",
    "r = torch.tensor([1., 1.]).reshape(-1, 1)\n",
    "sigma = torch.tensor([1., 1.]).reshape(-1, 1)"
   ]
  },
  {
   "cell_type": "code",
   "execution_count": 4,
   "id": "05e188ff",
   "metadata": {},
   "outputs": [],
   "source": [
    "tou = tOU(t0, t1, alpha, beta, r, sigma, init_dist=dist)"
   ]
  },
  {
   "cell_type": "code",
   "execution_count": 5,
   "id": "6b0c94ad",
   "metadata": {},
   "outputs": [
    {
     "data": {
      "text/plain": [
       "[<matplotlib.lines.Line2D at 0x7fe46b406e50>,\n",
       " <matplotlib.lines.Line2D at 0x7fe46b406e80>]"
      ]
     },
     "execution_count": 5,
     "metadata": {},
     "output_type": "execute_result"
    },
    {
     "data": {
      "image/png": "[encoded data removed]",
      "text/plain": [
       "<Figure size 432x288 with 1 Axes>"
      ]
     },
     "metadata": {
      "needs_background": "light"
     },
     "output_type": "display_data"
    }
   ],
   "source": [
    "import matplotlib.pylab as plt\n",
    "\n",
    "plt.plot(tou.pts.T, tou.trj.T)"
   ]
  },
  {
   "cell_type": "code",
   "execution_count": 6,
   "id": "ad729bd5",
   "metadata": {},
   "outputs": [],
   "source": [
    "def tou_gradient(t, x, params, sde_sigma, init_dist):\n",
    "    assert torch.is_tensor(sde_sigma), \"sde_sigma must be a (D*1) tensor\"\n",
    "    assert torch.is_tensor(init_dist) or type(init_dist) == torch.distributions.normal.Normal,\\\n",
    "    \"init_dist must either be tensor or torch.distributions\"\n",
    "    \n",
    "    \"\"\"\n",
    "        Calculates log likelihood of a path\n",
    "        Note that there are three parameters, alpha, beta, r\n",
    "    \"\"\"\n",
    "    \n",
    "    def mean(x, t, alpha, beta, m0, r):\n",
    "        \"\"\"\n",
    "            t0: we always start our process from t = 0\n",
    "        \"\"\"\n",
    "        t0 = t - t[:, 0].reshape(-1, 1)\n",
    "        dt = torch.diff(t)\n",
    "        m_t = alpha * ( (t0[:, :-1] + 1) ** beta  - 1) + m0 - (alpha * ((t0[:, 1:] + 1) ** beta - 1 ) + m0) * torch.exp(r * dt)\n",
    "\n",
    "        return (x - m_t) * torch.exp(-r * dt)\n",
    "    \n",
    "    def std(t, r, sigma):\n",
    "        return torch.sqrt(variance(t, r, sigma))\n",
    "\n",
    "    def variance(t, r, sigma):\n",
    "        dt = torch.diff(t)\n",
    "        return sigma * sigma * (1 - torch.exp(-2 * r * dt)) / (2*r)\n",
    "\n",
    "    params_ = Variable(params, requires_grad=True)\n",
    "    alpha, beta, r, = params_\n",
    "    sigma = sde_sigma\n",
    "\n",
    "    m0 = x[:, 0].reshape(-1, 1)\n",
    "    mu = mean(x[:, :-1], t, alpha, beta, m0, r)\n",
    "    var = std(t, r, sigma) + 1e-7 # To prevent the underflow (some of the value becomes 0 due to lack of precision\n",
    "    LL = torch.sum(Normal(loc=mu, scale=var).log_prob(x[:, 1:]), axis=1)\n",
    "\n",
    "    # At initialization (in case of random initialization)\n",
    "    if type(init_dist) == torch.distributions.normal.Normal:\n",
    "        LL += torch.sum(init_dist.log_prob(x[:,0]))\n",
    "    \n",
    "    LL.backward(torch.tensor([1.]).repeat(x.shape[0]))\n",
    "    \n",
    "    return {'alpha':params_.grad[0].clone().detach(), 'beta':params_.grad[1].clone().detach(), \n",
    "            'r':params_.grad[2].clone().detach(), 'LL':LL.clone().detach().data}\n",
    "\n"
   ]
  },
  {
   "cell_type": "code",
   "execution_count": 7,
   "id": "7017ad8f",
   "metadata": {},
   "outputs": [
    {
     "data": {
      "text/plain": [
       "{'alpha': tensor([[ 2.9842],\n",
       "         [-1.4219]]),\n",
       " 'beta': tensor([[ 4.2056],\n",
       "         [-1.7869]]),\n",
       " 'r': tensor([[-0.7822],\n",
       "         [-0.0107]]),\n",
       " 'LL': tensor([922.8107, 952.6277])}"
      ]
     },
     "execution_count": 7,
     "metadata": {},
     "output_type": "execute_result"
    }
   ],
   "source": [
    "tou_gradient(tou.pts, tou.trj, torch.stack([alpha, beta, r]), sigma, dist)"
   ]
  }
 ],
 "metadata": {
  "kernelspec": {
   "display_name": "Python 3 (ipykernel)",
   "language": "python",
   "name": "python3"
  },
  "language_info": {
   "codemirror_mode": {
    "name": "ipython",
    "version": 3
   },
   "file_extension": ".py",
   "mimetype": "text/x-python",
   "name": "python",
   "nbconvert_exporter": "python",
   "pygments_lexer": "ipython3",
   "version": "3.9.7"
  }
 },
 "nbformat": 4,
 "nbformat_minor": 5
}
