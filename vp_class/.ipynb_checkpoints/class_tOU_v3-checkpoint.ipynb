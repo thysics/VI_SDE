{
 "cells": [
  {
   "cell_type": "code",
   "execution_count": 87,
   "id": "d251a595",
   "metadata": {},
   "outputs": [],
   "source": [
    "#!/usr/bin/env python\n",
    "# coding: utf-8\n",
    "\n",
    "# In[ ]:\n",
    "\n",
    "\n",
    "import torch\n",
    "import numpy as np\n",
    "from torch.autograd import Variable\n",
    "from torch.distributions import Normal\n",
    "\n",
    "\n",
    "class tOU:\n",
    "    def __init__(self, t0, t1, a, b, c, d, r, sigma, timegrid = False, dN=500):\n",
    "        \"\"\"\n",
    "            t0, t1 = torch.tensor(t1)\n",
    "            a, b, c, d, r, sigma = torch.tensor.shape (D, 1)\n",
    "        \"\"\"\n",
    "        assert a.shape == b.shape == c.shape == d.shape == r.shape == sigma.shape, \"parameters must have the same dimension\"\n",
    "        assert a.shape[1] == 1, \"parameter must have a shape D*1\"\n",
    "        assert t0.shape == t1.shape, \"t0, t1 must have the same dimension\"\n",
    "        assert all(sigma > 0), \"variance must be positive\"\n",
    "        assert all(r > 0), \"r must be positive\"\n",
    "        \n",
    "        self.t0 = t0\n",
    "        self.t1 = t1\n",
    "        self.a = a\n",
    "        self.b = b\n",
    "        self.c = c\n",
    "        self.d = d\n",
    "        self.r = r\n",
    "        self.sigma = sigma        \n",
    "        \n",
    "        \n",
    "        D = a.shape[0]\n",
    "        if timegrid == True:\n",
    "            self.pts = torch.linspace(t0, t1, dN).repeat(D, 1)\n",
    "        else:\n",
    "            self.pts = torch.sort(torch.cat([(t1 - t0) * torch.rand(D, dN-2) + t0, torch.tensor([self.t0, self.t1]).repeat(D,1)], axis=1), axis=1)[0]\n",
    "            \n",
    "        \n",
    "        self.trj, self.dt = self.path()\n",
    "            \n",
    "    def path(self):\n",
    "        \n",
    "        # Get parameters\n",
    "        a = self.a\n",
    "        b = self.b\n",
    "        c = self.c\n",
    "        d = self.d\n",
    "        r = self.r\n",
    "        sigma = self.sigma\n",
    "        \n",
    "        \n",
    "        t = self.pts\n",
    "    \n",
    "        def mean(x, dt, t0, a, b, c, d, r):\n",
    "            \"\"\"\n",
    "                A mean function is a 3rd power polynomial\n",
    "                    i.e. m(s) - m(t_)exp(\\alpha)\n",
    "                    where m(s) = as3 + bs2 + cs + d\n",
    "                t0: we always start our process from t = 0\n",
    "            \"\"\"\n",
    "            s = t0[:, 0].reshape(-1, 1)\n",
    "            t_ = t0[:, 1].reshape(-1, 1)\n",
    "\n",
    "            b_term1 = a * (s ** 3) + b * (s ** 2) + c * s + d \n",
    "            b_term2 = (a * (t_ ** 3) + b * (t_ ** 2) + c * t_ + d) * torch.exp(r * dt.reshape(-1, 1))\n",
    "            b_t = b_term1 - b_term2\n",
    "            \n",
    "            return (x.reshape(-1, 1) - b_t) * torch.exp(-r * dt.reshape(-1, 1))\n",
    "\n",
    "        def std(t, r, sigma):\n",
    "            return torch.sqrt(variance(t, r, sigma))\n",
    "\n",
    "        def variance(t, r, sigma):\n",
    "            dt = torch.diff(t)\n",
    "            return sigma * sigma * (1 - torch.exp(-2 * r * dt)) / (2*r)\n",
    "\n",
    "\n",
    "        assert t.shape[1] > 1\n",
    "\n",
    "        normal = Normal(loc=0., scale=1.)\n",
    "        x = normal.sample(t.size())\n",
    "        \n",
    "\n",
    "        if torch.is_tensor(d):\n",
    "            x[:, 0] = d.flatten()\n",
    "        else:\n",
    "            x[:, 0] = d\n",
    "\n",
    "        t0 = t - t[:, 0].reshape(-1, 1)\n",
    "\n",
    "        dt = torch.diff(t)\n",
    "\n",
    "        scale = std(t, r.reshape(-1,1), sigma.reshape(-1, 1))\n",
    "\n",
    "        x[:, 1:] = x[:, 1:] * scale\n",
    "        for i in range(1, x.shape[1]):\n",
    "            x[:, i] += mean(x[:, i-1], dt[:, i-1], t0[:, i-1:i+1], a, b, c, d, r).flatten()\n",
    "\n",
    "\n",
    "        return x, dt\n",
    "\n",
    "def tou_gradient(t, x, params):\n",
    "    \n",
    "    \"\"\"\n",
    "    Calculates log likelihood of a path\n",
    "    params = (a, b, c, d, r)\n",
    "    \"\"\"\n",
    "    \n",
    "    def mean(x, t, a, b, c, d, r):\n",
    "        \"\"\"\n",
    "            t0: we always start our process from t = 0\n",
    "        \"\"\"\n",
    "        t0 = t - t[:, 0].reshape(-1, 1)\n",
    "        dt = torch.diff(t)\n",
    "        s = t0[:, :-1]\n",
    "        t_ = t0[:, 1:]\n",
    "        \n",
    "        b_term1 = a * (s ** 3) + b * (s ** 2) + c * s + d \n",
    "        b_term2 = (a * (t_ ** 3) + b * (t_ ** 2) + c * t_ + d) * torch.exp(r * dt)\n",
    "        b_t = b_term1 - b_term2\n",
    "\n",
    "        return (x - b_t) * torch.exp(-r * dt)\n",
    "    \n",
    "    def std(t, r, sigma):\n",
    "        return torch.sqrt(variance(t, r, sigma))\n",
    "\n",
    "    def variance(t, r, sigma):\n",
    "        dt = torch.diff(t)\n",
    "        return sigma * sigma * (1 - torch.exp(-2 * r * dt)) / (2*r)\n",
    "\n",
    "    \n",
    "    params_ = Variable(params, requires_grad=True)\n",
    "    a, b, c, d, r, sigma = params_\n",
    "    \n",
    "    mu = mean(x[:, :-1], t, a, b, c, d, r)\n",
    "    var = std(t, r, sigma) + 1e-7 # To prevent the underflow (some of the value becomes 0 due to lack of precision\n",
    "    \n",
    "    # from t_1\n",
    "    LL = torch.sum(Normal(loc=mu, scale=var).log_prob(x[:, 1:]), axis=1)\n",
    "        \n",
    "    LL.backward(torch.tensor([1.]).repeat(x.shape[0]))\n",
    "    return {'a':params_.grad[0].clone().detach(), 'b':params_.grad[1].clone().detach(),\n",
    "            'c':params_.grad[2].clone().detach(), 'd':params_.grad[3].clone().detach(), \n",
    "            'r':params_.grad[4].clone().detach(), 'LL':LL.clone().detach().data}\n",
    "\n"
   ]
  },
  {
   "cell_type": "code",
   "execution_count": 90,
   "id": "1e1fc9cb",
   "metadata": {},
   "outputs": [],
   "source": [
    "a = torch.tensor([1., -1]).reshape(-1, 1)\n",
    "b = torch.tensor([0.5, -1.5]).reshape(-1, 1)\n",
    "c = torch.tensor([-1., -1]).reshape(-1, 1)\n",
    "d = torch.tensor([-1., 1]).reshape(-1, 1)\n",
    "r = torch.tensor([1., 1.]).reshape(-1, 1)\n",
    "sigma = torch.tensor([1., 1.]).reshape(-1, 1)"
   ]
  },
  {
   "cell_type": "code",
   "execution_count": 91,
   "id": "13a8b352",
   "metadata": {},
   "outputs": [],
   "source": [
    "t0 = torch.tensor(0.)\n",
    "t1 = torch.tensor(1.)"
   ]
  },
  {
   "cell_type": "code",
   "execution_count": 102,
   "id": "f456fb83",
   "metadata": {},
   "outputs": [
    {
     "data": {
      "text/plain": [
       "[<matplotlib.lines.Line2D at 0x7f941bd48730>,\n",
       " <matplotlib.lines.Line2D at 0x7f941bd48760>]"
      ]
     },
     "execution_count": 102,
     "metadata": {},
     "output_type": "execute_result"
    },
    {
     "data": {
      "image/png": "[encoded data removed]",
      "text/plain": [
       "<Figure size 432x288 with 1 Axes>"
      ]
     },
     "metadata": {
      "needs_background": "light"
     },
     "output_type": "display_data"
    }
   ],
   "source": [
    "%matplotlib inline\n",
    "\n",
    "import matplotlib.pylab as plt\n",
    "tou = tOU(t0, t1, a, b, c, d, r, sigma, timegrid = False, dN=400)\n",
    "plt.plot(tou.pts.T, tou.trj.T)"
   ]
  },
  {
   "cell_type": "code",
   "execution_count": 103,
   "id": "2c383192",
   "metadata": {},
   "outputs": [
    {
     "name": "stdout",
     "output_type": "stream",
     "text": [
      "tensor([[[ 4.1418],\n",
      "         [-1.4412]],\n",
      "\n",
      "        [[ 3.4553],\n",
      "         [-0.9095]],\n",
      "\n",
      "        [[ 2.0276],\n",
      "         [-0.4481]],\n",
      "\n",
      "        [[ 0.8374],\n",
      "         [-0.1709]],\n",
      "\n",
      "        [[-0.3328],\n",
      "         [ 0.4077]],\n",
      "\n",
      "        [[-7.3995],\n",
      "         [10.8918]]])\n"
     ]
    },
    {
     "data": {
      "text/plain": [
       "{'a': tensor([[ 4.1418],\n",
       "         [-1.4412]]),\n",
       " 'b': tensor([[ 3.4553],\n",
       "         [-0.9095]]),\n",
       " 'c': tensor([[ 2.0276],\n",
       "         [-0.4481]]),\n",
       " 'd': tensor([[ 0.8374],\n",
       "         [-0.1709]]),\n",
       " 'r': tensor([[-0.3328],\n",
       "         [ 0.4077]]),\n",
       " 'LL': tensor([736.6506, 745.3761])}"
      ]
     },
     "execution_count": 103,
     "metadata": {},
     "output_type": "execute_result"
    }
   ],
   "source": [
    "tou_gradient(tou.pts, tou.trj, torch.stack([a,b,c,d,r,sigma]))"
   ]
  },
  {
   "cell_type": "code",
   "execution_count": null,
   "id": "98e21ab5",
   "metadata": {},
   "outputs": [],
   "source": []
  }
 ],
 "metadata": {
  "kernelspec": {
   "display_name": "Python 3 (ipykernel)",
   "language": "python",
   "name": "python3"
  },
  "language_info": {
   "codemirror_mode": {
    "name": "ipython",
    "version": 3
   },
   "file_extension": ".py",
   "mimetype": "text/x-python",
   "name": "python",
   "nbconvert_exporter": "python",
   "pygments_lexer": "ipython3",
   "version": "3.9.7"
  }
 },
 "nbformat": 4,
 "nbformat_minor": 5
}
