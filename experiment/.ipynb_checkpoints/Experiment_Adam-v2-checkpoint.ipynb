{
 "cells": [
  {
   "cell_type": "code",
   "execution_count": 28,
   "id": "591c0a5a",
   "metadata": {},
   "outputs": [],
   "source": [
    "import torch\n",
    "from torch.autograd import Variable\n",
    "from torch.distributions import Normal\n",
    "from functorch import vmap\n",
    "import matplotlib.pylab as plt\n",
    "import numpy as np\n",
    "import scipy.stats as ss\n",
    "import pickle\n",
    "import random"
   ]
  },
  {
   "cell_type": "code",
   "execution_count": 2,
   "id": "043b84c0",
   "metadata": {},
   "outputs": [],
   "source": [
    "import sys\n",
    "sys.path.insert(0,'../vp_class/')"
   ]
  },
  {
   "cell_type": "code",
   "execution_count": 3,
   "id": "0de3b222",
   "metadata": {},
   "outputs": [],
   "source": [
    "from class_tou_v6 import tOU, tou_gradient"
   ]
  },
  {
   "cell_type": "markdown",
   "id": "838b69b9",
   "metadata": {},
   "source": [
    "This code applies variational inference based on time-dependent OU processes to the observations drawn from the double well system SDE, as defined below. Note that we have chosen observational noise, i.e. variance of Gaussian noise and SDE variance to be 0.64 and 0.01 repectively."
   ]
  },
  {
   "cell_type": "markdown",
   "id": "2c22728a",
   "metadata": {},
   "source": [
    "m(t) = $\\alpha$t + $m_{0}$"
   ]
  },
  {
   "cell_type": "markdown",
   "id": "afe6d11b",
   "metadata": {},
   "source": [
    "1. Simulate prior process, i.e. double-well system whose SDE is given by\n",
    "\n",
    "$dX_{t} = 4X_{t}(1-X^{2}_{t})dt + \\sigma dW_{t}$"
   ]
  },
  {
   "cell_type": "code",
   "execution_count": 4,
   "id": "2c1791ac",
   "metadata": {},
   "outputs": [],
   "source": [
    "with open('../EX03_DW_Model', 'rb') as f:\n",
    "    prior = pickle.load(f)\n",
    "    likelihood = pickle.load(f)"
   ]
  },
  {
   "cell_type": "code",
   "execution_count": 5,
   "id": "7e8faa35",
   "metadata": {},
   "outputs": [],
   "source": [
    "def prior_drift (s, x_s):\n",
    "    return 4 * x_s * (1 - (x_s ** 2))"
   ]
  },
  {
   "cell_type": "code",
   "execution_count": 6,
   "id": "13bd214c",
   "metadata": {},
   "outputs": [],
   "source": [
    "true_sde_pts, true_sde_trj = prior[0], prior[1]\n",
    "obs, obs_time = likelihood[0], likelihood[1]\n",
    "sde_sigma = 0.8 # Variance is higher than the original example\n",
    "obs_sigma = 0.1"
   ]
  },
  {
   "cell_type": "code",
   "execution_count": 7,
   "id": "82ca55c1",
   "metadata": {},
   "outputs": [
    {
     "data": {
      "image/png": "[encoded data removed]",
      "text/plain": [
       "<Figure size 432x288 with 1 Axes>"
      ]
     },
     "metadata": {
      "needs_background": "light"
     },
     "output_type": "display_data"
    }
   ],
   "source": [
    "# Plot paths\n",
    "plt.plot(true_sde_pts,true_sde_trj)\n",
    "plt.plot(obs_time, obs, \"rx\")\n",
    "plt.xlabel(\"t\", fontsize=14)\n",
    "plt.ylabel(\"X\", fontsize=14)\n",
    "plt.title(\"Sample paths\", fontsize=14)\n",
    "plt.show()\n"
   ]
  },
  {
   "cell_type": "markdown",
   "id": "005f40f9",
   "metadata": {},
   "source": [
    "Variational inference: KL"
   ]
  },
  {
   "cell_type": "markdown",
   "id": "5eff800a",
   "metadata": {},
   "source": [
    "2. Implement Variational inference based on $\\textbf{time-inhomogeneous}$ OU process with SDE:\n",
    "\n",
    "$$dX_{t} = [-\\frac{a}{at+b}X_{t} - (ct+d)] dt + \\sigma^{2} dW_{t}$$"
   ]
  },
  {
   "cell_type": "markdown",
   "id": "1fc6d84b",
   "metadata": {},
   "source": [
    "$$\\mathbb{E}_{P^{Z}}[\\log\\exp{\\frac{dP^{X}}{dP^{Z}}(Z)] = \\frac{1}{2}\\mathbb{E}_{P^{Z}}[\\int_{t_{0}}}^{t_{1}}|\\frac{4Z_{t}(1-Z^{2}_{t}) + \\frac{a}{at+b}Z_{t} + (ct+d)}{\\sigma}|^{2}dt]$$\n"
   ]
  },
  {
   "cell_type": "code",
   "execution_count": 103,
   "id": "063c5550",
   "metadata": {},
   "outputs": [],
   "source": [
    "class ELBO:\n",
    "    \"\"\"\n",
    "        ELBO with\n",
    "            variational process (q): time-inhomogeneous OU process\n",
    "            prior process (p): double-well system\n",
    "            \n",
    "        This class computes: - KL(q|p) + NLL(y|z)  where z \\sim q\n",
    "    \"\"\"\n",
    "    def __init__(self, ou):\n",
    "        self.ou = ou\n",
    "        self.a = ou.a\n",
    "        self.b = ou.b\n",
    "        self.c = ou.c\n",
    "        self.d = ou.d\n",
    "        \n",
    "        self.sigma = ou.sigma\n",
    "        \n",
    "\n",
    "    def KL(self, prior_drift):\n",
    "        \"\"\"\n",
    "            This function requires the function corresponding to prior drift function\n",
    "        \"\"\"\n",
    "        # Save parameter specification from ou class\n",
    "        a, b, c, d, sigma = self.a, self.b, self.c, self.d, self.sigma\n",
    "\n",
    "        \n",
    "        def approx_drift(pts, trj, a, b, c, d):\n",
    "            return -1 * ((a * trj / (a*pts + b)) + c*pts + d)\n",
    "            \n",
    "        t = self.ou.pts - self.ou.pts[:, 0].reshape(-1, 1)\n",
    "        \n",
    "        dt = t[:, -1] - t[:, 0]\n",
    "\n",
    "        # Evaluate the drift function of the approximating processes\n",
    "        g_of_x = approx_drift(t, self.ou.trj, a, b, c, d)\n",
    "        \n",
    "        # Evaluate the drift function of the model (prior process)\n",
    "        f_of_x = prior_drift(t, self.ou.trj)\n",
    "        \n",
    "        # Compute the term inside the KL divergence\n",
    "        \n",
    "        F_of_X = abs(((f_of_x - g_of_x) / sigma) ** 2)\n",
    "        \n",
    "        return 0.5 * torch.sum(F_of_X, axis=1).reshape(-1, 1) / F_of_X.shape[1] * dt.reshape(-1, 1)\n",
    "            \n",
    "    def log_prob(self, obs, obs_sigma):\n",
    "        \"\"\"\n",
    "            Compute the log-likelihood\n",
    "            likelihood function is normal density N(obs, var)\n",
    "            obs.shape = D * 1 (D: # of sample)\n",
    "        \"\"\"\n",
    "        def log_pdf(obs, z, obs_sigma):\n",
    "            return ss.norm.logpdf(obs, loc=z, scale=obs_sigma)\n",
    "            \n",
    "        return torch.from_numpy(log_pdf(obs, self.ou.trj[:, -1].reshape(-1, 1), obs_sigma))\n"
   ]
  },
  {
   "cell_type": "code",
   "execution_count": 104,
   "id": "b91d1cf6",
   "metadata": {},
   "outputs": [],
   "source": [
    "dist = Normal(loc=0, scale=1.)\n",
    "t0 = torch.tensor(1.)\n",
    "t1 = torch.tensor(2.)\n",
    "sigma = torch.tensor([1.]).reshape(-1, 1)"
   ]
  },
  {
   "cell_type": "code",
   "execution_count": 105,
   "id": "ea1f5b1d",
   "metadata": {},
   "outputs": [],
   "source": [
    "parameters = {'a': torch.tensor([0.05]).reshape(-1, 1), \\\n",
    "             'b': torch.tensor([0.8]).reshape(-1, 1), \\\n",
    "             'c': torch.tensor([0.05]).reshape(-1, 1), \\\n",
    "             'd': torch.tensor([1.0]).reshape(-1, 1)}"
   ]
  },
  {
   "cell_type": "code",
   "execution_count": 106,
   "id": "1e073a56",
   "metadata": {},
   "outputs": [],
   "source": [
    "init_pts = torch.tensor([1.0]).reshape(-1, 1)"
   ]
  },
  {
   "cell_type": "code",
   "execution_count": 107,
   "id": "6e610509",
   "metadata": {},
   "outputs": [],
   "source": [
    "tou = tOU(t0, t1, parameters, sigma, init_dist=init_pts)"
   ]
  },
  {
   "cell_type": "code",
   "execution_count": 108,
   "id": "2253b0cf",
   "metadata": {},
   "outputs": [
    {
     "data": {
      "text/plain": [
       "tensor([[4.3438]])"
      ]
     },
     "execution_count": 108,
     "metadata": {},
     "output_type": "execute_result"
    }
   ],
   "source": [
    "ELBO(tou).KL(prior_drift)"
   ]
  },
  {
   "cell_type": "markdown",
   "id": "f0859993",
   "metadata": {},
   "source": [
    "**Variational inference: a piece-wise approximation**"
   ]
  },
  {
   "cell_type": "code",
   "execution_count": 109,
   "id": "70d17552",
   "metadata": {},
   "outputs": [],
   "source": [
    "import tqdm as tq"
   ]
  },
  {
   "cell_type": "code",
   "execution_count": 177,
   "id": "f7deb3f1",
   "metadata": {},
   "outputs": [],
   "source": [
    "def score_estimate(s0, sK, current_pars, sigma, obs, obs_sigma, init_dist, M):\n",
    "    \"\"\"\n",
    "        Returns stochastic estimates of the gradient of the ELBO with respect to parameters including\n",
    "            alpha, r, beta\n",
    "        \n",
    "        M: # of Monte Carlo samples\n",
    "        \n",
    "    \"\"\"\n",
    "    assert obs.shape[0] == 1, \"observation must be 1-d torch.array\"\n",
    "    \n",
    "    # Number of time points drawn between s0 and sK\n",
    "    K = 200\n",
    "    \n",
    "    # Reshape every parameter into (M,1) torch.array\n",
    "    SIGMA = sigma.repeat(M, 1)\n",
    "    OBS = obs.repeat(M, 1)\n",
    "    # Simulate sample path\n",
    "    # Note that z0 = m0\n",
    "    \n",
    "    pars = {key:val.repeat(M, 1) for key,val in current_pars.items()}\n",
    "    \n",
    "    vi = tOU(t0=s0, t1=sK, parameters = pars, sde_sigma=SIGMA, init_dist = init_dist, timegrid = 'False', dN=K)\n",
    "\n",
    "    # Compute the ELBO \n",
    "    elbo = ELBO(vi)\n",
    "    score_func = tou_gradient(vi.pts, vi.trj, pars, SIGMA, init_dist)\n",
    "    f_of_x = -elbo.log_prob(OBS, obs_sigma) + elbo.KL(prior_drift)\n",
    "    \n",
    "    return {key: torch.nanmean(f_of_x * score_func[key]) for key in pars.keys()}"
   ]
  },
  {
   "cell_type": "markdown",
   "id": "0e97c35f",
   "metadata": {},
   "source": [
    "Sanity check\n",
    "\n",
    "Examine the distribution of score function estimates of the gradient of each parameter."
   ]
  },
  {
   "cell_type": "code",
   "execution_count": 178,
   "id": "ea8d2e53",
   "metadata": {},
   "outputs": [],
   "source": [
    "estimates = {key:[] for key in parameters.keys()}\n",
    "\n",
    "for i in range(500):\n",
    "    grads = score_estimate(t0, t1, parameters, sigma, obs[0], obs_sigma, init_pts, 2000)\n",
    "    for key in grads.keys():\n",
    "        estimates[key].append(grads[key].item())"
   ]
  },
  {
   "cell_type": "code",
   "execution_count": 179,
   "id": "41def2c8",
   "metadata": {},
   "outputs": [
    {
     "data": {
      "image/png": "[encoded data removed]",
      "text/plain": [
       "<Figure size 1440x720 with 4 Axes>"
      ]
     },
     "metadata": {
      "needs_background": "light"
     },
     "output_type": "display_data"
    }
   ],
   "source": [
    "fig, axs = plt.subplots(nrows=2, ncols=2, figsize=(20, 10))\n",
    "par_names = list(estimates.keys())\n",
    "\n",
    "for j, ax in enumerate(axs.ravel()):\n",
    "    ax.hist(estimates[par_names[j]], bins=30)\n",
    "    ax.axvline(np.mean(estimates[par_names[j]]), linestyle='dashed', color='black')\n",
    "    ax.set_title(par_names[j])\n",
    "    ax.set_xlabel(\"Gradient estimate\")\n",
    "    ax.set_ylabel(\"Frequency\")"
   ]
  },
  {
   "cell_type": "code",
   "execution_count": 169,
   "id": "a7364214",
   "metadata": {},
   "outputs": [],
   "source": [
    "def AdaGrad( current_pars, current_grad, past_grad, learning_rate = 0.01, smooth_term = 1e-8):\n",
    "    \"\"\"\n",
    "        Perform one-step gradient descent based on AdaGrad with Gradient Clipping\n",
    "    \"\"\"\n",
    "    assert type(current_pars) == type(current_grad) == type(past_grad) == dict, \"Current_grad must be a dict\"\n",
    "    \n",
    "    \n",
    "    new_pars = {}\n",
    "    for key in current_pars.keys():\n",
    "        new_pars[key] = current_pars[key] - learning_rate / np.sqrt(past_grad[key] + smooth_term) * current_grad[key]\n",
    "\n",
    "    return new_pars\n",
    "    \n",
    "    "
   ]
  },
  {
   "cell_type": "code",
   "execution_count": 170,
   "id": "ee86c825",
   "metadata": {},
   "outputs": [],
   "source": [
    "def AdamStep(g_t, m_t, v_t, beta_1, beta_2, t):\n",
    "    \"\"\"\n",
    "        compute bias corrected moments\n",
    "    \"\"\"\n",
    "#     print(g_t, m_t, v_t, beta_1, beta_2, t)\n",
    "    m_t_next = beta_1 * m_t + (1 - beta_1) * g_t\n",
    "    v_t_next = beta_2 * v_t + (1 - beta_2) * g_t ** 2\n",
    "    \n",
    "    m_t_corrected = m_t_next / (1 - (beta_1 ** t))\n",
    "    v_t_corrected = v_t_next / (1 - (beta_2 ** t))\n",
    "    \n",
    "#     print(m_t_corrected, v_t_corrected)\n",
    "    return m_t_corrected, v_t_corrected\n",
    "\n",
    "def AdamGrad(current_pars, current_grad, prev_moments,  beta_1, beta_2, learning_rate = 0.01, smooth_term = 1e-8):\n",
    "    assert type(current_pars) == type(current_grad) == type(prev_moments) == dict, \"Current_grad must be a dict\"\n",
    "    \"\"\"\n",
    "        Perform one-step Adam gradient descent\n",
    "    \"\"\"\n",
    "    new_pars = {}\n",
    "    for key in current_pars.keys():\n",
    "        m_t, v_t = AdamStep(current_grad[key], prev_moments[key][0], prev_moments[key][1], beta_1, beta_2, prev_moments['t'])\n",
    "        new_pars[key] = current_pars[key] - learning_rate / np.sqrt(v_t + smooth_term) * m_t\n",
    "        \n",
    "        # Save moments for next iteration    \n",
    "        prev_moments[key][0] = m_t\n",
    "        prev_moments[key][1] = v_t\n",
    "    \n",
    "    prev_moments['t'] += 1\n",
    "    \n",
    "    return new_pars\n",
    "    \n",
    "    \n",
    "    "
   ]
  },
  {
   "cell_type": "code",
   "execution_count": 171,
   "id": "fb65c492",
   "metadata": {},
   "outputs": [],
   "source": [
    "def Grad_Descent( current_pars, current_grad, learning_rate = 0.01):\n",
    "    \"\"\"\n",
    "        Perform vanila gradient descent step\n",
    "        returns dictionary such that dict[\"name_of_parameter\"] = value after one gradient step\n",
    "    \"\"\"\n",
    "    assert type(current_pars) == type(current_grad) == dict, \"Current_grad must be a dict\"\n",
    "    \n",
    "    \n",
    "    new_pars = {}\n",
    "    for key in current_pars.keys():\n",
    "        new_pars[key] = current_pars[key] - learning_rate * current_grad[key]\n",
    "\n",
    "    return new_pars\n",
    "    "
   ]
  },
  {
   "cell_type": "code",
   "execution_count": 188,
   "id": "d8271cb8",
   "metadata": {},
   "outputs": [],
   "source": [
    "def E_of_X ( init_pts, pts, parameters ):\n",
    "    \"\"\"\n",
    "        Return mean of the process (which has analytical expression)\n",
    "    \"\"\"\n",
    "    pts = pts - pts[0]\n",
    "    a = parameters['a']\n",
    "    b = parameters['b']\n",
    "    c = parameters['c']\n",
    "    d = parameters['d']\n",
    "    \n",
    "    return b * (init_pts + 1/b * (a*c*pts ** 3 / 3 + (a*d + b*c)/2 * pts ** 2 + d*b*pts)) /(a*pts + b)\n",
    "    "
   ]
  },
  {
   "cell_type": "code",
   "execution_count": 189,
   "id": "a10c89e2",
   "metadata": {},
   "outputs": [],
   "source": [
    "def V_of_X (pts, parameters, sde_sigma):\n",
    "    \"\"\"\n",
    "        Return standard deviation of the process (from its analytical expression)\n",
    "    \"\"\"\n",
    "    pts = pts - pts[0]\n",
    "    a = parameters['a']\n",
    "    b = parameters['b']\n",
    "    c = parameters['c']\n",
    "    d = parameters['d']\n",
    "    \n",
    "    return torch.sqrt(sde_sigma ** 2 * (a**2 * pts ** 3 / 3 + a*b*pts**2 + b**2 * pts) / ((a*pts + b) ** 2))"
   ]
  },
  {
   "cell_type": "code",
   "execution_count": 194,
   "id": "615146f6",
   "metadata": {},
   "outputs": [],
   "source": [
    "def get_PostMoment(t0, tT, parameters, sde_sigma, init_pts, vN):\n",
    "    \"\"\"\n",
    "        Returns approximate posterior's mean and standard deviation\n",
    "    \"\"\"\n",
    "    # Get time-grid between s0 and sK\n",
    "    \n",
    "    t = torch.linspace(0, (tT-t0).item(), vN+2)[1:]\n",
    "    mean = E_of_X(init_pts, t, parameters)\n",
    "    std = V_of_X(t, parameters, sde_sigma)\n",
    "    \n",
    "    return t, mean, std"
   ]
  },
  {
   "cell_type": "markdown",
   "id": "faeed2c1",
   "metadata": {},
   "source": [
    "**To be added: 1. parameter update history, 2. elbo, KL, and loglikelihood estimate, 3. randomizing initial state**"
   ]
  },
  {
   "cell_type": "code",
   "execution_count": 180,
   "id": "5b5dc1e3",
   "metadata": {},
   "outputs": [],
   "source": [
    "def Optimize(sde_sigma, obs, obs_time, obs_sigma, M, IT, vN, learning_rate, init_state = \"Random\", Linear = True, Optimizer=\"Adam\", beta_1 = 0.9, beta_2 = 0.999, smooth_term = 1e-8):\n",
    "    \"\"\"\n",
    "        vN: # of time points between in each obs interval on which mean of the approximate posterior process will be evaluated\n",
    "    \"\"\"\n",
    "    assert type(sde_sigma) == torch.Tensor, \"SDE sigma must be a torch.Tensor\"\n",
    "    assert type(obs) == torch.Tensor, \"obs must be a torch.Tensor\"\n",
    "\n",
    "    N_of_Pars = 4\n",
    "    \n",
    "    T = obs.shape[0]\n",
    "    \n",
    "    v_N = T * (vN+1) - vN\n",
    "    \n",
    "    VP_PTS = np.zeros(v_N)\n",
    "    VP_MEAN = np.zeros(v_N)\n",
    "    VP_STD = np.zeros(v_N)\n",
    "    \n",
    "    # Intialize the state at the first observation\n",
    "    init_mean = obs[0]\n",
    "    VP_MEAN[0] = init_mean\n",
    "    \n",
    "    past_grad = {'a':[], 'b':[], 'c':[], 'd':[]}\n",
    "    past_pars = {'a':[], 'b':[], 'c':[], 'd':[]}\n",
    "    \n",
    "    for t in tq.tqdm(range(1, T)):\n",
    "        s0 = obs_time[t-1]\n",
    "        sK = obs_time[t]\n",
    "        \n",
    "        if init_state == 'Random':\n",
    "            if t == 1:\n",
    "                init_dist = init_mean\n",
    "            else:\n",
    "                init_dist = Normal(loc=init_mean, scale= init_std)\n",
    "        else:\n",
    "            init_dist = init_mean\n",
    "            \n",
    "        # Initialize a set of parameters\n",
    "        current_pars = {'a':torch.randn(1), \\\n",
    "                        'b':torch.randn(1), 'c':torch.randn(1), \\\n",
    "                        'd':torch.randn(1)}\n",
    "\n",
    "        if Optimizer == \"Adam\":\n",
    "            prev_moments = {key:[0, 0] for key in current_pars.keys()}\n",
    "            prev_moments['t'] = 1\n",
    "            \n",
    "#    past_grad = {key:torch.tensor([0.01]) for key in current_pars.keys()}\n",
    "        \n",
    "        for i in range(IT):\n",
    "            if i % (IT/2) == 0:\n",
    "                for key in current_pars.keys():\n",
    "                    print(str(i) +\"/ \" + key + \": \"+ str(current_pars[key].item()) )\n",
    "            # Take gradient descent algorithm based on AdaGrad\n",
    "            \n",
    "            # Obtain stochastic estimate of the gradients based on score function estimator\n",
    "            current_grad = score_estimate(s0, sK, current_pars, sde_sigma, obs[t], obs_sigma, init_dist, M)\n",
    "\n",
    "            # Take one gradient step based on the AdaGrad\n",
    "            if Optimizer == \"Adam\":\n",
    "                current_pars = AdamGrad(current_pars, current_grad, prev_moments, beta_1, beta_2, learning_rate, smooth_term)\n",
    "                \n",
    "            else:\n",
    "                current_pars = Grad_Descent(current_pars, current_grad, learning_rate)\n",
    "            \n",
    "            for key in current_grad.keys():\n",
    "                past_grad[key].append(current_grad[key].item()) \n",
    "                past_pars[key].append(current_pars[key].item())\n",
    "            \n",
    "        \n",
    "        # Obtain moments of approximating processes (note that their forms are tractable)\n",
    "        vp_pts, vp_mean, vp_std = get_PostMoment(s0, sK, current_pars, sde_sigma, init_mean, vN)\n",
    "        \n",
    "        VP_PTS[(vN+1)*(t-1)+1:(vN+1)*t+1] = vp_pts\n",
    "        VP_MEAN[(vN+1)*(t-1)+1:(vN+1)*t+1] = vp_mean\n",
    "        VP_STD[(vN+1)*(t-1)+1:(vN+1)*t+1] = vp_std\n",
    "        \n",
    "        init_mean = vp_mean[-1]\n",
    "        init_std = vp_std[-1]\n",
    "        \n",
    "        print(\"observation: \" + str(obs[t].item()) + \" variational mean: \" + str(m0.item()))\n",
    "    return VP_PTS, VP_MEAN, VP_STD, track_pars, past_grad"
   ]
  },
  {
   "cell_type": "markdown",
   "id": "ac9de054",
   "metadata": {},
   "source": [
    "Examine the convergence of parameters / model fit across different initializations/number_of_iterations"
   ]
  },
  {
   "cell_type": "code",
   "execution_count": 181,
   "id": "8f934414",
   "metadata": {},
   "outputs": [
    {
     "name": "stderr",
     "output_type": "stream",
     "text": [
      "  0%|                                                     | 0/3 [00:00<?, ?it/s]\n",
      "  0%|                                                     | 0/8 [00:00<?, ?it/s]\u001b[A"
     ]
    },
    {
     "name": "stdout",
     "output_type": "stream",
     "text": [
      "0/ a: 0.8921470046043396\n",
      "0/ b: 0.40882155299186707\n",
      "0/ c: -1.7232999801635742\n",
      "0/ d: 0.1562824547290802\n",
      "{'a': tensor([0.7921]), 'b': tensor([0.5088]), 'c': tensor([-1.6233]), 'd': tensor([0.2563])}\n",
      "{'a': tensor([0.6779]), 'b': tensor([0.6373]), 'c': tensor([-1.5124]), 'd': tensor([0.3677])}\n",
      "{'a': tensor([0.4218]), 'b': tensor([0.9669]), 'c': tensor([-1.3787]), 'd': tensor([0.5063])}\n",
      "{'a': tensor([0.4886]), 'b': tensor([0.9114]), 'c': tensor([-1.0416]), 'd': tensor([0.4916])}\n",
      "{'a': tensor([0.5712]), 'b': tensor([0.8327]), 'c': tensor([-1.1008]), 'd': tensor([0.4194])}\n",
      "5/ a: 0.571162760257721\n",
      "5/ b: 0.8326751589775085\n",
      "5/ c: -1.100785732269287\n",
      "5/ d: 0.4194016456604004\n",
      "{'a': tensor([0.7125]), 'b': tensor([0.7081]), 'c': tensor([-1.0998]), 'd': tensor([0.1948])}\n",
      "{'a': tensor([1.1405]), 'b': tensor([0.3343]), 'c': tensor([-1.0293]), 'd': tensor([0.2509])}\n",
      "{'a': tensor([1.1134]), 'b': tensor([0.3969]), 'c': tensor([-0.9438]), 'd': tensor([0.3316])}\n",
      "{'a': tensor([1.0341]), 'b': tensor([0.4930]), 'c': tensor([-0.8417]), 'd': tensor([0.4346])}\n"
     ]
    },
    {
     "name": "stderr",
     "output_type": "stream",
     "text": [
      "  0%|                                                     | 0/8 [00:00<?, ?it/s]\n",
      "  0%|                                                     | 0/3 [00:00<?, ?it/s]"
     ]
    },
    {
     "name": "stdout",
     "output_type": "stream",
     "text": [
      "{'a': tensor([0.9110]), 'b': tensor([0.6470]), 'c': tensor([-0.7252]), 'd': tensor([0.5530])}\n"
     ]
    },
    {
     "name": "stderr",
     "output_type": "stream",
     "text": [
      "\n"
     ]
    },
    {
     "ename": "IndexError",
     "evalue": "too many indices for tensor of dimension 1",
     "output_type": "error",
     "traceback": [
      "\u001b[0;31m---------------------------------------------------------------------------\u001b[0m",
      "\u001b[0;31mIndexError\u001b[0m                                Traceback (most recent call last)",
      "\u001b[0;32m/var/folders/2c/_gzbr1y51ws47zfknhxm868h0000gr/T/ipykernel_38531/64456112.py\u001b[0m in \u001b[0;36m<module>\u001b[0;34m\u001b[0m\n\u001b[1;32m      1\u001b[0m \u001b[0moutput\u001b[0m \u001b[0;34m=\u001b[0m \u001b[0;34m[\u001b[0m\u001b[0;34m]\u001b[0m\u001b[0;34m\u001b[0m\u001b[0;34m\u001b[0m\u001b[0m\n\u001b[1;32m      2\u001b[0m \u001b[0;32mfor\u001b[0m \u001b[0mit\u001b[0m \u001b[0;32min\u001b[0m \u001b[0mtq\u001b[0m\u001b[0;34m.\u001b[0m\u001b[0mtqdm\u001b[0m\u001b[0;34m(\u001b[0m\u001b[0;34m[\u001b[0m\u001b[0;36m10\u001b[0m\u001b[0;34m,\u001b[0m \u001b[0;36m30\u001b[0m\u001b[0;34m,\u001b[0m \u001b[0;36m50\u001b[0m\u001b[0;34m]\u001b[0m\u001b[0;34m)\u001b[0m\u001b[0;34m:\u001b[0m\u001b[0;34m\u001b[0m\u001b[0;34m\u001b[0m\u001b[0m\n\u001b[0;32m----> 3\u001b[0;31m     vp__pts, vp__mean, vp__std, vp__pars, vp__grads = Optimize(torch.tensor([sde_sigma]),\\\n\u001b[0m\u001b[1;32m      4\u001b[0m                                                       \u001b[0mobs\u001b[0m\u001b[0;34m,\u001b[0m \u001b[0mobs_time\u001b[0m\u001b[0;34m,\u001b[0m \u001b[0mobs_sigma\u001b[0m\u001b[0;34m,\u001b[0m\u001b[0;31m \u001b[0m\u001b[0;31m\\\u001b[0m\u001b[0;34m\u001b[0m\u001b[0;34m\u001b[0m\u001b[0m\n\u001b[1;32m      5\u001b[0m                                                       \u001b[0minit_state\u001b[0m\u001b[0;34m=\u001b[0m\u001b[0;34m\"Random\"\u001b[0m\u001b[0;34m,\u001b[0m \u001b[0mM\u001b[0m\u001b[0;34m=\u001b[0m\u001b[0;36m1000\u001b[0m\u001b[0;34m,\u001b[0m \u001b[0mLinear\u001b[0m\u001b[0;34m=\u001b[0m\u001b[0;32mFalse\u001b[0m\u001b[0;34m,\u001b[0m\u001b[0;31m \u001b[0m\u001b[0;31m\\\u001b[0m\u001b[0;34m\u001b[0m\u001b[0;34m\u001b[0m\u001b[0m\n",
      "\u001b[0;32m/var/folders/2c/_gzbr1y51ws47zfknhxm868h0000gr/T/ipykernel_38531/1272163655.py\u001b[0m in \u001b[0;36mOptimize\u001b[0;34m(sde_sigma, obs, obs_time, obs_sigma, M, IT, vN, learning_rate, init_state, Linear, Optimizer, beta_1, beta_2, smooth_term)\u001b[0m\n\u001b[1;32m     69\u001b[0m \u001b[0;34m\u001b[0m\u001b[0m\n\u001b[1;32m     70\u001b[0m         \u001b[0;31m# Obtain moments of approximating processes (note that their forms are tractable)\u001b[0m\u001b[0;34m\u001b[0m\u001b[0;34m\u001b[0m\u001b[0m\n\u001b[0;32m---> 71\u001b[0;31m         \u001b[0mvp_pts\u001b[0m\u001b[0;34m,\u001b[0m \u001b[0mvp_mean\u001b[0m\u001b[0;34m,\u001b[0m \u001b[0mvp_std\u001b[0m \u001b[0;34m=\u001b[0m \u001b[0mget_PostMoment\u001b[0m\u001b[0;34m(\u001b[0m\u001b[0ms0\u001b[0m\u001b[0;34m,\u001b[0m \u001b[0msK\u001b[0m\u001b[0;34m,\u001b[0m \u001b[0mcurrent_pars\u001b[0m\u001b[0;34m,\u001b[0m \u001b[0msde_sigma\u001b[0m\u001b[0;34m,\u001b[0m \u001b[0minit_mean\u001b[0m\u001b[0;34m,\u001b[0m \u001b[0mvN\u001b[0m\u001b[0;34m)\u001b[0m\u001b[0;34m\u001b[0m\u001b[0;34m\u001b[0m\u001b[0m\n\u001b[0m\u001b[1;32m     72\u001b[0m \u001b[0;34m\u001b[0m\u001b[0m\n\u001b[1;32m     73\u001b[0m         \u001b[0mVP_PTS\u001b[0m\u001b[0;34m[\u001b[0m\u001b[0;34m(\u001b[0m\u001b[0mvN\u001b[0m\u001b[0;34m+\u001b[0m\u001b[0;36m1\u001b[0m\u001b[0;34m)\u001b[0m\u001b[0;34m*\u001b[0m\u001b[0;34m(\u001b[0m\u001b[0mt\u001b[0m\u001b[0;34m-\u001b[0m\u001b[0;36m1\u001b[0m\u001b[0;34m)\u001b[0m\u001b[0;34m+\u001b[0m\u001b[0;36m1\u001b[0m\u001b[0;34m:\u001b[0m\u001b[0;34m(\u001b[0m\u001b[0mvN\u001b[0m\u001b[0;34m+\u001b[0m\u001b[0;36m1\u001b[0m\u001b[0;34m)\u001b[0m\u001b[0;34m*\u001b[0m\u001b[0mt\u001b[0m\u001b[0;34m+\u001b[0m\u001b[0;36m1\u001b[0m\u001b[0;34m]\u001b[0m \u001b[0;34m=\u001b[0m \u001b[0mvp_pts\u001b[0m\u001b[0;34m\u001b[0m\u001b[0;34m\u001b[0m\u001b[0m\n",
      "\u001b[0;32m/var/folders/2c/_gzbr1y51ws47zfknhxm868h0000gr/T/ipykernel_38531/531216571.py\u001b[0m in \u001b[0;36mget_PostMoment\u001b[0;34m(t0, tT, parameters, sde_sigma, init_pts, vN)\u001b[0m\n\u001b[1;32m      7\u001b[0m     \u001b[0mt\u001b[0m \u001b[0;34m=\u001b[0m \u001b[0mtorch\u001b[0m\u001b[0;34m.\u001b[0m\u001b[0mlinspace\u001b[0m\u001b[0;34m(\u001b[0m\u001b[0;36m0\u001b[0m\u001b[0;34m,\u001b[0m \u001b[0;34m(\u001b[0m\u001b[0mtT\u001b[0m\u001b[0;34m-\u001b[0m\u001b[0mt0\u001b[0m\u001b[0;34m)\u001b[0m\u001b[0;34m.\u001b[0m\u001b[0mitem\u001b[0m\u001b[0;34m(\u001b[0m\u001b[0;34m)\u001b[0m\u001b[0;34m,\u001b[0m \u001b[0mvN\u001b[0m\u001b[0;34m+\u001b[0m\u001b[0;36m2\u001b[0m\u001b[0;34m)\u001b[0m\u001b[0;34m[\u001b[0m\u001b[0;36m1\u001b[0m\u001b[0;34m:\u001b[0m\u001b[0;34m]\u001b[0m\u001b[0;34m\u001b[0m\u001b[0;34m\u001b[0m\u001b[0m\n\u001b[1;32m      8\u001b[0m \u001b[0;34m\u001b[0m\u001b[0m\n\u001b[0;32m----> 9\u001b[0;31m     \u001b[0mmean\u001b[0m \u001b[0;34m=\u001b[0m \u001b[0mE_of_X\u001b[0m\u001b[0;34m(\u001b[0m\u001b[0minit_pts\u001b[0m\u001b[0;34m,\u001b[0m \u001b[0mt\u001b[0m\u001b[0;34m,\u001b[0m \u001b[0mparameters\u001b[0m\u001b[0;34m)\u001b[0m\u001b[0;34m\u001b[0m\u001b[0;34m\u001b[0m\u001b[0m\n\u001b[0m\u001b[1;32m     10\u001b[0m     \u001b[0mstd\u001b[0m \u001b[0;34m=\u001b[0m \u001b[0mV_of_X\u001b[0m\u001b[0;34m(\u001b[0m\u001b[0mt\u001b[0m\u001b[0;34m,\u001b[0m \u001b[0mparameters\u001b[0m\u001b[0;34m,\u001b[0m \u001b[0msde_sigma\u001b[0m\u001b[0;34m)\u001b[0m\u001b[0;34m\u001b[0m\u001b[0;34m\u001b[0m\u001b[0m\n\u001b[1;32m     11\u001b[0m \u001b[0;34m\u001b[0m\u001b[0m\n",
      "\u001b[0;32m/var/folders/2c/_gzbr1y51ws47zfknhxm868h0000gr/T/ipykernel_38531/4112751634.py\u001b[0m in \u001b[0;36mE_of_X\u001b[0;34m(init_pts, pts, parameters)\u001b[0m\n\u001b[1;32m      3\u001b[0m         \u001b[0mReturn\u001b[0m \u001b[0mmean\u001b[0m \u001b[0mof\u001b[0m \u001b[0mthe\u001b[0m \u001b[0mprocess\u001b[0m \u001b[0;34m(\u001b[0m\u001b[0mwhich\u001b[0m \u001b[0mhas\u001b[0m \u001b[0manalytical\u001b[0m \u001b[0mexpression\u001b[0m\u001b[0;34m)\u001b[0m\u001b[0;34m\u001b[0m\u001b[0;34m\u001b[0m\u001b[0m\n\u001b[1;32m      4\u001b[0m     \"\"\"\n\u001b[0;32m----> 5\u001b[0;31m     \u001b[0mpts\u001b[0m \u001b[0;34m=\u001b[0m \u001b[0mpts\u001b[0m \u001b[0;34m-\u001b[0m \u001b[0mpts\u001b[0m\u001b[0;34m[\u001b[0m\u001b[0;34m:\u001b[0m\u001b[0;34m,\u001b[0m \u001b[0;36m0\u001b[0m\u001b[0;34m]\u001b[0m\u001b[0;34m.\u001b[0m\u001b[0mreshape\u001b[0m\u001b[0;34m(\u001b[0m\u001b[0;34m-\u001b[0m\u001b[0;36m1\u001b[0m\u001b[0;34m,\u001b[0m \u001b[0;36m1\u001b[0m\u001b[0;34m)\u001b[0m\u001b[0;34m\u001b[0m\u001b[0;34m\u001b[0m\u001b[0m\n\u001b[0m\u001b[1;32m      6\u001b[0m     \u001b[0ma\u001b[0m \u001b[0;34m=\u001b[0m \u001b[0mparameters\u001b[0m\u001b[0;34m[\u001b[0m\u001b[0;34m'a'\u001b[0m\u001b[0;34m]\u001b[0m\u001b[0;34m\u001b[0m\u001b[0;34m\u001b[0m\u001b[0m\n\u001b[1;32m      7\u001b[0m     \u001b[0mb\u001b[0m \u001b[0;34m=\u001b[0m \u001b[0mparameters\u001b[0m\u001b[0;34m[\u001b[0m\u001b[0;34m'b'\u001b[0m\u001b[0;34m]\u001b[0m\u001b[0;34m\u001b[0m\u001b[0;34m\u001b[0m\u001b[0m\n",
      "\u001b[0;31mIndexError\u001b[0m: too many indices for tensor of dimension 1"
     ]
    }
   ],
   "source": [
    "output = []\n",
    "for it in tq.tqdm([10, 30, 50]):\n",
    "    vp__pts, vp__mean, vp__std, vp__pars, vp__grads = Optimize(torch.tensor([sde_sigma]),\\\n",
    "                                                      obs, obs_time, obs_sigma, \\\n",
    "                                                      init_state=\"Random\", M=1000, Linear=False, \\\n",
    "                                                      IT=it, vN=200, learning_rate=0.1, \\\n",
    "                                                      Optimizer=\"Adam\", beta_1 = 0.3, beta_2 = 0.01)\n",
    "    output.append([vp__pts, vp__mean, vp__std, vp__pars, vp__grads])"
   ]
  },
  {
   "cell_type": "code",
   "execution_count": null,
   "id": "37475611",
   "metadata": {},
   "outputs": [],
   "source": [
    "it_names = ['10', '30', '50']\n",
    "for item, name in zip(output, it_names):\n",
    "    vp__pts, vp__mean, vp__std, vp__pars = item[0], item[1], item[2], item[3]\n",
    "    P, T, IT = vp__pars.shape\n",
    "\n",
    "    for t in range(T):\n",
    "        fig, ax = plt.subplots(nrows=1, ncols=P, figsize=(20, 5))\n",
    "        names = [r'$\\alpha$', 'r', r'$\\beta$']\n",
    "        for j, ax in enumerate(ax.ravel()):\n",
    "            ax.plot(np.arange(IT), vp__pars[j, t, :])\n",
    "            ax.set_title(names[j] + \" at time interval: %d\" % t)\n",
    "            ax.set_xlabel(\"Iterations\")\n",
    "        title = \"Adam_\" + \"time_\" + str(t) + \"_iteration_\" + name\n",
    "        plt.savefig(\"figures/\" + title)\n",
    "        plt.show()"
   ]
  },
  {
   "cell_type": "code",
   "execution_count": null,
   "id": "f9763aca",
   "metadata": {},
   "outputs": [],
   "source": [
    "it_names = ['10', '30', '50']\n",
    "for item, name in zip(output, it_names):\n",
    "    vp__pts, vp__mean, vp__std, vp__pars = item[0], item[1], item[2], item[3]\n",
    "    \n",
    "    plt.figure(figsize=(10,6))\n",
    "    plt.plot(vp__pts, vp__mean, color='black')\n",
    "    plt.fill_between(vp__pts, vp__mean + vp__std, vp__mean - vp__std, alpha=0.3, color='grey')\n",
    "    plt.plot(true_sde_pts, true_sde_trj, alpha=0.2)\n",
    "    plt.plot(obs_time, obs, 'rx')\n",
    "    title = \"approximating processes / iteration: \" + name\n",
    "    plt.title(title)\n",
    "    file_name = \"Adam_\" + \"approx_process_\" + \"iteration_\" + name\n",
    "    plt.savefig(\"figures/\" + file_name)\n",
    "    plt.show()"
   ]
  },
  {
   "cell_type": "code",
   "execution_count": null,
   "id": "0115064b",
   "metadata": {},
   "outputs": [],
   "source": [
    "it_names = ['10', '30', '50']\n",
    "for item, name in zip(output, it_names):\n",
    "    vp_grads = item[4]\n",
    "    plt.figure(figsize=(10,5))\n",
    "\n",
    "    for key in vp_grads.keys():\n",
    "        plt.plot(vp_grads[key], label=key, alpha=0.8)\n",
    "        plt.axhline(np.mean(vp_grads[key]), linestyle='dashed', label=str(np.mean(vp_grads[key]).round(2)))\n",
    "        plt.legend()\n",
    "        \n",
    "    plt.xlabel(\"Iterations\")\n",
    "    plt.ylabel(\"Gradient\")\n",
    "    file_name = \"Adam_\" + \"gradient_update_history\" + \"iteration_\" + name\n",
    "    plt.title(file_name)\n",
    "    plt.savefig(\"figures/\" + file_name)\n",
    "    plt.show()"
   ]
  }
 ],
 "metadata": {
  "kernelspec": {
   "display_name": "Python 3 (ipykernel)",
   "language": "python",
   "name": "python3"
  },
  "language_info": {
   "codemirror_mode": {
    "name": "ipython",
    "version": 3
   },
   "file_extension": ".py",
   "mimetype": "text/x-python",
   "name": "python",
   "nbconvert_exporter": "python",
   "pygments_lexer": "ipython3",
   "version": "3.9.7"
  }
 },
 "nbformat": 4,
 "nbformat_minor": 5
}
