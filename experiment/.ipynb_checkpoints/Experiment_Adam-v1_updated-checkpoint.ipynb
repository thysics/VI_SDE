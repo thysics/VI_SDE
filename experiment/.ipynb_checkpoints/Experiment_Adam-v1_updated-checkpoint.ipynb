{
 "cells": [
  {
   "cell_type": "code",
   "execution_count": 1,
   "id": "591c0a5a",
   "metadata": {},
   "outputs": [],
   "source": [
    "import torch\n",
    "from torch.autograd import Variable\n",
    "from torch.distributions import Normal\n",
    "from functorch import vmap\n",
    "import matplotlib.pylab as plt\n",
    "import numpy as np\n",
    "import scipy.stats as ss\n",
    "import pickle\n",
    "import random"
   ]
  },
  {
   "cell_type": "code",
   "execution_count": 2,
   "id": "043b84c0",
   "metadata": {},
   "outputs": [],
   "source": [
    "import sys\n",
    "sys.path.insert(0,'../vp_class/')"
   ]
  },
  {
   "cell_type": "code",
   "execution_count": 3,
   "id": "0de3b222",
   "metadata": {},
   "outputs": [],
   "source": [
    "from class_tou_v4_updated import tOU, tou_gradient"
   ]
  },
  {
   "cell_type": "markdown",
   "id": "838b69b9",
   "metadata": {},
   "source": [
    "This code applies variational inference based on time-dependent OU processes to the observations drawn from the double well system SDE, as defined below. Note that we have chosen observational noise, i.e. variance of Gaussian noise and SDE variance to be 0.64 and 0.01 repectively."
   ]
  },
  {
   "cell_type": "markdown",
   "id": "2c22728a",
   "metadata": {},
   "source": [
    "m(t) = $\\alpha$t + $m_{0}$"
   ]
  },
  {
   "cell_type": "markdown",
   "id": "afe6d11b",
   "metadata": {},
   "source": [
    "1. Simulate prior process, i.e. double-well system whose SDE is given by\n",
    "\n",
    "$dX_{t} = 4X_{t}(1-X^{2}_{t})dt + \\sigma dW_{t}$"
   ]
  },
  {
   "cell_type": "code",
   "execution_count": 4,
   "id": "2c1791ac",
   "metadata": {},
   "outputs": [],
   "source": [
    "with open('../EX03_DW_Model', 'rb') as f:\n",
    "    prior = pickle.load(f)\n",
    "    likelihood = pickle.load(f)"
   ]
  },
  {
   "cell_type": "code",
   "execution_count": 5,
   "id": "7e8faa35",
   "metadata": {},
   "outputs": [],
   "source": [
    "def prior_drift (s, x_s):\n",
    "    return 4 * x_s * (1 - (x_s ** 2))"
   ]
  },
  {
   "cell_type": "code",
   "execution_count": 6,
   "id": "13bd214c",
   "metadata": {},
   "outputs": [],
   "source": [
    "true_sde_pts, true_sde_trj = prior[0], prior[1]\n",
    "obs, obs_time = likelihood[0], likelihood[1]\n",
    "sde_sigma = 0.8 # Variance is higher than the original example\n",
    "obs_sigma = 0.1"
   ]
  },
  {
   "cell_type": "code",
   "execution_count": 7,
   "id": "82ca55c1",
   "metadata": {},
   "outputs": [
    {
     "data": {
      "image/png": "[encoded data removed]",
      "text/plain": [
       "<Figure size 432x288 with 1 Axes>"
      ]
     },
     "metadata": {
      "needs_background": "light"
     },
     "output_type": "display_data"
    }
   ],
   "source": [
    "# Plot paths\n",
    "plt.plot(true_sde_pts,true_sde_trj)\n",
    "plt.plot(obs_time, obs, \"rx\")\n",
    "plt.xlabel(\"t\", fontsize=14)\n",
    "plt.ylabel(\"X\", fontsize=14)\n",
    "plt.title(\"Sample paths\", fontsize=14)\n",
    "plt.show()\n"
   ]
  },
  {
   "cell_type": "markdown",
   "id": "005f40f9",
   "metadata": {},
   "source": [
    "Variational inference: KL"
   ]
  },
  {
   "cell_type": "markdown",
   "id": "5eff800a",
   "metadata": {},
   "source": [
    "2. Implement Variational inference based on $\\textbf{time-inhomogeneous}$ OU process with SDE:\n",
    "\n",
    "$$dX_{t} = [-\\frac{a}{at+b}X_{t} + (ct+d)] dt + \\sigma^{2} dW_{t}$$"
   ]
  },
  {
   "cell_type": "markdown",
   "id": "1fc6d84b",
   "metadata": {},
   "source": [
    "$$\\mathbb{E}_{P^{Z}}[\\log\\exp{\\frac{dP^{X}}{dP^{Z}}(Z)] = \\frac{1}{2}\\mathbb{E}_{P^{Z}}[\\int_{t_{0}}}^{t_{1}}|\\frac{4Z_{t}(1-Z^{2}_{t}) + \\frac{a}{at+b}Z_{t} - (ct+d)}{\\sigma}|^{2}dt]$$\n"
   ]
  },
  {
   "cell_type": "code",
   "execution_count": 8,
   "id": "063c5550",
   "metadata": {},
   "outputs": [],
   "source": [
    "class ELBO:\n",
    "    \"\"\"\n",
    "        ELBO with\n",
    "            variational process (q): time-inhomogeneous OU process\n",
    "            prior process (p): double-well system\n",
    "            \n",
    "        This class computes: - KL(q|p) + NLL(y|z)  where z \\sim q\n",
    "    \"\"\"\n",
    "    def __init__(self, ou):\n",
    "        self.ou = ou\n",
    "        \n",
    "        self.alpha = ou.alpha\n",
    "        self.beta = ou.beta\n",
    "        self.r = ou.r\n",
    "        \n",
    "        self.sigma = ou.sigma\n",
    "        \n",
    "\n",
    "    def KL(self, prior_drift):\n",
    "        \"\"\"\n",
    "            This function requires the function corresponding to prior drift function\n",
    "        \"\"\"\n",
    "        # Save parameter specification from ou class\n",
    "        alpha, beta, r, sigma = self.alpha, self.beta, self.r, self.sigma\n",
    "        m0 = self.ou.trj[:, 0].reshape(-1, 1)\n",
    "        \n",
    "        def B(s, beta):\n",
    "            return (s+1) ** beta\n",
    "        \n",
    "        def m(s):\n",
    "            return alpha * (B(s, beta) - 1) + m0\n",
    "            \n",
    "        def m_(s):\n",
    "            return alpha * beta * B(s, beta-1)\n",
    "        \n",
    "        t = self.ou.pts - self.ou.pts[:, 0].reshape(-1, 1)\n",
    "        \n",
    "        # Evaluate the drift function of the approximating processes\n",
    "        g_of_x = -r * (self.ou.trj - m(t)) + m_(t)\n",
    "        \n",
    "        # Evaluate the drift function of the model (prior process)\n",
    "        f_of_x = prior_drift(t, self.ou.trj)\n",
    "        \n",
    "        # Compute the term inside the KL divergence\n",
    "        \n",
    "        F_of_X = abs(((f_of_x - g_of_x) / sigma) ** 2)\n",
    "        \n",
    "        dt = t[:, -1] - t[:, 0]\n",
    "        \n",
    "        return 0.5 * torch.sum(F_of_X, axis=1).reshape(-1, 1) / F_of_X.shape[1] * dt.reshape(-1, 1)\n",
    "            \n",
    "    def log_prob(self, obs, obs_sigma):\n",
    "        \"\"\"\n",
    "            Compute the log-likelihood\n",
    "            likelihood function is normal density N(obs, var)\n",
    "            obs.shape = D * 1 (D: # of sample)\n",
    "        \"\"\"\n",
    "        def log_pdf(obs, z, obs_sigma):\n",
    "            return ss.norm.logpdf(obs, loc=z, scale=obs_sigma)\n",
    "            \n",
    "        return torch.from_numpy(log_pdf(obs, self.ou.trj[:, -1].reshape(-1, 1), obs_sigma))\n"
   ]
  },
  {
   "cell_type": "markdown",
   "id": "f0859993",
   "metadata": {},
   "source": [
    "**Variational inference: a piece-wise approximation**"
   ]
  },
  {
   "cell_type": "code",
   "execution_count": 9,
   "id": "70d17552",
   "metadata": {},
   "outputs": [],
   "source": [
    "import tqdm as tq"
   ]
  },
  {
   "cell_type": "code",
   "execution_count": 10,
   "id": "f7deb3f1",
   "metadata": {},
   "outputs": [],
   "source": [
    "def score_estimate(s0, sK, current_pars, sigma, obs, obs_sigma, init_dist, M):\n",
    "    \"\"\"\n",
    "        Returns stochastic estimates of the gradient of the ELBO with respect to parameters including\n",
    "            alpha, r, beta\n",
    "        \n",
    "        M: # of Monte Carlo samples\n",
    "        \n",
    "    \"\"\"\n",
    "    assert obs.shape[0] == 1, \"observation must be 1-d torch.array\"\n",
    "    \n",
    "    # Number of time points drawn between s0 and sK\n",
    "    K = 200\n",
    "    \n",
    "    # Reshape every parameter into (M,1) torch.array\n",
    "    SIGMA = sigma.repeat(M, 1)\n",
    "    OBS = obs.repeat(M, 1)\n",
    "    # Simulate sample path\n",
    "    # Note that z0 = m0\n",
    "    \n",
    "    pars = {key:val.repeat(M, 1) for key,val in current_pars.items()}\n",
    "    \n",
    "    vi = tOU(t0=s0, t1=sK, parameters = pars, sde_sigma=SIGMA, init_dist = init_dist, timegrid = 'False', dN=K)\n",
    "\n",
    "    # Compute the ELBO \n",
    "    elbo = ELBO(vi)\n",
    "    score_func = tou_gradient(vi.pts, vi.trj, pars, SIGMA, init_dist)\n",
    "    f_of_x = -elbo.log_prob(OBS, obs_sigma) + elbo.KL(prior_drift)\n",
    "    \n",
    "    # Variational objective\n",
    "    vi_obj = {'NELBO': torch.nanmean(f_of_x).item(), 'KL': torch.nanmean(elbo.KL(prior_drift)).item(), 'NLL': -1 * torch.nanmean(elbo.log_prob(OBS, obs_sigma)).item() }\n",
    "    \n",
    "    return {key: torch.nanmean(f_of_x * score_func[key]) for key in pars.keys()}, vi_obj"
   ]
  },
  {
   "cell_type": "markdown",
   "id": "d63551dc",
   "metadata": {},
   "source": [
    "Sanity check\n",
    "\n",
    "Examine the distribution of score function estimates of the gradient of each parameter."
   ]
  },
  {
   "cell_type": "code",
   "execution_count": null,
   "id": "395078f0",
   "metadata": {},
   "outputs": [],
   "source": [
    "dist = Normal(loc=0, scale=1.)\n",
    "t0 = torch.tensor(1.)\n",
    "t1 = torch.tensor(2.)\n",
    "sigma = torch.tensor([1.]).reshape(-1, 1)"
   ]
  },
  {
   "cell_type": "code",
   "execution_count": null,
   "id": "27459ac4",
   "metadata": {},
   "outputs": [],
   "source": [
    "parameters = {'alpha': torch.tensor([0.15]).reshape(-1, 1), \\\n",
    "             'beta': torch.tensor([0.8]).reshape(-1, 1), \\\n",
    "             'r': torch.tensor([3.05]).reshape(-1, 1)}"
   ]
  },
  {
   "cell_type": "code",
   "execution_count": null,
   "id": "624116dc",
   "metadata": {},
   "outputs": [],
   "source": [
    "init_pts = torch.tensor([1.0]).reshape(-1, 1)"
   ]
  },
  {
   "cell_type": "code",
   "execution_count": null,
   "id": "5181f42a",
   "metadata": {},
   "outputs": [],
   "source": [
    "tou = tOU(t0, t1, parameters, sigma, init_dist=init_pts)"
   ]
  },
  {
   "cell_type": "code",
   "execution_count": null,
   "id": "d482a81a",
   "metadata": {},
   "outputs": [],
   "source": [
    "estimates = {key:[] for key in parameters.keys()}\n",
    "\n",
    "for i in range(500):\n",
    "    grads, elbo_estimate = score_estimate(t0, t1, parameters, sigma, obs[0], obs_sigma, init_pts, 2000)\n",
    "    for key in grads.keys():\n",
    "        estimates[key].append(grads[key].item())"
   ]
  },
  {
   "cell_type": "code",
   "execution_count": null,
   "id": "e1ec1b7a",
   "metadata": {},
   "outputs": [],
   "source": [
    "fig, axs = plt.subplots(nrows=2, ncols=2, figsize=(20, 10))\n",
    "par_names = list(estimates.keys())\n",
    "\n",
    "for j, ax in enumerate(axs.ravel()):\n",
    "    if j < 3:\n",
    "        ax.hist(estimates[par_names[j]], bins=30)\n",
    "        ax.axvline(np.mean(estimates[par_names[j]]), linestyle='dashed', color='black')\n",
    "        ax.set_title(par_names[j])\n",
    "        ax.set_xlabel(\"Gradient estimate\")\n",
    "        ax.set_ylabel(\"Frequency\")"
   ]
  },
  {
   "cell_type": "code",
   "execution_count": null,
   "id": "cb47bedb",
   "metadata": {},
   "outputs": [],
   "source": []
  },
  {
   "cell_type": "code",
   "execution_count": 11,
   "id": "ee86c825",
   "metadata": {},
   "outputs": [],
   "source": [
    "def AdamStep(g_t, m_t, v_t, beta_1, beta_2, t):\n",
    "    \"\"\"\n",
    "        compute bias corrected moments\n",
    "    \"\"\"\n",
    "#     print(g_t, m_t, v_t, beta_1, beta_2, t)\n",
    "    m_t_next = beta_1 * m_t + (1 - beta_1) * g_t\n",
    "    v_t_next = beta_2 * v_t + (1 - beta_2) * g_t ** 2\n",
    "    \n",
    "    m_t_corrected = m_t_next / (1 - (beta_1 ** t))\n",
    "    v_t_corrected = v_t_next / (1 - (beta_2 ** t))\n",
    "    \n",
    "#     print(m_t_corrected, v_t_corrected)\n",
    "    return m_t_corrected, v_t_corrected\n",
    "\n",
    "def AdamGrad(current_pars, current_grad, prev_moments,  beta_1, beta_2, learning_rate = 0.01, smooth_term = 1e-8):\n",
    "    assert type(current_pars) == type(current_grad) == type(prev_moments) == dict, \"Current_grad must be a dict\"\n",
    "    \"\"\"\n",
    "        Perform one-step Adam gradient descent\n",
    "    \"\"\"\n",
    "    new_pars = {}\n",
    "    for key in current_pars.keys():\n",
    "        if key == 'r':\n",
    "            m_t, v_t = AdamStep(current_grad[key], prev_moments[key][0], prev_moments[key][1], beta_1, beta_2, prev_moments['t'])\n",
    "            new_pars[key] = current_pars[key] - learning_rate / np.sqrt(v_t + smooth_term) * m_t\n",
    "            value = new_pars[key]\n",
    "            while value <= 0:\n",
    "                value = current_pars[key] - learning_rate / np.sqrt(v_t + smooth_term) * m_t\n",
    "                learning_rate *= 0.5\n",
    "            new_pars[key] = value\n",
    "            \n",
    "        else:\n",
    "            m_t, v_t = AdamStep(current_grad[key], prev_moments[key][0], prev_moments[key][1], beta_1, beta_2, prev_moments['t'])\n",
    "            new_pars[key] = current_pars[key] - learning_rate / np.sqrt(v_t + smooth_term) * m_t\n",
    "        \n",
    "        # Save moments for next iteration    \n",
    "        prev_moments[key][0] = m_t\n",
    "        prev_moments[key][1] = v_t\n",
    "    \n",
    "    prev_moments['t'] += 1\n",
    "    \n",
    "    return new_pars\n",
    "    \n",
    "    \n",
    "    "
   ]
  },
  {
   "cell_type": "code",
   "execution_count": 12,
   "id": "2d864af1",
   "metadata": {},
   "outputs": [],
   "source": [
    "def E_of_X ( init_pts, pts, parameters ):\n",
    "    \"\"\"\n",
    "        Return mean of the process (which has analytical expression)\n",
    "    \"\"\"\n",
    "\n",
    "    alpha = parameters['alpha']\n",
    "    beta = parameters['beta']\n",
    "    r = parameters['r']\n",
    "    \n",
    "    return alpha * ((pts + 1) ** beta - 1) + init_pts\n",
    "    "
   ]
  },
  {
   "cell_type": "code",
   "execution_count": 13,
   "id": "cac348db",
   "metadata": {},
   "outputs": [],
   "source": [
    "def V_of_X (pts, parameters, prev_parameters, sde_sigma):\n",
    "    \"\"\"\n",
    "        Return standard deviation of the process (from its analytical expression)\n",
    "    \"\"\"\n",
    "    r = parameters['r']\n",
    "    \n",
    "    if prev_parameters == False:\n",
    "        # for the first time step, we compute the variance given the initial point is fixed\n",
    "        return torch.sqrt(0.5 * sde_sigma * sde_sigma / r * (1 - torch.exp(-2 * r * pts)))\n",
    "    \n",
    "    else:\n",
    "        # for subsequent time steps, we compute the variance given the initial state is a random variable from approximate posterior\n",
    "        prev_r = prev_parameters['r']\n",
    "\n",
    "        v_0 = 0.5 * sde_sigma * sde_sigma / prev_r\n",
    "\n",
    "        return torch.sqrt(0.5 * sde_sigma * sde_sigma / r * (1 - torch.exp(-2 * r * pts) * (2*r/(sde_sigma * sde_sigma) * v_0 - 1 )))\n"
   ]
  },
  {
   "cell_type": "code",
   "execution_count": 14,
   "id": "615146f6",
   "metadata": {},
   "outputs": [],
   "source": [
    "def get_PostMoment(t0, tT, parameters, prev_parameters, sde_sigma, init_pts, vN):\n",
    "    \"\"\"\n",
    "        Returns approximate posterior's mean and standard deviation\n",
    "    \"\"\"\n",
    "    # Get time-grid between s0 and sK\n",
    "    \n",
    "    t = torch.linspace(0, (tT-t0).item(), vN+2)[1:].reshape(-1, 1)\n",
    "    mean = E_of_X(init_pts, t, parameters)\n",
    "    std = V_of_X(t, parameters, prev_parameters, sde_sigma)\n",
    "\n",
    "    return t.flatten(), mean.flatten(), std.flatten()"
   ]
  },
  {
   "cell_type": "markdown",
   "id": "faeed2c1",
   "metadata": {},
   "source": [
    "**To be added: 1. parameter update history, 2. elbo, KL, and loglikelihood estimate, 3. randomizing initial state**"
   ]
  },
  {
   "cell_type": "code",
   "execution_count": 15,
   "id": "5b5dc1e3",
   "metadata": {},
   "outputs": [],
   "source": [
    "def Optimize(sde_sigma, obs, obs_time, obs_sigma, M, IT, vN, learning_rate,  init_state = \"Random\", Optimizer=\"Adam\", beta_1 = 0.9, beta_2 = 0.999, smooth_term = 1e-8, FIX_PAR=False):\n",
    "    \"\"\"\n",
    "        vN: # of time points between in each obs interval on which mean of the approximate posterior process will be evaluated\n",
    "    \"\"\"\n",
    "    assert type(sde_sigma) == torch.Tensor, \"SDE sigma must be a torch.Tensor\"\n",
    "    assert type(obs) == torch.Tensor, \"obs must be a torch.Tensor\"\n",
    "\n",
    "    N_of_Pars = 3\n",
    "    \n",
    "    T = obs.shape[0]\n",
    "    \n",
    "    v_N = T * (vN+1) - vN\n",
    "    \n",
    "    VP_PTS = np.zeros(v_N)\n",
    "    VP_MEAN = np.zeros(v_N)\n",
    "    VP_STD = np.zeros(v_N)\n",
    "    \n",
    "    # Intialize the state at the first observation\n",
    "    init_mean = obs[0]\n",
    "    VP_MEAN[0] = init_mean\n",
    "    \n",
    "    past_grad = {'alpha':np.zeros((T-1, IT)), 'beta':np.zeros((T-1, IT)), 'r':np.zeros((T-1, IT))}\n",
    "    past_pars = {'alpha':np.zeros((T-1, IT)), 'beta':np.zeros((T-1, IT)), 'r': np.zeros((T-1, IT))}\n",
    "    past_vi = {'NELBO':np.zeros((T-1, IT)), 'KL':np.zeros((T-1, IT)), 'NLL':np.zeros((T-1, IT))}\n",
    "    \n",
    "    for t in tq.tqdm(range(1, T)):\n",
    "        s0 = obs_time[t-1]\n",
    "        sK = obs_time[t]\n",
    "        \n",
    "        if init_state == 'Random':\n",
    "            if t == 1:\n",
    "                init_dist = init_mean\n",
    "            else:\n",
    "                init_dist = Normal(loc=init_mean, scale= init_std)\n",
    "        else:\n",
    "            init_dist = init_mean\n",
    "            \n",
    "        # Initialize a set of parameters\n",
    "        current_pars = {key:torch.randn(1) for key in past_grad.keys() if key != 'r'}\n",
    "        current_pars['r'] = torch.tensor(5.)\n",
    "\n",
    "        if Optimizer == \"Adam\":\n",
    "            prev_moments = {key:[0, 0] for key in current_pars.keys()}\n",
    "            prev_moments['t'] = 1\n",
    "            \n",
    "#    past_grad = {key:torch.tensor([0.01]) for key in current_pars.keys()}\n",
    "    \n",
    "        for i in range(IT):\n",
    "            if (i % (IT/2) == 0):\n",
    "                for key in current_pars.keys():\n",
    "                    print(str(i) +\"/ \" + key + \": \"+ str(current_pars[key].item()) )\n",
    "                    \n",
    "            # Take gradient descent algorithm based on AdaGrad\n",
    "            \n",
    "            # Obtain stochastic estimate of the gradients based on score function estimator\n",
    "            current_grad, vi_objective = score_estimate(s0, sK, current_pars, sde_sigma, obs[t], obs_sigma, init_dist, M)\n",
    "            \n",
    "            for key in vi_objective.keys():\n",
    "                past_vi[key][t-1, i] = vi_objective[key]\n",
    "            \n",
    "            print(str(i) +\"/ \" + \"Negative ELBO: \"+ str(vi_objective['NELBO']))\n",
    "            \n",
    "#             if vi_objective['ELBO'] < 20:\n",
    "#                 break\n",
    "            # Take one gradient step based on the AdaGrad\n",
    "            if Optimizer == \"Adam\":\n",
    "                current_pars = AdamGrad(current_pars, current_grad, prev_moments, beta_1, beta_2, learning_rate, smooth_term)\n",
    "                \n",
    "            else:\n",
    "                current_pars = Grad_Descent(current_pars, current_grad, learning_rate)\n",
    "            \n",
    "            if FIX_PAR != False:\n",
    "                for key in FIX_PAR.keys():\n",
    "                    current_pars[key] = FIX_PAR[key]\n",
    "            \n",
    "            for key in current_grad.keys():\n",
    "                past_grad[key][t-1, i] = current_grad[key].item()\n",
    "                past_pars[key][t-1, i] = current_pars[key].item()\n",
    "            \n",
    "        if t == 1:\n",
    "            prev_pars = False\n",
    "            \n",
    "        # Obtain moments of approximating processes (note that their forms are tractable)\n",
    "        vp_pts, vp_mean, vp_std = get_PostMoment(s0, sK, current_pars, prev_pars, sde_sigma, init_mean, vN)\n",
    "        VP_PTS[(vN+1)*(t-1)+1:(vN+1)*t+1] = obs_time[t-1] + vp_pts\n",
    "        VP_MEAN[(vN+1)*(t-1)+1:(vN+1)*t+1] = vp_mean\n",
    "        VP_STD[(vN+1)*(t-1)+1:(vN+1)*t+1] = vp_std\n",
    "        \n",
    "        init_mean = vp_mean[-1]\n",
    "        init_std = vp_std[-1]\n",
    "        \n",
    "        if t > 1:\n",
    "            prev_pars = current_pars\n",
    "        \n",
    "        print(\"observation: \" + str(obs[t].item()) + \" variational mean: \" + str(init_mean.item()))\n",
    "    return VP_PTS, VP_MEAN, VP_STD, past_pars, past_grad, past_vi"
   ]
  },
  {
   "cell_type": "markdown",
   "id": "ac9de054",
   "metadata": {},
   "source": [
    "Examine the convergence of parameters / model fit across different initializations/number_of_iterations"
   ]
  },
  {
   "cell_type": "code",
   "execution_count": 16,
   "id": "e135ab32",
   "metadata": {},
   "outputs": [],
   "source": [
    "# FIX_PAR = {'a':torch.tensor([1.])}"
   ]
  },
  {
   "cell_type": "code",
   "execution_count": null,
   "id": "8f934414",
   "metadata": {
    "scrolled": true
   },
   "outputs": [
    {
     "name": "stderr",
     "output_type": "stream",
     "text": [
      "  0%|                                                                                                                                                                                                                                                                   | 0/1 [00:00<?, ?it/s]\n",
      "  0%|                                                                                                                                                                                                                                                                   | 0/8 [00:00<?, ?it/s]\u001b[A"
     ]
    },
    {
     "name": "stdout",
     "output_type": "stream",
     "text": [
      "0/ alpha: 1.1435823440551758\n",
      "0/ beta: -1.4297938346862793\n",
      "0/ r: 5.0\n",
      "0/ Negative ELBO: 14.237044829605024\n",
      "1/ Negative ELBO: 12.101061814313585\n",
      "2/ Negative ELBO: 10.166018449540436\n",
      "3/ Negative ELBO: 7.991965422642188\n",
      "4/ Negative ELBO: 6.396687217538405\n",
      "5/ Negative ELBO: 5.479493660145358\n",
      "6/ Negative ELBO: 4.301380479275816\n",
      "7/ Negative ELBO: 3.3722322395338935\n",
      "8/ Negative ELBO: 2.57897719722441\n",
      "9/ Negative ELBO: 2.5118422923604413\n",
      "10/ Negative ELBO: 2.1918087939917865\n",
      "11/ Negative ELBO: 2.385277916657199\n",
      "12/ Negative ELBO: 2.6056711081975266\n",
      "13/ Negative ELBO: 2.5498581934030238\n",
      "14/ Negative ELBO: 2.4147692031399846\n",
      "15/ Negative ELBO: 2.3772970541600054\n",
      "16/ Negative ELBO: 2.634344496401728\n",
      "17/ Negative ELBO: 2.3312368682670295\n",
      "18/ Negative ELBO: 2.292485250374938\n",
      "19/ Negative ELBO: 1.9703174888418784\n",
      "20/ Negative ELBO: 2.1114306479798737\n",
      "21/ Negative ELBO: 2.128538738791908\n",
      "22/ Negative ELBO: 2.78434808013137\n",
      "23/ Negative ELBO: 2.5816278678133386\n",
      "24/ Negative ELBO: 2.243471563793069\n",
      "25/ alpha: 0.48109591007232666\n",
      "25/ beta: -0.7683886885643005\n",
      "25/ r: 6.295075835295744\n",
      "25/ Negative ELBO: 2.076067205220177\n",
      "26/ Negative ELBO: 2.0968731164164183\n",
      "27/ Negative ELBO: 1.8459073755661373\n",
      "28/ Negative ELBO: 1.999654000156448\n",
      "29/ Negative ELBO: 2.794533368867785\n",
      "30/ Negative ELBO: 2.6080601137504993\n",
      "31/ Negative ELBO: 2.0325465000342797\n",
      "32/ Negative ELBO: 1.855630069966195\n",
      "33/ Negative ELBO: 1.8556002317912095\n",
      "34/ Negative ELBO: 2.093708784178063\n",
      "35/ Negative ELBO: 2.4016023615887123\n",
      "36/ Negative ELBO: 2.262335419140855\n",
      "37/ Negative ELBO: 1.9548056291673483\n",
      "38/ Negative ELBO: 1.903545754776125\n",
      "39/ Negative ELBO: 1.8173005145310817\n",
      "40/ Negative ELBO: 1.9542763796079847\n",
      "41/ Negative ELBO: 2.1872710722398216\n",
      "42/ Negative ELBO: 1.864698665576439\n",
      "43/ Negative ELBO: 1.4527619290008267\n",
      "44/ Negative ELBO: 1.6671568851649068\n",
      "45/ Negative ELBO: 1.755704241330112\n",
      "46/ Negative ELBO: 2.2096031386752606\n",
      "47/ Negative ELBO: 2.009556593500448\n",
      "48/ Negative ELBO: 1.610712601321849\n"
     ]
    },
    {
     "name": "stderr",
     "output_type": "stream",
     "text": [
      "\n",
      " 12%|███████████████████████████████▍                                                                                                                                                                                                                           | 1/8 [00:04<00:29,  4.25s/it]\u001b[A"
     ]
    },
    {
     "name": "stdout",
     "output_type": "stream",
     "text": [
      "49/ Negative ELBO: 1.7498258799412743\n",
      "observation: 0.7418740051633642 variational mean: 0.8262216140253298\n",
      "0/ alpha: 0.41769567131996155\n",
      "0/ beta: 0.21874606609344482\n",
      "0/ r: 5.0\n",
      "0/ Negative ELBO: 162.2737849489851\n",
      "1/ Negative ELBO: 154.92829192601775\n",
      "2/ Negative ELBO: 153.22890132159847\n",
      "3/ Negative ELBO: 150.3886357386479\n",
      "4/ Negative ELBO: 148.5537598344248\n",
      "5/ Negative ELBO: 148.79255012635042\n",
      "6/ Negative ELBO: 144.14013809193125\n",
      "7/ Negative ELBO: 144.61257471458046\n",
      "8/ Negative ELBO: 144.18795843210265\n",
      "9/ Negative ELBO: 139.75868693523697\n",
      "10/ Negative ELBO: 135.31392759340088\n",
      "11/ Negative ELBO: 132.77541661408873\n",
      "12/ Negative ELBO: 130.93978561039526\n",
      "13/ Negative ELBO: 125.15796730086986\n",
      "14/ Negative ELBO: 120.5020248976047\n",
      "15/ Negative ELBO: 117.37661447384325\n",
      "16/ Negative ELBO: 114.52628061400735\n",
      "17/ Negative ELBO: 108.5325902921845\n",
      "18/ Negative ELBO: 105.37999655570161\n",
      "19/ Negative ELBO: 99.8001343422049\n",
      "20/ Negative ELBO: 93.41227887294033\n",
      "21/ Negative ELBO: 88.67530192405631\n",
      "22/ Negative ELBO: 84.62303989679262\n",
      "23/ Negative ELBO: 80.04026599326792\n",
      "24/ Negative ELBO: 75.36102237572517\n",
      "25/ alpha: 1.0396091938018799\n",
      "25/ beta: -1.1002928018569946\n",
      "25/ r: 6.439700793929833\n",
      "25/ Negative ELBO: 69.96260559972045\n",
      "26/ Negative ELBO: 63.729462315047286\n",
      "27/ Negative ELBO: 62.02285821206068\n",
      "28/ Negative ELBO: 55.76041503550483\n",
      "29/ Negative ELBO: 52.05043072083057\n",
      "30/ Negative ELBO: 48.02857111106347\n",
      "31/ Negative ELBO: 44.4016466621649\n",
      "32/ Negative ELBO: 39.97848751925556\n",
      "33/ Negative ELBO: 35.13711814587186\n",
      "34/ Negative ELBO: 32.70622704537301\n",
      "35/ Negative ELBO: 29.136828373153893\n",
      "36/ Negative ELBO: 26.315777739405352\n",
      "37/ Negative ELBO: 22.712388004352057\n",
      "38/ Negative ELBO: 19.82205526368918\n",
      "39/ Negative ELBO: 16.852044213947355\n",
      "40/ Negative ELBO: 15.211851534095219\n",
      "41/ Negative ELBO: 13.728407392701168\n",
      "42/ Negative ELBO: 11.931541043470931\n",
      "43/ Negative ELBO: 10.818574378249858\n",
      "44/ Negative ELBO: 9.65067267200305\n",
      "45/ Negative ELBO: 9.398801115810885\n",
      "46/ Negative ELBO: 9.224831886907008\n"
     ]
    }
   ],
   "source": [
    "output = []\n",
    "for it in tq.tqdm([50]):\n",
    "    vp__pts, vp__mean, vp__std, vp__pars, vp__grads, vp__obj = Optimize(torch.tensor([sde_sigma]),\\\n",
    "                                                      obs, obs_time, obs_sigma, \\\n",
    "                                                      init_state=\"Random\", M=1500, \\\n",
    "#                                                       FIX_PAR = FIX_PAR,\n",
    "                                                               \\\n",
    "                                                      IT=it, vN=150, learning_rate=0.05, \\\n",
    "                                                      Optimizer=\"Adam\", beta_1 = 0.35, beta_2 = 0.01)\n",
    "    output.append([vp__pts, vp__mean, vp__std, vp__pars, vp__grads])"
   ]
  },
  {
   "cell_type": "code",
   "execution_count": null,
   "id": "37475611",
   "metadata": {
    "scrolled": true
   },
   "outputs": [],
   "source": [
    "it_names = ['50']\n",
    "par_names = ['alpha', 'beta', 'r']\n",
    "for item, name in zip(output, it_names):\n",
    "    vp__pts, vp__mean, vp__std, vp__pars = item[0], item[1], item[2], item[3]\n",
    "    P, T, IT = len(par_names), obs_time.shape[0], 30\n",
    "\n",
    "    for t in range(T-1):\n",
    "        fig, ax = plt.subplots(nrows=1, ncols=P, figsize=(20, 5))\n",
    "        for j, ax in enumerate(ax.ravel()):\n",
    "            ax.plot(vp__pars[par_names[j]][t, :])\n",
    "            ax.set_title(par_names[j] + \" at time interval: %d\" % t)\n",
    "            ax.set_xlabel(\"Iterations\")\n",
    "        title = \"Adam_\" + \"time_\" + str(t) + \"_iteration_\" + name\n",
    "#         plt.savefig(\"figures/\" + title)\n",
    "        plt.show()"
   ]
  },
  {
   "cell_type": "code",
   "execution_count": null,
   "id": "055ecb81",
   "metadata": {
    "scrolled": false
   },
   "outputs": [],
   "source": [
    "it_names = ['50']\n",
    "par_names = ['alpha', 'beta', 'r']\n",
    "for item, name in zip(output, it_names):\n",
    "    vp__pts, vp__mean, vp__std, vp__pars = item[0], item[1], item[2], item[3]\n",
    "    P, T, IT = len(par_names), obs_time.shape[0], 30\n",
    "\n",
    "    for t in range(T-1):\n",
    "        fig, ax1 = plt.subplots(figsize=(8, 5))\n",
    "        for j in range(len(par_names)):\n",
    "            ax1.plot(vp__pars[par_names[j]][t, :], label=par_names[j])\n",
    "            ax1.set_title(par_names[j] + \" at time interval: %d\" % t)\n",
    "            ax1.set_xlabel(\"Iterations\")\n",
    "            ax1.set_ylabel(\"parameter value\")\n",
    "            ax1.legend()\n",
    "            ax2 = ax1.twinx()\n",
    "            ax2.plot(vp__obj['NELBO'][t], label='Negative ELBO', color='black')\n",
    "            ax2.set_ylabel(\"NELBO\", color='black')\n",
    "#             ax2.axhline(-20, linestyle='dashed', color='grey')\n",
    "            \n",
    "        title = \"Adam_\" + \"time_\" + str(t) + \"_iteration_\" + name\n",
    "#         plt.savefig(\"figures/\" + title)\n",
    "        plt.show()"
   ]
  },
  {
   "cell_type": "code",
   "execution_count": null,
   "id": "f9763aca",
   "metadata": {},
   "outputs": [],
   "source": [
    "it_names = ['50']\n",
    "for item, name in zip(output, it_names):\n",
    "    vp__pts, vp__mean, vp__std, vp__pars = item[0], item[1], item[2], item[3]\n",
    "    \n",
    "    plt.figure(figsize=(10,6))\n",
    "    plt.plot(vp__pts.T, vp__mean.T, color='black')\n",
    "    plt.fill_between(vp__pts, vp__mean + vp__std, vp__mean - vp__std, alpha=0.3, color='grey')\n",
    "    plt.plot(true_sde_pts, true_sde_trj, alpha=0.2)\n",
    "    plt.plot(obs_time, obs, 'rx')\n",
    "    plt.xlabel(\"Time\")\n",
    "    plt.ylabel(r\"X_{t}\")\n",
    "    title = \"approximating processes / iteration: \" + name\n",
    "    plt.title(title)\n",
    "    file_name = \"Adam_\" + \"approx_process_\" + \"iteration_\" + name\n",
    "#     plt.savefig(\"figures/\" + file_name)\n",
    "    plt.show()"
   ]
  },
  {
   "cell_type": "code",
   "execution_count": null,
   "id": "6c1ebd89",
   "metadata": {
    "scrolled": false
   },
   "outputs": [],
   "source": [
    "it_names = ['50']\n",
    "obj_names = ['NELBO', 'KL', 'NLL']\n",
    "for item, name in zip(output, it_names):\n",
    "    P, T, IT = len(par_names), obs_time.shape[0], 30\n",
    "\n",
    "    for t in range(T-1):\n",
    "        plt.plot(figsize=(8, 6))\n",
    "        for j in range(len(obj_names)):\n",
    "            plt.plot(vp__obj[obj_names[j]][t], label=obj_names[j])\n",
    "            plt.title(obj_names[j] + \" at time interval: %d\" % t)\n",
    "            plt.xlabel(\"Iterations\")\n",
    "#             ax1.set_ylabel(obj_names[j])\n",
    "            plt.legend()\n",
    "            \n",
    "        title = \"Adam_\" + \"time_\" + str(t) + \"_iteration_\" + name\n",
    "#         plt.savefig(\"figures/\" + title)\n",
    "        plt.show()"
   ]
  },
  {
   "cell_type": "code",
   "execution_count": null,
   "id": "0115064b",
   "metadata": {
    "scrolled": false
   },
   "outputs": [],
   "source": [
    "it_names = ['50']\n",
    "for item, name in zip(output, it_names):\n",
    "    vp_grads = item[4]\n",
    "    for t in range(T-1):\n",
    "        plt.figure(figsize=(10,5))\n",
    "\n",
    "        for key in vp_grads.keys():\n",
    "            plt.plot(vp_grads[key][t], label=key, alpha=0.8)\n",
    "            plt.ylabel(\"Gradient\")\n",
    "            plt.xlabel(\"Iterations\")\n",
    "#             plt.axhline(np.mean(vp_grads[key][t]), linestyle='dashed', label=str(np.mean(vp_grads[key]).round(2)))\n",
    "            plt.legend()\n",
    "\n",
    "        file_name = \"time\" + str(t) + \": Adam_\" + \"gradient_update_history/ \" + \"iteration_\" + name\n",
    "        plt.title(file_name)\n",
    "#     plt.savefig(\"figures/\" + file_name)\n",
    "    plt.show()"
   ]
  },
  {
   "cell_type": "markdown",
   "id": "9a89ca1b",
   "metadata": {},
   "source": [
    "Fix $\\alpha$ and optimize the other paramters, $\\beta, r$"
   ]
  },
  {
   "cell_type": "code",
   "execution_count": null,
   "id": "c68661f7",
   "metadata": {},
   "outputs": [],
   "source": [
    "fix_pars = {'alpha': torch.tensor(1.)}"
   ]
  },
  {
   "cell_type": "code",
   "execution_count": null,
   "id": "fdfe8ee2",
   "metadata": {},
   "outputs": [],
   "source": [
    "output = []\n",
    "for it in tq.tqdm([50]):\n",
    "    vp__pts, vp__mean, vp__std, vp__pars, vp__grads, vp__obj = Optimize(torch.tensor([sde_sigma]),\\\n",
    "                                                      obs, obs_time, obs_sigma, \\\n",
    "                                                      init_state=\"Random\", M=1500, \\\n",
    "                                                      FIX_PAR = fix_pars,\n",
    "                                                               \\\n",
    "                                                      IT=it, vN=150, learning_rate=0.05, \\\n",
    "                                                      Optimizer=\"Adam\", beta_1 = 0.3, beta_2 = 0.01)\n",
    "    output.append([vp__pts, vp__mean, vp__std, vp__pars, vp__grads])"
   ]
  },
  {
   "cell_type": "code",
   "execution_count": null,
   "id": "9d66a039",
   "metadata": {
    "scrolled": true
   },
   "outputs": [],
   "source": [
    "it_names = ['50']\n",
    "par_names = ['alpha', 'beta', 'r']\n",
    "for item, name in zip(output, it_names):\n",
    "    vp__pts, vp__mean, vp__std, vp__pars = item[0], item[1], item[2], item[3]\n",
    "    P, T, IT = len(par_names), obs_time.shape[0], 30\n",
    "\n",
    "    for t in range(T-1):\n",
    "        fig, ax1 = plt.subplots(figsize=(8, 5))\n",
    "        for j in range(len(par_names)):\n",
    "            ax1.plot(vp__pars[par_names[j]][t, :], label=par_names[j])\n",
    "            ax1.set_title(par_names[j] + \" at time interval: %d\" % t)\n",
    "            ax1.set_xlabel(\"Iterations\")\n",
    "            ax1.set_ylabel(\"parameter value\")\n",
    "            ax1.legend()\n",
    "            ax2 = ax1.twinx()\n",
    "            ax2.plot(vp__obj['NELBO'][t], label='Negative ELBO', color='black')\n",
    "            ax2.set_ylabel(\"NELBO\", color='black')\n",
    "#             ax2.axhline(-20, linestyle='dashed', color='grey')\n",
    "            \n",
    "        title = \"Adam_\" + \"time_\" + str(t) + \"_iteration_\" + name\n",
    "#         plt.savefig(\"figures/\" + title)\n",
    "        plt.show()"
   ]
  },
  {
   "cell_type": "code",
   "execution_count": null,
   "id": "929f6d28",
   "metadata": {},
   "outputs": [],
   "source": [
    "it_names = ['50']\n",
    "for item, name in zip(output, it_names):\n",
    "    vp__pts, vp__mean, vp__std, vp__pars = item[0], item[1], item[2], item[3]\n",
    "    \n",
    "    plt.figure(figsize=(10,6))\n",
    "    plt.plot(vp__pts.T, vp__mean.T, color='black')\n",
    "    plt.fill_between(vp__pts, vp__mean + vp__std, vp__mean - vp__std, alpha=0.3, color='grey')\n",
    "    plt.plot(true_sde_pts, true_sde_trj, alpha=0.2)\n",
    "    plt.plot(obs_time, obs, 'rx')\n",
    "    plt.xlabel(\"Time\")\n",
    "    plt.ylabel(r\"X_{t}\")\n",
    "    title = \"approximating processes / iteration: \" + name\n",
    "    plt.title(title)\n",
    "    file_name = \"Adam_\" + \"approx_process_\" + \"iteration_\" + name\n",
    "#     plt.savefig(\"figures/\" + file_name)\n",
    "    plt.show()"
   ]
  },
  {
   "cell_type": "markdown",
   "id": "9302eb3c",
   "metadata": {},
   "source": [
    "FIX $\\beta$"
   ]
  },
  {
   "cell_type": "code",
   "execution_count": null,
   "id": "d96a991f",
   "metadata": {},
   "outputs": [],
   "source": [
    "fix_pars = {'beta': torch.tensor(1.)}"
   ]
  },
  {
   "cell_type": "code",
   "execution_count": null,
   "id": "98e6dbe6",
   "metadata": {},
   "outputs": [],
   "source": [
    "output = []\n",
    "for it in tq.tqdm([50]):\n",
    "    vp__pts, vp__mean, vp__std, vp__pars, vp__grads, vp__obj = Optimize(torch.tensor([sde_sigma]),\\\n",
    "                                                      obs, obs_time, obs_sigma, \\\n",
    "                                                      init_state=\"Random\", M=1500, \\\n",
    "                                                      FIX_PAR = fix_pars,\n",
    "                                                               \\\n",
    "                                                      IT=it, vN=150, learning_rate=0.05, \\\n",
    "                                                      Optimizer=\"Adam\", beta_1 = 0.3, beta_2 = 0.01)\n",
    "    output.append([vp__pts, vp__mean, vp__std, vp__pars, vp__grads])"
   ]
  },
  {
   "cell_type": "code",
   "execution_count": null,
   "id": "6ddef74b",
   "metadata": {
    "scrolled": true
   },
   "outputs": [],
   "source": [
    "it_names = ['50']\n",
    "par_names = ['alpha', 'beta', 'r']\n",
    "for item, name in zip(output, it_names):\n",
    "    vp__pts, vp__mean, vp__std, vp__pars = item[0], item[1], item[2], item[3]\n",
    "    P, T, IT = len(par_names), obs_time.shape[0], 30\n",
    "\n",
    "    for t in range(T-1):\n",
    "        fig, ax1 = plt.subplots(figsize=(8, 5))\n",
    "        for j in range(len(par_names)):\n",
    "            ax1.plot(vp__pars[par_names[j]][t, :], label=par_names[j])\n",
    "            ax1.set_title(par_names[j] + \" at time interval: %d\" % t)\n",
    "            ax1.set_xlabel(\"Iterations\")\n",
    "            ax1.set_ylabel(\"parameter value\")\n",
    "            ax1.legend()\n",
    "            ax2 = ax1.twinx()\n",
    "            ax2.plot(vp__obj['NELBO'][t], label='Negative ELBO', color='black')\n",
    "            ax2.set_ylabel(\"NELBO\", color='black')\n",
    "#             ax2.axhline(-20, linestyle='dashed', color='grey')\n",
    "            \n",
    "        title = \"Adam_\" + \"time_\" + str(t) + \"_iteration_\" + name\n",
    "#         plt.savefig(\"figures/\" + title)\n",
    "        plt.show()"
   ]
  },
  {
   "cell_type": "code",
   "execution_count": null,
   "id": "42fe0ddc",
   "metadata": {},
   "outputs": [],
   "source": [
    "it_names = ['50']\n",
    "for item, name in zip(output, it_names):\n",
    "    vp__pts, vp__mean, vp__std, vp__pars = item[0], item[1], item[2], item[3]\n",
    "    \n",
    "    plt.figure(figsize=(10,6))\n",
    "    plt.plot(vp__pts.T, vp__mean.T, color='black')\n",
    "    plt.fill_between(vp__pts, vp__mean + vp__std, vp__mean - vp__std, alpha=0.3, color='grey')\n",
    "    plt.plot(true_sde_pts, true_sde_trj, alpha=0.2)\n",
    "    plt.plot(obs_time, obs, 'rx')\n",
    "    plt.xlabel(\"Time\")\n",
    "    plt.ylabel(r\"X_{t}\")\n",
    "    title = \"approximating processes / iteration: \" + name\n",
    "    plt.title(title)\n",
    "    file_name = \"Adam_\" + \"approx_process_\" + \"iteration_\" + name\n",
    "#     plt.savefig(\"figures/\" + file_name)\n",
    "    plt.show()"
   ]
  },
  {
   "cell_type": "markdown",
   "id": "0a3ebe1b",
   "metadata": {},
   "source": [
    "FIX $\\alpha, \\beta$"
   ]
  },
  {
   "cell_type": "code",
   "execution_count": null,
   "id": "b456efe3",
   "metadata": {},
   "outputs": [],
   "source": [
    "fix_pars = {'beta': torch.tensor(1.), 'alpha':torch.tensor(2.)}"
   ]
  },
  {
   "cell_type": "code",
   "execution_count": null,
   "id": "0c02a35d",
   "metadata": {},
   "outputs": [],
   "source": [
    "output = []\n",
    "for it in tq.tqdm([50]):\n",
    "    vp__pts, vp__mean, vp__std, vp__pars, vp__grads, vp__obj = Optimize(torch.tensor([sde_sigma]),\\\n",
    "                                                      obs, obs_time, obs_sigma, \\\n",
    "                                                      init_state=\"Random\", M=1500, \\\n",
    "                                                      FIX_PAR = fix_pars,\n",
    "                                                               \\\n",
    "                                                      IT=it, vN=150, learning_rate=0.05, \\\n",
    "                                                      Optimizer=\"Adam\", beta_1 = 0.1, beta_2 = 0.01)\n",
    "    output.append([vp__pts, vp__mean, vp__std, vp__pars, vp__grads])"
   ]
  },
  {
   "cell_type": "code",
   "execution_count": null,
   "id": "a3e67479",
   "metadata": {
    "scrolled": true
   },
   "outputs": [],
   "source": [
    "it_names = ['50']\n",
    "par_names = ['alpha', 'beta', 'r']\n",
    "for item, name in zip(output, it_names):\n",
    "    vp__pts, vp__mean, vp__std, vp__pars = item[0], item[1], item[2], item[3]\n",
    "    P, T, IT = len(par_names), obs_time.shape[0], 30\n",
    "\n",
    "    for t in range(T-1):\n",
    "        fig, ax1 = plt.subplots(figsize=(8, 5))\n",
    "        for j in range(len(par_names)):\n",
    "            ax1.plot(vp__pars[par_names[j]][t, :], label=par_names[j])\n",
    "            ax1.set_title(par_names[j] + \" at time interval: %d\" % t)\n",
    "            ax1.set_xlabel(\"Iterations\")\n",
    "            ax1.set_ylabel(\"parameter value\")\n",
    "            ax1.legend()\n",
    "            ax2 = ax1.twinx()\n",
    "            ax2.plot(vp__obj['NELBO'][t], label='Negative ELBO', color='black')\n",
    "            ax2.set_ylabel(\"NELBO\", color='black')\n",
    "#             ax2.axhline(-20, linestyle='dashed', color='grey')\n",
    "            \n",
    "        title = \"Adam_\" + \"time_\" + str(t) + \"_iteration_\" + name\n",
    "#         plt.savefig(\"figures/\" + title)\n",
    "        plt.show()"
   ]
  },
  {
   "cell_type": "code",
   "execution_count": null,
   "id": "d8b8245f",
   "metadata": {},
   "outputs": [],
   "source": [
    "it_names = ['50']\n",
    "for item, name in zip(output, it_names):\n",
    "    vp__pts, vp__mean, vp__std, vp__pars = item[0], item[1], item[2], item[3]\n",
    "    \n",
    "    plt.figure(figsize=(10,6))\n",
    "    plt.plot(vp__pts.T, vp__mean.T, color='black')\n",
    "    plt.fill_between(vp__pts, vp__mean + vp__std, vp__mean - vp__std, alpha=0.3, color='grey')\n",
    "    plt.plot(true_sde_pts, true_sde_trj, alpha=0.2)\n",
    "    plt.plot(obs_time, obs, 'rx')\n",
    "    plt.xlabel(\"Time\")\n",
    "    plt.ylabel(r\"X_{t}\")\n",
    "    title = \"approximating processes / iteration: \" + name\n",
    "    plt.title(title)\n",
    "    file_name = \"Adam_\" + \"approx_process_\" + \"iteration_\" + name\n",
    "#     plt.savefig(\"figures/\" + file_name)\n",
    "    plt.show()"
   ]
  },
  {
   "cell_type": "markdown",
   "id": "b6aac117",
   "metadata": {},
   "source": [
    "what if we reduce the time step by factor of 50?"
   ]
  },
  {
   "cell_type": "code",
   "execution_count": null,
   "id": "45ba6c26",
   "metadata": {
    "scrolled": true
   },
   "outputs": [],
   "source": [
    "output = []\n",
    "for it in tq.tqdm([50]):\n",
    "    vp__pts, vp__mean, vp__std, vp__pars, vp__grads, vp__obj = Optimize(torch.tensor([sde_sigma]),\\\n",
    "                                                      obs, obs_time/50, obs_sigma, \\\n",
    "                                                      init_state=\"Random\", M=1500, \\\n",
    "#                                                       FIX_PAR = fix_pars,\n",
    "#                                                                \\\n",
    "                                                      IT=it, vN=150, learning_rate=0.15, \\\n",
    "                                                      Optimizer=\"Adam\", beta_1 = 0.5, beta_2 = 0.01)\n",
    "    output.append([vp__pts, vp__mean, vp__std, vp__pars, vp__grads])"
   ]
  },
  {
   "cell_type": "code",
   "execution_count": null,
   "id": "0f478320",
   "metadata": {
    "scrolled": false
   },
   "outputs": [],
   "source": [
    "it_names = ['50']\n",
    "par_names = ['alpha', 'beta', 'r']\n",
    "for item, name in zip(output, it_names):\n",
    "    vp__pts, vp__mean, vp__std, vp__pars = item[0], item[1], item[2], item[3]\n",
    "    P, T, IT = len(par_names), obs_time.shape[0], 30\n",
    "\n",
    "    for t in range(T-1):\n",
    "        fig, ax1 = plt.subplots(figsize=(8, 5))\n",
    "        for j in range(len(par_names)):\n",
    "            ax1.plot(vp__pars[par_names[j]][t, :], label=par_names[j])\n",
    "            ax1.set_title(par_names[j] + \" at time interval: %d\" % t)\n",
    "            ax1.set_xlabel(\"Iterations\")\n",
    "            ax1.set_ylabel(\"parameter value\")\n",
    "            ax1.legend()\n",
    "            ax2 = ax1.twinx()\n",
    "            ax2.plot(-1 * vp__obj['NELBO'][t], label='Negative ELBO', color='black')\n",
    "            ax2.set_ylabel(\"NELBO\", color='black')\n",
    "#             ax2.axhline(-20, linestyle='dashed', color='grey')\n",
    "            \n",
    "        title = \"Adam_\" + \"time_\" + str(t) + \"_iteration_\" + name\n",
    "#         plt.savefig(\"figures/\" + title)\n",
    "        plt.show()"
   ]
  },
  {
   "cell_type": "code",
   "execution_count": null,
   "id": "d34dc218",
   "metadata": {},
   "outputs": [],
   "source": [
    "it_names = ['50']\n",
    "for item, name in zip(output, it_names):\n",
    "    vp__pts, vp__mean, vp__std, vp__pars = item[0], item[1], item[2], item[3]\n",
    "    \n",
    "    plt.figure(figsize=(10,6))\n",
    "    plt.plot(vp__pts.T, vp__mean.T, color='black')\n",
    "    plt.fill_between(vp__pts, vp__mean + vp__std, vp__mean - vp__std, alpha=0.3, color='grey')\n",
    "    plt.plot(true_sde_pts/50, true_sde_trj, alpha=0.2)\n",
    "    plt.plot(obs_time/50, obs, 'rx')\n",
    "    title = \"approximating processes / iteration: \" + name\n",
    "    plt.title(title)\n",
    "    file_name = \"Adam_\" + \"approx_process_\" + \"iteration_\" + name\n",
    "#     plt.savefig(\"figures/\" + file_name)\n",
    "    plt.show()"
   ]
  },
  {
   "cell_type": "code",
   "execution_count": null,
   "id": "16eec33b",
   "metadata": {
    "scrolled": false
   },
   "outputs": [],
   "source": [
    "it_names = ['50']\n",
    "obj_names = ['NELBO', 'KL', 'NLL']\n",
    "for item, name in zip(output, it_names):\n",
    "    P, T, IT = len(par_names), obs_time.shape[0], 30\n",
    "\n",
    "    for t in range(T-1):\n",
    "        plt.plot(figsize=(8, 6))\n",
    "        for j in range(len(obj_names)):\n",
    "            plt.plot(vp__obj[obj_names[j]][t], label=obj_names[j])\n",
    "            plt.title(obj_names[j] + \" at time interval: %d\" % t)\n",
    "            plt.xlabel(\"Iterations\")\n",
    "#             ax1.set_ylabel(obj_names[j])\n",
    "            plt.legend()\n",
    "            \n",
    "        title = \"Adam_\" + \"time_\" + str(t) + \"_iteration_\" + name\n",
    "#         plt.savefig(\"figures/\" + title)\n",
    "        plt.show()"
   ]
  }
 ],
 "metadata": {
  "kernelspec": {
   "display_name": "Python 3 (ipykernel)",
   "language": "python",
   "name": "python3"
  },
  "language_info": {
   "codemirror_mode": {
    "name": "ipython",
    "version": 3
   },
   "file_extension": ".py",
   "mimetype": "text/x-python",
   "name": "python",
   "nbconvert_exporter": "python",
   "pygments_lexer": "ipython3",
   "version": "3.9.7"
  }
 },
 "nbformat": 4,
 "nbformat_minor": 5
}
