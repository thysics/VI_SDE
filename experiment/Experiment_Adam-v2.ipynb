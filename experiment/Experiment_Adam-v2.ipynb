{
 "cells": [
  {
   "cell_type": "code",
   "execution_count": 1,
   "id": "591c0a5a",
   "metadata": {},
   "outputs": [],
   "source": [
    "import torch\n",
    "from torch.autograd import Variable\n",
    "from torch.distributions import Normal\n",
    "from functorch import vmap\n",
    "import matplotlib.pylab as plt\n",
    "import numpy as np\n",
    "import scipy.stats as ss\n",
    "import pickle\n",
    "import random"
   ]
  },
  {
   "cell_type": "code",
   "execution_count": 2,
   "id": "043b84c0",
   "metadata": {},
   "outputs": [],
   "source": [
    "import sys\n",
    "sys.path.insert(0,'../vp_class/')"
   ]
  },
  {
   "cell_type": "code",
   "execution_count": 3,
   "id": "0de3b222",
   "metadata": {},
   "outputs": [],
   "source": [
    "from class_tou_v6 import tOU, tou_gradient"
   ]
  },
  {
   "cell_type": "markdown",
   "id": "838b69b9",
   "metadata": {},
   "source": [
    "This code applies variational inference based on time-dependent OU processes to the observations drawn from the double well system SDE, as defined below. Note that we have chosen observational noise, i.e. variance of Gaussian noise and SDE variance to be 0.64 and 0.01 repectively."
   ]
  },
  {
   "cell_type": "markdown",
   "id": "2c22728a",
   "metadata": {},
   "source": [
    "m(t) = $\\alpha$t + $m_{0}$"
   ]
  },
  {
   "cell_type": "markdown",
   "id": "afe6d11b",
   "metadata": {},
   "source": [
    "1. Simulate prior process, i.e. double-well system whose SDE is given by\n",
    "\n",
    "$dX_{t} = 4X_{t}(1-X^{2}_{t})dt + \\sigma dW_{t}$"
   ]
  },
  {
   "cell_type": "code",
   "execution_count": 4,
   "id": "2c1791ac",
   "metadata": {},
   "outputs": [],
   "source": [
    "with open('../EX03_DW_Model', 'rb') as f:\n",
    "    prior = pickle.load(f)\n",
    "    likelihood = pickle.load(f)"
   ]
  },
  {
   "cell_type": "code",
   "execution_count": 5,
   "id": "7e8faa35",
   "metadata": {},
   "outputs": [],
   "source": [
    "def prior_drift (s, x_s):\n",
    "    return 4 * x_s * (1 - (x_s ** 2))"
   ]
  },
  {
   "cell_type": "code",
   "execution_count": 6,
   "id": "13bd214c",
   "metadata": {},
   "outputs": [],
   "source": [
    "true_sde_pts, true_sde_trj = prior[0], prior[1]\n",
    "obs, obs_time = likelihood[0], likelihood[1]\n",
    "sde_sigma = 0.8 # Variance is higher than the original example\n",
    "obs_sigma = 0.1"
   ]
  },
  {
   "cell_type": "code",
   "execution_count": 7,
   "id": "82ca55c1",
   "metadata": {},
   "outputs": [
    {
     "data": {
      "image/png": "[encoded data removed]",
      "text/plain": [
       "<Figure size 432x288 with 1 Axes>"
      ]
     },
     "metadata": {
      "needs_background": "light"
     },
     "output_type": "display_data"
    }
   ],
   "source": [
    "# Plot paths\n",
    "plt.plot(true_sde_pts,true_sde_trj)\n",
    "plt.plot(obs_time, obs, \"rx\")\n",
    "plt.xlabel(\"t\", fontsize=14)\n",
    "plt.ylabel(\"X\", fontsize=14)\n",
    "plt.title(\"Sample paths\", fontsize=14)\n",
    "plt.show()\n"
   ]
  },
  {
   "cell_type": "markdown",
   "id": "005f40f9",
   "metadata": {},
   "source": [
    "Variational inference: KL"
   ]
  },
  {
   "cell_type": "markdown",
   "id": "5eff800a",
   "metadata": {},
   "source": [
    "2. Implement Variational inference based on $\\textbf{time-inhomogeneous}$ OU process with SDE:\n",
    "\n",
    "$$dX_{t} = [-\\frac{a}{at+b}X_{t} + (ct+d)] dt + \\sigma^{2} dW_{t}$$"
   ]
  },
  {
   "cell_type": "markdown",
   "id": "1fc6d84b",
   "metadata": {},
   "source": [
    "$$\\mathbb{E}_{P^{Z}}[\\log\\exp{\\frac{dP^{X}}{dP^{Z}}(Z)] = \\frac{1}{2}\\mathbb{E}_{P^{Z}}[\\int_{t_{0}}}^{t_{1}}|\\frac{4Z_{t}(1-Z^{2}_{t}) + \\frac{a}{at+b}Z_{t} - (ct+d)}{\\sigma}|^{2}dt]$$\n"
   ]
  },
  {
   "cell_type": "code",
   "execution_count": 8,
   "id": "063c5550",
   "metadata": {},
   "outputs": [],
   "source": [
    "class ELBO:\n",
    "    \"\"\"\n",
    "        ELBO with\n",
    "            variational process (q): time-inhomogeneous OU process\n",
    "            prior process (p): double-well system\n",
    "            \n",
    "        This class computes: - KL(q|p) + NLL(y|z)  where z \\sim q\n",
    "    \"\"\"\n",
    "    def __init__(self, ou):\n",
    "        self.ou = ou\n",
    "        self.a = ou.a\n",
    "        self.b = ou.b\n",
    "        self.c = ou.c\n",
    "        self.d = ou.d\n",
    "        \n",
    "        self.sigma = ou.sigma\n",
    "        \n",
    "\n",
    "    def KL(self, prior_drift):\n",
    "        \"\"\"\n",
    "            This function requires the function corresponding to prior drift function\n",
    "        \"\"\"\n",
    "        # Save parameter specification from ou class\n",
    "        a, b, c, d, sigma = self.a, self.b, self.c, self.d, self.sigma\n",
    "\n",
    "        \n",
    "        def approx_drift(pts, trj, a, b, c, d):\n",
    "            return -1 * ((a * trj / (a*pts + b)) - c*pts - d)\n",
    "            \n",
    "        t = self.ou.pts - self.ou.pts[:, 0].reshape(-1, 1)\n",
    "        \n",
    "        dt = t[:, -1] - t[:, 0]\n",
    "\n",
    "        # Evaluate the drift function of the approximating processes\n",
    "        g_of_x = approx_drift(t, self.ou.trj, a, b, c, d)\n",
    "        \n",
    "        # Evaluate the drift function of the model (prior process)\n",
    "        f_of_x = prior_drift(t, self.ou.trj)\n",
    "        \n",
    "        # Compute the term inside the KL divergence\n",
    "        \n",
    "        F_of_X = abs(((f_of_x - g_of_x) / sigma) ** 2)\n",
    "        \n",
    "        return 0.5 * torch.sum(F_of_X, axis=1).reshape(-1, 1) / F_of_X.shape[1] * dt.reshape(-1, 1)\n",
    "            \n",
    "    def log_prob(self, obs, obs_sigma):\n",
    "        \"\"\"\n",
    "            Compute the log-likelihood\n",
    "            likelihood function is normal density N(obs, var)\n",
    "            obs.shape = D * 1 (D: # of sample)\n",
    "        \"\"\"\n",
    "        def log_pdf(obs, z, obs_sigma):\n",
    "            return ss.norm.logpdf(obs, loc=z, scale=obs_sigma)\n",
    "            \n",
    "        return torch.from_numpy(log_pdf(obs, self.ou.trj[:, -1].reshape(-1, 1), obs_sigma))\n"
   ]
  },
  {
   "cell_type": "markdown",
   "id": "f0859993",
   "metadata": {},
   "source": [
    "**Variational inference: a piece-wise approximation**"
   ]
  },
  {
   "cell_type": "code",
   "execution_count": 9,
   "id": "70d17552",
   "metadata": {},
   "outputs": [],
   "source": [
    "import tqdm as tq"
   ]
  },
  {
   "cell_type": "code",
   "execution_count": 10,
   "id": "f7deb3f1",
   "metadata": {},
   "outputs": [],
   "source": [
    "def score_estimate(s0, sK, current_pars, sigma, obs, obs_sigma, init_dist, M):\n",
    "    \"\"\"\n",
    "        Returns stochastic estimates of the gradient of the ELBO with respect to parameters including\n",
    "            alpha, r, beta\n",
    "        \n",
    "        M: # of Monte Carlo samples\n",
    "        \n",
    "    \"\"\"\n",
    "    assert obs.shape[0] == 1, \"observation must be 1-d torch.array\"\n",
    "    \n",
    "    # Number of time points drawn between s0 and sK\n",
    "    K = 200\n",
    "    \n",
    "    # Reshape every parameter into (M,1) torch.array\n",
    "    SIGMA = sigma.repeat(M, 1)\n",
    "    OBS = obs.repeat(M, 1)\n",
    "    # Simulate sample path\n",
    "    # Note that z0 = m0\n",
    "    \n",
    "    pars = {key:val.repeat(M, 1) for key,val in current_pars.items()}\n",
    "    \n",
    "    vi = tOU(t0=s0, t1=sK, parameters = pars, sde_sigma=SIGMA, init_dist = init_dist, timegrid = 'False', dN=K)\n",
    "\n",
    "    # Compute the ELBO \n",
    "    elbo = ELBO(vi)\n",
    "    score_func = tou_gradient(vi.pts, vi.trj, pars, SIGMA, init_dist)\n",
    "    f_of_x = -elbo.log_prob(OBS, obs_sigma) + elbo.KL(prior_drift)\n",
    "    \n",
    "    return {key: torch.nanmean(f_of_x * score_func[key]) for key in pars.keys()}, torch.nanmean(f_of_x)"
   ]
  },
  {
   "cell_type": "markdown",
   "id": "d63551dc",
   "metadata": {},
   "source": [
    "Sanity check\n",
    "\n",
    "Examine the distribution of score function estimates of the gradient of each parameter."
   ]
  },
  {
   "cell_type": "code",
   "execution_count": null,
   "id": "395078f0",
   "metadata": {},
   "outputs": [],
   "source": [
    "dist = Normal(loc=0, scale=1.)\n",
    "t0 = torch.tensor(1.)\n",
    "t1 = torch.tensor(2.)\n",
    "sigma = torch.tensor([1.]).reshape(-1, 1)"
   ]
  },
  {
   "cell_type": "code",
   "execution_count": null,
   "id": "27459ac4",
   "metadata": {},
   "outputs": [],
   "source": [
    "parameters = {'a': torch.tensor([0.05]).reshape(-1, 1), \\\n",
    "             'b': torch.tensor([0.8]).reshape(-1, 1), \\\n",
    "             'c': torch.tensor([0.05]).reshape(-1, 1), \\\n",
    "             'd': torch.tensor([1.0]).reshape(-1, 1)}"
   ]
  },
  {
   "cell_type": "code",
   "execution_count": null,
   "id": "624116dc",
   "metadata": {},
   "outputs": [],
   "source": [
    "init_pts = torch.tensor([1.0]).reshape(-1, 1)"
   ]
  },
  {
   "cell_type": "code",
   "execution_count": null,
   "id": "5181f42a",
   "metadata": {},
   "outputs": [],
   "source": [
    "tou = tOU(t0, t1, parameters, sigma, init_dist=init_pts)"
   ]
  },
  {
   "cell_type": "code",
   "execution_count": null,
   "id": "8f861126",
   "metadata": {},
   "outputs": [],
   "source": [
    "ELBO(tou).KL(prior_drift)"
   ]
  },
  {
   "cell_type": "code",
   "execution_count": null,
   "id": "d482a81a",
   "metadata": {},
   "outputs": [],
   "source": [
    "estimates = {key:[] for key in parameters.keys()}\n",
    "\n",
    "for i in range(500):\n",
    "    grads = score_estimate(t0, t1, parameters, sigma, obs[0], obs_sigma, init_pts, 2000)\n",
    "    for key in grads.keys():\n",
    "        estimates[key].append(grads[key].item())"
   ]
  },
  {
   "cell_type": "code",
   "execution_count": null,
   "id": "e1ec1b7a",
   "metadata": {},
   "outputs": [],
   "source": [
    "fig, axs = plt.subplots(nrows=2, ncols=2, figsize=(20, 10))\n",
    "par_names = list(estimates.keys())\n",
    "\n",
    "for j, ax in enumerate(axs.ravel()):\n",
    "    ax.hist(estimates[par_names[j]], bins=30)\n",
    "    ax.axvline(np.mean(estimates[par_names[j]]), linestyle='dashed', color='black')\n",
    "    ax.set_title(par_names[j])\n",
    "    ax.set_xlabel(\"Gradient estimate\")\n",
    "    ax.set_ylabel(\"Frequency\")"
   ]
  },
  {
   "cell_type": "code",
   "execution_count": null,
   "id": "c052bc9d",
   "metadata": {},
   "outputs": [],
   "source": []
  },
  {
   "cell_type": "code",
   "execution_count": 11,
   "id": "a7364214",
   "metadata": {},
   "outputs": [],
   "source": [
    "def AdaGrad( current_pars, current_grad, past_grad, learning_rate = 0.01, smooth_term = 1e-8):\n",
    "    \"\"\"\n",
    "        Perform one-step gradient descent based on AdaGrad with Gradient Clipping\n",
    "    \"\"\"\n",
    "    assert type(current_pars) == type(current_grad) == type(past_grad) == dict, \"Current_grad must be a dict\"\n",
    "    \n",
    "    \n",
    "    new_pars = {}\n",
    "    for key in current_pars.keys():\n",
    "        new_pars[key] = current_pars[key] - learning_rate / np.sqrt(past_grad[key] + smooth_term) * current_grad[key]\n",
    "\n",
    "    return new_pars\n",
    "    \n",
    "    "
   ]
  },
  {
   "cell_type": "code",
   "execution_count": 12,
   "id": "ee86c825",
   "metadata": {},
   "outputs": [],
   "source": [
    "def AdamStep(g_t, m_t, v_t, beta_1, beta_2, t):\n",
    "    \"\"\"\n",
    "        compute bias corrected moments\n",
    "    \"\"\"\n",
    "#     print(g_t, m_t, v_t, beta_1, beta_2, t)\n",
    "    m_t_next = beta_1 * m_t + (1 - beta_1) * g_t\n",
    "    v_t_next = beta_2 * v_t + (1 - beta_2) * g_t ** 2\n",
    "    \n",
    "    m_t_corrected = m_t_next / (1 - (beta_1 ** t))\n",
    "    v_t_corrected = v_t_next / (1 - (beta_2 ** t))\n",
    "    \n",
    "#     print(m_t_corrected, v_t_corrected)\n",
    "    return m_t_corrected, v_t_corrected\n",
    "\n",
    "def AdamGrad(current_pars, current_grad, prev_moments,  beta_1, beta_2, learning_rate = 0.01, smooth_term = 1e-8):\n",
    "    assert type(current_pars) == type(current_grad) == type(prev_moments) == dict, \"Current_grad must be a dict\"\n",
    "    \"\"\"\n",
    "        Perform one-step Adam gradient descent\n",
    "    \"\"\"\n",
    "    new_pars = {}\n",
    "    for key in current_pars.keys():\n",
    "        m_t, v_t = AdamStep(current_grad[key], prev_moments[key][0], prev_moments[key][1], beta_1, beta_2, prev_moments['t'])\n",
    "        new_pars[key] = current_pars[key] - learning_rate / np.sqrt(v_t + smooth_term) * m_t\n",
    "        \n",
    "        # Save moments for next iteration    \n",
    "        prev_moments[key][0] = m_t\n",
    "        prev_moments[key][1] = v_t\n",
    "    \n",
    "    prev_moments['t'] += 1\n",
    "    \n",
    "    return new_pars\n",
    "    \n",
    "    \n",
    "    "
   ]
  },
  {
   "cell_type": "code",
   "execution_count": 13,
   "id": "fb65c492",
   "metadata": {},
   "outputs": [],
   "source": [
    "def Grad_Descent( current_pars, current_grad, learning_rate = 0.01):\n",
    "    \"\"\"\n",
    "        Perform vanila gradient descent step\n",
    "        returns dictionary such that dict[\"name_of_parameter\"] = value after one gradient step\n",
    "    \"\"\"\n",
    "    assert type(current_pars) == type(current_grad) == dict, \"Current_grad must be a dict\"\n",
    "    \n",
    "    \n",
    "    new_pars = {}\n",
    "    for key in current_pars.keys():\n",
    "        new_pars[key] = current_pars[key] - learning_rate * current_grad[key]\n",
    "\n",
    "    return new_pars\n",
    "    "
   ]
  },
  {
   "cell_type": "code",
   "execution_count": 14,
   "id": "82b10174",
   "metadata": {},
   "outputs": [],
   "source": [
    "def E_of_X ( init_pts, pts, parameters ):\n",
    "    \"\"\"\n",
    "        Return mean of the process (which has analytical expression)\n",
    "    \"\"\"\n",
    "    pts = pts - pts[0]\n",
    "    a = parameters['a']\n",
    "    b = parameters['b']\n",
    "    c = parameters['c']\n",
    "    d = parameters['d']\n",
    "    \n",
    "    return b * (init_pts + 1/b * (a*c*pts ** 3 / 3 + (a*d + b*c)/2 * pts ** 2 + d*b*pts)) /(a*pts + b)\n",
    "    "
   ]
  },
  {
   "cell_type": "code",
   "execution_count": 15,
   "id": "79e46f35",
   "metadata": {},
   "outputs": [],
   "source": [
    "def V_of_X (pts, parameters, sde_sigma):\n",
    "    \"\"\"\n",
    "        Return standard deviation of the process (from its analytical expression)\n",
    "    \"\"\"\n",
    "    pts = pts - pts[0]\n",
    "    a = parameters['a']\n",
    "    b = parameters['b']\n",
    "    c = parameters['c']\n",
    "    d = parameters['d']\n",
    "    \n",
    "    return torch.sqrt(sde_sigma ** 2 * (a**2 * pts ** 3 / 3 + a*b*pts**2 + b**2 * pts) / ((a*pts + b) ** 2))"
   ]
  },
  {
   "cell_type": "code",
   "execution_count": 16,
   "id": "615146f6",
   "metadata": {},
   "outputs": [],
   "source": [
    "def get_PostMoment(t0, tT, parameters, sde_sigma, init_pts, vN):\n",
    "    \"\"\"\n",
    "        Returns approximate posterior's mean and standard deviation\n",
    "    \"\"\"\n",
    "    # Get time-grid between s0 and sK\n",
    "    \n",
    "    t = torch.linspace(0, (tT-t0).item(), vN+2)[1:]\n",
    "    mean = E_of_X(init_pts, t, parameters)\n",
    "    std = V_of_X(t, parameters, sde_sigma)\n",
    "    \n",
    "    return t, mean, std"
   ]
  },
  {
   "cell_type": "markdown",
   "id": "faeed2c1",
   "metadata": {},
   "source": [
    "**To be added: 1. parameter update history, 2. elbo, KL, and loglikelihood estimate, 3. randomizing initial state**"
   ]
  },
  {
   "cell_type": "code",
   "execution_count": 39,
   "id": "5b5dc1e3",
   "metadata": {},
   "outputs": [],
   "source": [
    "def Optimize(sde_sigma, obs, obs_time, obs_sigma, M, IT, vN, learning_rate, FIX_PAR, init_state = \"Random\", Optimizer=\"Adam\", beta_1 = 0.9, beta_2 = 0.999, smooth_term = 1e-8, FIX=True):\n",
    "    \"\"\"\n",
    "        vN: # of time points between in each obs interval on which mean of the approximate posterior process will be evaluated\n",
    "    \"\"\"\n",
    "    assert type(sde_sigma) == torch.Tensor, \"SDE sigma must be a torch.Tensor\"\n",
    "    assert type(obs) == torch.Tensor, \"obs must be a torch.Tensor\"\n",
    "\n",
    "    N_of_Pars = 4\n",
    "    \n",
    "    T = obs.shape[0]\n",
    "    \n",
    "    v_N = T * (vN+1) - vN\n",
    "    \n",
    "    VP_PTS = np.zeros(v_N)\n",
    "    VP_MEAN = np.zeros(v_N)\n",
    "    VP_STD = np.zeros(v_N)\n",
    "    \n",
    "    # Intialize the state at the first observation\n",
    "    init_mean = obs[0]\n",
    "    VP_MEAN[0] = init_mean\n",
    "    \n",
    "    past_grad = {'a':[], 'b':[], 'c':[], 'd':[]}\n",
    "    past_pars = {key:np.zeros((T-1, IT)) for key in past_grad.keys()}\n",
    "    \n",
    "    for t in tq.tqdm(range(1, T)):\n",
    "        s0 = obs_time[t-1]\n",
    "        sK = obs_time[t]\n",
    "        \n",
    "        if init_state == 'Random':\n",
    "            if t == 1:\n",
    "                init_dist = init_mean\n",
    "            else:\n",
    "                init_dist = Normal(loc=init_mean, scale= init_std)\n",
    "        else:\n",
    "            init_dist = init_mean\n",
    "            \n",
    "        # Initialize a set of parameters\n",
    "        current_pars = {key:torch.randn(1) for key in past_grad.keys()}\n",
    "\n",
    "        if Optimizer == \"Adam\":\n",
    "            prev_moments = {key:[0, 0] for key in current_pars.keys()}\n",
    "            prev_moments['t'] = 1\n",
    "            \n",
    "#    past_grad = {key:torch.tensor([0.01]) for key in current_pars.keys()}\n",
    "        \n",
    "        for i in range(IT):\n",
    "            if (i % (IT/2) == 0):\n",
    "                for key in current_pars.keys():\n",
    "                    print(str(i) +\"/ \" + key + \": \"+ str(current_pars[key].item()) )\n",
    "                    \n",
    "            # Take gradient descent algorithm based on AdaGrad\n",
    "            \n",
    "            # Obtain stochastic estimate of the gradients based on score function estimator\n",
    "            current_grad, elbo_estimate = score_estimate(s0, sK, current_pars, sde_sigma, obs[t], obs_sigma, init_dist, M)\n",
    "            print(str(i) +\"/ \" + str(elbo_estimate.item()))\n",
    "            \n",
    "            if elbo_estimate.item() < 20:\n",
    "                break\n",
    "            # Take one gradient step based on the AdaGrad\n",
    "            if Optimizer == \"Adam\":\n",
    "                current_pars = AdamGrad(current_pars, current_grad, prev_moments, beta_1, beta_2, learning_rate, smooth_term)\n",
    "                \n",
    "            else:\n",
    "                current_pars = Grad_Descent(current_pars, current_grad, learning_rate)\n",
    "            \n",
    "            if FIX == True:\n",
    "                for key in FIX_PAR.keys():\n",
    "                    current_pars[key] = FIX_PAR[key]\n",
    "            \n",
    "            for key in current_grad.keys():\n",
    "                past_grad[key].append(current_grad[key].item()) \n",
    "                past_pars[key][t-1, i] = current_pars[key].item()\n",
    "            \n",
    "        \n",
    "        # Obtain moments of approximating processes (note that their forms are tractable)\n",
    "        vp_pts, vp_mean, vp_std = get_PostMoment(s0, sK, current_pars, sde_sigma, init_mean, vN)\n",
    "        \n",
    "        VP_PTS[(vN+1)*(t-1)+1:(vN+1)*t+1] = obs_time[t-1] + vp_pts\n",
    "        VP_MEAN[(vN+1)*(t-1)+1:(vN+1)*t+1] = vp_mean\n",
    "        VP_STD[(vN+1)*(t-1)+1:(vN+1)*t+1] = vp_std\n",
    "        \n",
    "        init_mean = vp_mean[-1]\n",
    "        init_std = vp_std[-1]\n",
    "        \n",
    "        print(\"observation: \" + str(obs[t].item()) + \" variational mean: \" + str(init_mean.item()))\n",
    "    return VP_PTS, VP_MEAN, VP_STD, past_pars, past_grad"
   ]
  },
  {
   "cell_type": "markdown",
   "id": "ac9de054",
   "metadata": {},
   "source": [
    "Examine the convergence of parameters / model fit across different initializations/number_of_iterations"
   ]
  },
  {
   "cell_type": "code",
   "execution_count": 40,
   "id": "e135ab32",
   "metadata": {},
   "outputs": [],
   "source": [
    "# FIX_PAR = {'a':torch.tensor([1.])}"
   ]
  },
  {
   "cell_type": "code",
   "execution_count": 42,
   "id": "8f934414",
   "metadata": {
    "scrolled": true
   },
   "outputs": [
    {
     "name": "stderr",
     "output_type": "stream",
     "text": [
      "  0%|                                                     | 0/1 [00:00<?, ?it/s]\n",
      "  0%|                                                     | 0/8 [00:00<?, ?it/s]\u001b[A"
     ]
    },
    {
     "name": "stdout",
     "output_type": "stream",
     "text": [
      "0/ a: 0.7456879019737244\n",
      "0/ b: -0.07177884131669998\n",
      "0/ c: -0.8577670454978943\n",
      "0/ d: 0.32830387353897095\n",
      "0/ 1.2969968850651253e+28\n",
      "1/ 1.620351821548583e+20\n",
      "2/ 56.55443718107194\n",
      "3/ 66.31273603911102\n",
      "4/ 110.99652441410517\n",
      "5/ 312.5524371902562\n",
      "6/ 3699.9810041380715\n",
      "7/ 232386.19566490583\n",
      "8/ 18439115.138400506\n",
      "9/ 1326209336.4111543\n",
      "10/ 90425189794.80777\n",
      "11/ 6036457964949.701\n",
      "12/ 395717760427661.56\n",
      "13/ 2.5375997527504496e+16\n",
      "14/ 1.205282037931508e+18\n",
      "15/ 1.2270930974883843e+18\n",
      "16/ 1.2325461120693304e+18\n",
      "17/ 1.2316147125624527e+18\n",
      "18/ 1.2365007276461642e+18\n",
      "19/ 1.2391157900722563e+18\n",
      "20/ 1.2319832838367086e+18\n",
      "21/ 1.236074285785313e+18\n",
      "22/ 1.242470859531014e+18\n",
      "23/ 1.315554404748947e+18\n",
      "24/ 1.7115599901727255e+18\n",
      "25/ a: 813401.5625\n",
      "25/ b: 1722932.625\n",
      "25/ c: -838.5073852539062\n",
      "25/ d: -815.3842163085938\n",
      "25/ 2.1731277127587446e+18\n",
      "26/ 2.5272195890346527e+18\n",
      "27/ 2.5475911592866545e+18\n",
      "28/ 2.5416170178844027e+18\n",
      "29/ 2.564449913844213e+18\n",
      "30/ 2.560470025984151e+18\n",
      "31/ 2.561505231742879e+18\n",
      "32/ 2.547336757388573e+18\n",
      "33/ 2.550562278601212e+18\n",
      "34/ 2.5455965645363487e+18\n",
      "35/ 2.5662247772575186e+18\n",
      "36/ 2.537368145925991e+18\n",
      "37/ 2.558538656537869e+18\n",
      "38/ 2.544526990135294e+18\n",
      "39/ 2.549717148388857e+18\n",
      "40/ 2.5778444631336074e+18\n",
      "41/ 2.568723883553278e+18\n",
      "42/ 2.5580584050054257e+18\n",
      "43/ 2.5677682971246607e+18\n",
      "44/ 2.557598854258029e+18\n",
      "45/ 2.5564803316749727e+18\n",
      "46/ 2.5579166206839916e+18\n"
     ]
    },
    {
     "name": "stderr",
     "output_type": "stream",
     "text": [
      "\n",
      " 12%|█████▋                                       | 1/8 [00:03<00:26,  3.80s/it]\u001b[A"
     ]
    },
    {
     "name": "stdout",
     "output_type": "stream",
     "text": [
      "47/ 2.546796020485404e+18\n",
      "48/ 2.553689054861278e+18\n",
      "49/ 2.557580672999825e+18\n",
      "observation: 0.7418740051633642 variational mean: -1078.9717084540132\n",
      "0/ a: -1.7633776664733887\n",
      "0/ b: 0.11293957382440567\n",
      "0/ c: -0.02031382918357849\n",
      "0/ d: 0.5800036191940308\n",
      "0/ 2.3686224360347216e+40\n",
      "1/ 1.211660806624237e+40\n",
      "2/ 1.735522261272918e+37\n",
      "3/ 4.5026743994124444e+36\n",
      "4/ 9.105302723639629e+30\n",
      "5/ 2.048264725193185e+17\n",
      "6/ 3.47739746783149e+17\n",
      "7/ 5.097098931541488e+17\n",
      "8/ 6.58723674229917e+17\n",
      "9/ 7.588947946514875e+17\n",
      "10/ 8.319423627741805e+17\n",
      "11/ 8.614127755297135e+17\n",
      "12/ 8.760183242174833e+17\n",
      "13/ 8.808577995993832e+17\n",
      "14/ 8.725428661250275e+17\n",
      "15/ 8.423895785077683e+17\n",
      "16/ 2.0536873197198915e+18\n",
      "17/ 1.4788072739264368e+20\n",
      "18/ 1.2763820225307045e+22\n",
      "19/ 9.407849497661905e+23\n",
      "20/ 5.254546997263512e+24\n",
      "21/ 5.432659747983304e+24\n",
      "22/ 5.487352970328098e+24\n",
      "23/ 5.43381128040453e+24\n",
      "24/ 5.508236212638451e+24\n",
      "25/ a: -670171.125\n",
      "25/ b: -138737.03125\n",
      "25/ c: 30286.099609375\n",
      "25/ d: 3852.818359375\n",
      "25/ 5.485949871039768e+24\n",
      "26/ 5.506260016928054e+24\n",
      "27/ 5.506506247756834e+24\n",
      "28/ 5.471479739707724e+24\n",
      "29/ 5.472569865869985e+24\n",
      "30/ 5.552616807778644e+24\n",
      "31/ 5.538094096287015e+24\n",
      "32/ 5.524961725201576e+24\n"
     ]
    },
    {
     "name": "stderr",
     "output_type": "stream",
     "text": [
      " 12%|█████▋                                       | 1/8 [00:06<00:44,  6.41s/it]\n",
      "  0%|                                                     | 0/1 [00:06<?, ?it/s]"
     ]
    },
    {
     "name": "stdout",
     "output_type": "stream",
     "text": [
      "33/ 5.555868944584408e+24\n"
     ]
    },
    {
     "name": "stderr",
     "output_type": "stream",
     "text": [
      "\n"
     ]
    },
    {
     "ename": "KeyboardInterrupt",
     "evalue": "",
     "output_type": "error",
     "traceback": [
      "\u001b[0;31m---------------------------------------------------------------------------\u001b[0m",
      "\u001b[0;31mKeyboardInterrupt\u001b[0m                         Traceback (most recent call last)",
      "\u001b[0;32m/var/folders/2c/_gzbr1y51ws47zfknhxm868h0000gr/T/ipykernel_40854/698287919.py\u001b[0m in \u001b[0;36m<module>\u001b[0;34m\u001b[0m\n\u001b[1;32m      1\u001b[0m \u001b[0moutput\u001b[0m \u001b[0;34m=\u001b[0m \u001b[0;34m[\u001b[0m\u001b[0;34m]\u001b[0m\u001b[0;34m\u001b[0m\u001b[0;34m\u001b[0m\u001b[0m\n\u001b[1;32m      2\u001b[0m \u001b[0;32mfor\u001b[0m \u001b[0mit\u001b[0m \u001b[0;32min\u001b[0m \u001b[0mtq\u001b[0m\u001b[0;34m.\u001b[0m\u001b[0mtqdm\u001b[0m\u001b[0;34m(\u001b[0m\u001b[0;34m[\u001b[0m\u001b[0;36m50\u001b[0m\u001b[0;34m]\u001b[0m\u001b[0;34m)\u001b[0m\u001b[0;34m:\u001b[0m\u001b[0;34m\u001b[0m\u001b[0;34m\u001b[0m\u001b[0m\n\u001b[0;32m----> 3\u001b[0;31m     vp__pts, vp__mean, vp__std, vp__pars, vp__grads = Optimize(torch.tensor([sde_sigma]),\\\n\u001b[0m\u001b[1;32m      4\u001b[0m                                                       \u001b[0mobs\u001b[0m\u001b[0;34m,\u001b[0m \u001b[0mobs_time\u001b[0m\u001b[0;34m,\u001b[0m \u001b[0mobs_sigma\u001b[0m\u001b[0;34m,\u001b[0m\u001b[0;31m \u001b[0m\u001b[0;31m\\\u001b[0m\u001b[0;34m\u001b[0m\u001b[0;34m\u001b[0m\u001b[0m\n\u001b[1;32m      5\u001b[0m                                                       \u001b[0minit_state\u001b[0m\u001b[0;34m=\u001b[0m\u001b[0;34m\"Random\"\u001b[0m\u001b[0;34m,\u001b[0m \u001b[0mM\u001b[0m\u001b[0;34m=\u001b[0m\u001b[0;36m1500\u001b[0m\u001b[0;34m,\u001b[0m\u001b[0;31m \u001b[0m\u001b[0;31m\\\u001b[0m\u001b[0;34m\u001b[0m\u001b[0;34m\u001b[0m\u001b[0m\n",
      "\u001b[0;32m/var/folders/2c/_gzbr1y51ws47zfknhxm868h0000gr/T/ipykernel_40854/2342028379.py\u001b[0m in \u001b[0;36mOptimize\u001b[0;34m(sde_sigma, obs, obs_time, obs_sigma, M, IT, vN, learning_rate, FIX_PAR, init_state, Optimizer, beta_1, beta_2, smooth_term, FIX)\u001b[0m\n\u001b[1;32m     52\u001b[0m \u001b[0;34m\u001b[0m\u001b[0m\n\u001b[1;32m     53\u001b[0m             \u001b[0;31m# Obtain stochastic estimate of the gradients based on score function estimator\u001b[0m\u001b[0;34m\u001b[0m\u001b[0;34m\u001b[0m\u001b[0m\n\u001b[0;32m---> 54\u001b[0;31m             \u001b[0mcurrent_grad\u001b[0m\u001b[0;34m,\u001b[0m \u001b[0melbo_estimate\u001b[0m \u001b[0;34m=\u001b[0m \u001b[0mscore_estimate\u001b[0m\u001b[0;34m(\u001b[0m\u001b[0ms0\u001b[0m\u001b[0;34m,\u001b[0m \u001b[0msK\u001b[0m\u001b[0;34m,\u001b[0m \u001b[0mcurrent_pars\u001b[0m\u001b[0;34m,\u001b[0m \u001b[0msde_sigma\u001b[0m\u001b[0;34m,\u001b[0m \u001b[0mobs\u001b[0m\u001b[0;34m[\u001b[0m\u001b[0mt\u001b[0m\u001b[0;34m]\u001b[0m\u001b[0;34m,\u001b[0m \u001b[0mobs_sigma\u001b[0m\u001b[0;34m,\u001b[0m \u001b[0minit_dist\u001b[0m\u001b[0;34m,\u001b[0m \u001b[0mM\u001b[0m\u001b[0;34m)\u001b[0m\u001b[0;34m\u001b[0m\u001b[0;34m\u001b[0m\u001b[0m\n\u001b[0m\u001b[1;32m     55\u001b[0m             \u001b[0mprint\u001b[0m\u001b[0;34m(\u001b[0m\u001b[0mstr\u001b[0m\u001b[0;34m(\u001b[0m\u001b[0mi\u001b[0m\u001b[0;34m)\u001b[0m \u001b[0;34m+\u001b[0m\u001b[0;34m\"/ \"\u001b[0m \u001b[0;34m+\u001b[0m \u001b[0mstr\u001b[0m\u001b[0;34m(\u001b[0m\u001b[0melbo_estimate\u001b[0m\u001b[0;34m.\u001b[0m\u001b[0mitem\u001b[0m\u001b[0;34m(\u001b[0m\u001b[0;34m)\u001b[0m\u001b[0;34m)\u001b[0m\u001b[0;34m)\u001b[0m\u001b[0;34m\u001b[0m\u001b[0;34m\u001b[0m\u001b[0m\n\u001b[1;32m     56\u001b[0m \u001b[0;34m\u001b[0m\u001b[0m\n",
      "\u001b[0;32m/var/folders/2c/_gzbr1y51ws47zfknhxm868h0000gr/T/ipykernel_40854/1090854787.py\u001b[0m in \u001b[0;36mscore_estimate\u001b[0;34m(s0, sK, current_pars, sigma, obs, obs_sigma, init_dist, M)\u001b[0m\n\u001b[1;32m     20\u001b[0m     \u001b[0mpars\u001b[0m \u001b[0;34m=\u001b[0m \u001b[0;34m{\u001b[0m\u001b[0mkey\u001b[0m\u001b[0;34m:\u001b[0m\u001b[0mval\u001b[0m\u001b[0;34m.\u001b[0m\u001b[0mrepeat\u001b[0m\u001b[0;34m(\u001b[0m\u001b[0mM\u001b[0m\u001b[0;34m,\u001b[0m \u001b[0;36m1\u001b[0m\u001b[0;34m)\u001b[0m \u001b[0;32mfor\u001b[0m \u001b[0mkey\u001b[0m\u001b[0;34m,\u001b[0m\u001b[0mval\u001b[0m \u001b[0;32min\u001b[0m \u001b[0mcurrent_pars\u001b[0m\u001b[0;34m.\u001b[0m\u001b[0mitems\u001b[0m\u001b[0;34m(\u001b[0m\u001b[0;34m)\u001b[0m\u001b[0;34m}\u001b[0m\u001b[0;34m\u001b[0m\u001b[0;34m\u001b[0m\u001b[0m\n\u001b[1;32m     21\u001b[0m \u001b[0;34m\u001b[0m\u001b[0m\n\u001b[0;32m---> 22\u001b[0;31m     \u001b[0mvi\u001b[0m \u001b[0;34m=\u001b[0m \u001b[0mtOU\u001b[0m\u001b[0;34m(\u001b[0m\u001b[0mt0\u001b[0m\u001b[0;34m=\u001b[0m\u001b[0ms0\u001b[0m\u001b[0;34m,\u001b[0m \u001b[0mt1\u001b[0m\u001b[0;34m=\u001b[0m\u001b[0msK\u001b[0m\u001b[0;34m,\u001b[0m \u001b[0mparameters\u001b[0m \u001b[0;34m=\u001b[0m \u001b[0mpars\u001b[0m\u001b[0;34m,\u001b[0m \u001b[0msde_sigma\u001b[0m\u001b[0;34m=\u001b[0m\u001b[0mSIGMA\u001b[0m\u001b[0;34m,\u001b[0m \u001b[0minit_dist\u001b[0m \u001b[0;34m=\u001b[0m \u001b[0minit_dist\u001b[0m\u001b[0;34m,\u001b[0m \u001b[0mtimegrid\u001b[0m \u001b[0;34m=\u001b[0m \u001b[0;34m'False'\u001b[0m\u001b[0;34m,\u001b[0m \u001b[0mdN\u001b[0m\u001b[0;34m=\u001b[0m\u001b[0mK\u001b[0m\u001b[0;34m)\u001b[0m\u001b[0;34m\u001b[0m\u001b[0;34m\u001b[0m\u001b[0m\n\u001b[0m\u001b[1;32m     23\u001b[0m \u001b[0;34m\u001b[0m\u001b[0m\n\u001b[1;32m     24\u001b[0m     \u001b[0;31m# Compute the ELBO\u001b[0m\u001b[0;34m\u001b[0m\u001b[0;34m\u001b[0m\u001b[0m\n",
      "\u001b[0;32m~/VI_SDE/experiment/../vp_class/class_tou_v6.py\u001b[0m in \u001b[0;36m__init__\u001b[0;34m(self, t0, t1, parameters, sde_sigma, init_dist, timegrid, dN)\u001b[0m\n\u001b[1;32m     17\u001b[0m             \u001b[0malpha\u001b[0m\u001b[0;34m,\u001b[0m \u001b[0mbeta\u001b[0m\u001b[0;34m,\u001b[0m \u001b[0mm0\u001b[0m\u001b[0;34m,\u001b[0m \u001b[0mr\u001b[0m\u001b[0;34m,\u001b[0m \u001b[0msigma\u001b[0m \u001b[0;34m=\u001b[0m \u001b[0mtorch\u001b[0m\u001b[0;34m.\u001b[0m\u001b[0mtensor\u001b[0m\u001b[0;34m.\u001b[0m\u001b[0mshape\u001b[0m \u001b[0;34m(\u001b[0m\u001b[0mD\u001b[0m\u001b[0;34m,\u001b[0m \u001b[0;36m1\u001b[0m\u001b[0;34m)\u001b[0m\u001b[0;34m\u001b[0m\u001b[0;34m\u001b[0m\u001b[0m\n\u001b[1;32m     18\u001b[0m         \"\"\"\n\u001b[0;32m---> 19\u001b[0;31m         \u001b[0;32massert\u001b[0m \u001b[0mall\u001b[0m\u001b[0;34m(\u001b[0m\u001b[0msde_sigma\u001b[0m \u001b[0;34m>\u001b[0m \u001b[0;36m0\u001b[0m\u001b[0;34m)\u001b[0m\u001b[0;34m,\u001b[0m \u001b[0;34m\"variance must be positive\"\u001b[0m\u001b[0;34m\u001b[0m\u001b[0;34m\u001b[0m\u001b[0m\n\u001b[0m\u001b[1;32m     20\u001b[0m \u001b[0;34m\u001b[0m\u001b[0m\n\u001b[1;32m     21\u001b[0m         \u001b[0mself\u001b[0m\u001b[0;34m.\u001b[0m\u001b[0mt0\u001b[0m \u001b[0;34m=\u001b[0m \u001b[0mt0\u001b[0m\u001b[0;34m\u001b[0m\u001b[0;34m\u001b[0m\u001b[0m\n",
      "\u001b[0;32m/usr/local/anaconda3/lib/python3.9/site-packages/torch/_tensor.py\u001b[0m in \u001b[0;36m__iter__\u001b[0;34m(self)\u001b[0m\n\u001b[1;32m    702\u001b[0m                           \u001b[0;34m'iterations executed (and might lead to errors or silently give '\u001b[0m\u001b[0;34m\u001b[0m\u001b[0;34m\u001b[0m\u001b[0m\n\u001b[1;32m    703\u001b[0m                           'incorrect results).', category=torch.jit.TracerWarning, stacklevel=2)\n\u001b[0;32m--> 704\u001b[0;31m         \u001b[0;32mreturn\u001b[0m \u001b[0miter\u001b[0m\u001b[0;34m(\u001b[0m\u001b[0mself\u001b[0m\u001b[0;34m.\u001b[0m\u001b[0munbind\u001b[0m\u001b[0;34m(\u001b[0m\u001b[0;36m0\u001b[0m\u001b[0;34m)\u001b[0m\u001b[0;34m)\u001b[0m\u001b[0;34m\u001b[0m\u001b[0;34m\u001b[0m\u001b[0m\n\u001b[0m\u001b[1;32m    705\u001b[0m \u001b[0;34m\u001b[0m\u001b[0m\n\u001b[1;32m    706\u001b[0m     \u001b[0;32mdef\u001b[0m \u001b[0m__hash__\u001b[0m\u001b[0;34m(\u001b[0m\u001b[0mself\u001b[0m\u001b[0;34m)\u001b[0m\u001b[0;34m:\u001b[0m\u001b[0;34m\u001b[0m\u001b[0;34m\u001b[0m\u001b[0m\n",
      "\u001b[0;31mKeyboardInterrupt\u001b[0m: "
     ]
    }
   ],
   "source": [
    "output = []\n",
    "for it in tq.tqdm([50]):\n",
    "    vp__pts, vp__mean, vp__std, vp__pars, vp__grads = Optimize(torch.tensor([sde_sigma]),\\\n",
    "                                                      obs, obs_time, obs_sigma, \\\n",
    "                                                      init_state=\"Random\", M=1500, \\\n",
    "                                                      FIX_PAR = FIX_PAR,\n",
    "                                                               FIX=False, \\\n",
    "                                                      IT=it, vN=150, learning_rate=0.05, \\\n",
    "                                                      Optimizer=\"Adam\", beta_1 = 0.2, beta_2 = 0.01)\n",
    "    output.append([vp__pts, vp__mean, vp__std, vp__pars, vp__grads])"
   ]
  },
  {
   "cell_type": "code",
   "execution_count": null,
   "id": "37475611",
   "metadata": {
    "scrolled": false
   },
   "outputs": [],
   "source": [
    "it_names = ['30']\n",
    "par_names = ['a',  'c']\n",
    "for item, name in zip(output, it_names):\n",
    "    vp__pts, vp__mean, vp__std, vp__pars = item[0], item[1], item[2], item[3]\n",
    "    P, T, IT = len(par_names), obs_time.shape[0], 30\n",
    "\n",
    "    for t in range(T-1):\n",
    "        fig, ax = plt.subplots(nrows=1, ncols=P, figsize=(20, 5))\n",
    "        for j, ax in enumerate(ax.ravel()):\n",
    "            ax.plot(vp__pars[par_names[j]][t, :])\n",
    "            ax.set_title(par_names[j] + \" at time interval: %d\" % t)\n",
    "            ax.set_xlabel(\"Iterations\")\n",
    "        title = \"Adam_\" + \"time_\" + str(t) + \"_iteration_\" + name\n",
    "#         plt.savefig(\"figures/\" + title)\n",
    "        plt.show()"
   ]
  },
  {
   "cell_type": "code",
   "execution_count": null,
   "id": "f9763aca",
   "metadata": {},
   "outputs": [],
   "source": [
    "it_names = ['10', '30', '50']\n",
    "for item, name in zip(output, it_names):\n",
    "    vp__pts, vp__mean, vp__std, vp__pars = item[0], item[1], item[2], item[3]\n",
    "    \n",
    "    plt.figure(figsize=(10,6))\n",
    "    plt.plot(vp__pts.T, vp__mean.T, color='black')\n",
    "    plt.fill_between(vp__pts, vp__mean + vp__std, vp__mean - vp__std, alpha=0.3, color='grey')\n",
    "    plt.plot(true_sde_pts, true_sde_trj, alpha=0.2)\n",
    "    plt.plot(obs_time, obs, 'rx')\n",
    "    title = \"approximating processes / iteration: \" + name\n",
    "    plt.title(title)\n",
    "    file_name = \"Adam_\" + \"approx_process_\" + \"iteration_\" + name\n",
    "#     plt.savefig(\"figures/\" + file_name)\n",
    "    plt.show()"
   ]
  },
  {
   "cell_type": "code",
   "execution_count": null,
   "id": "0115064b",
   "metadata": {},
   "outputs": [],
   "source": [
    "it_names = ['10', '30', '50']\n",
    "for item, name in zip(output, it_names):\n",
    "    vp_grads = item[4]\n",
    "    plt.figure(figsize=(10,5))\n",
    "\n",
    "    for key in vp_grads.keys():\n",
    "        plt.plot(vp_grads[key], label=key, alpha=0.8)\n",
    "        plt.axhline(np.mean(vp_grads[key]), linestyle='dashed', label=str(np.mean(vp_grads[key]).round(2)))\n",
    "        plt.legend()\n",
    "        \n",
    "    plt.xlabel(\"Iterations\")\n",
    "    plt.ylabel(\"Gradient\")\n",
    "    file_name = \"Adam_\" + \"gradient_update_history\" + \"iteration_\" + name\n",
    "    plt.title(file_name)\n",
    "    plt.savefig(\"figures/\" + file_name)\n",
    "    plt.show()"
   ]
  }
 ],
 "metadata": {
  "kernelspec": {
   "display_name": "Python 3 (ipykernel)",
   "language": "python",
   "name": "python3"
  },
  "language_info": {
   "codemirror_mode": {
    "name": "ipython",
    "version": 3
   },
   "file_extension": ".py",
   "mimetype": "text/x-python",
   "name": "python",
   "nbconvert_exporter": "python",
   "pygments_lexer": "ipython3",
   "version": "3.9.7"
  }
 },
 "nbformat": 4,
 "nbformat_minor": 5
}
