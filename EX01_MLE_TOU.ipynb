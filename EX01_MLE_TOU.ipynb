{
 "cells": [
  {
   "cell_type": "code",
   "execution_count": 1,
   "id": "40b181e2",
   "metadata": {},
   "outputs": [],
   "source": [
    "import torch\n",
    "from torch.autograd import Variable\n",
    "import numpy as np\n",
    "import scipy.stats as ss\n",
    "from torch.distributions import Normal\n",
    "import matplotlib.pylab as plt"
   ]
  },
  {
   "cell_type": "code",
   "execution_count": 2,
   "id": "2468c479",
   "metadata": {},
   "outputs": [],
   "source": [
    "torch.set_default_dtype(torch.float64)"
   ]
  },
  {
   "cell_type": "code",
   "execution_count": 3,
   "id": "14ae8c1d",
   "metadata": {},
   "outputs": [],
   "source": [
    "class tOU:\n",
    "    def __init__(self, t0, t1, z0, alpha, beta, m0, r, sigma, timegrid=False, dN=500):\n",
    "        self.t0 = t0\n",
    "        self.t1 = t1\n",
    "        self.z0 = z0\n",
    "        self.alpha = alpha\n",
    "        \"\"\"\n",
    "            check whether every element in sigma is positive\n",
    "        \"\"\"  \n",
    "        self.beta = beta\n",
    "        assert all(sigma > 0), \"variance must be positive\"\n",
    "        self.sigma = sigma\n",
    "        assert alpha.shape[0] == beta.shape[0], \"parameter dimension must be equal\"\n",
    "        \n",
    "        self.m0 = m0\n",
    "        assert all(r > 0), \"r must be positive\"\n",
    "        self.r = r\n",
    "        \n",
    "        D = alpha.shape[0]\n",
    "        if timegrid == True:\n",
    "            self.pts = torch.linspace(t0, t1, dN).repeat(D, 1)\n",
    "        else:\n",
    "            self.pts = torch.sort(torch.cat([(t1 - t0) * torch.rand(D, dN-2) + t0, torch.tensor([self.t0, self.t1]).repeat(D,1)], axis=1), axis=1)[0]\n",
    "        self.trj, self.dt = self.path()\n",
    "    \n",
    "    def path(self):\n",
    "        \n",
    "        # Get parameters\n",
    "        alpha = self.alpha\n",
    "        beta = self.beta\n",
    "        sigma = self.sigma\n",
    "        r = self.r\n",
    "        m0 = self.m0\n",
    "        z0 = self.z0\n",
    "        t = self.pts\n",
    "    \n",
    "        def mean(x, dt, t0, alpha, beta, m0, r):\n",
    "            \"\"\"\n",
    "                t0: we always start our process from t = 0\n",
    "            \"\"\"\n",
    "\n",
    "            b_t = alpha * ( (t0[:,0].reshape(-1, 1) + 1) ** beta  - 1) + m0 \\\n",
    "                     - (alpha  * ((t0[:, 1].reshape(-1, 1) + 1) ** beta - 1) + m0 ) * torch.exp(r * dt.reshape(-1, 1))\n",
    "\n",
    "            return (x.reshape(-1, 1) - b_t) * torch.exp(-r * dt.reshape(-1, 1))\n",
    "\n",
    "        def std(t, r, sigma):\n",
    "            return torch.sqrt(variance(t, r, sigma))\n",
    "\n",
    "        def variance(t, r, sigma):\n",
    "            dt = torch.diff(t)\n",
    "            return sigma * sigma * (1 - torch.exp(-2 * r * dt)) / (2*r)\n",
    "\n",
    "        alpha, beta, m0, r, sigma = params\n",
    "\n",
    "        assert t.shape[1] > 1\n",
    "\n",
    "        normal = Normal(loc=0., scale=1.)\n",
    "        x = normal.sample(t.size())\n",
    "\n",
    "        if torch.is_tensor(z0):\n",
    "            x[:, 0] = z0.flatten()\n",
    "        else:\n",
    "            x[:, 0] = z0\n",
    "\n",
    "        t0 = t - t[:, 0].reshape(-1, 1)\n",
    "\n",
    "        dt = torch.diff(t)\n",
    "\n",
    "        scale = std(t, r.reshape(-1,1), sigma.reshape(-1, 1))\n",
    "\n",
    "        x[:, 1:] = x[:, 1:] * scale\n",
    "\n",
    "        for i in range(1, x.shape[1]):\n",
    "            x[:, i] += mean(x[:, i-1], dt[:, i-1], t0[:, i-1:i+1], alpha, beta, m0, r).flatten()\n",
    "\n",
    "\n",
    "        return x, dt\n",
    "    "
   ]
  },
  {
   "cell_type": "code",
   "execution_count": 4,
   "id": "b37ad609",
   "metadata": {},
   "outputs": [],
   "source": [
    "def tou_gradient(t, x, params):\n",
    "    \n",
    "    \"\"\"Calculates log likelihood of a path\"\"\"\n",
    "    \n",
    "    def mean(x, t, alpha, beta, m0, r):\n",
    "        \"\"\"\n",
    "            t0: we always start our process from t = 0\n",
    "        \"\"\"\n",
    "        t0 = t - t[:, 0].reshape(-1, 1)\n",
    "        dt = torch.diff(t)\n",
    "        m_t = alpha * ( (t0[:, :-1] + 1) ** beta  - 1) + m0 \\\n",
    "                - (alpha * ((t0[:, 1:] + 1) ** beta - 1 ) + m0) * torch.exp(r * dt)\n",
    "\n",
    "        return (x - m_t) * torch.exp(-r * dt)\n",
    "    \n",
    "    def std(t, r, sigma):\n",
    "        return torch.sqrt(variance(t, r, sigma))\n",
    "\n",
    "    def variance(t, r, sigma):\n",
    "        dt = torch.diff(t)\n",
    "        return sigma * sigma * (1 - torch.exp(-2 * r * dt)) / (2*r)\n",
    "\n",
    "    \n",
    "    params_ = Variable(params, requires_grad=True)\n",
    "    alpha, beta, m0, r, sigma = params_\n",
    "    \n",
    "    mu = mean(x[:, :-1], t, alpha, beta, m0, r)\n",
    "    var = std(t, r, sigma)\n",
    "    \n",
    "    \n",
    "    LL = torch.sum(Normal(loc=mu, scale=var).log_prob(x[:, 1:]), axis=1)\n",
    "    LL.backward(torch.tensor([1.]).repeat(x.shape[0]))\n",
    "\n",
    "\n",
    "    return {'alpha':params_.grad[0].clone().detach(), 'beta':params_.grad[1].clone().detach(), \n",
    "            'm0':params_.grad[2].clone().detach(), 'r':params_.grad[3].clone().detach(), \n",
    "            'LL':LL.clone().detach().data}\n"
   ]
  },
  {
   "cell_type": "code",
   "execution_count": 82,
   "id": "e76cd0d1",
   "metadata": {},
   "outputs": [],
   "source": [
    "alpha = torch.tensor([0.633, -0.633])\n",
    "beta = torch.tensor([3.59, 3.59])\n",
    "m0 = torch.tensor([1.79, 1.79])\n",
    "r = torch.tensor([1.124, 1.124])\n",
    "sigma = torch.tensor([1., 1.])"
   ]
  },
  {
   "cell_type": "code",
   "execution_count": 83,
   "id": "74d12273",
   "metadata": {},
   "outputs": [],
   "source": [
    "params = torch.stack([alpha, beta, m0, r, sigma]).view(-1, 2, 1)"
   ]
  },
  {
   "cell_type": "code",
   "execution_count": 84,
   "id": "03b66e19",
   "metadata": {},
   "outputs": [],
   "source": [
    "alpha, beta, sigma, m0, r = params"
   ]
  },
  {
   "cell_type": "code",
   "execution_count": 85,
   "id": "06cbc0c8",
   "metadata": {},
   "outputs": [],
   "source": [
    "sde = tOU(t0=0., t1=2., z0=0., alpha=alpha, beta=beta, sigma = sigma, m0 = m0, r=r, timegrid=False, dN=1000)"
   ]
  },
  {
   "cell_type": "code",
   "execution_count": 86,
   "id": "9fa08e2f",
   "metadata": {},
   "outputs": [],
   "source": [
    "def m_of_t(t, params):\n",
    "    t0 = t - t[:, 0].reshape(-1, 1)\n",
    "    alpha, beta, r, m0, sigma = params\n",
    "    \n",
    "    return alpha * ( (t0 + 1) ** beta - 1 ) + m0"
   ]
  },
  {
   "cell_type": "code",
   "execution_count": 87,
   "id": "9c44ff7b",
   "metadata": {},
   "outputs": [
    {
     "data": {
      "image/png": "[encoded data removed]",
      "text/plain": [
       "<Figure size 432x288 with 1 Axes>"
      ]
     },
     "metadata": {
      "needs_background": "light"
     },
     "output_type": "display_data"
    }
   ],
   "source": [
    "plt.title(\"Time-inhomogeneous OU process\")\n",
    "plt.plot(sde.pts.T, sde.trj.T, 'rx', alpha=0.2,  label='sample path')\n",
    "plt.plot(sde.pts.T, m_of_t(sde.pts, params).T, color='black', label='(thoeretical) mean' )\n",
    "plt.legend()\n",
    "plt.xlabel(\"Time\")\n",
    "plt.ylabel(\"x\")\n",
    "plt.show()"
   ]
  },
  {
   "cell_type": "code",
   "execution_count": 171,
   "id": "9577e59c",
   "metadata": {},
   "outputs": [
    {
     "name": "stdout",
     "output_type": "stream",
     "text": [
      "alpha =  [[ 0.0013079 ]\n",
      " [-0.00125381]] beta =  [[1.]\n",
      " [1.]] r =  [[0.99059215]\n",
      " [0.99109282]] m0 =  [[1.124]\n",
      " [1.124]] LL =  tensor([811.7473, 911.7627])\n",
      "alpha =  [[ 1.48236084]\n",
      " [-0.88231523]] beta =  [[2.81034135]\n",
      " [3.26452968]] r =  [[ 5.78900145]\n",
      " [14.44650129]] m0 =  [[1.124]\n",
      " [1.124]] LL =  tensor([1880.6462, 1901.2531])\n",
      "alpha =  [[ 1.19018144]\n",
      " [-0.86870997]] beta =  [[3.02173831]\n",
      " [3.19836291]] r =  [[ 5.74220225]\n",
      " [14.23656215]] m0 =  [[1.124]\n",
      " [1.124]] LL =  tensor([1913.0084, 1684.0922])\n",
      "alpha =  [[ 1.01600714]\n",
      " [-0.84635224]] beta =  [[3.17330473]\n",
      " [3.22492474]] r =  [[ 5.72448693]\n",
      " [14.03463289]] m0 =  [[1.124]\n",
      " [1.124]] LL =  tensor([1925.4637, 1711.7205])\n"
     ]
    }
   ],
   "source": [
    "alpha_ = torch.zeros((2, 1))\n",
    "beta_ = torch.ones((2, 1)) \n",
    "m0_ = torch.randn((2, 1))\n",
    "r_ = torch.ones((2, 1))\n",
    "sigma_ = torch.ones((2, 1))\n",
    "\n",
    "\n",
    "learning_rate = 0.00001\n",
    "\n",
    "for i in range(1501):\n",
    "    params = torch.stack([alpha_, beta_, m0_, r_, sigma_]).view(-1, 2, 1)\n",
    "    \n",
    "    lr = learning_rate\n",
    "    update = tou_gradient(sde.pts, sde.trj, params)\n",
    "    \n",
    "    alpha_ += learning_rate * update['alpha']\n",
    "    m0_ += learning_rate * update['m0']\n",
    "    \n",
    "    beta_ += learning_rate * update['beta']\n",
    "    r__  = r_ + learning_rate * update['r']\n",
    "    \n",
    "    while any(r__ < 0):\n",
    "        for d in range(r_.shape[0]):\n",
    "            if r__[d] < 0:\n",
    "                while r__[d] < 0:\n",
    "                    r__[d] = r_[d] + lr * update['r'][d]\n",
    "                    lr *= 0.5\n",
    "#             if beta__[d] < 0:\n",
    "#                 while beta__[d] < 0:\n",
    "#                     beta__[d] = beta_[d] + lr * update['beta'][d]\n",
    "#                     lr *= 0.5\n",
    "    r_ = r__\n",
    "#     beta_ = beta__\n",
    "    \n",
    "    if i % 500 == 0:\n",
    "        print('alpha = ', alpha_.data.numpy(), \"beta = \", beta_.data.numpy(),\n",
    "              \"r = \", r_.data.numpy(), \"m0 = \", m0.data.numpy(), 'LL = ', update['LL'])"
   ]
  },
  {
   "cell_type": "code",
   "execution_count": 172,
   "id": "3cd7f956",
   "metadata": {},
   "outputs": [
    {
     "data": {
      "text/plain": [
       "(tensor([[ 1.0160],\n",
       "         [-0.8464]]),\n",
       " tensor([[3.1733],\n",
       "         [3.2249]]),\n",
       " tensor([[0.5537],\n",
       "         [1.4976]]),\n",
       " tensor([[ 5.7245],\n",
       "         [14.0346]]))"
      ]
     },
     "execution_count": 172,
     "metadata": {},
     "output_type": "execute_result"
    }
   ],
   "source": [
    "alpha_, beta_, m0_, r_"
   ]
  },
  {
   "cell_type": "code",
   "execution_count": 173,
   "id": "f0e7135c",
   "metadata": {},
   "outputs": [
    {
     "data": {
      "image/png": "[encoded data removed]",
      "text/plain": [
       "<Figure size 504x432 with 1 Axes>"
      ]
     },
     "metadata": {
      "needs_background": "light"
     },
     "output_type": "display_data"
    }
   ],
   "source": [
    "plt.figure(figsize=(7,6))\n",
    "plt.title(\"Fitted Process: MLE\")\n",
    "plt.plot(sde.pts.T, sde.trj.T, 'x', label='observations')\n",
    "for i in range(50):\n",
    "    vi_ = tOU(0., 2., 0., *torch.stack([alpha_, beta_, m0_, r_, sigma_]).view(-1, 2, 1), dN=100)\n",
    "    plt.plot(vi_.pts.T, vi_.trj.T, alpha=0.15, color='grey')\n",
    "    if i == 49:\n",
    "        plt.plot(vi_.pts.T, vi_.trj.T, alpha=0.15, color='grey', label='MLE')\n",
    "plt.xlabel(\"time\")\n",
    "plt.ylabel(\"x\")\n",
    "plt.legend()\n",
    "plt.show()"
   ]
  },
  {
   "cell_type": "code",
   "execution_count": null,
   "id": "71d2ef91",
   "metadata": {},
   "outputs": [],
   "source": [
    "def path(t, x0, params):\n",
    "    \n",
    "    def mean(x, dt, t0, alpha, beta, m0, r):\n",
    "        \"\"\"\n",
    "            t0: we always start our process from t = 0\n",
    "        \"\"\"\n",
    "\n",
    "        b_t = alpha * ( (t0[:,0].reshape(-1, 1) + 1) ** beta  - 1) + m0 \\\n",
    "                 - (alpha  * ((t0[:, 1].reshape(-1, 1) + 1) ** beta - 1) + m0 ) * torch.exp(r * dt.reshape(-1, 1))\n",
    "\n",
    "        return (x.reshape(-1, 1) - b_t) * torch.exp(-r * dt.reshape(-1, 1))\n",
    "    \n",
    "    def std(t, r, sigma):\n",
    "        return torch.sqrt(variance(t, r, sigma))\n",
    "\n",
    "    def variance(t, r, sigma):\n",
    "        dt = torch.diff(t)\n",
    "        return sigma * sigma * (1 - torch.exp(-2 * r * dt)) / (2*r)\n",
    "    \n",
    "    alpha, beta, m0, r, sigma = params\n",
    "    \n",
    "    assert t.shape[1] > 1\n",
    "    \n",
    "    normal = Normal(loc=0., scale=1.)\n",
    "    x = normal.sample(t.size())\n",
    "   \n",
    "    if torch.is_tensor(x0):\n",
    "        x[:, 0] = x0.flatten()\n",
    "    else:\n",
    "        x[:, 0] = x0\n",
    "    \n",
    "    t0 = t - t[:, 0].reshape(-1, 1)\n",
    "\n",
    "    dt = torch.diff(t)\n",
    "    \n",
    "    scale = std(t, r.reshape(-1,1), sigma.reshape(-1, 1))\n",
    "    \n",
    "    x[:, 1:] = x[:, 1:] * scale\n",
    "\n",
    "    for i in range(1, x.shape[1]):\n",
    "        x[:, i] += mean(x[:, i-1], dt[:, i-1], t0[:, i-1:i+1], alpha, beta, m0, r).flatten()\n",
    "    \n",
    "    \n",
    "    return x, dt\n",
    "    "
   ]
  }
 ],
 "metadata": {
  "kernelspec": {
   "display_name": "Python 3 (ipykernel)",
   "language": "python",
   "name": "python3"
  },
  "language_info": {
   "codemirror_mode": {
    "name": "ipython",
    "version": 3
   },
   "file_extension": ".py",
   "mimetype": "text/x-python",
   "name": "python",
   "nbconvert_exporter": "python",
   "pygments_lexer": "ipython3",
   "version": "3.9.7"
  }
 },
 "nbformat": 4,
 "nbformat_minor": 5
}
